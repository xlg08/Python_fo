{
 "cells": [
  {
   "metadata": {},
   "cell_type": "markdown",
   "source": [
    "## **手写线性回归**"
   ],
   "id": "f0231d5eee14f30f"
  },
  {
   "metadata": {},
   "cell_type": "markdown",
   "source": [
    "### **一、线性回归框架**"
   ],
   "id": "8b59f9ac9ea86654"
  },
  {
   "metadata": {
    "ExecuteTime": {
     "end_time": "2025-04-20T13:21:03.182436Z",
     "start_time": "2025-04-20T13:21:03.174404Z"
    }
   },
   "cell_type": "code",
   "source": [
    "import numpy as np\n",
    "import joblib\n",
    "\n",
    "class LinearRegression:\n",
    "    # 初始化\n",
    "    def __init__(self, fit_intercept=True):\n",
    "        self.W = None\n",
    "        self.b = None\n",
    "        self.fit_intercept = fit_intercept      # 是否带截距\n",
    "\n",
    "    # 训练\n",
    "    def fit(self, X_train, y_train):\n",
    "        # 参数初始化为矩阵\n",
    "        X = np.matrix(X_train)\n",
    "        y = np.matrix(y_train).reshape(-1, 1)  # 确保 y 的形状为 (n_samples, 1)\n",
    "        if self.fit_intercept:\n",
    "            X = np.hstack([np.ones((X.shape[0], 1)), X])\n",
    "        # 直接套公式求解\n",
    "        W = np.linalg.pinv(X.T * X) * X.T * y\n",
    "        if self.fit_intercept:\n",
    "            self.b = W[0, 0]  # 提取截距项\n",
    "            self.W = W[1:, 0]  # 提取权重项\n",
    "        else:\n",
    "            self.W = W[:, 0]  # 提取权重项\n",
    "\n",
    "    # 预测\n",
    "    def predict(self, X_test):\n",
    "        X = np.matrix(X_test)\n",
    "        if self.fit_intercept:\n",
    "            return X * np.matrix(self.W) + self.b  # 确保 self.W 是列向量\n",
    "        else:\n",
    "            X = np.hstack([np.ones((X.shape[0], 1)), X])\n",
    "            return X * np.matrix(self.W)\n",
    "\n",
    "    # 评估: 使用 均方误差（mean-square error, MSE）\n",
    "    def score(self, X_test, y_test):\n",
    "        Y_predict = self.predict(X_test)\n",
    "        Y = np.matrix(y_test).reshape(-1, 1)  # 确保 y 的形状为 (n_samples, 1)\n",
    "        return self.calculate_loss(Y, Y_predict)\n",
    "\n",
    "    # 损失函数: 使用 均方误差（mean-square error, MSE）\n",
    "    def calculate_loss(self, y_true, y_predict):\n",
    "        return np.sum(((np.array(y_true) - np.array(y_predict)) ** 2) / len(y_true))\n",
    "\n",
    "    # 保存模型\n",
    "    def save(self, path):\n",
    "        joblib.dump(self, path)\n",
    "\n",
    "    # 加载模型\n",
    "    @staticmethod\n",
    "    def load(path):\n",
    "        return joblib.load(path)\n",
    "\n"
   ],
   "id": "924576dfabec7365",
   "outputs": [],
   "execution_count": 31
  },
  {
   "metadata": {
    "ExecuteTime": {
     "end_time": "2025-04-20T13:21:03.552900Z",
     "start_time": "2025-04-20T13:21:03.530509Z"
    }
   },
   "cell_type": "code",
   "source": [
    "from sklearn.datasets import fetch_california_housing\n",
    "from sklearn.model_selection import train_test_split\n",
    "from sklearn.preprocessing import StandardScaler\n",
    "\n",
    "# 获取数据集\n",
    "dataset = fetch_california_housing()\n",
    "# 划分训练集和测试集\n",
    "x_train, x_test, y_train, y_test = train_test_split(dataset.data, dataset.target, test_size=0.2, random_state=2)\n",
    "\n",
    "# 特征工程：\n",
    "# 标准化\n",
    "scaler = StandardScaler()\n",
    "x_train = scaler.fit_transform(x_train)\n",
    "x_test = scaler.transform(x_test)\n",
    "\n",
    "linear = LinearRegression()\n",
    "linear.fit(x_train, y_train)\n",
    "# 预测\n",
    "score1 = linear.score(x_test, y_test)\n",
    "print(f'准确率: {score1}')\n",
    "\n",
    "y_test_predict = linear.predict(x_test)\n",
    "print(f'预测值: {y_test_predict}')\n"
   ],
   "id": "2d5c89fed4a3be9e",
   "outputs": [
    {
     "name": "stdout",
     "output_type": "stream",
     "text": [
      "准确率: 0.5369436868087002\n",
      "预测值: [[2.80991017]\n",
      " [1.25276895]\n",
      " [1.44720173]\n",
      " ...\n",
      " [1.57213375]\n",
      " [1.43077765]\n",
      " [2.60233972]]\n"
     ]
    }
   ],
   "execution_count": 32
  },
  {
   "metadata": {
    "ExecuteTime": {
     "end_time": "2025-04-20T13:22:21.027659Z",
     "start_time": "2025-04-20T13:22:21.022396Z"
    }
   },
   "cell_type": "code",
   "source": [
    "linear.save('model.pkl')"
   ],
   "id": "f6f026cb4cc1984e",
   "outputs": [],
   "execution_count": 33
  },
  {
   "metadata": {
    "ExecuteTime": {
     "end_time": "2025-04-20T13:22:43.814301Z",
     "start_time": "2025-04-20T13:22:43.809330Z"
    }
   },
   "cell_type": "code",
   "source": [
    "linear2 = LinearRegression.load('model.pkl')\n",
    "score2 = linear2.score(x_test, y_test)\n",
    "print(f'准确率: {score2}')"
   ],
   "id": "769681af545ea03f",
   "outputs": [
    {
     "name": "stdout",
     "output_type": "stream",
     "text": [
      "准确率: 0.5369436868087002\n"
     ]
    }
   ],
   "execution_count": 34
  },
  {
   "metadata": {},
   "cell_type": "code",
   "outputs": [],
   "execution_count": null,
   "source": [],
   "id": "26652ac21e3ae026"
  }
 ],
 "metadata": {
  "kernelspec": {
   "display_name": "Python 3",
   "language": "python",
   "name": "python3"
  },
  "language_info": {
   "codemirror_mode": {
    "name": "ipython",
    "version": 2
   },
   "file_extension": ".py",
   "mimetype": "text/x-python",
   "name": "python",
   "nbconvert_exporter": "python",
   "pygments_lexer": "ipython2",
   "version": "2.7.6"
  }
 },
 "nbformat": 4,
 "nbformat_minor": 5
}
