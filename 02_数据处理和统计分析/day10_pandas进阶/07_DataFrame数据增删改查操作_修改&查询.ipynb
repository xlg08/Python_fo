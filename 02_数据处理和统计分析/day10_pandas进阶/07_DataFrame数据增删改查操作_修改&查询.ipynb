{
 "cells": [
  {
   "cell_type": "code",
   "execution_count": 1,
   "metadata": {
    "collapsed": true,
    "ExecuteTime": {
     "start_time": "2025-04-09T16:00:55.720621Z",
     "end_time": "2025-04-09T16:00:56.113268Z"
    }
   },
   "outputs": [],
   "source": [
    "# 1.导包\n",
    "import pandas as pd\n",
    "import numpy as np\n",
    "import os\n",
    "os.chdir(r\"E:\\ProjectCode\\PythonProjectCode\\pythonProject\\HaskMaProject\")"
   ]
  },
  {
   "cell_type": "code",
   "execution_count": 4,
   "outputs": [
    {
     "data": {
      "text/plain": "   year country           GDP\n0  1960      美国  543300000000\n1  1960      英国   73233967692\n2  1960      法国   62225478000\n3  1960      中国   59716467625\n4  1960      日本   44307342950",
      "text/html": "<div>\n<style scoped>\n    .dataframe tbody tr th:only-of-type {\n        vertical-align: middle;\n    }\n\n    .dataframe tbody tr th {\n        vertical-align: top;\n    }\n\n    .dataframe thead th {\n        text-align: right;\n    }\n</style>\n<table border=\"1\" class=\"dataframe\">\n  <thead>\n    <tr style=\"text-align: right;\">\n      <th></th>\n      <th>year</th>\n      <th>country</th>\n      <th>GDP</th>\n    </tr>\n  </thead>\n  <tbody>\n    <tr>\n      <th>0</th>\n      <td>1960</td>\n      <td>美国</td>\n      <td>543300000000</td>\n    </tr>\n    <tr>\n      <th>1</th>\n      <td>1960</td>\n      <td>英国</td>\n      <td>73233967692</td>\n    </tr>\n    <tr>\n      <th>2</th>\n      <td>1960</td>\n      <td>法国</td>\n      <td>62225478000</td>\n    </tr>\n    <tr>\n      <th>3</th>\n      <td>1960</td>\n      <td>中国</td>\n      <td>59716467625</td>\n    </tr>\n    <tr>\n      <th>4</th>\n      <td>1960</td>\n      <td>日本</td>\n      <td>44307342950</td>\n    </tr>\n  </tbody>\n</table>\n</div>"
     },
     "execution_count": 4,
     "metadata": {},
     "output_type": "execute_result"
    }
   ],
   "source": [
    "df = pd.read_csv(r\"./data/1960-2019全球GDP数据.csv\", encoding='gbk')\n",
    "df1 = df[:5].copy()\n",
    "df1"
   ],
   "metadata": {
    "collapsed": false,
    "ExecuteTime": {
     "start_time": "2025-04-09T16:02:34.871557Z",
     "end_time": "2025-04-09T16:02:34.894388Z"
    }
   }
  },
  {
   "cell_type": "code",
   "execution_count": 5,
   "outputs": [
    {
     "data": {
      "text/plain": "   year country           GDP  c1\n0  1960      美国  543300000000  34\n1  1960      英国   73233967692  34\n2  1960      法国   62225478000  34\n3  1960      中国   59716467625  34\n4  1960      日本   44307342950  34",
      "text/html": "<div>\n<style scoped>\n    .dataframe tbody tr th:only-of-type {\n        vertical-align: middle;\n    }\n\n    .dataframe tbody tr th {\n        vertical-align: top;\n    }\n\n    .dataframe thead th {\n        text-align: right;\n    }\n</style>\n<table border=\"1\" class=\"dataframe\">\n  <thead>\n    <tr style=\"text-align: right;\">\n      <th></th>\n      <th>year</th>\n      <th>country</th>\n      <th>GDP</th>\n      <th>c1</th>\n    </tr>\n  </thead>\n  <tbody>\n    <tr>\n      <th>0</th>\n      <td>1960</td>\n      <td>美国</td>\n      <td>543300000000</td>\n      <td>34</td>\n    </tr>\n    <tr>\n      <th>1</th>\n      <td>1960</td>\n      <td>英国</td>\n      <td>73233967692</td>\n      <td>34</td>\n    </tr>\n    <tr>\n      <th>2</th>\n      <td>1960</td>\n      <td>法国</td>\n      <td>62225478000</td>\n      <td>34</td>\n    </tr>\n    <tr>\n      <th>3</th>\n      <td>1960</td>\n      <td>中国</td>\n      <td>59716467625</td>\n      <td>34</td>\n    </tr>\n    <tr>\n      <th>4</th>\n      <td>1960</td>\n      <td>日本</td>\n      <td>44307342950</td>\n      <td>34</td>\n    </tr>\n  </tbody>\n</table>\n</div>"
     },
     "execution_count": 5,
     "metadata": {},
     "output_type": "execute_result"
    }
   ],
   "source": [
    "df1['c1'] = 34\n",
    "df1"
   ],
   "metadata": {
    "collapsed": false,
    "ExecuteTime": {
     "start_time": "2025-04-09T16:02:36.235558Z",
     "end_time": "2025-04-09T16:02:36.272376Z"
    }
   }
  },
  {
   "cell_type": "code",
   "execution_count": 6,
   "outputs": [
    {
     "data": {
      "text/plain": "   year country           GDP  c1\n0  2025      美国  543300000000  34\n1  2025      英国   73233967692  34\n2  2025      法国   62225478000  34\n3  2025      中国   59716467625  34\n4  2025      日本   44307342950  34",
      "text/html": "<div>\n<style scoped>\n    .dataframe tbody tr th:only-of-type {\n        vertical-align: middle;\n    }\n\n    .dataframe tbody tr th {\n        vertical-align: top;\n    }\n\n    .dataframe thead th {\n        text-align: right;\n    }\n</style>\n<table border=\"1\" class=\"dataframe\">\n  <thead>\n    <tr style=\"text-align: right;\">\n      <th></th>\n      <th>year</th>\n      <th>country</th>\n      <th>GDP</th>\n      <th>c1</th>\n    </tr>\n  </thead>\n  <tbody>\n    <tr>\n      <th>0</th>\n      <td>2025</td>\n      <td>美国</td>\n      <td>543300000000</td>\n      <td>34</td>\n    </tr>\n    <tr>\n      <th>1</th>\n      <td>2025</td>\n      <td>英国</td>\n      <td>73233967692</td>\n      <td>34</td>\n    </tr>\n    <tr>\n      <th>2</th>\n      <td>2025</td>\n      <td>法国</td>\n      <td>62225478000</td>\n      <td>34</td>\n    </tr>\n    <tr>\n      <th>3</th>\n      <td>2025</td>\n      <td>中国</td>\n      <td>59716467625</td>\n      <td>34</td>\n    </tr>\n    <tr>\n      <th>4</th>\n      <td>2025</td>\n      <td>日本</td>\n      <td>44307342950</td>\n      <td>34</td>\n    </tr>\n  </tbody>\n</table>\n</div>"
     },
     "execution_count": 6,
     "metadata": {},
     "output_type": "execute_result"
    }
   ],
   "source": [
    "# 修改GDP值\n",
    "df1['year'] = [2025,2025,2025,2025,2025]\n",
    "df1"
   ],
   "metadata": {
    "collapsed": false,
    "ExecuteTime": {
     "start_time": "2025-04-09T16:02:38.141670Z",
     "end_time": "2025-04-09T16:02:38.189296Z"
    }
   }
  },
  {
   "cell_type": "code",
   "execution_count": 9,
   "outputs": [
    {
     "name": "stderr",
     "output_type": "stream",
     "text": [
      "C:\\Users\\LG\\AppData\\Local\\Temp\\ipykernel_20076\\2606908683.py:2: FutureWarning: A value is trying to be set on a copy of a DataFrame or Series through chained assignment using an inplace method.\n",
      "The behavior will change in pandas 3.0. This inplace method will never work because the intermediate object on which we are setting values always behaves as a copy.\n",
      "\n",
      "For example, when doing 'df[col].method(value, inplace=True)', try using 'df.method({col: value}, inplace=True)' or df[col] = df[col].method(value) instead, to perform the operation inplace on the original object.\n",
      "\n",
      "\n",
      "  df1.country.replace('美国','漂亮国',inplace=True)\n"
     ]
    },
    {
     "data": {
      "text/plain": "   year country           GDP  c1\n0  2025     美丽国  543300000000  34\n1  2025      英国   73233967692  34\n2  2025      法国   62225478000  34\n3  2025      中国   59716467625  34\n4  2025      日本   44307342950  34",
      "text/html": "<div>\n<style scoped>\n    .dataframe tbody tr th:only-of-type {\n        vertical-align: middle;\n    }\n\n    .dataframe tbody tr th {\n        vertical-align: top;\n    }\n\n    .dataframe thead th {\n        text-align: right;\n    }\n</style>\n<table border=\"1\" class=\"dataframe\">\n  <thead>\n    <tr style=\"text-align: right;\">\n      <th></th>\n      <th>year</th>\n      <th>country</th>\n      <th>GDP</th>\n      <th>c1</th>\n    </tr>\n  </thead>\n  <tbody>\n    <tr>\n      <th>0</th>\n      <td>2025</td>\n      <td>美丽国</td>\n      <td>543300000000</td>\n      <td>34</td>\n    </tr>\n    <tr>\n      <th>1</th>\n      <td>2025</td>\n      <td>英国</td>\n      <td>73233967692</td>\n      <td>34</td>\n    </tr>\n    <tr>\n      <th>2</th>\n      <td>2025</td>\n      <td>法国</td>\n      <td>62225478000</td>\n      <td>34</td>\n    </tr>\n    <tr>\n      <th>3</th>\n      <td>2025</td>\n      <td>中国</td>\n      <td>59716467625</td>\n      <td>34</td>\n    </tr>\n    <tr>\n      <th>4</th>\n      <td>2025</td>\n      <td>日本</td>\n      <td>44307342950</td>\n      <td>34</td>\n    </tr>\n  </tbody>\n</table>\n</div>"
     },
     "execution_count": 9,
     "metadata": {},
     "output_type": "execute_result"
    }
   ],
   "source": [
    "# 采用 replace()\n",
    "df1.country.replace('美国','漂亮国',inplace=True)\n",
    "df1"
   ],
   "metadata": {
    "collapsed": false,
    "ExecuteTime": {
     "start_time": "2025-04-09T16:05:29.833428Z",
     "end_time": "2025-04-09T16:05:29.859364Z"
    }
   }
  },
  {
   "cell_type": "code",
   "execution_count": 10,
   "outputs": [
    {
     "name": "stderr",
     "output_type": "stream",
     "text": [
      "C:\\Users\\LG\\AppData\\Local\\Temp\\ipykernel_20076\\1638393248.py:1: FutureWarning: A value is trying to be set on a copy of a DataFrame or Series through chained assignment using an inplace method.\n",
      "The behavior will change in pandas 3.0. This inplace method will never work because the intermediate object on which we are setting values always behaves as a copy.\n",
      "\n",
      "For example, when doing 'df[col].method(value, inplace=True)', try using 'df.method({col: value}, inplace=True)' or df[col] = df[col].method(value) instead, to perform the operation inplace on the original object.\n",
      "\n",
      "\n",
      "  df1.country.replace('日本','小日子',inplace=True)\n"
     ]
    },
    {
     "data": {
      "text/plain": "   year country           GDP  c1\n0  2025     美丽国  543300000000  34\n1  2025      英国   73233967692  34\n2  2025      法国   62225478000  34\n3  2025      中国   59716467625  34\n4  2025     小日子   44307342950  34",
      "text/html": "<div>\n<style scoped>\n    .dataframe tbody tr th:only-of-type {\n        vertical-align: middle;\n    }\n\n    .dataframe tbody tr th {\n        vertical-align: top;\n    }\n\n    .dataframe thead th {\n        text-align: right;\n    }\n</style>\n<table border=\"1\" class=\"dataframe\">\n  <thead>\n    <tr style=\"text-align: right;\">\n      <th></th>\n      <th>year</th>\n      <th>country</th>\n      <th>GDP</th>\n      <th>c1</th>\n    </tr>\n  </thead>\n  <tbody>\n    <tr>\n      <th>0</th>\n      <td>2025</td>\n      <td>美丽国</td>\n      <td>543300000000</td>\n      <td>34</td>\n    </tr>\n    <tr>\n      <th>1</th>\n      <td>2025</td>\n      <td>英国</td>\n      <td>73233967692</td>\n      <td>34</td>\n    </tr>\n    <tr>\n      <th>2</th>\n      <td>2025</td>\n      <td>法国</td>\n      <td>62225478000</td>\n      <td>34</td>\n    </tr>\n    <tr>\n      <th>3</th>\n      <td>2025</td>\n      <td>中国</td>\n      <td>59716467625</td>\n      <td>34</td>\n    </tr>\n    <tr>\n      <th>4</th>\n      <td>2025</td>\n      <td>小日子</td>\n      <td>44307342950</td>\n      <td>34</td>\n    </tr>\n  </tbody>\n</table>\n</div>"
     },
     "execution_count": 10,
     "metadata": {},
     "output_type": "execute_result"
    }
   ],
   "source": [
    "df1.country.replace('日本','小日子',inplace=True)\n",
    "df1"
   ],
   "metadata": {
    "collapsed": false,
    "ExecuteTime": {
     "start_time": "2025-04-09T16:06:39.587221Z",
     "end_time": "2025-04-09T16:06:39.616760Z"
    }
   }
  },
  {
   "cell_type": "code",
   "execution_count": 11,
   "outputs": [
    {
     "data": {
      "text/plain": "0    2025\n1    2025\n2    2025\n3    2025\n4    2025\nName: year, dtype: int64"
     },
     "execution_count": 11,
     "metadata": {},
     "output_type": "execute_result"
    }
   ],
   "source": [
    "# 查询 & 排序\n",
    "# 查询方式一：使用列名来获取数据\n",
    "df1['year']"
   ],
   "metadata": {
    "collapsed": false,
    "ExecuteTime": {
     "start_time": "2025-04-09T16:07:14.205670Z",
     "end_time": "2025-04-09T16:07:14.250442Z"
    }
   }
  },
  {
   "cell_type": "code",
   "execution_count": 12,
   "outputs": [
    {
     "data": {
      "text/plain": "   year           GDP\n0  2025  543300000000\n1  2025   73233967692\n2  2025   62225478000\n3  2025   59716467625\n4  2025   44307342950",
      "text/html": "<div>\n<style scoped>\n    .dataframe tbody tr th:only-of-type {\n        vertical-align: middle;\n    }\n\n    .dataframe tbody tr th {\n        vertical-align: top;\n    }\n\n    .dataframe thead th {\n        text-align: right;\n    }\n</style>\n<table border=\"1\" class=\"dataframe\">\n  <thead>\n    <tr style=\"text-align: right;\">\n      <th></th>\n      <th>year</th>\n      <th>GDP</th>\n    </tr>\n  </thead>\n  <tbody>\n    <tr>\n      <th>0</th>\n      <td>2025</td>\n      <td>543300000000</td>\n    </tr>\n    <tr>\n      <th>1</th>\n      <td>2025</td>\n      <td>73233967692</td>\n    </tr>\n    <tr>\n      <th>2</th>\n      <td>2025</td>\n      <td>62225478000</td>\n    </tr>\n    <tr>\n      <th>3</th>\n      <td>2025</td>\n      <td>59716467625</td>\n    </tr>\n    <tr>\n      <th>4</th>\n      <td>2025</td>\n      <td>44307342950</td>\n    </tr>\n  </tbody>\n</table>\n</div>"
     },
     "execution_count": 12,
     "metadata": {},
     "output_type": "execute_result"
    }
   ],
   "source": [
    "df1[['year','GDP']]"
   ],
   "metadata": {
    "collapsed": false,
    "ExecuteTime": {
     "start_time": "2025-04-09T16:07:32.357015Z",
     "end_time": "2025-04-09T16:07:32.400578Z"
    }
   }
  },
  {
   "cell_type": "code",
   "execution_count": 13,
   "outputs": [
    {
     "data": {
      "text/plain": "   year country           GDP  c1\n0  2025     美丽国  543300000000  34\n1  2025      英国   73233967692  34",
      "text/html": "<div>\n<style scoped>\n    .dataframe tbody tr th:only-of-type {\n        vertical-align: middle;\n    }\n\n    .dataframe tbody tr th {\n        vertical-align: top;\n    }\n\n    .dataframe thead th {\n        text-align: right;\n    }\n</style>\n<table border=\"1\" class=\"dataframe\">\n  <thead>\n    <tr style=\"text-align: right;\">\n      <th></th>\n      <th>year</th>\n      <th>country</th>\n      <th>GDP</th>\n      <th>c1</th>\n    </tr>\n  </thead>\n  <tbody>\n    <tr>\n      <th>0</th>\n      <td>2025</td>\n      <td>美丽国</td>\n      <td>543300000000</td>\n      <td>34</td>\n    </tr>\n    <tr>\n      <th>1</th>\n      <td>2025</td>\n      <td>英国</td>\n      <td>73233967692</td>\n      <td>34</td>\n    </tr>\n  </tbody>\n</table>\n</div>"
     },
     "execution_count": 13,
     "metadata": {},
     "output_type": "execute_result"
    }
   ],
   "source": [
    "# 查询方式二：行索引值来获取数据\n",
    "df1[:2]"
   ],
   "metadata": {
    "collapsed": false,
    "ExecuteTime": {
     "start_time": "2025-04-09T16:08:49.833681Z",
     "end_time": "2025-04-09T16:08:49.864422Z"
    }
   }
  },
  {
   "cell_type": "code",
   "execution_count": 14,
   "outputs": [
    {
     "data": {
      "text/plain": "   year country           GDP  c1\n0  2025     美丽国  543300000000  34",
      "text/html": "<div>\n<style scoped>\n    .dataframe tbody tr th:only-of-type {\n        vertical-align: middle;\n    }\n\n    .dataframe tbody tr th {\n        vertical-align: top;\n    }\n\n    .dataframe thead th {\n        text-align: right;\n    }\n</style>\n<table border=\"1\" class=\"dataframe\">\n  <thead>\n    <tr style=\"text-align: right;\">\n      <th></th>\n      <th>year</th>\n      <th>country</th>\n      <th>GDP</th>\n      <th>c1</th>\n    </tr>\n  </thead>\n  <tbody>\n    <tr>\n      <th>0</th>\n      <td>2025</td>\n      <td>美丽国</td>\n      <td>543300000000</td>\n      <td>34</td>\n    </tr>\n  </tbody>\n</table>\n</div>"
     },
     "execution_count": 14,
     "metadata": {},
     "output_type": "execute_result"
    }
   ],
   "source": [
    "df1[0:2:2]"
   ],
   "metadata": {
    "collapsed": false,
    "ExecuteTime": {
     "start_time": "2025-04-09T16:09:03.767313Z",
     "end_time": "2025-04-09T16:09:03.829278Z"
    }
   }
  },
  {
   "cell_type": "code",
   "execution_count": 16,
   "outputs": [
    {
     "data": {
      "text/plain": "   year country          GDP  c1\n1  2025      英国  73233967692  34\n2  2025      法国  62225478000  34\n3  2025      中国  59716467625  34",
      "text/html": "<div>\n<style scoped>\n    .dataframe tbody tr th:only-of-type {\n        vertical-align: middle;\n    }\n\n    .dataframe tbody tr th {\n        vertical-align: top;\n    }\n\n    .dataframe thead th {\n        text-align: right;\n    }\n</style>\n<table border=\"1\" class=\"dataframe\">\n  <thead>\n    <tr style=\"text-align: right;\">\n      <th></th>\n      <th>year</th>\n      <th>country</th>\n      <th>GDP</th>\n      <th>c1</th>\n    </tr>\n  </thead>\n  <tbody>\n    <tr>\n      <th>1</th>\n      <td>2025</td>\n      <td>英国</td>\n      <td>73233967692</td>\n      <td>34</td>\n    </tr>\n    <tr>\n      <th>2</th>\n      <td>2025</td>\n      <td>法国</td>\n      <td>62225478000</td>\n      <td>34</td>\n    </tr>\n    <tr>\n      <th>3</th>\n      <td>2025</td>\n      <td>中国</td>\n      <td>59716467625</td>\n      <td>34</td>\n    </tr>\n  </tbody>\n</table>\n</div>"
     },
     "execution_count": 16,
     "metadata": {},
     "output_type": "execute_result"
    }
   ],
   "source": [
    "# 查询方式三：通过query函数来实现获取数据\n",
    "df1.query('country in [\"中国\", \"法国\", \"英国\"] and year in [2025]')"
   ],
   "metadata": {
    "collapsed": false,
    "ExecuteTime": {
     "start_time": "2025-04-09T16:11:08.764160Z",
     "end_time": "2025-04-09T16:11:08.785256Z"
    }
   }
  },
  {
   "cell_type": "code",
   "execution_count": 19,
   "outputs": [
    {
     "data": {
      "text/plain": "   year country          GDP  c1\n3  2025      中国  59716467625  34",
      "text/html": "<div>\n<style scoped>\n    .dataframe tbody tr th:only-of-type {\n        vertical-align: middle;\n    }\n\n    .dataframe tbody tr th {\n        vertical-align: top;\n    }\n\n    .dataframe thead th {\n        text-align: right;\n    }\n</style>\n<table border=\"1\" class=\"dataframe\">\n  <thead>\n    <tr style=\"text-align: right;\">\n      <th></th>\n      <th>year</th>\n      <th>country</th>\n      <th>GDP</th>\n      <th>c1</th>\n    </tr>\n  </thead>\n  <tbody>\n    <tr>\n      <th>3</th>\n      <td>2025</td>\n      <td>中国</td>\n      <td>59716467625</td>\n      <td>34</td>\n    </tr>\n  </tbody>\n</table>\n</div>"
     },
     "execution_count": 19,
     "metadata": {},
     "output_type": "execute_result"
    }
   ],
   "source": [
    "df1.query('country in [\"中国\", \"法国\", \"英国\"] and GDP < 60000000000')"
   ],
   "metadata": {
    "collapsed": false,
    "ExecuteTime": {
     "start_time": "2025-04-09T16:13:20.486713Z",
     "end_time": "2025-04-09T16:13:20.511529Z"
    }
   }
  },
  {
   "cell_type": "code",
   "execution_count": 21,
   "outputs": [
    {
     "data": {
      "text/plain": "   year country           GDP  c1\n4  2025     小日子   44307342950  34\n3  2025      中国   59716467625  34\n2  2025      法国   62225478000  34\n1  2025      英国   73233967692  34\n0  2025     美丽国  543300000000  34",
      "text/html": "<div>\n<style scoped>\n    .dataframe tbody tr th:only-of-type {\n        vertical-align: middle;\n    }\n\n    .dataframe tbody tr th {\n        vertical-align: top;\n    }\n\n    .dataframe thead th {\n        text-align: right;\n    }\n</style>\n<table border=\"1\" class=\"dataframe\">\n  <thead>\n    <tr style=\"text-align: right;\">\n      <th></th>\n      <th>year</th>\n      <th>country</th>\n      <th>GDP</th>\n      <th>c1</th>\n    </tr>\n  </thead>\n  <tbody>\n    <tr>\n      <th>4</th>\n      <td>2025</td>\n      <td>小日子</td>\n      <td>44307342950</td>\n      <td>34</td>\n    </tr>\n    <tr>\n      <th>3</th>\n      <td>2025</td>\n      <td>中国</td>\n      <td>59716467625</td>\n      <td>34</td>\n    </tr>\n    <tr>\n      <th>2</th>\n      <td>2025</td>\n      <td>法国</td>\n      <td>62225478000</td>\n      <td>34</td>\n    </tr>\n    <tr>\n      <th>1</th>\n      <td>2025</td>\n      <td>英国</td>\n      <td>73233967692</td>\n      <td>34</td>\n    </tr>\n    <tr>\n      <th>0</th>\n      <td>2025</td>\n      <td>美丽国</td>\n      <td>543300000000</td>\n      <td>34</td>\n    </tr>\n  </tbody>\n</table>\n</div>"
     },
     "execution_count": 21,
     "metadata": {},
     "output_type": "execute_result"
    }
   ],
   "source": [
    "# 排序\n",
    "df1.sort_index(ascending=False)\n"
   ],
   "metadata": {
    "collapsed": false,
    "ExecuteTime": {
     "start_time": "2025-04-09T16:14:07.720809Z",
     "end_time": "2025-04-09T16:14:07.749529Z"
    }
   }
  },
  {
   "cell_type": "code",
   "execution_count": 26,
   "outputs": [
    {
     "data": {
      "text/plain": "   year country           GDP  c1\n4  2025     小日子   44307342950  34\n3  2025      中国   59716467625  34\n2  2025      法国   62225478000  34\n1  2025      英国   73233967692  34\n0  2025     美丽国  543300000000  34",
      "text/html": "<div>\n<style scoped>\n    .dataframe tbody tr th:only-of-type {\n        vertical-align: middle;\n    }\n\n    .dataframe tbody tr th {\n        vertical-align: top;\n    }\n\n    .dataframe thead th {\n        text-align: right;\n    }\n</style>\n<table border=\"1\" class=\"dataframe\">\n  <thead>\n    <tr style=\"text-align: right;\">\n      <th></th>\n      <th>year</th>\n      <th>country</th>\n      <th>GDP</th>\n      <th>c1</th>\n    </tr>\n  </thead>\n  <tbody>\n    <tr>\n      <th>4</th>\n      <td>2025</td>\n      <td>小日子</td>\n      <td>44307342950</td>\n      <td>34</td>\n    </tr>\n    <tr>\n      <th>3</th>\n      <td>2025</td>\n      <td>中国</td>\n      <td>59716467625</td>\n      <td>34</td>\n    </tr>\n    <tr>\n      <th>2</th>\n      <td>2025</td>\n      <td>法国</td>\n      <td>62225478000</td>\n      <td>34</td>\n    </tr>\n    <tr>\n      <th>1</th>\n      <td>2025</td>\n      <td>英国</td>\n      <td>73233967692</td>\n      <td>34</td>\n    </tr>\n    <tr>\n      <th>0</th>\n      <td>2025</td>\n      <td>美丽国</td>\n      <td>543300000000</td>\n      <td>34</td>\n    </tr>\n  </tbody>\n</table>\n</div>"
     },
     "execution_count": 26,
     "metadata": {},
     "output_type": "execute_result"
    }
   ],
   "source": [
    "# year 降序       GDP升序\n",
    "df1.sort_values(['year', 'GDP'], ascending=[False,True])"
   ],
   "metadata": {
    "collapsed": false,
    "ExecuteTime": {
     "start_time": "2025-04-09T16:16:46.151587Z",
     "end_time": "2025-04-09T16:16:46.184141Z"
    }
   }
  },
  {
   "cell_type": "code",
   "execution_count": 28,
   "outputs": [
    {
     "data": {
      "text/plain": "   姓名   成绩\n0  张三  100\n1  李四   90\n2  王五   90\n3  赵六   80",
      "text/html": "<div>\n<style scoped>\n    .dataframe tbody tr th:only-of-type {\n        vertical-align: middle;\n    }\n\n    .dataframe tbody tr th {\n        vertical-align: top;\n    }\n\n    .dataframe thead th {\n        text-align: right;\n    }\n</style>\n<table border=\"1\" class=\"dataframe\">\n  <thead>\n    <tr style=\"text-align: right;\">\n      <th></th>\n      <th>姓名</th>\n      <th>成绩</th>\n    </tr>\n  </thead>\n  <tbody>\n    <tr>\n      <th>0</th>\n      <td>张三</td>\n      <td>100</td>\n    </tr>\n    <tr>\n      <th>1</th>\n      <td>李四</td>\n      <td>90</td>\n    </tr>\n    <tr>\n      <th>2</th>\n      <td>王五</td>\n      <td>90</td>\n    </tr>\n    <tr>\n      <th>3</th>\n      <td>赵六</td>\n      <td>80</td>\n    </tr>\n  </tbody>\n</table>\n</div>"
     },
     "execution_count": 28,
     "metadata": {},
     "output_type": "execute_result"
    }
   ],
   "source": [
    "# rank 类似于SQL的开窗函数\n",
    "my_data = pd.DataFrame(\n",
    "    {\n",
    "        '姓名': ['张三','李四', '王五', '赵六'],\n",
    "        '成绩': [100,90,90,80]\n",
    "    }\n",
    ")\n",
    "my_data"
   ],
   "metadata": {
    "collapsed": false,
    "ExecuteTime": {
     "start_time": "2025-04-09T16:19:45.125979Z",
     "end_time": "2025-04-09T16:19:45.154349Z"
    }
   }
  },
  {
   "cell_type": "code",
   "execution_count": 33,
   "outputs": [
    {
     "data": {
      "text/plain": "   姓名   成绩  成绩排名_min\n0  张三  100       1.0\n1  李四   90       2.0\n2  王五   90       2.0\n3  赵六   80       4.0",
      "text/html": "<div>\n<style scoped>\n    .dataframe tbody tr th:only-of-type {\n        vertical-align: middle;\n    }\n\n    .dataframe tbody tr th {\n        vertical-align: top;\n    }\n\n    .dataframe thead th {\n        text-align: right;\n    }\n</style>\n<table border=\"1\" class=\"dataframe\">\n  <thead>\n    <tr style=\"text-align: right;\">\n      <th></th>\n      <th>姓名</th>\n      <th>成绩</th>\n      <th>成绩排名_min</th>\n    </tr>\n  </thead>\n  <tbody>\n    <tr>\n      <th>0</th>\n      <td>张三</td>\n      <td>100</td>\n      <td>1.0</td>\n    </tr>\n    <tr>\n      <th>1</th>\n      <td>李四</td>\n      <td>90</td>\n      <td>2.0</td>\n    </tr>\n    <tr>\n      <th>2</th>\n      <td>王五</td>\n      <td>90</td>\n      <td>2.0</td>\n    </tr>\n    <tr>\n      <th>3</th>\n      <td>赵六</td>\n      <td>80</td>\n      <td>4.0</td>\n    </tr>\n  </tbody>\n</table>\n</div>"
     },
     "execution_count": 33,
     "metadata": {},
     "output_type": "execute_result"
    }
   ],
   "source": [
    "'''\n",
    "    method：排名评分的计算方式，固定值参数，常用固定值如下：\n",
    "        - average : 默认值，排名评分不连续；数值相同的评分一致，都为平均值\n",
    "        - min : 排名评分不连续；数值相同的评分一致，都为最小值\n",
    "        - max : 排名评分不连续；数值相同的评分一致，都为最大值\n",
    "        - dense : 排名评分是连续的；数值相同的评分一致\n",
    "'''\n",
    "my_data['成绩排名_min'] = my_data.成绩.rank(method='min', ascending=False)\n",
    "my_data"
   ],
   "metadata": {
    "collapsed": false,
    "ExecuteTime": {
     "start_time": "2025-04-09T16:22:24.953653Z",
     "end_time": "2025-04-09T16:22:24.971414Z"
    }
   }
  },
  {
   "cell_type": "code",
   "execution_count": 36,
   "outputs": [
    {
     "data": {
      "text/plain": "   姓名   成绩  成绩排名_min  成绩排名_max  成绩排名_avg  成绩排名_默认  成绩排名_dense\n0  张三  100       1.0       1.0       1.0      1.0         1.0\n1  李四   90       2.0       3.0       2.5      2.5         2.0\n2  王五   90       2.0       3.0       2.5      2.5         2.0\n3  赵六   80       4.0       4.0       4.0      4.0         3.0",
      "text/html": "<div>\n<style scoped>\n    .dataframe tbody tr th:only-of-type {\n        vertical-align: middle;\n    }\n\n    .dataframe tbody tr th {\n        vertical-align: top;\n    }\n\n    .dataframe thead th {\n        text-align: right;\n    }\n</style>\n<table border=\"1\" class=\"dataframe\">\n  <thead>\n    <tr style=\"text-align: right;\">\n      <th></th>\n      <th>姓名</th>\n      <th>成绩</th>\n      <th>成绩排名_min</th>\n      <th>成绩排名_max</th>\n      <th>成绩排名_avg</th>\n      <th>成绩排名_默认</th>\n      <th>成绩排名_dense</th>\n    </tr>\n  </thead>\n  <tbody>\n    <tr>\n      <th>0</th>\n      <td>张三</td>\n      <td>100</td>\n      <td>1.0</td>\n      <td>1.0</td>\n      <td>1.0</td>\n      <td>1.0</td>\n      <td>1.0</td>\n    </tr>\n    <tr>\n      <th>1</th>\n      <td>李四</td>\n      <td>90</td>\n      <td>2.0</td>\n      <td>3.0</td>\n      <td>2.5</td>\n      <td>2.5</td>\n      <td>2.0</td>\n    </tr>\n    <tr>\n      <th>2</th>\n      <td>王五</td>\n      <td>90</td>\n      <td>2.0</td>\n      <td>3.0</td>\n      <td>2.5</td>\n      <td>2.5</td>\n      <td>2.0</td>\n    </tr>\n    <tr>\n      <th>3</th>\n      <td>赵六</td>\n      <td>80</td>\n      <td>4.0</td>\n      <td>4.0</td>\n      <td>4.0</td>\n      <td>4.0</td>\n      <td>3.0</td>\n    </tr>\n  </tbody>\n</table>\n</div>"
     },
     "execution_count": 36,
     "metadata": {},
     "output_type": "execute_result"
    }
   ],
   "source": [
    "my_data['成绩排名_max'] = my_data.成绩.rank(method='max', ascending=False)\n",
    "my_data['成绩排名_avg'] = my_data.成绩.rank(method='average', ascending=False)\n",
    "my_data['成绩排名_dense'] = my_data.成绩.rank(method='dense', ascending=False)\n",
    "my_data['成绩排名_默认'] = my_data.成绩.rank(ascending=False)\n",
    "my_data"
   ],
   "metadata": {
    "collapsed": false,
    "ExecuteTime": {
     "start_time": "2025-04-09T16:40:15.923163Z",
     "end_time": "2025-04-09T16:40:15.977774Z"
    }
   }
  },
  {
   "cell_type": "code",
   "execution_count": null,
   "outputs": [],
   "source": [],
   "metadata": {
    "collapsed": false
   }
  }
 ],
 "metadata": {
  "kernelspec": {
   "display_name": "Python 3",
   "language": "python",
   "name": "python3"
  },
  "language_info": {
   "codemirror_mode": {
    "name": "ipython",
    "version": 2
   },
   "file_extension": ".py",
   "mimetype": "text/x-python",
   "name": "python",
   "nbconvert_exporter": "python",
   "pygments_lexer": "ipython2",
   "version": "2.7.6"
  }
 },
 "nbformat": 4,
 "nbformat_minor": 0
}
