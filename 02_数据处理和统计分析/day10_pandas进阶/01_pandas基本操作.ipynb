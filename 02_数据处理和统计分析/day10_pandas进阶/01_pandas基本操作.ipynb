{
 "cells": [
  {
   "cell_type": "code",
   "execution_count": null,
   "metadata": {
    "collapsed": true,
    "ExecuteTime": {
     "start_time": "2025-04-09T09:05:55.879088Z",
     "end_time": "2025-04-09T09:05:55.890777Z"
    }
   },
   "outputs": [],
   "source": [
    "# 1.导包\n",
    "import pandas as pd\n",
    "import numpy as np\n",
    "import os\n",
    "os.chdir(r\"E:\\ProjectCode\\PythonProjectCode\\pythonProject\\HaskMaProject\")\n",
    "os.getcwd()"
   ]
  },
  {
   "cell_type": "code",
   "execution_count": null,
   "outputs": [],
   "source": [
    "# 2.读取文件\n",
    "df = pd.read_csv(\"./data/stock_day.csv\")\n",
    "df"
   ],
   "metadata": {
    "collapsed": false,
    "ExecuteTime": {
     "start_time": "2025-04-09T10:04:17.925110Z",
     "end_time": "2025-04-09T10:04:18.030118Z"
    }
   }
  },
  {
   "cell_type": "code",
   "execution_count": null,
   "outputs": [],
   "source": [
    "# 3.去除不需要(当下后期业务分析不到的数据)的数据\n",
    "df.drop(columns=['ma5', 'ma10', 'ma20', 'v_ma5', 'v_ma10', 'v_ma20'], axis=1, inplace=True)     # axis 为0\n",
    "df"
   ],
   "metadata": {
    "collapsed": false,
    "ExecuteTime": {
     "start_time": "2025-04-09T09:50:36.807673Z",
     "end_time": "2025-04-09T09:50:36.843799Z"
    }
   }
  },
  {
   "cell_type": "code",
   "execution_count": null,
   "outputs": [],
   "source": [
    "# df.info()     # 可以查看数据质量\n",
    "df.describe()"
   ],
   "metadata": {
    "collapsed": false,
    "ExecuteTime": {
     "start_time": "2025-04-09T09:12:46.297849Z",
     "end_time": "2025-04-09T09:12:46.345860Z"
    }
   }
  },
  {
   "cell_type": "code",
   "execution_count": null,
   "outputs": [],
   "source": [
    "# 4.索引操作\n",
    "# 场景一：根据行列索引来获取元素    先列后行\n",
    "df['open']['2018-02-23']        # 先列后行"
   ],
   "metadata": {
    "collapsed": false,
    "ExecuteTime": {
     "start_time": "2025-04-09T09:15:51.550752Z",
     "end_time": "2025-04-09T09:15:51.574002Z"
    }
   }
  },
  {
   "cell_type": "code",
   "execution_count": null,
   "outputs": [],
   "source": [
    "# 尝试！！！！ 先行后列  报错  要求先列后行\n",
    "df['2018-02-23']['open']            # 报错 KeyError: '2018-02-23'"
   ],
   "metadata": {
    "collapsed": false
   }
  },
  {
   "cell_type": "code",
   "execution_count": null,
   "outputs": [],
   "source": [
    "# 场景2  结果loc 和iloc\n",
    "# 根据行索引 和 列名来获取元素\n",
    "# 格式：  df.loc[行索引, 列名]\n",
    "# 格式：  df.iloc[行号, 列索引]\n",
    "\n",
    "df.loc['2018-02-22', 'low']"
   ],
   "metadata": {
    "collapsed": false,
    "ExecuteTime": {
     "start_time": "2025-04-09T09:34:47.188591Z",
     "end_time": "2025-04-09T09:34:47.202635Z"
    }
   }
  },
  {
   "cell_type": "code",
   "execution_count": null,
   "outputs": [],
   "source": [
    "df.iloc[1, 1]"
   ],
   "metadata": {
    "collapsed": false,
    "ExecuteTime": {
     "start_time": "2025-04-09T09:35:46.723835Z",
     "end_time": "2025-04-09T09:35:46.755841Z"
    }
   }
  },
  {
   "cell_type": "code",
   "execution_count": null,
   "outputs": [],
   "source": [
    "# 取多个数据\n",
    "df.iloc[0:400, 0:5]       # 行号，列索引"
   ],
   "metadata": {
    "collapsed": false,
    "ExecuteTime": {
     "start_time": "2025-04-09T09:47:05.268115Z",
     "end_time": "2025-04-09T09:47:05.294042Z"
    }
   }
  },
  {
   "cell_type": "code",
   "execution_count": null,
   "outputs": [],
   "source": [
    "df.loc['2018-02-27':'2018-02-22', ['open','high','close']]      # 行索引的头尾都包了"
   ],
   "metadata": {
    "collapsed": false,
    "ExecuteTime": {
     "start_time": "2025-04-09T09:40:37.719564Z",
     "end_time": "2025-04-09T09:40:37.755084Z"
    }
   }
  },
  {
   "cell_type": "code",
   "execution_count": null,
   "outputs": [],
   "source": [
    "df.loc['2018-02-22':'2018-02-27', ['open','high']]          # 没有输出\n",
    "# 不能按照排序的方式来考虑的时间，因为这里的时间是行索引"
   ],
   "metadata": {
    "collapsed": false,
    "ExecuteTime": {
     "start_time": "2025-04-09T09:41:21.701846Z",
     "end_time": "2025-04-09T09:41:21.740465Z"
    }
   }
  },
  {
   "cell_type": "code",
   "execution_count": null,
   "outputs": [],
   "source": [
    "# 赋值操作\n",
    "# 格式一\n",
    "df['open'] = 23         # 当前列的值都变为23\n",
    "df\n"
   ],
   "metadata": {
    "collapsed": false,
    "ExecuteTime": {
     "start_time": "2025-04-09T09:52:03.041312Z",
     "end_time": "2025-04-09T09:52:03.077359Z"
    }
   }
  },
  {
   "cell_type": "code",
   "execution_count": null,
   "outputs": [],
   "source": [
    "# 格式二\n",
    "df.open = 23.5      # 此方式列名中不能有空格\n",
    "df"
   ],
   "metadata": {
    "collapsed": false,
    "ExecuteTime": {
     "start_time": "2025-04-09T09:53:38.955687Z",
     "end_time": "2025-04-09T09:53:39.066706Z"
    }
   }
  },
  {
   "cell_type": "code",
   "execution_count": null,
   "outputs": [],
   "source": [
    "# 排序操作\n",
    "# 格式：sort_values()\n",
    "# ascending 参数 为True 为升序    False为降序    默认为True\n",
    "# by 参数 为按哪一列进行排序\n",
    "df.sort_values(by='open', ascending=False)\n"
   ],
   "metadata": {
    "collapsed": false,
    "ExecuteTime": {
     "start_time": "2025-04-09T10:00:00.684207Z",
     "end_time": "2025-04-09T10:00:00.764535Z"
    }
   }
  },
  {
   "cell_type": "code",
   "execution_count": null,
   "outputs": [],
   "source": [
    "df.sort_values(by=['high','low'], ascending=[False,True])"
   ],
   "metadata": {
    "collapsed": false,
    "ExecuteTime": {
     "start_time": "2025-04-09T10:02:01.338624Z",
     "end_time": "2025-04-09T10:02:01.433470Z"
    }
   }
  },
  {
   "cell_type": "code",
   "execution_count": null,
   "outputs": [],
   "source": [
    "df.sort_index(ascending=True)"
   ],
   "metadata": {
    "collapsed": false,
    "ExecuteTime": {
     "start_time": "2025-04-09T10:02:51.072360Z",
     "end_time": "2025-04-09T10:02:51.138454Z"
    }
   }
  },
  {
   "cell_type": "code",
   "execution_count": null,
   "outputs": [],
   "source": [
    "df.open.sort_values()       # 对df的open进行排序"
   ],
   "metadata": {
    "collapsed": false,
    "ExecuteTime": {
     "start_time": "2025-04-09T10:03:09.471518Z",
     "end_time": "2025-04-09T10:03:09.526613Z"
    }
   }
  },
  {
   "cell_type": "code",
   "execution_count": null,
   "outputs": [],
   "source": [
    "df.open.sort_values(ascending=False)"
   ],
   "metadata": {
    "collapsed": false,
    "ExecuteTime": {
     "start_time": "2025-04-09T10:04:23.660257Z",
     "end_time": "2025-04-09T10:04:23.680177Z"
    }
   }
  },
  {
   "cell_type": "code",
   "execution_count": 47,
   "outputs": [
    {
     "data": {
      "text/plain": "             open   high  close    low     volume  price_change  p_change  \\\n2018-02-27  23.53  25.88  24.16  23.53   95578.03          0.63      2.68   \n2018-02-26  22.80  23.78  23.53  22.80   60985.11          0.69      3.02   \n2018-02-23  22.88  23.37  22.82  22.71   52914.01          0.54      2.42   \n2018-02-22  22.25  22.76  22.28  22.02   36105.01          0.36      1.64   \n2018-02-14  21.49  21.99  21.92  21.48   23331.04          0.44      2.05   \n...           ...    ...    ...    ...        ...           ...       ...   \n2015-03-06  13.17  14.48  14.28  13.13  179831.72          1.12      8.51   \n2015-03-05  12.88  13.45  13.16  12.87   93180.39          0.26      2.02   \n2015-03-04  12.80  12.92  12.90  12.61   67075.44          0.20      1.57   \n2015-03-03  12.52  13.06  12.70  12.52  139071.61          0.18      1.44   \n2015-03-02  12.25  12.67  12.52  12.20   96291.73          0.32      2.62   \n\n               ma5    ma10    ma20      v_ma5     v_ma10     v_ma20  turnover  \n2018-02-27  22.942  22.142  22.875   53782.64   46738.65   55576.11      2.39  \n2018-02-26  22.406  21.955  22.942   40827.52   42736.34   56007.50      1.53  \n2018-02-23  21.938  21.929  23.022   35119.58   41871.97   56372.85      1.32  \n2018-02-22  21.446  21.909  23.137   35397.58   39904.78   60149.60      0.90  \n2018-02-14  21.366  21.923  23.253   33590.21   42935.74   61716.11      0.58  \n...            ...     ...     ...        ...        ...        ...       ...  \n2015-03-06  13.112  13.112  13.112  115090.18  115090.18  115090.18      6.16  \n2015-03-05  12.820  12.820  12.820   98904.79   98904.79   98904.79      3.19  \n2015-03-04  12.707  12.707  12.707  100812.93  100812.93  100812.93      2.30  \n2015-03-03  12.610  12.610  12.610  117681.67  117681.67  117681.67      4.76  \n2015-03-02  12.520  12.520  12.520   96291.73   96291.73   96291.73      3.30  \n\n[643 rows x 14 columns]",
      "text/html": "<div>\n<style scoped>\n    .dataframe tbody tr th:only-of-type {\n        vertical-align: middle;\n    }\n\n    .dataframe tbody tr th {\n        vertical-align: top;\n    }\n\n    .dataframe thead th {\n        text-align: right;\n    }\n</style>\n<table border=\"1\" class=\"dataframe\">\n  <thead>\n    <tr style=\"text-align: right;\">\n      <th></th>\n      <th>open</th>\n      <th>high</th>\n      <th>close</th>\n      <th>low</th>\n      <th>volume</th>\n      <th>price_change</th>\n      <th>p_change</th>\n      <th>ma5</th>\n      <th>ma10</th>\n      <th>ma20</th>\n      <th>v_ma5</th>\n      <th>v_ma10</th>\n      <th>v_ma20</th>\n      <th>turnover</th>\n    </tr>\n  </thead>\n  <tbody>\n    <tr>\n      <th>2018-02-27</th>\n      <td>23.53</td>\n      <td>25.88</td>\n      <td>24.16</td>\n      <td>23.53</td>\n      <td>95578.03</td>\n      <td>0.63</td>\n      <td>2.68</td>\n      <td>22.942</td>\n      <td>22.142</td>\n      <td>22.875</td>\n      <td>53782.64</td>\n      <td>46738.65</td>\n      <td>55576.11</td>\n      <td>2.39</td>\n    </tr>\n    <tr>\n      <th>2018-02-26</th>\n      <td>22.80</td>\n      <td>23.78</td>\n      <td>23.53</td>\n      <td>22.80</td>\n      <td>60985.11</td>\n      <td>0.69</td>\n      <td>3.02</td>\n      <td>22.406</td>\n      <td>21.955</td>\n      <td>22.942</td>\n      <td>40827.52</td>\n      <td>42736.34</td>\n      <td>56007.50</td>\n      <td>1.53</td>\n    </tr>\n    <tr>\n      <th>2018-02-23</th>\n      <td>22.88</td>\n      <td>23.37</td>\n      <td>22.82</td>\n      <td>22.71</td>\n      <td>52914.01</td>\n      <td>0.54</td>\n      <td>2.42</td>\n      <td>21.938</td>\n      <td>21.929</td>\n      <td>23.022</td>\n      <td>35119.58</td>\n      <td>41871.97</td>\n      <td>56372.85</td>\n      <td>1.32</td>\n    </tr>\n    <tr>\n      <th>2018-02-22</th>\n      <td>22.25</td>\n      <td>22.76</td>\n      <td>22.28</td>\n      <td>22.02</td>\n      <td>36105.01</td>\n      <td>0.36</td>\n      <td>1.64</td>\n      <td>21.446</td>\n      <td>21.909</td>\n      <td>23.137</td>\n      <td>35397.58</td>\n      <td>39904.78</td>\n      <td>60149.60</td>\n      <td>0.90</td>\n    </tr>\n    <tr>\n      <th>2018-02-14</th>\n      <td>21.49</td>\n      <td>21.99</td>\n      <td>21.92</td>\n      <td>21.48</td>\n      <td>23331.04</td>\n      <td>0.44</td>\n      <td>2.05</td>\n      <td>21.366</td>\n      <td>21.923</td>\n      <td>23.253</td>\n      <td>33590.21</td>\n      <td>42935.74</td>\n      <td>61716.11</td>\n      <td>0.58</td>\n    </tr>\n    <tr>\n      <th>...</th>\n      <td>...</td>\n      <td>...</td>\n      <td>...</td>\n      <td>...</td>\n      <td>...</td>\n      <td>...</td>\n      <td>...</td>\n      <td>...</td>\n      <td>...</td>\n      <td>...</td>\n      <td>...</td>\n      <td>...</td>\n      <td>...</td>\n      <td>...</td>\n    </tr>\n    <tr>\n      <th>2015-03-06</th>\n      <td>13.17</td>\n      <td>14.48</td>\n      <td>14.28</td>\n      <td>13.13</td>\n      <td>179831.72</td>\n      <td>1.12</td>\n      <td>8.51</td>\n      <td>13.112</td>\n      <td>13.112</td>\n      <td>13.112</td>\n      <td>115090.18</td>\n      <td>115090.18</td>\n      <td>115090.18</td>\n      <td>6.16</td>\n    </tr>\n    <tr>\n      <th>2015-03-05</th>\n      <td>12.88</td>\n      <td>13.45</td>\n      <td>13.16</td>\n      <td>12.87</td>\n      <td>93180.39</td>\n      <td>0.26</td>\n      <td>2.02</td>\n      <td>12.820</td>\n      <td>12.820</td>\n      <td>12.820</td>\n      <td>98904.79</td>\n      <td>98904.79</td>\n      <td>98904.79</td>\n      <td>3.19</td>\n    </tr>\n    <tr>\n      <th>2015-03-04</th>\n      <td>12.80</td>\n      <td>12.92</td>\n      <td>12.90</td>\n      <td>12.61</td>\n      <td>67075.44</td>\n      <td>0.20</td>\n      <td>1.57</td>\n      <td>12.707</td>\n      <td>12.707</td>\n      <td>12.707</td>\n      <td>100812.93</td>\n      <td>100812.93</td>\n      <td>100812.93</td>\n      <td>2.30</td>\n    </tr>\n    <tr>\n      <th>2015-03-03</th>\n      <td>12.52</td>\n      <td>13.06</td>\n      <td>12.70</td>\n      <td>12.52</td>\n      <td>139071.61</td>\n      <td>0.18</td>\n      <td>1.44</td>\n      <td>12.610</td>\n      <td>12.610</td>\n      <td>12.610</td>\n      <td>117681.67</td>\n      <td>117681.67</td>\n      <td>117681.67</td>\n      <td>4.76</td>\n    </tr>\n    <tr>\n      <th>2015-03-02</th>\n      <td>12.25</td>\n      <td>12.67</td>\n      <td>12.52</td>\n      <td>12.20</td>\n      <td>96291.73</td>\n      <td>0.32</td>\n      <td>2.62</td>\n      <td>12.520</td>\n      <td>12.520</td>\n      <td>12.520</td>\n      <td>96291.73</td>\n      <td>96291.73</td>\n      <td>96291.73</td>\n      <td>3.30</td>\n    </tr>\n  </tbody>\n</table>\n<p>643 rows × 14 columns</p>\n</div>"
     },
     "execution_count": 47,
     "metadata": {},
     "output_type": "execute_result"
    }
   ],
   "source": [
    "# 基本元素算术运算\n",
    "df"
   ],
   "metadata": {
    "collapsed": false,
    "ExecuteTime": {
     "start_time": "2025-04-09T10:14:19.542193Z",
     "end_time": "2025-04-09T10:14:19.592572Z"
    }
   }
  },
  {
   "cell_type": "code",
   "execution_count": 49,
   "outputs": [
    {
     "data": {
      "text/plain": "2018-02-27    33.53\n2018-02-26    32.80\n2018-02-23    32.88\n2018-02-22    32.25\n2018-02-14    31.49\n              ...  \n2015-03-06    23.17\n2015-03-05    22.88\n2015-03-04    22.80\n2015-03-03    22.52\n2015-03-02    22.25\nName: open, Length: 643, dtype: float64"
     },
     "execution_count": 49,
     "metadata": {},
     "output_type": "execute_result"
    }
   ],
   "source": [
    "df.open + 10"
   ],
   "metadata": {
    "collapsed": false,
    "ExecuteTime": {
     "start_time": "2025-04-09T10:14:31.424531Z",
     "end_time": "2025-04-09T10:14:31.475696Z"
    }
   }
  },
  {
   "cell_type": "code",
   "execution_count": 50,
   "outputs": [
    {
     "data": {
      "text/plain": "2018-02-27    15.88\n2018-02-26    13.78\n2018-02-23    13.37\n2018-02-22    12.76\n2018-02-14    11.99\n              ...  \n2015-03-06     4.48\n2015-03-05     3.45\n2015-03-04     2.92\n2015-03-03     3.06\n2015-03-02     2.67\nName: high, Length: 643, dtype: float64"
     },
     "execution_count": 50,
     "metadata": {},
     "output_type": "execute_result"
    }
   ],
   "source": [
    "df.high - 10"
   ],
   "metadata": {
    "collapsed": false,
    "ExecuteTime": {
     "start_time": "2025-04-09T10:16:26.634555Z",
     "end_time": "2025-04-09T10:16:26.700711Z"
    }
   }
  },
  {
   "cell_type": "code",
   "execution_count": 51,
   "outputs": [
    {
     "data": {
      "text/plain": "2018-02-27    25.53\n2018-02-26    24.80\n2018-02-23    24.88\n2018-02-22    24.25\n2018-02-14    23.49\n              ...  \n2015-03-06    15.17\n2015-03-05    14.88\n2015-03-04    14.80\n2015-03-03    14.52\n2015-03-02    14.25\nName: open, Length: 643, dtype: float64"
     },
     "execution_count": 51,
     "metadata": {},
     "output_type": "execute_result"
    }
   ],
   "source": [
    "df.open.add(2)"
   ],
   "metadata": {
    "collapsed": false,
    "ExecuteTime": {
     "start_time": "2025-04-09T10:18:18.347097Z",
     "end_time": "2025-04-09T10:18:18.387761Z"
    }
   }
  },
  {
   "cell_type": "code",
   "execution_count": 52,
   "outputs": [
    {
     "data": {
      "text/plain": "2018-02-27    21.53\n2018-02-26    20.80\n2018-02-23    20.88\n2018-02-22    20.25\n2018-02-14    19.49\n              ...  \n2015-03-06    11.17\n2015-03-05    10.88\n2015-03-04    10.80\n2015-03-03    10.52\n2015-03-02    10.25\nName: open, Length: 643, dtype: float64"
     },
     "execution_count": 52,
     "metadata": {},
     "output_type": "execute_result"
    }
   ],
   "source": [
    "df.open.sub(2)"
   ],
   "metadata": {
    "collapsed": false,
    "ExecuteTime": {
     "start_time": "2025-04-09T10:18:32.964921Z",
     "end_time": "2025-04-09T10:18:32.977678Z"
    }
   }
  },
  {
   "cell_type": "code",
   "execution_count": 54,
   "outputs": [
    {
     "data": {
      "text/plain": "             open   high  close    low     volume  price_change  p_change  \\\n2018-02-27  23.53  25.88  24.16  23.53   95578.03          0.63      2.68   \n2018-02-26  22.80  23.78  23.53  22.80   60985.11          0.69      3.02   \n2018-02-23  22.88  23.37  22.82  22.71   52914.01          0.54      2.42   \n2018-02-22  22.25  22.76  22.28  22.02   36105.01          0.36      1.64   \n2018-02-14  21.49  21.99  21.92  21.48   23331.04          0.44      2.05   \n...           ...    ...    ...    ...        ...           ...       ...   \n2015-03-06  13.17  14.48  14.28  13.13  179831.72          1.12      8.51   \n2015-03-05  12.88  13.45  13.16  12.87   93180.39          0.26      2.02   \n2015-03-04  12.80  12.92  12.90  12.61   67075.44          0.20      1.57   \n2015-03-03  12.52  13.06  12.70  12.52  139071.61          0.18      1.44   \n2015-03-02  12.25  12.67  12.52  12.20   96291.73          0.32      2.62   \n\n               ma5    ma10    ma20      v_ma5     v_ma10     v_ma20  turnover  \n2018-02-27  22.942  22.142  22.875   53782.64   46738.65   55576.11      2.39  \n2018-02-26  22.406  21.955  22.942   40827.52   42736.34   56007.50      1.53  \n2018-02-23  21.938  21.929  23.022   35119.58   41871.97   56372.85      1.32  \n2018-02-22  21.446  21.909  23.137   35397.58   39904.78   60149.60      0.90  \n2018-02-14  21.366  21.923  23.253   33590.21   42935.74   61716.11      0.58  \n...            ...     ...     ...        ...        ...        ...       ...  \n2015-03-06  13.112  13.112  13.112  115090.18  115090.18  115090.18      6.16  \n2015-03-05  12.820  12.820  12.820   98904.79   98904.79   98904.79      3.19  \n2015-03-04  12.707  12.707  12.707  100812.93  100812.93  100812.93      2.30  \n2015-03-03  12.610  12.610  12.610  117681.67  117681.67  117681.67      4.76  \n2015-03-02  12.520  12.520  12.520   96291.73   96291.73   96291.73      3.30  \n\n[643 rows x 14 columns]",
      "text/html": "<div>\n<style scoped>\n    .dataframe tbody tr th:only-of-type {\n        vertical-align: middle;\n    }\n\n    .dataframe tbody tr th {\n        vertical-align: top;\n    }\n\n    .dataframe thead th {\n        text-align: right;\n    }\n</style>\n<table border=\"1\" class=\"dataframe\">\n  <thead>\n    <tr style=\"text-align: right;\">\n      <th></th>\n      <th>open</th>\n      <th>high</th>\n      <th>close</th>\n      <th>low</th>\n      <th>volume</th>\n      <th>price_change</th>\n      <th>p_change</th>\n      <th>ma5</th>\n      <th>ma10</th>\n      <th>ma20</th>\n      <th>v_ma5</th>\n      <th>v_ma10</th>\n      <th>v_ma20</th>\n      <th>turnover</th>\n    </tr>\n  </thead>\n  <tbody>\n    <tr>\n      <th>2018-02-27</th>\n      <td>23.53</td>\n      <td>25.88</td>\n      <td>24.16</td>\n      <td>23.53</td>\n      <td>95578.03</td>\n      <td>0.63</td>\n      <td>2.68</td>\n      <td>22.942</td>\n      <td>22.142</td>\n      <td>22.875</td>\n      <td>53782.64</td>\n      <td>46738.65</td>\n      <td>55576.11</td>\n      <td>2.39</td>\n    </tr>\n    <tr>\n      <th>2018-02-26</th>\n      <td>22.80</td>\n      <td>23.78</td>\n      <td>23.53</td>\n      <td>22.80</td>\n      <td>60985.11</td>\n      <td>0.69</td>\n      <td>3.02</td>\n      <td>22.406</td>\n      <td>21.955</td>\n      <td>22.942</td>\n      <td>40827.52</td>\n      <td>42736.34</td>\n      <td>56007.50</td>\n      <td>1.53</td>\n    </tr>\n    <tr>\n      <th>2018-02-23</th>\n      <td>22.88</td>\n      <td>23.37</td>\n      <td>22.82</td>\n      <td>22.71</td>\n      <td>52914.01</td>\n      <td>0.54</td>\n      <td>2.42</td>\n      <td>21.938</td>\n      <td>21.929</td>\n      <td>23.022</td>\n      <td>35119.58</td>\n      <td>41871.97</td>\n      <td>56372.85</td>\n      <td>1.32</td>\n    </tr>\n    <tr>\n      <th>2018-02-22</th>\n      <td>22.25</td>\n      <td>22.76</td>\n      <td>22.28</td>\n      <td>22.02</td>\n      <td>36105.01</td>\n      <td>0.36</td>\n      <td>1.64</td>\n      <td>21.446</td>\n      <td>21.909</td>\n      <td>23.137</td>\n      <td>35397.58</td>\n      <td>39904.78</td>\n      <td>60149.60</td>\n      <td>0.90</td>\n    </tr>\n    <tr>\n      <th>2018-02-14</th>\n      <td>21.49</td>\n      <td>21.99</td>\n      <td>21.92</td>\n      <td>21.48</td>\n      <td>23331.04</td>\n      <td>0.44</td>\n      <td>2.05</td>\n      <td>21.366</td>\n      <td>21.923</td>\n      <td>23.253</td>\n      <td>33590.21</td>\n      <td>42935.74</td>\n      <td>61716.11</td>\n      <td>0.58</td>\n    </tr>\n    <tr>\n      <th>...</th>\n      <td>...</td>\n      <td>...</td>\n      <td>...</td>\n      <td>...</td>\n      <td>...</td>\n      <td>...</td>\n      <td>...</td>\n      <td>...</td>\n      <td>...</td>\n      <td>...</td>\n      <td>...</td>\n      <td>...</td>\n      <td>...</td>\n      <td>...</td>\n    </tr>\n    <tr>\n      <th>2015-03-06</th>\n      <td>13.17</td>\n      <td>14.48</td>\n      <td>14.28</td>\n      <td>13.13</td>\n      <td>179831.72</td>\n      <td>1.12</td>\n      <td>8.51</td>\n      <td>13.112</td>\n      <td>13.112</td>\n      <td>13.112</td>\n      <td>115090.18</td>\n      <td>115090.18</td>\n      <td>115090.18</td>\n      <td>6.16</td>\n    </tr>\n    <tr>\n      <th>2015-03-05</th>\n      <td>12.88</td>\n      <td>13.45</td>\n      <td>13.16</td>\n      <td>12.87</td>\n      <td>93180.39</td>\n      <td>0.26</td>\n      <td>2.02</td>\n      <td>12.820</td>\n      <td>12.820</td>\n      <td>12.820</td>\n      <td>98904.79</td>\n      <td>98904.79</td>\n      <td>98904.79</td>\n      <td>3.19</td>\n    </tr>\n    <tr>\n      <th>2015-03-04</th>\n      <td>12.80</td>\n      <td>12.92</td>\n      <td>12.90</td>\n      <td>12.61</td>\n      <td>67075.44</td>\n      <td>0.20</td>\n      <td>1.57</td>\n      <td>12.707</td>\n      <td>12.707</td>\n      <td>12.707</td>\n      <td>100812.93</td>\n      <td>100812.93</td>\n      <td>100812.93</td>\n      <td>2.30</td>\n    </tr>\n    <tr>\n      <th>2015-03-03</th>\n      <td>12.52</td>\n      <td>13.06</td>\n      <td>12.70</td>\n      <td>12.52</td>\n      <td>139071.61</td>\n      <td>0.18</td>\n      <td>1.44</td>\n      <td>12.610</td>\n      <td>12.610</td>\n      <td>12.610</td>\n      <td>117681.67</td>\n      <td>117681.67</td>\n      <td>117681.67</td>\n      <td>4.76</td>\n    </tr>\n    <tr>\n      <th>2015-03-02</th>\n      <td>12.25</td>\n      <td>12.67</td>\n      <td>12.52</td>\n      <td>12.20</td>\n      <td>96291.73</td>\n      <td>0.32</td>\n      <td>2.62</td>\n      <td>12.520</td>\n      <td>12.520</td>\n      <td>12.520</td>\n      <td>96291.73</td>\n      <td>96291.73</td>\n      <td>96291.73</td>\n      <td>3.30</td>\n    </tr>\n  </tbody>\n</table>\n<p>643 rows × 14 columns</p>\n</div>"
     },
     "execution_count": 54,
     "metadata": {},
     "output_type": "execute_result"
    }
   ],
   "source": [
    "# 逻辑运算      & 、 /\n",
    "df"
   ],
   "metadata": {
    "collapsed": false,
    "ExecuteTime": {
     "start_time": "2025-04-09T10:19:23.575349Z",
     "end_time": "2025-04-09T10:19:23.679172Z"
    }
   }
  },
  {
   "cell_type": "code",
   "execution_count": 55,
   "outputs": [
    {
     "data": {
      "text/plain": "             open   high  close    low     volume  price_change  p_change  \\\n2018-02-27  23.53  25.88  24.16  23.53   95578.03          0.63      2.68   \n2018-02-01  23.71  23.86  22.42  22.22   66414.64         -1.30     -5.48   \n2018-01-31  23.85  23.98  23.72  23.31   49155.02         -0.11     -0.46   \n2018-01-30  23.71  24.08  23.83  23.70   32420.43          0.05      0.21   \n2018-01-29  24.40  24.63  23.77  23.72   65469.81         -0.73     -2.98   \n...           ...    ...    ...    ...        ...           ...       ...   \n2015-05-21  27.50  28.22  28.22  26.50  121190.11          2.57     10.02   \n2015-05-20  24.10  25.65  25.65  24.10  164143.16          2.33      9.99   \n2015-05-19  23.68  23.69  23.32  22.47   82945.73          0.25      1.08   \n2015-04-16  24.63  25.21  22.97  21.94  221070.31         -1.41     -5.78   \n2015-04-15  23.45  25.56  24.38  23.40  250311.59          1.14      4.91   \n\n               ma5    ma10    ma20      v_ma5     v_ma10     v_ma20  turnover  \n2018-02-27  22.942  22.142  22.875   53782.64   46738.65   55576.11      2.39  \n2018-02-01  23.646  24.365  24.279   52812.35   80394.43   88480.92      1.66  \n2018-01-31  24.036  24.583  24.411   60348.94   80496.48   91666.75      1.23  \n2018-01-30  24.350  24.671  24.365   77485.53   84805.23   92943.35      0.81  \n2018-01-29  24.684  24.728  24.294   91842.60   91692.73   93456.22      1.64  \n...            ...     ...     ...        ...        ...        ...       ...  \n2015-05-21  24.508  22.725  22.053  117760.48  103865.87   98766.20      4.15  \n2015-05-20  23.292  21.784  21.733  118737.32   98652.00   99743.64      5.62  \n2015-05-19  22.318  21.166  21.536  100396.01   90830.02   97087.92      2.84  \n2015-04-16  22.230  19.983  17.825  182172.04  153247.63  124317.19      7.57  \n2015-04-15  21.560  19.315  17.442  174581.78  138001.54  119340.61      8.57  \n\n[184 rows x 14 columns]",
      "text/html": "<div>\n<style scoped>\n    .dataframe tbody tr th:only-of-type {\n        vertical-align: middle;\n    }\n\n    .dataframe tbody tr th {\n        vertical-align: top;\n    }\n\n    .dataframe thead th {\n        text-align: right;\n    }\n</style>\n<table border=\"1\" class=\"dataframe\">\n  <thead>\n    <tr style=\"text-align: right;\">\n      <th></th>\n      <th>open</th>\n      <th>high</th>\n      <th>close</th>\n      <th>low</th>\n      <th>volume</th>\n      <th>price_change</th>\n      <th>p_change</th>\n      <th>ma5</th>\n      <th>ma10</th>\n      <th>ma20</th>\n      <th>v_ma5</th>\n      <th>v_ma10</th>\n      <th>v_ma20</th>\n      <th>turnover</th>\n    </tr>\n  </thead>\n  <tbody>\n    <tr>\n      <th>2018-02-27</th>\n      <td>23.53</td>\n      <td>25.88</td>\n      <td>24.16</td>\n      <td>23.53</td>\n      <td>95578.03</td>\n      <td>0.63</td>\n      <td>2.68</td>\n      <td>22.942</td>\n      <td>22.142</td>\n      <td>22.875</td>\n      <td>53782.64</td>\n      <td>46738.65</td>\n      <td>55576.11</td>\n      <td>2.39</td>\n    </tr>\n    <tr>\n      <th>2018-02-01</th>\n      <td>23.71</td>\n      <td>23.86</td>\n      <td>22.42</td>\n      <td>22.22</td>\n      <td>66414.64</td>\n      <td>-1.30</td>\n      <td>-5.48</td>\n      <td>23.646</td>\n      <td>24.365</td>\n      <td>24.279</td>\n      <td>52812.35</td>\n      <td>80394.43</td>\n      <td>88480.92</td>\n      <td>1.66</td>\n    </tr>\n    <tr>\n      <th>2018-01-31</th>\n      <td>23.85</td>\n      <td>23.98</td>\n      <td>23.72</td>\n      <td>23.31</td>\n      <td>49155.02</td>\n      <td>-0.11</td>\n      <td>-0.46</td>\n      <td>24.036</td>\n      <td>24.583</td>\n      <td>24.411</td>\n      <td>60348.94</td>\n      <td>80496.48</td>\n      <td>91666.75</td>\n      <td>1.23</td>\n    </tr>\n    <tr>\n      <th>2018-01-30</th>\n      <td>23.71</td>\n      <td>24.08</td>\n      <td>23.83</td>\n      <td>23.70</td>\n      <td>32420.43</td>\n      <td>0.05</td>\n      <td>0.21</td>\n      <td>24.350</td>\n      <td>24.671</td>\n      <td>24.365</td>\n      <td>77485.53</td>\n      <td>84805.23</td>\n      <td>92943.35</td>\n      <td>0.81</td>\n    </tr>\n    <tr>\n      <th>2018-01-29</th>\n      <td>24.40</td>\n      <td>24.63</td>\n      <td>23.77</td>\n      <td>23.72</td>\n      <td>65469.81</td>\n      <td>-0.73</td>\n      <td>-2.98</td>\n      <td>24.684</td>\n      <td>24.728</td>\n      <td>24.294</td>\n      <td>91842.60</td>\n      <td>91692.73</td>\n      <td>93456.22</td>\n      <td>1.64</td>\n    </tr>\n    <tr>\n      <th>...</th>\n      <td>...</td>\n      <td>...</td>\n      <td>...</td>\n      <td>...</td>\n      <td>...</td>\n      <td>...</td>\n      <td>...</td>\n      <td>...</td>\n      <td>...</td>\n      <td>...</td>\n      <td>...</td>\n      <td>...</td>\n      <td>...</td>\n      <td>...</td>\n    </tr>\n    <tr>\n      <th>2015-05-21</th>\n      <td>27.50</td>\n      <td>28.22</td>\n      <td>28.22</td>\n      <td>26.50</td>\n      <td>121190.11</td>\n      <td>2.57</td>\n      <td>10.02</td>\n      <td>24.508</td>\n      <td>22.725</td>\n      <td>22.053</td>\n      <td>117760.48</td>\n      <td>103865.87</td>\n      <td>98766.20</td>\n      <td>4.15</td>\n    </tr>\n    <tr>\n      <th>2015-05-20</th>\n      <td>24.10</td>\n      <td>25.65</td>\n      <td>25.65</td>\n      <td>24.10</td>\n      <td>164143.16</td>\n      <td>2.33</td>\n      <td>9.99</td>\n      <td>23.292</td>\n      <td>21.784</td>\n      <td>21.733</td>\n      <td>118737.32</td>\n      <td>98652.00</td>\n      <td>99743.64</td>\n      <td>5.62</td>\n    </tr>\n    <tr>\n      <th>2015-05-19</th>\n      <td>23.68</td>\n      <td>23.69</td>\n      <td>23.32</td>\n      <td>22.47</td>\n      <td>82945.73</td>\n      <td>0.25</td>\n      <td>1.08</td>\n      <td>22.318</td>\n      <td>21.166</td>\n      <td>21.536</td>\n      <td>100396.01</td>\n      <td>90830.02</td>\n      <td>97087.92</td>\n      <td>2.84</td>\n    </tr>\n    <tr>\n      <th>2015-04-16</th>\n      <td>24.63</td>\n      <td>25.21</td>\n      <td>22.97</td>\n      <td>21.94</td>\n      <td>221070.31</td>\n      <td>-1.41</td>\n      <td>-5.78</td>\n      <td>22.230</td>\n      <td>19.983</td>\n      <td>17.825</td>\n      <td>182172.04</td>\n      <td>153247.63</td>\n      <td>124317.19</td>\n      <td>7.57</td>\n    </tr>\n    <tr>\n      <th>2015-04-15</th>\n      <td>23.45</td>\n      <td>25.56</td>\n      <td>24.38</td>\n      <td>23.40</td>\n      <td>250311.59</td>\n      <td>1.14</td>\n      <td>4.91</td>\n      <td>21.560</td>\n      <td>19.315</td>\n      <td>17.442</td>\n      <td>174581.78</td>\n      <td>138001.54</td>\n      <td>119340.61</td>\n      <td>8.57</td>\n    </tr>\n  </tbody>\n</table>\n<p>184 rows × 14 columns</p>\n</div>"
     },
     "execution_count": 55,
     "metadata": {},
     "output_type": "execute_result"
    }
   ],
   "source": [
    "df[df.open > 23]"
   ],
   "metadata": {
    "collapsed": false,
    "ExecuteTime": {
     "start_time": "2025-04-09T10:19:43.118232Z",
     "end_time": "2025-04-09T10:19:43.219635Z"
    }
   }
  },
  {
   "cell_type": "code",
   "execution_count": 59,
   "outputs": [
    {
     "data": {
      "text/plain": "             open   high  close    low     volume  price_change  p_change  \\\n2018-02-27  23.53  25.88  24.16  23.53   95578.03          0.63      2.68   \n2018-02-01  23.71  23.86  22.42  22.22   66414.64         -1.30     -5.48   \n2018-01-31  23.85  23.98  23.72  23.31   49155.02         -0.11     -0.46   \n2018-01-30  23.71  24.08  23.83  23.70   32420.43          0.05      0.21   \n2018-01-29  24.40  24.63  23.77  23.72   65469.81         -0.73     -2.98   \n...           ...    ...    ...    ...        ...           ...       ...   \n2015-05-21  27.50  28.22  28.22  26.50  121190.11          2.57     10.02   \n2015-05-20  24.10  25.65  25.65  24.10  164143.16          2.33      9.99   \n2015-05-19  23.68  23.69  23.32  22.47   82945.73          0.25      1.08   \n2015-04-16  24.63  25.21  22.97  21.94  221070.31         -1.41     -5.78   \n2015-04-15  23.45  25.56  24.38  23.40  250311.59          1.14      4.91   \n\n               ma5    ma10    ma20      v_ma5     v_ma10     v_ma20  turnover  \n2018-02-27  22.942  22.142  22.875   53782.64   46738.65   55576.11      2.39  \n2018-02-01  23.646  24.365  24.279   52812.35   80394.43   88480.92      1.66  \n2018-01-31  24.036  24.583  24.411   60348.94   80496.48   91666.75      1.23  \n2018-01-30  24.350  24.671  24.365   77485.53   84805.23   92943.35      0.81  \n2018-01-29  24.684  24.728  24.294   91842.60   91692.73   93456.22      1.64  \n...            ...     ...     ...        ...        ...        ...       ...  \n2015-05-21  24.508  22.725  22.053  117760.48  103865.87   98766.20      4.15  \n2015-05-20  23.292  21.784  21.733  118737.32   98652.00   99743.64      5.62  \n2015-05-19  22.318  21.166  21.536  100396.01   90830.02   97087.92      2.84  \n2015-04-16  22.230  19.983  17.825  182172.04  153247.63  124317.19      7.57  \n2015-04-15  21.560  19.315  17.442  174581.78  138001.54  119340.61      8.57  \n\n[184 rows x 14 columns]",
      "text/html": "<div>\n<style scoped>\n    .dataframe tbody tr th:only-of-type {\n        vertical-align: middle;\n    }\n\n    .dataframe tbody tr th {\n        vertical-align: top;\n    }\n\n    .dataframe thead th {\n        text-align: right;\n    }\n</style>\n<table border=\"1\" class=\"dataframe\">\n  <thead>\n    <tr style=\"text-align: right;\">\n      <th></th>\n      <th>open</th>\n      <th>high</th>\n      <th>close</th>\n      <th>low</th>\n      <th>volume</th>\n      <th>price_change</th>\n      <th>p_change</th>\n      <th>ma5</th>\n      <th>ma10</th>\n      <th>ma20</th>\n      <th>v_ma5</th>\n      <th>v_ma10</th>\n      <th>v_ma20</th>\n      <th>turnover</th>\n    </tr>\n  </thead>\n  <tbody>\n    <tr>\n      <th>2018-02-27</th>\n      <td>23.53</td>\n      <td>25.88</td>\n      <td>24.16</td>\n      <td>23.53</td>\n      <td>95578.03</td>\n      <td>0.63</td>\n      <td>2.68</td>\n      <td>22.942</td>\n      <td>22.142</td>\n      <td>22.875</td>\n      <td>53782.64</td>\n      <td>46738.65</td>\n      <td>55576.11</td>\n      <td>2.39</td>\n    </tr>\n    <tr>\n      <th>2018-02-01</th>\n      <td>23.71</td>\n      <td>23.86</td>\n      <td>22.42</td>\n      <td>22.22</td>\n      <td>66414.64</td>\n      <td>-1.30</td>\n      <td>-5.48</td>\n      <td>23.646</td>\n      <td>24.365</td>\n      <td>24.279</td>\n      <td>52812.35</td>\n      <td>80394.43</td>\n      <td>88480.92</td>\n      <td>1.66</td>\n    </tr>\n    <tr>\n      <th>2018-01-31</th>\n      <td>23.85</td>\n      <td>23.98</td>\n      <td>23.72</td>\n      <td>23.31</td>\n      <td>49155.02</td>\n      <td>-0.11</td>\n      <td>-0.46</td>\n      <td>24.036</td>\n      <td>24.583</td>\n      <td>24.411</td>\n      <td>60348.94</td>\n      <td>80496.48</td>\n      <td>91666.75</td>\n      <td>1.23</td>\n    </tr>\n    <tr>\n      <th>2018-01-30</th>\n      <td>23.71</td>\n      <td>24.08</td>\n      <td>23.83</td>\n      <td>23.70</td>\n      <td>32420.43</td>\n      <td>0.05</td>\n      <td>0.21</td>\n      <td>24.350</td>\n      <td>24.671</td>\n      <td>24.365</td>\n      <td>77485.53</td>\n      <td>84805.23</td>\n      <td>92943.35</td>\n      <td>0.81</td>\n    </tr>\n    <tr>\n      <th>2018-01-29</th>\n      <td>24.40</td>\n      <td>24.63</td>\n      <td>23.77</td>\n      <td>23.72</td>\n      <td>65469.81</td>\n      <td>-0.73</td>\n      <td>-2.98</td>\n      <td>24.684</td>\n      <td>24.728</td>\n      <td>24.294</td>\n      <td>91842.60</td>\n      <td>91692.73</td>\n      <td>93456.22</td>\n      <td>1.64</td>\n    </tr>\n    <tr>\n      <th>...</th>\n      <td>...</td>\n      <td>...</td>\n      <td>...</td>\n      <td>...</td>\n      <td>...</td>\n      <td>...</td>\n      <td>...</td>\n      <td>...</td>\n      <td>...</td>\n      <td>...</td>\n      <td>...</td>\n      <td>...</td>\n      <td>...</td>\n      <td>...</td>\n    </tr>\n    <tr>\n      <th>2015-05-21</th>\n      <td>27.50</td>\n      <td>28.22</td>\n      <td>28.22</td>\n      <td>26.50</td>\n      <td>121190.11</td>\n      <td>2.57</td>\n      <td>10.02</td>\n      <td>24.508</td>\n      <td>22.725</td>\n      <td>22.053</td>\n      <td>117760.48</td>\n      <td>103865.87</td>\n      <td>98766.20</td>\n      <td>4.15</td>\n    </tr>\n    <tr>\n      <th>2015-05-20</th>\n      <td>24.10</td>\n      <td>25.65</td>\n      <td>25.65</td>\n      <td>24.10</td>\n      <td>164143.16</td>\n      <td>2.33</td>\n      <td>9.99</td>\n      <td>23.292</td>\n      <td>21.784</td>\n      <td>21.733</td>\n      <td>118737.32</td>\n      <td>98652.00</td>\n      <td>99743.64</td>\n      <td>5.62</td>\n    </tr>\n    <tr>\n      <th>2015-05-19</th>\n      <td>23.68</td>\n      <td>23.69</td>\n      <td>23.32</td>\n      <td>22.47</td>\n      <td>82945.73</td>\n      <td>0.25</td>\n      <td>1.08</td>\n      <td>22.318</td>\n      <td>21.166</td>\n      <td>21.536</td>\n      <td>100396.01</td>\n      <td>90830.02</td>\n      <td>97087.92</td>\n      <td>2.84</td>\n    </tr>\n    <tr>\n      <th>2015-04-16</th>\n      <td>24.63</td>\n      <td>25.21</td>\n      <td>22.97</td>\n      <td>21.94</td>\n      <td>221070.31</td>\n      <td>-1.41</td>\n      <td>-5.78</td>\n      <td>22.230</td>\n      <td>19.983</td>\n      <td>17.825</td>\n      <td>182172.04</td>\n      <td>153247.63</td>\n      <td>124317.19</td>\n      <td>7.57</td>\n    </tr>\n    <tr>\n      <th>2015-04-15</th>\n      <td>23.45</td>\n      <td>25.56</td>\n      <td>24.38</td>\n      <td>23.40</td>\n      <td>250311.59</td>\n      <td>1.14</td>\n      <td>4.91</td>\n      <td>21.560</td>\n      <td>19.315</td>\n      <td>17.442</td>\n      <td>174581.78</td>\n      <td>138001.54</td>\n      <td>119340.61</td>\n      <td>8.57</td>\n    </tr>\n  </tbody>\n</table>\n<p>184 rows × 14 columns</p>\n</div>"
     },
     "execution_count": 59,
     "metadata": {},
     "output_type": "execute_result"
    }
   ],
   "source": [
    "df[(df.open > 23) & (df.open < 40)]"
   ],
   "metadata": {
    "collapsed": false,
    "ExecuteTime": {
     "start_time": "2025-04-09T10:20:53.647514Z",
     "end_time": "2025-04-09T10:20:53.707094Z"
    }
   }
  },
  {
   "cell_type": "code",
   "execution_count": 61,
   "outputs": [
    {
     "data": {
      "text/plain": "             open   high  close    low     volume  price_change  p_change  \\\n2018-02-27  23.53  25.88  24.16  23.53   95578.03          0.63      2.68   \n2018-02-26  22.80  23.78  23.53  22.80   60985.11          0.69      3.02   \n2018-02-23  22.88  23.37  22.82  22.71   52914.01          0.54      2.42   \n2018-02-22  22.25  22.76  22.28  22.02   36105.01          0.36      1.64   \n2018-02-14  21.49  21.99  21.92  21.48   23331.04          0.44      2.05   \n...           ...    ...    ...    ...        ...           ...       ...   \n2015-04-20  21.70  22.78  21.27  20.24  180490.12         -0.79     -3.58   \n2015-04-17  22.60  23.97  22.06  21.80  206773.17         -0.91     -3.96   \n2015-04-16  24.63  25.21  22.97  21.94  221070.31         -1.41     -5.78   \n2015-04-15  23.45  25.56  24.38  23.40  250311.59          1.14      4.91   \n2015-04-14  21.45  23.24  23.24  21.45  154693.44          2.11      9.99   \n\n               ma5    ma10    ma20      v_ma5     v_ma10     v_ma20  turnover  \n2018-02-27  22.942  22.142  22.875   53782.64   46738.65   55576.11      2.39  \n2018-02-26  22.406  21.955  22.942   40827.52   42736.34   56007.50      1.53  \n2018-02-23  21.938  21.929  23.022   35119.58   41871.97   56372.85      1.32  \n2018-02-22  21.446  21.909  23.137   35397.58   39904.78   60149.60      0.90  \n2018-02-14  21.366  21.923  23.253   33590.21   42935.74   61716.11      0.58  \n...            ...     ...     ...        ...        ...        ...       ...  \n2015-04-20  22.784  21.006  18.455  202667.73  176144.03  135158.14      6.18  \n2015-04-17  22.756  20.545  18.159  200934.24  167291.31  129973.64      7.08  \n2015-04-16  22.230  19.983  17.825  182172.04  153247.63  124317.19      7.57  \n2015-04-15  21.560  19.315  17.442  174581.78  138001.54  119340.61      8.57  \n2015-04-14  20.368  18.494  16.982  156064.66  121417.14  114763.57      5.30  \n\n[426 rows x 14 columns]",
      "text/html": "<div>\n<style scoped>\n    .dataframe tbody tr th:only-of-type {\n        vertical-align: middle;\n    }\n\n    .dataframe tbody tr th {\n        vertical-align: top;\n    }\n\n    .dataframe thead th {\n        text-align: right;\n    }\n</style>\n<table border=\"1\" class=\"dataframe\">\n  <thead>\n    <tr style=\"text-align: right;\">\n      <th></th>\n      <th>open</th>\n      <th>high</th>\n      <th>close</th>\n      <th>low</th>\n      <th>volume</th>\n      <th>price_change</th>\n      <th>p_change</th>\n      <th>ma5</th>\n      <th>ma10</th>\n      <th>ma20</th>\n      <th>v_ma5</th>\n      <th>v_ma10</th>\n      <th>v_ma20</th>\n      <th>turnover</th>\n    </tr>\n  </thead>\n  <tbody>\n    <tr>\n      <th>2018-02-27</th>\n      <td>23.53</td>\n      <td>25.88</td>\n      <td>24.16</td>\n      <td>23.53</td>\n      <td>95578.03</td>\n      <td>0.63</td>\n      <td>2.68</td>\n      <td>22.942</td>\n      <td>22.142</td>\n      <td>22.875</td>\n      <td>53782.64</td>\n      <td>46738.65</td>\n      <td>55576.11</td>\n      <td>2.39</td>\n    </tr>\n    <tr>\n      <th>2018-02-26</th>\n      <td>22.80</td>\n      <td>23.78</td>\n      <td>23.53</td>\n      <td>22.80</td>\n      <td>60985.11</td>\n      <td>0.69</td>\n      <td>3.02</td>\n      <td>22.406</td>\n      <td>21.955</td>\n      <td>22.942</td>\n      <td>40827.52</td>\n      <td>42736.34</td>\n      <td>56007.50</td>\n      <td>1.53</td>\n    </tr>\n    <tr>\n      <th>2018-02-23</th>\n      <td>22.88</td>\n      <td>23.37</td>\n      <td>22.82</td>\n      <td>22.71</td>\n      <td>52914.01</td>\n      <td>0.54</td>\n      <td>2.42</td>\n      <td>21.938</td>\n      <td>21.929</td>\n      <td>23.022</td>\n      <td>35119.58</td>\n      <td>41871.97</td>\n      <td>56372.85</td>\n      <td>1.32</td>\n    </tr>\n    <tr>\n      <th>2018-02-22</th>\n      <td>22.25</td>\n      <td>22.76</td>\n      <td>22.28</td>\n      <td>22.02</td>\n      <td>36105.01</td>\n      <td>0.36</td>\n      <td>1.64</td>\n      <td>21.446</td>\n      <td>21.909</td>\n      <td>23.137</td>\n      <td>35397.58</td>\n      <td>39904.78</td>\n      <td>60149.60</td>\n      <td>0.90</td>\n    </tr>\n    <tr>\n      <th>2018-02-14</th>\n      <td>21.49</td>\n      <td>21.99</td>\n      <td>21.92</td>\n      <td>21.48</td>\n      <td>23331.04</td>\n      <td>0.44</td>\n      <td>2.05</td>\n      <td>21.366</td>\n      <td>21.923</td>\n      <td>23.253</td>\n      <td>33590.21</td>\n      <td>42935.74</td>\n      <td>61716.11</td>\n      <td>0.58</td>\n    </tr>\n    <tr>\n      <th>...</th>\n      <td>...</td>\n      <td>...</td>\n      <td>...</td>\n      <td>...</td>\n      <td>...</td>\n      <td>...</td>\n      <td>...</td>\n      <td>...</td>\n      <td>...</td>\n      <td>...</td>\n      <td>...</td>\n      <td>...</td>\n      <td>...</td>\n      <td>...</td>\n    </tr>\n    <tr>\n      <th>2015-04-20</th>\n      <td>21.70</td>\n      <td>22.78</td>\n      <td>21.27</td>\n      <td>20.24</td>\n      <td>180490.12</td>\n      <td>-0.79</td>\n      <td>-3.58</td>\n      <td>22.784</td>\n      <td>21.006</td>\n      <td>18.455</td>\n      <td>202667.73</td>\n      <td>176144.03</td>\n      <td>135158.14</td>\n      <td>6.18</td>\n    </tr>\n    <tr>\n      <th>2015-04-17</th>\n      <td>22.60</td>\n      <td>23.97</td>\n      <td>22.06</td>\n      <td>21.80</td>\n      <td>206773.17</td>\n      <td>-0.91</td>\n      <td>-3.96</td>\n      <td>22.756</td>\n      <td>20.545</td>\n      <td>18.159</td>\n      <td>200934.24</td>\n      <td>167291.31</td>\n      <td>129973.64</td>\n      <td>7.08</td>\n    </tr>\n    <tr>\n      <th>2015-04-16</th>\n      <td>24.63</td>\n      <td>25.21</td>\n      <td>22.97</td>\n      <td>21.94</td>\n      <td>221070.31</td>\n      <td>-1.41</td>\n      <td>-5.78</td>\n      <td>22.230</td>\n      <td>19.983</td>\n      <td>17.825</td>\n      <td>182172.04</td>\n      <td>153247.63</td>\n      <td>124317.19</td>\n      <td>7.57</td>\n    </tr>\n    <tr>\n      <th>2015-04-15</th>\n      <td>23.45</td>\n      <td>25.56</td>\n      <td>24.38</td>\n      <td>23.40</td>\n      <td>250311.59</td>\n      <td>1.14</td>\n      <td>4.91</td>\n      <td>21.560</td>\n      <td>19.315</td>\n      <td>17.442</td>\n      <td>174581.78</td>\n      <td>138001.54</td>\n      <td>119340.61</td>\n      <td>8.57</td>\n    </tr>\n    <tr>\n      <th>2015-04-14</th>\n      <td>21.45</td>\n      <td>23.24</td>\n      <td>23.24</td>\n      <td>21.45</td>\n      <td>154693.44</td>\n      <td>2.11</td>\n      <td>9.99</td>\n      <td>20.368</td>\n      <td>18.494</td>\n      <td>16.982</td>\n      <td>156064.66</td>\n      <td>121417.14</td>\n      <td>114763.57</td>\n      <td>5.30</td>\n    </tr>\n  </tbody>\n</table>\n<p>426 rows × 14 columns</p>\n</div>"
     },
     "execution_count": 61,
     "metadata": {},
     "output_type": "execute_result"
    }
   ],
   "source": [
    "# 等价于\n",
    "df.query('open > 20 & open < 40')"
   ],
   "metadata": {
    "collapsed": false,
    "ExecuteTime": {
     "start_time": "2025-04-09T10:22:28.081170Z",
     "end_time": "2025-04-09T10:22:28.166881Z"
    }
   }
  },
  {
   "cell_type": "code",
   "execution_count": null,
   "outputs": [],
   "source": [
    "df.query('open > 20 | open < 40')"
   ],
   "metadata": {
    "collapsed": false
   }
  },
  {
   "cell_type": "code",
   "execution_count": 74,
   "outputs": [
    {
     "ename": "AttributeError",
     "evalue": "'Series' object has no attribute 'isnotin'",
     "output_type": "error",
     "traceback": [
      "\u001B[1;31m---------------------------------------------------------------------------\u001B[0m",
      "\u001B[1;31mAttributeError\u001B[0m                            Traceback (most recent call last)",
      "\u001B[1;32m~\\AppData\\Local\\Temp\\ipykernel_39596\\4235667447.py\u001B[0m in \u001B[0;36m?\u001B[1;34m()\u001B[0m\n\u001B[0;32m      1\u001B[0m \u001B[1;31m# 筛选固定值  isin\u001B[0m\u001B[1;33m\u001B[0m\u001B[1;33m\u001B[0m\u001B[0m\n\u001B[0;32m      2\u001B[0m \u001B[1;31m# 隐式转换 小类型转为大类型不会造成精度丢失  小类型 int  大类型 float\u001B[0m\u001B[1;33m\u001B[0m\u001B[1;33m\u001B[0m\u001B[0m\n\u001B[0;32m      3\u001B[0m \u001B[1;31m#   int 转为 float 可以隐式转换\u001B[0m\u001B[1;33m\u001B[0m\u001B[1;33m\u001B[0m\u001B[0m\n\u001B[0;32m      4\u001B[0m \u001B[1;31m#   float 转为 int  要用显式转换\u001B[0m\u001B[1;33m\u001B[0m\u001B[1;33m\u001B[0m\u001B[0m\n\u001B[1;32m----> 5\u001B[1;33m \u001B[0mdf\u001B[0m\u001B[1;33m[\u001B[0m\u001B[0mdf\u001B[0m\u001B[1;33m.\u001B[0m\u001B[0mopen\u001B[0m\u001B[1;33m.\u001B[0m\u001B[0misnotin\u001B[0m\u001B[1;33m(\u001B[0m\u001B[1;33m[\u001B[0m\u001B[1;36m22\u001B[0m\u001B[1;33m,\u001B[0m \u001B[1;36m23\u001B[0m\u001B[1;33m]\u001B[0m\u001B[1;33m)\u001B[0m\u001B[1;33m]\u001B[0m\u001B[1;33m\u001B[0m\u001B[1;33m\u001B[0m\u001B[0m\n\u001B[0m",
      "\u001B[1;32mE:\\ProgrammingLanguage\\Python\\Anaconda3\\Anaconda3-2024\\anaconda3\\Lib\\site-packages\\pandas\\core\\generic.py\u001B[0m in \u001B[0;36m?\u001B[1;34m(self, name)\u001B[0m\n\u001B[0;32m   6295\u001B[0m             \u001B[1;32mand\u001B[0m \u001B[0mname\u001B[0m \u001B[1;32mnot\u001B[0m \u001B[1;32min\u001B[0m \u001B[0mself\u001B[0m\u001B[1;33m.\u001B[0m\u001B[0m_accessors\u001B[0m\u001B[1;33m\u001B[0m\u001B[1;33m\u001B[0m\u001B[0m\n\u001B[0;32m   6296\u001B[0m             \u001B[1;32mand\u001B[0m \u001B[0mself\u001B[0m\u001B[1;33m.\u001B[0m\u001B[0m_info_axis\u001B[0m\u001B[1;33m.\u001B[0m\u001B[0m_can_hold_identifiers_and_holds_name\u001B[0m\u001B[1;33m(\u001B[0m\u001B[0mname\u001B[0m\u001B[1;33m)\u001B[0m\u001B[1;33m\u001B[0m\u001B[1;33m\u001B[0m\u001B[0m\n\u001B[0;32m   6297\u001B[0m         \u001B[1;33m)\u001B[0m\u001B[1;33m:\u001B[0m\u001B[1;33m\u001B[0m\u001B[1;33m\u001B[0m\u001B[0m\n\u001B[0;32m   6298\u001B[0m             \u001B[1;32mreturn\u001B[0m \u001B[0mself\u001B[0m\u001B[1;33m[\u001B[0m\u001B[0mname\u001B[0m\u001B[1;33m]\u001B[0m\u001B[1;33m\u001B[0m\u001B[1;33m\u001B[0m\u001B[0m\n\u001B[1;32m-> 6299\u001B[1;33m         \u001B[1;32mreturn\u001B[0m \u001B[0mobject\u001B[0m\u001B[1;33m.\u001B[0m\u001B[0m__getattribute__\u001B[0m\u001B[1;33m(\u001B[0m\u001B[0mself\u001B[0m\u001B[1;33m,\u001B[0m \u001B[0mname\u001B[0m\u001B[1;33m)\u001B[0m\u001B[1;33m\u001B[0m\u001B[1;33m\u001B[0m\u001B[0m\n\u001B[0m",
      "\u001B[1;31mAttributeError\u001B[0m: 'Series' object has no attribute 'isnotin'"
     ]
    }
   ],
   "source": [
    "# 筛选固定值  isin\n",
    "# 隐式转换 小类型转为大类型不会造成精度丢失  小类型 int  大类型 float\n",
    "#   int 转为 float 可以隐式转换\n",
    "#   float 转为 int  要用显式转换\n",
    "df[df.open.isin([22, 23])]"
   ],
   "metadata": {
    "collapsed": false,
    "ExecuteTime": {
     "start_time": "2025-04-09T10:24:31.176279Z",
     "end_time": "2025-04-09T10:24:31.223021Z"
    }
   }
  },
  {
   "cell_type": "markdown",
   "source": [],
   "metadata": {
    "collapsed": false
   }
  },
  {
   "cell_type": "code",
   "execution_count": 67,
   "outputs": [
    {
     "data": {
      "text/plain": "             open   high  close    low     volume  price_change  p_change  \\\n2018-02-27  23.53  25.88  24.16  23.53   95578.03          0.63      2.68   \n2018-02-23  22.88  23.37  22.82  22.71   52914.01          0.54      2.42   \n2017-07-26  23.53  23.92  23.40  22.85  110276.48         -0.30     -1.27   \n2015-12-18  23.53  24.66  23.99  23.43  109230.05          0.65      2.79   \n\n               ma5    ma10    ma20      v_ma5     v_ma10     v_ma20  turnover  \n2018-02-27  22.942  22.142  22.875   53782.64   46738.65   55576.11      2.39  \n2018-02-23  21.938  21.929  23.022   35119.58   41871.97   56372.85      1.32  \n2017-07-26  23.200  22.718  22.286  130237.86  140918.73  160464.67      2.76  \n2015-12-18  22.834  22.264  22.163   66728.10   68518.08   68161.18      3.74  ",
      "text/html": "<div>\n<style scoped>\n    .dataframe tbody tr th:only-of-type {\n        vertical-align: middle;\n    }\n\n    .dataframe tbody tr th {\n        vertical-align: top;\n    }\n\n    .dataframe thead th {\n        text-align: right;\n    }\n</style>\n<table border=\"1\" class=\"dataframe\">\n  <thead>\n    <tr style=\"text-align: right;\">\n      <th></th>\n      <th>open</th>\n      <th>high</th>\n      <th>close</th>\n      <th>low</th>\n      <th>volume</th>\n      <th>price_change</th>\n      <th>p_change</th>\n      <th>ma5</th>\n      <th>ma10</th>\n      <th>ma20</th>\n      <th>v_ma5</th>\n      <th>v_ma10</th>\n      <th>v_ma20</th>\n      <th>turnover</th>\n    </tr>\n  </thead>\n  <tbody>\n    <tr>\n      <th>2018-02-27</th>\n      <td>23.53</td>\n      <td>25.88</td>\n      <td>24.16</td>\n      <td>23.53</td>\n      <td>95578.03</td>\n      <td>0.63</td>\n      <td>2.68</td>\n      <td>22.942</td>\n      <td>22.142</td>\n      <td>22.875</td>\n      <td>53782.64</td>\n      <td>46738.65</td>\n      <td>55576.11</td>\n      <td>2.39</td>\n    </tr>\n    <tr>\n      <th>2018-02-23</th>\n      <td>22.88</td>\n      <td>23.37</td>\n      <td>22.82</td>\n      <td>22.71</td>\n      <td>52914.01</td>\n      <td>0.54</td>\n      <td>2.42</td>\n      <td>21.938</td>\n      <td>21.929</td>\n      <td>23.022</td>\n      <td>35119.58</td>\n      <td>41871.97</td>\n      <td>56372.85</td>\n      <td>1.32</td>\n    </tr>\n    <tr>\n      <th>2017-07-26</th>\n      <td>23.53</td>\n      <td>23.92</td>\n      <td>23.40</td>\n      <td>22.85</td>\n      <td>110276.48</td>\n      <td>-0.30</td>\n      <td>-1.27</td>\n      <td>23.200</td>\n      <td>22.718</td>\n      <td>22.286</td>\n      <td>130237.86</td>\n      <td>140918.73</td>\n      <td>160464.67</td>\n      <td>2.76</td>\n    </tr>\n    <tr>\n      <th>2015-12-18</th>\n      <td>23.53</td>\n      <td>24.66</td>\n      <td>23.99</td>\n      <td>23.43</td>\n      <td>109230.05</td>\n      <td>0.65</td>\n      <td>2.79</td>\n      <td>22.834</td>\n      <td>22.264</td>\n      <td>22.163</td>\n      <td>66728.10</td>\n      <td>68518.08</td>\n      <td>68161.18</td>\n      <td>3.74</td>\n    </tr>\n  </tbody>\n</table>\n</div>"
     },
     "execution_count": 67,
     "metadata": {},
     "output_type": "execute_result"
    }
   ],
   "source": [
    "df.query('open == 23.53 | open == 22.88')"
   ],
   "metadata": {
    "collapsed": false,
    "ExecuteTime": {
     "start_time": "2025-04-09T10:27:18.109284Z",
     "end_time": "2025-04-09T10:27:18.153571Z"
    }
   }
  },
  {
   "cell_type": "code",
   "execution_count": 72,
   "outputs": [
    {
     "data": {
      "text/plain": "             open   high  close    low     volume  price_change  p_change  \\\n2018-02-27  23.53  25.88  24.16  23.53   95578.03          0.63      2.68   \n2018-02-23  22.88  23.37  22.82  22.71   52914.01          0.54      2.42   \n2017-07-26  23.53  23.92  23.40  22.85  110276.48         -0.30     -1.27   \n2015-12-18  23.53  24.66  23.99  23.43  109230.05          0.65      2.79   \n\n               ma5    ma10    ma20      v_ma5     v_ma10     v_ma20  turnover  \n2018-02-27  22.942  22.142  22.875   53782.64   46738.65   55576.11      2.39  \n2018-02-23  21.938  21.929  23.022   35119.58   41871.97   56372.85      1.32  \n2017-07-26  23.200  22.718  22.286  130237.86  140918.73  160464.67      2.76  \n2015-12-18  22.834  22.264  22.163   66728.10   68518.08   68161.18      3.74  ",
      "text/html": "<div>\n<style scoped>\n    .dataframe tbody tr th:only-of-type {\n        vertical-align: middle;\n    }\n\n    .dataframe tbody tr th {\n        vertical-align: top;\n    }\n\n    .dataframe thead th {\n        text-align: right;\n    }\n</style>\n<table border=\"1\" class=\"dataframe\">\n  <thead>\n    <tr style=\"text-align: right;\">\n      <th></th>\n      <th>open</th>\n      <th>high</th>\n      <th>close</th>\n      <th>low</th>\n      <th>volume</th>\n      <th>price_change</th>\n      <th>p_change</th>\n      <th>ma5</th>\n      <th>ma10</th>\n      <th>ma20</th>\n      <th>v_ma5</th>\n      <th>v_ma10</th>\n      <th>v_ma20</th>\n      <th>turnover</th>\n    </tr>\n  </thead>\n  <tbody>\n    <tr>\n      <th>2018-02-27</th>\n      <td>23.53</td>\n      <td>25.88</td>\n      <td>24.16</td>\n      <td>23.53</td>\n      <td>95578.03</td>\n      <td>0.63</td>\n      <td>2.68</td>\n      <td>22.942</td>\n      <td>22.142</td>\n      <td>22.875</td>\n      <td>53782.64</td>\n      <td>46738.65</td>\n      <td>55576.11</td>\n      <td>2.39</td>\n    </tr>\n    <tr>\n      <th>2018-02-23</th>\n      <td>22.88</td>\n      <td>23.37</td>\n      <td>22.82</td>\n      <td>22.71</td>\n      <td>52914.01</td>\n      <td>0.54</td>\n      <td>2.42</td>\n      <td>21.938</td>\n      <td>21.929</td>\n      <td>23.022</td>\n      <td>35119.58</td>\n      <td>41871.97</td>\n      <td>56372.85</td>\n      <td>1.32</td>\n    </tr>\n    <tr>\n      <th>2017-07-26</th>\n      <td>23.53</td>\n      <td>23.92</td>\n      <td>23.40</td>\n      <td>22.85</td>\n      <td>110276.48</td>\n      <td>-0.30</td>\n      <td>-1.27</td>\n      <td>23.200</td>\n      <td>22.718</td>\n      <td>22.286</td>\n      <td>130237.86</td>\n      <td>140918.73</td>\n      <td>160464.67</td>\n      <td>2.76</td>\n    </tr>\n    <tr>\n      <th>2015-12-18</th>\n      <td>23.53</td>\n      <td>24.66</td>\n      <td>23.99</td>\n      <td>23.43</td>\n      <td>109230.05</td>\n      <td>0.65</td>\n      <td>2.79</td>\n      <td>22.834</td>\n      <td>22.264</td>\n      <td>22.163</td>\n      <td>66728.10</td>\n      <td>68518.08</td>\n      <td>68161.18</td>\n      <td>3.74</td>\n    </tr>\n  </tbody>\n</table>\n</div>"
     },
     "execution_count": 72,
     "metadata": {},
     "output_type": "execute_result"
    }
   ],
   "source": [
    "df.query('open in[23.53, 22.88]')\n",
    "# 等价于\n",
    "# df.query('open.isin([23.53, 22.88])')"
   ],
   "metadata": {
    "collapsed": false,
    "ExecuteTime": {
     "start_time": "2025-04-09T10:29:06.785655Z",
     "end_time": "2025-04-09T10:29:06.814493Z"
    }
   }
  },
  {
   "cell_type": "code",
   "execution_count": 73,
   "outputs": [
    {
     "data": {
      "text/plain": "             open   high  close    low     volume  price_change  p_change  \\\n2018-02-26  22.80  23.78  23.53  22.80   60985.11          0.69      3.02   \n2018-02-22  22.25  22.76  22.28  22.02   36105.01          0.36      1.64   \n2018-02-14  21.49  21.99  21.92  21.48   23331.04          0.44      2.05   \n2018-02-13  21.40  21.90  21.48  21.31   30802.45          0.28      1.32   \n2018-02-12  20.70  21.40  21.19  20.63   32445.39          0.82      4.03   \n...           ...    ...    ...    ...        ...           ...       ...   \n2015-03-06  13.17  14.48  14.28  13.13  179831.72          1.12      8.51   \n2015-03-05  12.88  13.45  13.16  12.87   93180.39          0.26      2.02   \n2015-03-04  12.80  12.92  12.90  12.61   67075.44          0.20      1.57   \n2015-03-03  12.52  13.06  12.70  12.52  139071.61          0.18      1.44   \n2015-03-02  12.25  12.67  12.52  12.20   96291.73          0.32      2.62   \n\n               ma5    ma10    ma20      v_ma5     v_ma10     v_ma20  turnover  \n2018-02-26  22.406  21.955  22.942   40827.52   42736.34   56007.50      1.53  \n2018-02-22  21.446  21.909  23.137   35397.58   39904.78   60149.60      0.90  \n2018-02-14  21.366  21.923  23.253   33590.21   42935.74   61716.11      0.58  \n2018-02-13  21.342  22.103  23.387   39694.65   45518.14   65161.68      0.77  \n2018-02-12  21.504  22.338  23.533   44645.16   45679.94   68686.33      0.81  \n...            ...     ...     ...        ...        ...        ...       ...  \n2015-03-06  13.112  13.112  13.112  115090.18  115090.18  115090.18      6.16  \n2015-03-05  12.820  12.820  12.820   98904.79   98904.79   98904.79      3.19  \n2015-03-04  12.707  12.707  12.707  100812.93  100812.93  100812.93      2.30  \n2015-03-03  12.610  12.610  12.610  117681.67  117681.67  117681.67      4.76  \n2015-03-02  12.520  12.520  12.520   96291.73   96291.73   96291.73      3.30  \n\n[639 rows x 14 columns]",
      "text/html": "<div>\n<style scoped>\n    .dataframe tbody tr th:only-of-type {\n        vertical-align: middle;\n    }\n\n    .dataframe tbody tr th {\n        vertical-align: top;\n    }\n\n    .dataframe thead th {\n        text-align: right;\n    }\n</style>\n<table border=\"1\" class=\"dataframe\">\n  <thead>\n    <tr style=\"text-align: right;\">\n      <th></th>\n      <th>open</th>\n      <th>high</th>\n      <th>close</th>\n      <th>low</th>\n      <th>volume</th>\n      <th>price_change</th>\n      <th>p_change</th>\n      <th>ma5</th>\n      <th>ma10</th>\n      <th>ma20</th>\n      <th>v_ma5</th>\n      <th>v_ma10</th>\n      <th>v_ma20</th>\n      <th>turnover</th>\n    </tr>\n  </thead>\n  <tbody>\n    <tr>\n      <th>2018-02-26</th>\n      <td>22.80</td>\n      <td>23.78</td>\n      <td>23.53</td>\n      <td>22.80</td>\n      <td>60985.11</td>\n      <td>0.69</td>\n      <td>3.02</td>\n      <td>22.406</td>\n      <td>21.955</td>\n      <td>22.942</td>\n      <td>40827.52</td>\n      <td>42736.34</td>\n      <td>56007.50</td>\n      <td>1.53</td>\n    </tr>\n    <tr>\n      <th>2018-02-22</th>\n      <td>22.25</td>\n      <td>22.76</td>\n      <td>22.28</td>\n      <td>22.02</td>\n      <td>36105.01</td>\n      <td>0.36</td>\n      <td>1.64</td>\n      <td>21.446</td>\n      <td>21.909</td>\n      <td>23.137</td>\n      <td>35397.58</td>\n      <td>39904.78</td>\n      <td>60149.60</td>\n      <td>0.90</td>\n    </tr>\n    <tr>\n      <th>2018-02-14</th>\n      <td>21.49</td>\n      <td>21.99</td>\n      <td>21.92</td>\n      <td>21.48</td>\n      <td>23331.04</td>\n      <td>0.44</td>\n      <td>2.05</td>\n      <td>21.366</td>\n      <td>21.923</td>\n      <td>23.253</td>\n      <td>33590.21</td>\n      <td>42935.74</td>\n      <td>61716.11</td>\n      <td>0.58</td>\n    </tr>\n    <tr>\n      <th>2018-02-13</th>\n      <td>21.40</td>\n      <td>21.90</td>\n      <td>21.48</td>\n      <td>21.31</td>\n      <td>30802.45</td>\n      <td>0.28</td>\n      <td>1.32</td>\n      <td>21.342</td>\n      <td>22.103</td>\n      <td>23.387</td>\n      <td>39694.65</td>\n      <td>45518.14</td>\n      <td>65161.68</td>\n      <td>0.77</td>\n    </tr>\n    <tr>\n      <th>2018-02-12</th>\n      <td>20.70</td>\n      <td>21.40</td>\n      <td>21.19</td>\n      <td>20.63</td>\n      <td>32445.39</td>\n      <td>0.82</td>\n      <td>4.03</td>\n      <td>21.504</td>\n      <td>22.338</td>\n      <td>23.533</td>\n      <td>44645.16</td>\n      <td>45679.94</td>\n      <td>68686.33</td>\n      <td>0.81</td>\n    </tr>\n    <tr>\n      <th>...</th>\n      <td>...</td>\n      <td>...</td>\n      <td>...</td>\n      <td>...</td>\n      <td>...</td>\n      <td>...</td>\n      <td>...</td>\n      <td>...</td>\n      <td>...</td>\n      <td>...</td>\n      <td>...</td>\n      <td>...</td>\n      <td>...</td>\n      <td>...</td>\n    </tr>\n    <tr>\n      <th>2015-03-06</th>\n      <td>13.17</td>\n      <td>14.48</td>\n      <td>14.28</td>\n      <td>13.13</td>\n      <td>179831.72</td>\n      <td>1.12</td>\n      <td>8.51</td>\n      <td>13.112</td>\n      <td>13.112</td>\n      <td>13.112</td>\n      <td>115090.18</td>\n      <td>115090.18</td>\n      <td>115090.18</td>\n      <td>6.16</td>\n    </tr>\n    <tr>\n      <th>2015-03-05</th>\n      <td>12.88</td>\n      <td>13.45</td>\n      <td>13.16</td>\n      <td>12.87</td>\n      <td>93180.39</td>\n      <td>0.26</td>\n      <td>2.02</td>\n      <td>12.820</td>\n      <td>12.820</td>\n      <td>12.820</td>\n      <td>98904.79</td>\n      <td>98904.79</td>\n      <td>98904.79</td>\n      <td>3.19</td>\n    </tr>\n    <tr>\n      <th>2015-03-04</th>\n      <td>12.80</td>\n      <td>12.92</td>\n      <td>12.90</td>\n      <td>12.61</td>\n      <td>67075.44</td>\n      <td>0.20</td>\n      <td>1.57</td>\n      <td>12.707</td>\n      <td>12.707</td>\n      <td>12.707</td>\n      <td>100812.93</td>\n      <td>100812.93</td>\n      <td>100812.93</td>\n      <td>2.30</td>\n    </tr>\n    <tr>\n      <th>2015-03-03</th>\n      <td>12.52</td>\n      <td>13.06</td>\n      <td>12.70</td>\n      <td>12.52</td>\n      <td>139071.61</td>\n      <td>0.18</td>\n      <td>1.44</td>\n      <td>12.610</td>\n      <td>12.610</td>\n      <td>12.610</td>\n      <td>117681.67</td>\n      <td>117681.67</td>\n      <td>117681.67</td>\n      <td>4.76</td>\n    </tr>\n    <tr>\n      <th>2015-03-02</th>\n      <td>12.25</td>\n      <td>12.67</td>\n      <td>12.52</td>\n      <td>12.20</td>\n      <td>96291.73</td>\n      <td>0.32</td>\n      <td>2.62</td>\n      <td>12.520</td>\n      <td>12.520</td>\n      <td>12.520</td>\n      <td>96291.73</td>\n      <td>96291.73</td>\n      <td>96291.73</td>\n      <td>3.30</td>\n    </tr>\n  </tbody>\n</table>\n<p>639 rows × 14 columns</p>\n</div>"
     },
     "execution_count": 73,
     "metadata": {},
     "output_type": "execute_result"
    }
   ],
   "source": [
    "df.query('open not in[23.53, 22.88]')"
   ],
   "metadata": {
    "collapsed": false,
    "ExecuteTime": {
     "start_time": "2025-04-09T10:29:43.532300Z",
     "end_time": "2025-04-09T10:29:43.701891Z"
    }
   }
  },
  {
   "cell_type": "code",
   "execution_count": 75,
   "outputs": [
    {
     "data": {
      "text/plain": "             open        high       close         low         volume  \\\ncount  643.000000  643.000000  643.000000  643.000000     643.000000   \nmean    21.272706   21.900513   21.336267   20.771835   99905.519114   \nstd      3.930973    4.077578    3.942806    3.791968   73879.119354   \nmin     12.250000   12.670000   12.360000   12.200000    1158.120000   \n25%     19.000000   19.500000   19.045000   18.525000   48533.210000   \n50%     21.440000   21.970000   21.450000   20.980000   83175.930000   \n75%     23.400000   24.065000   23.415000   22.850000  127580.055000   \nmax     34.990000   36.350000   35.210000   34.010000  501915.410000   \n\n       price_change    p_change         ma5        ma10        ma20  \\\ncount    643.000000  643.000000  643.000000  643.000000  643.000000   \nmean       0.018802    0.190280   21.302362   21.267656   21.200946   \nstd        0.898476    4.079698    3.880640    3.813602    3.686186   \nmin       -3.520000  -10.030000   12.520000   12.520000   12.520000   \n25%       -0.390000   -1.850000   18.990000   19.102000   19.275000   \n50%        0.050000    0.260000   21.504000   21.623000   21.530000   \n75%        0.455000    2.305000   23.318000   23.098500   23.136000   \nmax        3.030000   10.030000   33.696000   32.186000   29.998000   \n\n               v_ma5         v_ma10         v_ma20    turnover  \ncount     643.000000     643.000000     643.000000  643.000000  \nmean   100008.642691  100287.542177  100797.518398    2.936190  \nstd     62761.578326   56759.082060   50101.575639    2.079375  \nmin     10804.740000   19130.510000   23311.000000    0.040000  \n25%     55794.985000   59861.955000   64103.675000    1.360000  \n50%     86133.330000   89234.970000   96291.730000    2.500000  \n75%    127655.655000  124693.255000  124001.015000    3.915000  \nmax    404443.540000  360028.160000  269280.790000   12.560000  ",
      "text/html": "<div>\n<style scoped>\n    .dataframe tbody tr th:only-of-type {\n        vertical-align: middle;\n    }\n\n    .dataframe tbody tr th {\n        vertical-align: top;\n    }\n\n    .dataframe thead th {\n        text-align: right;\n    }\n</style>\n<table border=\"1\" class=\"dataframe\">\n  <thead>\n    <tr style=\"text-align: right;\">\n      <th></th>\n      <th>open</th>\n      <th>high</th>\n      <th>close</th>\n      <th>low</th>\n      <th>volume</th>\n      <th>price_change</th>\n      <th>p_change</th>\n      <th>ma5</th>\n      <th>ma10</th>\n      <th>ma20</th>\n      <th>v_ma5</th>\n      <th>v_ma10</th>\n      <th>v_ma20</th>\n      <th>turnover</th>\n    </tr>\n  </thead>\n  <tbody>\n    <tr>\n      <th>count</th>\n      <td>643.000000</td>\n      <td>643.000000</td>\n      <td>643.000000</td>\n      <td>643.000000</td>\n      <td>643.000000</td>\n      <td>643.000000</td>\n      <td>643.000000</td>\n      <td>643.000000</td>\n      <td>643.000000</td>\n      <td>643.000000</td>\n      <td>643.000000</td>\n      <td>643.000000</td>\n      <td>643.000000</td>\n      <td>643.000000</td>\n    </tr>\n    <tr>\n      <th>mean</th>\n      <td>21.272706</td>\n      <td>21.900513</td>\n      <td>21.336267</td>\n      <td>20.771835</td>\n      <td>99905.519114</td>\n      <td>0.018802</td>\n      <td>0.190280</td>\n      <td>21.302362</td>\n      <td>21.267656</td>\n      <td>21.200946</td>\n      <td>100008.642691</td>\n      <td>100287.542177</td>\n      <td>100797.518398</td>\n      <td>2.936190</td>\n    </tr>\n    <tr>\n      <th>std</th>\n      <td>3.930973</td>\n      <td>4.077578</td>\n      <td>3.942806</td>\n      <td>3.791968</td>\n      <td>73879.119354</td>\n      <td>0.898476</td>\n      <td>4.079698</td>\n      <td>3.880640</td>\n      <td>3.813602</td>\n      <td>3.686186</td>\n      <td>62761.578326</td>\n      <td>56759.082060</td>\n      <td>50101.575639</td>\n      <td>2.079375</td>\n    </tr>\n    <tr>\n      <th>min</th>\n      <td>12.250000</td>\n      <td>12.670000</td>\n      <td>12.360000</td>\n      <td>12.200000</td>\n      <td>1158.120000</td>\n      <td>-3.520000</td>\n      <td>-10.030000</td>\n      <td>12.520000</td>\n      <td>12.520000</td>\n      <td>12.520000</td>\n      <td>10804.740000</td>\n      <td>19130.510000</td>\n      <td>23311.000000</td>\n      <td>0.040000</td>\n    </tr>\n    <tr>\n      <th>25%</th>\n      <td>19.000000</td>\n      <td>19.500000</td>\n      <td>19.045000</td>\n      <td>18.525000</td>\n      <td>48533.210000</td>\n      <td>-0.390000</td>\n      <td>-1.850000</td>\n      <td>18.990000</td>\n      <td>19.102000</td>\n      <td>19.275000</td>\n      <td>55794.985000</td>\n      <td>59861.955000</td>\n      <td>64103.675000</td>\n      <td>1.360000</td>\n    </tr>\n    <tr>\n      <th>50%</th>\n      <td>21.440000</td>\n      <td>21.970000</td>\n      <td>21.450000</td>\n      <td>20.980000</td>\n      <td>83175.930000</td>\n      <td>0.050000</td>\n      <td>0.260000</td>\n      <td>21.504000</td>\n      <td>21.623000</td>\n      <td>21.530000</td>\n      <td>86133.330000</td>\n      <td>89234.970000</td>\n      <td>96291.730000</td>\n      <td>2.500000</td>\n    </tr>\n    <tr>\n      <th>75%</th>\n      <td>23.400000</td>\n      <td>24.065000</td>\n      <td>23.415000</td>\n      <td>22.850000</td>\n      <td>127580.055000</td>\n      <td>0.455000</td>\n      <td>2.305000</td>\n      <td>23.318000</td>\n      <td>23.098500</td>\n      <td>23.136000</td>\n      <td>127655.655000</td>\n      <td>124693.255000</td>\n      <td>124001.015000</td>\n      <td>3.915000</td>\n    </tr>\n    <tr>\n      <th>max</th>\n      <td>34.990000</td>\n      <td>36.350000</td>\n      <td>35.210000</td>\n      <td>34.010000</td>\n      <td>501915.410000</td>\n      <td>3.030000</td>\n      <td>10.030000</td>\n      <td>33.696000</td>\n      <td>32.186000</td>\n      <td>29.998000</td>\n      <td>404443.540000</td>\n      <td>360028.160000</td>\n      <td>269280.790000</td>\n      <td>12.560000</td>\n    </tr>\n  </tbody>\n</table>\n</div>"
     },
     "execution_count": 75,
     "metadata": {},
     "output_type": "execute_result"
    }
   ],
   "source": [
    "df.describe()       # 可以查看出数据的质量，数据的特征"
   ],
   "metadata": {
    "collapsed": false,
    "ExecuteTime": {
     "start_time": "2025-04-09T10:43:08.869919Z",
     "end_time": "2025-04-09T10:43:08.988467Z"
    }
   }
  },
  {
   "cell_type": "code",
   "execution_count": 76,
   "outputs": [
    {
     "data": {
      "text/plain": "open            1.367835e+04\nhigh            1.408203e+04\nclose           1.371922e+04\nlow             1.335629e+04\nvolume          6.423925e+07\nprice_change    1.209000e+01\np_change        1.223500e+02\nma5             1.369742e+04\nma10            1.367510e+04\nma20            1.363221e+04\nv_ma5           6.430556e+07\nv_ma10          6.448489e+07\nv_ma20          6.481280e+07\nturnover        1.887970e+03\ndtype: float64"
     },
     "execution_count": 76,
     "metadata": {},
     "output_type": "execute_result"
    }
   ],
   "source": [
    "df.sum()        # 针对每一列，进行求和操作"
   ],
   "metadata": {
    "collapsed": false,
    "ExecuteTime": {
     "start_time": "2025-04-09T10:44:36.662569Z",
     "end_time": "2025-04-09T10:44:36.756506Z"
    }
   }
  },
  {
   "cell_type": "code",
   "execution_count": 77,
   "outputs": [
    {
     "data": {
      "text/plain": "open                21.272706\nhigh                21.900513\nclose               21.336267\nlow                 20.771835\nvolume           99905.519114\nprice_change         0.018802\np_change             0.190280\nma5                 21.302362\nma10                21.267656\nma20                21.200946\nv_ma5           100008.642691\nv_ma10          100287.542177\nv_ma20          100797.518398\nturnover             2.936190\ndtype: float64"
     },
     "execution_count": 77,
     "metadata": {},
     "output_type": "execute_result"
    }
   ],
   "source": [
    "df.mean()"
   ],
   "metadata": {
    "collapsed": false,
    "ExecuteTime": {
     "start_time": "2025-04-09T10:44:55.440521Z",
     "end_time": "2025-04-09T10:44:55.492353Z"
    }
   }
  },
  {
   "cell_type": "code",
   "execution_count": 78,
   "outputs": [
    {
     "data": {
      "text/plain": "                open      high     close       low       volume  price_change  \\\n2018-02-27     23.53     25.88     24.16     23.53     95578.03          0.63   \n2018-02-26     46.33     49.66     47.69     46.33    156563.14          1.32   \n2018-02-23     69.21     73.03     70.51     69.04    209477.15          1.86   \n2018-02-22     91.46     95.79     92.79     91.06    245582.16          2.22   \n2018-02-14    112.95    117.78    114.71    112.54    268913.20          2.66   \n...              ...       ...       ...       ...          ...           ...   \n2015-03-06  13627.90  14029.93  13667.94  13306.09  63843629.62         11.13   \n2015-03-05  13640.78  14043.38  13681.10  13318.96  63936810.01         11.39   \n2015-03-04  13653.58  14056.30  13694.00  13331.57  64003885.45         11.59   \n2015-03-03  13666.10  14069.36  13706.70  13344.09  64142957.06         11.77   \n2015-03-02  13678.35  14082.03  13719.22  13356.29  64239248.79         12.09   \n\n            p_change        ma5       ma10       ma20        v_ma5  \\\n2018-02-27      2.68     22.942     22.142     22.875     53782.64   \n2018-02-26      5.70     45.348     44.097     45.817     94610.16   \n2018-02-23      8.12     67.286     66.026     68.839    129729.74   \n2018-02-22      9.76     88.732     87.935     91.976    165127.32   \n2018-02-14     11.81    110.098    109.858    115.229    198717.53   \n...              ...        ...        ...        ...          ...   \n2015-03-06    114.70  13646.762  13624.446  13581.551  63891866.13   \n2015-03-05    116.72  13659.582  13637.266  13594.371  63990770.92   \n2015-03-04    118.29  13672.289  13649.973  13607.078  64091583.85   \n2015-03-03    119.73  13684.899  13662.583  13619.688  64209265.52   \n2015-03-02    122.35  13697.419  13675.103  13632.208  64305557.25   \n\n                 v_ma10       v_ma20  turnover  \n2018-02-27     46738.65     55576.11      2.39  \n2018-02-26     89474.99    111583.61      3.92  \n2018-02-23    131346.96    167956.46      5.24  \n2018-02-22    171251.74    228106.06      6.14  \n2018-02-14    214187.48    289822.17      6.72  \n...                 ...          ...       ...  \n2015-03-06  64071198.50  64399113.21   1874.42  \n2015-03-05  64170103.29  64498018.00   1877.61  \n2015-03-04  64270916.22  64598830.93   1879.91  \n2015-03-03  64388597.89  64716512.60   1884.67  \n2015-03-02  64484889.62  64812804.33   1887.97  \n\n[643 rows x 14 columns]",
      "text/html": "<div>\n<style scoped>\n    .dataframe tbody tr th:only-of-type {\n        vertical-align: middle;\n    }\n\n    .dataframe tbody tr th {\n        vertical-align: top;\n    }\n\n    .dataframe thead th {\n        text-align: right;\n    }\n</style>\n<table border=\"1\" class=\"dataframe\">\n  <thead>\n    <tr style=\"text-align: right;\">\n      <th></th>\n      <th>open</th>\n      <th>high</th>\n      <th>close</th>\n      <th>low</th>\n      <th>volume</th>\n      <th>price_change</th>\n      <th>p_change</th>\n      <th>ma5</th>\n      <th>ma10</th>\n      <th>ma20</th>\n      <th>v_ma5</th>\n      <th>v_ma10</th>\n      <th>v_ma20</th>\n      <th>turnover</th>\n    </tr>\n  </thead>\n  <tbody>\n    <tr>\n      <th>2018-02-27</th>\n      <td>23.53</td>\n      <td>25.88</td>\n      <td>24.16</td>\n      <td>23.53</td>\n      <td>95578.03</td>\n      <td>0.63</td>\n      <td>2.68</td>\n      <td>22.942</td>\n      <td>22.142</td>\n      <td>22.875</td>\n      <td>53782.64</td>\n      <td>46738.65</td>\n      <td>55576.11</td>\n      <td>2.39</td>\n    </tr>\n    <tr>\n      <th>2018-02-26</th>\n      <td>46.33</td>\n      <td>49.66</td>\n      <td>47.69</td>\n      <td>46.33</td>\n      <td>156563.14</td>\n      <td>1.32</td>\n      <td>5.70</td>\n      <td>45.348</td>\n      <td>44.097</td>\n      <td>45.817</td>\n      <td>94610.16</td>\n      <td>89474.99</td>\n      <td>111583.61</td>\n      <td>3.92</td>\n    </tr>\n    <tr>\n      <th>2018-02-23</th>\n      <td>69.21</td>\n      <td>73.03</td>\n      <td>70.51</td>\n      <td>69.04</td>\n      <td>209477.15</td>\n      <td>1.86</td>\n      <td>8.12</td>\n      <td>67.286</td>\n      <td>66.026</td>\n      <td>68.839</td>\n      <td>129729.74</td>\n      <td>131346.96</td>\n      <td>167956.46</td>\n      <td>5.24</td>\n    </tr>\n    <tr>\n      <th>2018-02-22</th>\n      <td>91.46</td>\n      <td>95.79</td>\n      <td>92.79</td>\n      <td>91.06</td>\n      <td>245582.16</td>\n      <td>2.22</td>\n      <td>9.76</td>\n      <td>88.732</td>\n      <td>87.935</td>\n      <td>91.976</td>\n      <td>165127.32</td>\n      <td>171251.74</td>\n      <td>228106.06</td>\n      <td>6.14</td>\n    </tr>\n    <tr>\n      <th>2018-02-14</th>\n      <td>112.95</td>\n      <td>117.78</td>\n      <td>114.71</td>\n      <td>112.54</td>\n      <td>268913.20</td>\n      <td>2.66</td>\n      <td>11.81</td>\n      <td>110.098</td>\n      <td>109.858</td>\n      <td>115.229</td>\n      <td>198717.53</td>\n      <td>214187.48</td>\n      <td>289822.17</td>\n      <td>6.72</td>\n    </tr>\n    <tr>\n      <th>...</th>\n      <td>...</td>\n      <td>...</td>\n      <td>...</td>\n      <td>...</td>\n      <td>...</td>\n      <td>...</td>\n      <td>...</td>\n      <td>...</td>\n      <td>...</td>\n      <td>...</td>\n      <td>...</td>\n      <td>...</td>\n      <td>...</td>\n      <td>...</td>\n    </tr>\n    <tr>\n      <th>2015-03-06</th>\n      <td>13627.90</td>\n      <td>14029.93</td>\n      <td>13667.94</td>\n      <td>13306.09</td>\n      <td>63843629.62</td>\n      <td>11.13</td>\n      <td>114.70</td>\n      <td>13646.762</td>\n      <td>13624.446</td>\n      <td>13581.551</td>\n      <td>63891866.13</td>\n      <td>64071198.50</td>\n      <td>64399113.21</td>\n      <td>1874.42</td>\n    </tr>\n    <tr>\n      <th>2015-03-05</th>\n      <td>13640.78</td>\n      <td>14043.38</td>\n      <td>13681.10</td>\n      <td>13318.96</td>\n      <td>63936810.01</td>\n      <td>11.39</td>\n      <td>116.72</td>\n      <td>13659.582</td>\n      <td>13637.266</td>\n      <td>13594.371</td>\n      <td>63990770.92</td>\n      <td>64170103.29</td>\n      <td>64498018.00</td>\n      <td>1877.61</td>\n    </tr>\n    <tr>\n      <th>2015-03-04</th>\n      <td>13653.58</td>\n      <td>14056.30</td>\n      <td>13694.00</td>\n      <td>13331.57</td>\n      <td>64003885.45</td>\n      <td>11.59</td>\n      <td>118.29</td>\n      <td>13672.289</td>\n      <td>13649.973</td>\n      <td>13607.078</td>\n      <td>64091583.85</td>\n      <td>64270916.22</td>\n      <td>64598830.93</td>\n      <td>1879.91</td>\n    </tr>\n    <tr>\n      <th>2015-03-03</th>\n      <td>13666.10</td>\n      <td>14069.36</td>\n      <td>13706.70</td>\n      <td>13344.09</td>\n      <td>64142957.06</td>\n      <td>11.77</td>\n      <td>119.73</td>\n      <td>13684.899</td>\n      <td>13662.583</td>\n      <td>13619.688</td>\n      <td>64209265.52</td>\n      <td>64388597.89</td>\n      <td>64716512.60</td>\n      <td>1884.67</td>\n    </tr>\n    <tr>\n      <th>2015-03-02</th>\n      <td>13678.35</td>\n      <td>14082.03</td>\n      <td>13719.22</td>\n      <td>13356.29</td>\n      <td>64239248.79</td>\n      <td>12.09</td>\n      <td>122.35</td>\n      <td>13697.419</td>\n      <td>13675.103</td>\n      <td>13632.208</td>\n      <td>64305557.25</td>\n      <td>64484889.62</td>\n      <td>64812804.33</td>\n      <td>1887.97</td>\n    </tr>\n  </tbody>\n</table>\n<p>643 rows × 14 columns</p>\n</div>"
     },
     "execution_count": 78,
     "metadata": {},
     "output_type": "execute_result"
    }
   ],
   "source": [
    "df.cumsum()"
   ],
   "metadata": {
    "collapsed": false,
    "ExecuteTime": {
     "start_time": "2025-04-09T10:45:02.491730Z",
     "end_time": "2025-04-09T10:45:02.545600Z"
    }
   }
  },
  {
   "cell_type": "code",
   "execution_count": 80,
   "outputs": [
    {
     "data": {
      "text/plain": "open               12.25\nhigh               12.67\nclose              12.36\nlow                12.20\nvolume           1158.12\nprice_change       -3.52\np_change          -10.03\nma5                12.52\nma10               12.52\nma20               12.52\nv_ma5           10804.74\nv_ma10          19130.51\nv_ma20          23311.00\nturnover            0.04\ndtype: float64"
     },
     "execution_count": 80,
     "metadata": {},
     "output_type": "execute_result"
    }
   ],
   "source": [
    "df.min()"
   ],
   "metadata": {
    "collapsed": false,
    "ExecuteTime": {
     "start_time": "2025-04-09T10:48:06.055811Z",
     "end_time": "2025-04-09T10:48:06.095123Z"
    }
   }
  },
  {
   "cell_type": "code",
   "execution_count": 81,
   "outputs": [],
   "source": [
    "# 自定义函数\n",
    "# 目前使用的都是pandas已经提供好的函数，sum、max、min\n",
    "# 要传入一组数据，按照自身业务规则进行运算，apply函数！！！\n",
    "# 格式：df.apply(自定义函数， axis=0)  0列    1行"
   ],
   "metadata": {
    "collapsed": false,
    "ExecuteTime": {
     "start_time": "2025-04-09T10:50:41.620699Z",
     "end_time": "2025-04-09T10:50:41.670593Z"
    }
   }
  },
  {
   "cell_type": "code",
   "execution_count": null,
   "outputs": [],
   "source": [
    "# 需求：同时获取多个列的最大值和最小值  open列    close列"
   ],
   "metadata": {
    "collapsed": false
   }
  },
  {
   "cell_type": "code",
   "execution_count": 82,
   "outputs": [
    {
     "data": {
      "text/plain": "22.740000000000002"
     },
     "execution_count": 82,
     "metadata": {},
     "output_type": "execute_result"
    }
   ],
   "source": [
    "df.open.max()\n",
    "# df.open.min()\n",
    "# df.open.max() - df.open.min()"
   ],
   "metadata": {
    "collapsed": false,
    "ExecuteTime": {
     "start_time": "2025-04-09T10:51:24.975821Z",
     "end_time": "2025-04-09T10:51:25.018190Z"
    }
   }
  },
  {
   "cell_type": "code",
   "execution_count": 83,
   "outputs": [],
   "source": [
    "# 自定义函数\n",
    "def my_func(col):\n",
    "    return col.max() - col.min()"
   ],
   "metadata": {
    "collapsed": false,
    "ExecuteTime": {
     "start_time": "2025-04-09T10:52:41.256779Z",
     "end_time": "2025-04-09T10:52:41.302020Z"
    }
   }
  },
  {
   "cell_type": "code",
   "execution_count": 87,
   "outputs": [
    {
     "data": {
      "text/plain": "high    23.68\nlow     21.81\ndtype: float64"
     },
     "execution_count": 87,
     "metadata": {},
     "output_type": "execute_result"
    }
   ],
   "source": [
    "# 获取到了高和低分别最大值与最小值的差\n",
    "df[['high', 'low']].apply(my_func, axis=0)    #  0:列"
   ],
   "metadata": {
    "collapsed": false,
    "ExecuteTime": {
     "start_time": "2025-04-09T10:56:14.472443Z",
     "end_time": "2025-04-09T10:56:14.485801Z"
    }
   }
  },
  {
   "cell_type": "code",
   "execution_count": 89,
   "outputs": [
    {
     "data": {
      "text/plain": "high    23.68\nlow     21.81\ndtype: float64"
     },
     "execution_count": 89,
     "metadata": {},
     "output_type": "execute_result"
    }
   ],
   "source": [
    "df[['high','low']].apply(lambda col: col.max() - col.min())"
   ],
   "metadata": {
    "collapsed": false,
    "ExecuteTime": {
     "start_time": "2025-04-09T10:57:32.851134Z",
     "end_time": "2025-04-09T10:57:32.899328Z"
    }
   }
  },
  {
   "cell_type": "code",
   "execution_count": 97,
   "outputs": [
    {
     "name": "stdout",
     "output_type": "stream",
     "text": [
      "<class 'pandas.core.frame.DataFrame'>\n"
     ]
    },
    {
     "data": {
      "text/plain": "high    23.68\ndtype: float64"
     },
     "execution_count": 97,
     "metadata": {},
     "output_type": "execute_result"
    }
   ],
   "source": [
    "# 获取\n",
    "print(type(df[['high']]))\n",
    "df[['high']].apply(lambda col: col.max() - col.min())"
   ],
   "metadata": {
    "collapsed": false,
    "ExecuteTime": {
     "start_time": "2025-04-09T11:03:56.369746Z",
     "end_time": "2025-04-09T11:03:56.391311Z"
    }
   }
  },
  {
   "cell_type": "code",
   "execution_count": 99,
   "outputs": [
    {
     "name": "stdout",
     "output_type": "stream",
     "text": [
      "<class 'pandas.core.series.Series'>\n",
      "25.88\n",
      "23.78\n",
      "23.37\n",
      "22.76\n",
      "21.99\n",
      "21.9\n",
      "21.4\n",
      "21.46\n",
      "22.09\n",
      "23.11\n",
      "23.55\n",
      "23.39\n",
      "22.7\n",
      "23.86\n",
      "23.98\n",
      "24.08\n",
      "24.63\n",
      "24.74\n",
      "24.99\n",
      "26.28\n",
      "25.53\n",
      "25.4\n",
      "25.34\n",
      "24.88\n",
      "24.92\n",
      "24.6\n",
      "24.23\n",
      "25.15\n",
      "23.85\n",
      "24.6\n",
      "24.78\n",
      "24.95\n",
      "25.4\n",
      "25.07\n",
      "22.83\n",
      "22.54\n",
      "22.46\n",
      "22.84\n",
      "22.57\n",
      "22.66\n",
      "22.93\n",
      "23.39\n",
      "23.5\n",
      "23.96\n",
      "23.66\n",
      "23.49\n",
      "23.4\n",
      "23.77\n",
      "24.38\n",
      "24.14\n",
      "22.94\n",
      "22.9\n",
      "22.48\n",
      "22.1\n",
      "23.26\n",
      "24.15\n",
      "24.49\n",
      "24.76\n",
      "24.8\n",
      "24.9\n",
      "24.95\n",
      "24.7\n",
      "25.43\n",
      "25.9\n",
      "25.98\n",
      "25.58\n",
      "28.15\n",
      "28.72\n",
      "29.3\n",
      "29.89\n",
      "29.23\n",
      "28.99\n",
      "29.09\n",
      "29.7\n",
      "29.37\n",
      "28.74\n",
      "29.62\n",
      "31.8\n",
      "34.34\n",
      "35.22\n",
      "34.4\n",
      "33.2\n",
      "32.7\n",
      "30.45\n",
      "28.75\n",
      "31.16\n",
      "29.83\n",
      "27.2\n",
      "26.41\n",
      "25.88\n",
      "26.48\n",
      "26.54\n",
      "26.51\n",
      "27.37\n",
      "27.49\n",
      "28.22\n",
      "27.88\n",
      "28.1\n",
      "29.01\n",
      "26.66\n",
      "26.16\n",
      "27.18\n",
      "28.48\n",
      "26.08\n",
      "26.52\n",
      "26.66\n",
      "27.76\n",
      "27.1\n",
      "27.85\n",
      "28.55\n",
      "27.55\n",
      "27.47\n",
      "26.9\n",
      "24.88\n",
      "24.32\n",
      "24.45\n",
      "25.5\n",
      "25.88\n",
      "24.6\n",
      "23.85\n",
      "23.7\n",
      "23.6\n",
      "23.25\n",
      "24.06\n",
      "24.98\n",
      "22.88\n",
      "22.98\n",
      "22.05\n",
      "22.07\n",
      "21.68\n",
      "21.56\n",
      "22.09\n",
      "22.2\n",
      "21.62\n",
      "21.8\n",
      "21.97\n",
      "22.27\n",
      "22.46\n",
      "22.49\n",
      "23.18\n",
      "22.9\n",
      "23.36\n",
      "23.39\n",
      "23.92\n",
      "24.2\n",
      "23.79\n",
      "23.98\n",
      "23.1\n",
      "22.86\n",
      "21.58\n",
      "22.66\n",
      "24.29\n",
      "23.6\n",
      "23.95\n",
      "24.0\n",
      "23.44\n",
      "21.44\n",
      "21.19\n",
      "21.14\n",
      "21.99\n",
      "22.14\n",
      "21.74\n",
      "21.94\n",
      "22.37\n",
      "23.24\n",
      "23.87\n",
      "24.47\n",
      "25.93\n",
      "23.84\n",
      "24.45\n",
      "22.85\n",
      "21.78\n",
      "20.35\n",
      "19.91\n",
      "19.35\n",
      "18.8\n",
      "19.2\n",
      "19.5\n",
      "19.44\n",
      "18.8\n",
      "18.94\n",
      "18.19\n",
      "18.24\n",
      "18.25\n",
      "17.95\n",
      "17.15\n",
      "17.41\n",
      "17.99\n",
      "18.06\n",
      "18.07\n",
      "18.09\n",
      "18.29\n",
      "17.71\n",
      "17.76\n",
      "17.97\n",
      "18.35\n",
      "18.8\n",
      "18.83\n",
      "18.85\n",
      "19.24\n",
      "19.35\n",
      "19.65\n",
      "19.76\n",
      "19.5\n",
      "18.92\n",
      "19.0\n",
      "19.05\n",
      "19.58\n",
      "19.74\n",
      "20.16\n",
      "21.53\n",
      "21.78\n",
      "21.54\n",
      "21.42\n",
      "21.8\n",
      "22.66\n",
      "20.86\n",
      "21.4\n",
      "22.36\n",
      "21.26\n",
      "21.58\n",
      "19.96\n",
      "20.17\n",
      "19.94\n",
      "19.84\n",
      "20.27\n",
      "20.17\n",
      "20.16\n",
      "20.24\n",
      "20.55\n",
      "20.62\n",
      "20.78\n",
      "20.78\n",
      "20.87\n",
      "21.2\n",
      "20.99\n",
      "21.29\n",
      "21.19\n",
      "21.38\n",
      "21.94\n",
      "22.2\n",
      "22.44\n",
      "22.08\n",
      "22.48\n",
      "21.87\n",
      "21.93\n",
      "22.18\n",
      "22.82\n",
      "21.39\n",
      "21.7\n",
      "21.8\n",
      "22.26\n",
      "22.38\n",
      "22.29\n",
      "21.49\n",
      "20.98\n",
      "20.81\n",
      "20.82\n",
      "21.1\n",
      "21.2\n",
      "21.09\n",
      "19.28\n",
      "19.37\n",
      "19.24\n",
      "19.44\n",
      "19.36\n",
      "19.2\n",
      "18.88\n",
      "18.99\n",
      "18.88\n",
      "19.95\n",
      "20.49\n",
      "20.83\n",
      "20.34\n",
      "20.45\n",
      "20.56\n",
      "20.5\n",
      "20.4\n",
      "19.96\n",
      "19.68\n",
      "19.99\n",
      "20.43\n",
      "19.73\n",
      "19.87\n",
      "19.9\n",
      "20.48\n",
      "20.42\n",
      "18.62\n",
      "18.48\n",
      "18.68\n",
      "18.85\n",
      "18.86\n",
      "18.5\n",
      "19.15\n",
      "19.92\n",
      "20.99\n",
      "21.39\n",
      "21.32\n",
      "21.38\n",
      "21.38\n",
      "21.59\n",
      "21.7\n",
      "22.37\n",
      "25.1\n",
      "25.52\n",
      "24.98\n",
      "25.23\n",
      "25.3\n",
      "25.4\n",
      "24.79\n",
      "24.5\n",
      "23.39\n",
      "23.65\n",
      "23.51\n",
      "23.99\n",
      "24.6\n",
      "24.75\n",
      "24.2\n",
      "24.28\n",
      "24.56\n",
      "23.58\n",
      "21.98\n",
      "21.34\n",
      "21.4\n",
      "21.56\n",
      "21.35\n",
      "22.09\n",
      "22.2\n",
      "22.75\n",
      "23.25\n",
      "22.47\n",
      "21.9\n",
      "21.75\n",
      "21.85\n",
      "20.98\n",
      "19.9\n",
      "21.1\n",
      "21.53\n",
      "21.5\n",
      "20.96\n",
      "21.31\n",
      "22.1\n",
      "22.06\n",
      "22.3\n",
      "22.77\n",
      "24.06\n",
      "24.8\n",
      "24.94\n",
      "24.07\n",
      "23.48\n",
      "23.8\n",
      "22.86\n",
      "20.94\n",
      "21.3\n",
      "21.87\n",
      "21.95\n",
      "22.03\n",
      "22.38\n",
      "22.41\n",
      "22.4\n",
      "22.6\n",
      "23.04\n",
      "22.78\n",
      "23.0\n",
      "22.38\n",
      "21.6\n",
      "21.25\n",
      "21.5\n",
      "21.7\n",
      "21.55\n",
      "22.7\n",
      "22.0\n",
      "22.45\n",
      "21.12\n",
      "21.22\n",
      "21.74\n",
      "22.14\n",
      "23.35\n",
      "22.78\n",
      "21.98\n",
      "20.8\n",
      "19.53\n",
      "18.73\n",
      "18.3\n",
      "18.52\n",
      "18.79\n",
      "17.73\n",
      "17.89\n",
      "17.95\n",
      "18.5\n",
      "19.5\n",
      "18.66\n",
      "16.96\n",
      "15.51\n",
      "15.55\n",
      "14.97\n",
      "15.41\n",
      "15.6\n",
      "15.77\n",
      "15.75\n",
      "16.15\n",
      "16.71\n",
      "15.2\n",
      "14.6\n",
      "14.93\n",
      "15.39\n",
      "16.61\n",
      "16.75\n",
      "16.58\n",
      "16.59\n",
      "16.18\n",
      "16.36\n",
      "16.7\n",
      "15.71\n",
      "15.19\n",
      "15.9\n",
      "15.25\n",
      "14.53\n",
      "14.71\n",
      "14.28\n",
      "14.21\n",
      "14.21\n",
      "14.69\n",
      "15.88\n",
      "16.15\n",
      "15.81\n",
      "16.2\n",
      "16.38\n",
      "16.25\n",
      "15.72\n",
      "16.1\n",
      "16.0\n",
      "15.88\n",
      "16.1\n",
      "17.24\n",
      "18.57\n",
      "19.7\n",
      "20.28\n",
      "21.15\n",
      "22.84\n",
      "23.38\n",
      "21.96\n",
      "22.27\n",
      "23.4\n",
      "23.3\n",
      "24.05\n",
      "24.44\n",
      "24.1\n",
      "24.8\n",
      "24.66\n",
      "23.35\n",
      "22.65\n",
      "22.66\n",
      "22.31\n",
      "22.39\n",
      "23.36\n",
      "21.87\n",
      "21.93\n",
      "22.15\n",
      "21.88\n",
      "21.32\n",
      "21.37\n",
      "22.0\n",
      "21.98\n",
      "23.43\n",
      "24.08\n",
      "24.15\n",
      "23.75\n",
      "24.61\n",
      "24.49\n",
      "24.26\n",
      "26.28\n",
      "27.69\n",
      "26.28\n",
      "26.35\n",
      "24.64\n",
      "25.1\n",
      "24.79\n",
      "23.11\n",
      "22.65\n",
      "23.15\n",
      "21.99\n",
      "21.33\n",
      "21.3\n",
      "21.0\n",
      "21.36\n",
      "22.12\n",
      "22.18\n",
      "23.46\n",
      "22.43\n",
      "20.39\n",
      "20.5\n",
      "20.39\n",
      "20.7\n",
      "21.0\n",
      "20.2\n",
      "19.9\n",
      "18.5\n",
      "17.18\n",
      "16.33\n",
      "16.5\n",
      "15.85\n",
      "16.0\n",
      "15.28\n",
      "15.95\n",
      "15.7\n",
      "15.45\n",
      "15.19\n",
      "14.57\n",
      "14.4\n",
      "15.35\n",
      "14.65\n",
      "14.25\n",
      "16.64\n",
      "16.07\n",
      "15.28\n",
      "14.88\n",
      "13.98\n",
      "13.38\n",
      "14.11\n",
      "14.78\n",
      "16.2\n",
      "16.46\n",
      "16.5\n",
      "18.35\n",
      "17.29\n",
      "20.4\n",
      "21.9\n",
      "22.67\n",
      "21.0\n",
      "22.4\n",
      "22.49\n",
      "22.83\n",
      "21.54\n",
      "20.64\n",
      "20.12\n",
      "19.65\n",
      "17.99\n",
      "17.98\n",
      "18.36\n",
      "17.35\n",
      "17.39\n",
      "18.4\n",
      "19.74\n",
      "19.5\n",
      "20.2\n",
      "23.65\n",
      "24.55\n",
      "24.26\n",
      "22.5\n",
      "21.49\n",
      "21.49\n",
      "21.97\n",
      "22.3\n",
      "23.04\n",
      "26.99\n",
      "27.9\n",
      "25.61\n",
      "25.8\n",
      "25.13\n",
      "26.98\n",
      "27.5\n",
      "28.5\n",
      "28.5\n",
      "28.8\n",
      "30.98\n",
      "32.89\n",
      "32.2\n",
      "33.48\n",
      "34.99\n",
      "35.98\n",
      "34.98\n",
      "36.35\n",
      "33.34\n",
      "30.9\n",
      "28.35\n",
      "27.55\n",
      "28.5\n",
      "28.59\n",
      "27.79\n",
      "26.58\n",
      "27.95\n",
      "29.66\n",
      "30.3\n",
      "30.3\n",
      "30.99\n",
      "28.22\n",
      "25.65\n",
      "23.69\n",
      "24.45\n",
      "22.51\n",
      "22.59\n",
      "21.21\n",
      "21.47\n",
      "20.84\n",
      "20.18\n",
      "19.6\n",
      "21.0\n",
      "22.48\n",
      "22.55\n",
      "22.8\n",
      "22.54\n",
      "23.1\n",
      "23.65\n",
      "21.82\n",
      "22.4\n",
      "22.3\n",
      "21.97\n",
      "22.78\n",
      "23.97\n",
      "25.21\n",
      "25.56\n",
      "23.24\n",
      "21.3\n",
      "19.89\n",
      "19.89\n",
      "18.53\n",
      "17.98\n",
      "16.77\n",
      "16.5\n",
      "16.48\n",
      "16.88\n",
      "16.63\n",
      "15.86\n",
      "15.35\n",
      "15.97\n",
      "16.16\n",
      "15.56\n",
      "15.48\n",
      "15.64\n",
      "15.66\n",
      "15.44\n",
      "15.05\n",
      "14.5\n",
      "14.8\n",
      "15.08\n",
      "14.8\n",
      "14.85\n",
      "14.48\n",
      "13.45\n",
      "12.92\n",
      "13.06\n",
      "12.67\n"
     ]
    },
    {
     "data": {
      "text/plain": "2018-02-27    None\n2018-02-26    None\n2018-02-23    None\n2018-02-22    None\n2018-02-14    None\n              ... \n2015-03-06    None\n2015-03-05    None\n2015-03-04    None\n2015-03-03    None\n2015-03-02    None\nName: high, Length: 643, dtype: object"
     },
     "execution_count": 99,
     "metadata": {},
     "output_type": "execute_result"
    }
   ],
   "source": [
    "print(type(df['high']))\n",
    "df['high'].apply(lambda col: col.max() - col.min())\n",
    "# df['high'].apply(lambda col: print(col))"
   ],
   "metadata": {
    "collapsed": false,
    "ExecuteTime": {
     "start_time": "2025-04-09T11:05:07.504332Z",
     "end_time": "2025-04-09T11:05:07.536934Z"
    }
   }
  },
  {
   "cell_type": "code",
   "execution_count": null,
   "outputs": [],
   "source": [],
   "metadata": {
    "collapsed": false
   }
  }
 ],
 "metadata": {
  "kernelspec": {
   "display_name": "Python 3",
   "language": "python",
   "name": "python3"
  },
  "language_info": {
   "codemirror_mode": {
    "name": "ipython",
    "version": 2
   },
   "file_extension": ".py",
   "mimetype": "text/x-python",
   "name": "python",
   "nbconvert_exporter": "python",
   "pygments_lexer": "ipython2",
   "version": "2.7.6"
  }
 },
 "nbformat": 4,
 "nbformat_minor": 0
}
