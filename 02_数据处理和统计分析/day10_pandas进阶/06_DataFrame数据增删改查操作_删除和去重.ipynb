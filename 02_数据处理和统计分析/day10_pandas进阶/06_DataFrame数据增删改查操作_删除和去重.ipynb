{
 "cells": [
  {
   "cell_type": "code",
   "execution_count": 1,
   "metadata": {
    "collapsed": true,
    "ExecuteTime": {
     "start_time": "2025-04-09T15:35:37.224608Z",
     "end_time": "2025-04-09T15:35:37.628432Z"
    }
   },
   "outputs": [],
   "source": [
    "# 1.导包\n",
    "import pandas as pd\n",
    "import numpy as np\n",
    "import os\n",
    "os.chdir(r\"E:\\ProjectCode\\PythonProjectCode\\pythonProject\\HaskMaProject\")"
   ]
  },
  {
   "cell_type": "code",
   "execution_count": 18,
   "outputs": [
    {
     "data": {
      "text/plain": "   year country           GDP\n0  1960      美国  543300000000\n1  1960      英国   73233967692\n2  1960      法国   62225478000\n3  1960      中国   59716467625\n4  1960      日本   44307342950\n5  1960     加拿大   40461721692\n6  1960     意大利   40385288344\n7  1960      印度   37029883875\n8  1960    澳大利亚   18577668271\n9  1960      瑞典   15822585033",
      "text/html": "<div>\n<style scoped>\n    .dataframe tbody tr th:only-of-type {\n        vertical-align: middle;\n    }\n\n    .dataframe tbody tr th {\n        vertical-align: top;\n    }\n\n    .dataframe thead th {\n        text-align: right;\n    }\n</style>\n<table border=\"1\" class=\"dataframe\">\n  <thead>\n    <tr style=\"text-align: right;\">\n      <th></th>\n      <th>year</th>\n      <th>country</th>\n      <th>GDP</th>\n    </tr>\n  </thead>\n  <tbody>\n    <tr>\n      <th>0</th>\n      <td>1960</td>\n      <td>美国</td>\n      <td>543300000000</td>\n    </tr>\n    <tr>\n      <th>1</th>\n      <td>1960</td>\n      <td>英国</td>\n      <td>73233967692</td>\n    </tr>\n    <tr>\n      <th>2</th>\n      <td>1960</td>\n      <td>法国</td>\n      <td>62225478000</td>\n    </tr>\n    <tr>\n      <th>3</th>\n      <td>1960</td>\n      <td>中国</td>\n      <td>59716467625</td>\n    </tr>\n    <tr>\n      <th>4</th>\n      <td>1960</td>\n      <td>日本</td>\n      <td>44307342950</td>\n    </tr>\n    <tr>\n      <th>5</th>\n      <td>1960</td>\n      <td>加拿大</td>\n      <td>40461721692</td>\n    </tr>\n    <tr>\n      <th>6</th>\n      <td>1960</td>\n      <td>意大利</td>\n      <td>40385288344</td>\n    </tr>\n    <tr>\n      <th>7</th>\n      <td>1960</td>\n      <td>印度</td>\n      <td>37029883875</td>\n    </tr>\n    <tr>\n      <th>8</th>\n      <td>1960</td>\n      <td>澳大利亚</td>\n      <td>18577668271</td>\n    </tr>\n    <tr>\n      <th>9</th>\n      <td>1960</td>\n      <td>瑞典</td>\n      <td>15822585033</td>\n    </tr>\n  </tbody>\n</table>\n</div>"
     },
     "execution_count": 18,
     "metadata": {},
     "output_type": "execute_result"
    }
   ],
   "source": [
    "df = pd.read_csv(r\"./data/1960-2019全球GDP数据.csv\", encoding='gbk')\n",
    "df1 = df[:10].copy()\n",
    "df1"
   ],
   "metadata": {
    "collapsed": false,
    "ExecuteTime": {
     "start_time": "2025-04-09T15:50:08.681108Z",
     "end_time": "2025-04-09T15:50:08.717961Z"
    }
   }
  },
  {
   "cell_type": "code",
   "execution_count": 6,
   "outputs": [],
   "source": [
    "# 删除行  -->    drop 函数\n",
    "df1.drop(index=0, inplace=True)"
   ],
   "metadata": {
    "collapsed": false,
    "ExecuteTime": {
     "start_time": "2025-04-09T15:39:15.951642Z",
     "end_time": "2025-04-09T15:39:16.003816Z"
    }
   }
  },
  {
   "cell_type": "code",
   "execution_count": 7,
   "outputs": [
    {
     "data": {
      "text/plain": "   year country          GDP\n1  1960      英国  73233967692\n2  1960      法国  62225478000\n3  1960      中国  59716467625\n4  1960      日本  44307342950\n5  1960     加拿大  40461721692\n6  1960     意大利  40385288344\n7  1960      印度  37029883875\n8  1960    澳大利亚  18577668271\n9  1960      瑞典  15822585033",
      "text/html": "<div>\n<style scoped>\n    .dataframe tbody tr th:only-of-type {\n        vertical-align: middle;\n    }\n\n    .dataframe tbody tr th {\n        vertical-align: top;\n    }\n\n    .dataframe thead th {\n        text-align: right;\n    }\n</style>\n<table border=\"1\" class=\"dataframe\">\n  <thead>\n    <tr style=\"text-align: right;\">\n      <th></th>\n      <th>year</th>\n      <th>country</th>\n      <th>GDP</th>\n    </tr>\n  </thead>\n  <tbody>\n    <tr>\n      <th>1</th>\n      <td>1960</td>\n      <td>英国</td>\n      <td>73233967692</td>\n    </tr>\n    <tr>\n      <th>2</th>\n      <td>1960</td>\n      <td>法国</td>\n      <td>62225478000</td>\n    </tr>\n    <tr>\n      <th>3</th>\n      <td>1960</td>\n      <td>中国</td>\n      <td>59716467625</td>\n    </tr>\n    <tr>\n      <th>4</th>\n      <td>1960</td>\n      <td>日本</td>\n      <td>44307342950</td>\n    </tr>\n    <tr>\n      <th>5</th>\n      <td>1960</td>\n      <td>加拿大</td>\n      <td>40461721692</td>\n    </tr>\n    <tr>\n      <th>6</th>\n      <td>1960</td>\n      <td>意大利</td>\n      <td>40385288344</td>\n    </tr>\n    <tr>\n      <th>7</th>\n      <td>1960</td>\n      <td>印度</td>\n      <td>37029883875</td>\n    </tr>\n    <tr>\n      <th>8</th>\n      <td>1960</td>\n      <td>澳大利亚</td>\n      <td>18577668271</td>\n    </tr>\n    <tr>\n      <th>9</th>\n      <td>1960</td>\n      <td>瑞典</td>\n      <td>15822585033</td>\n    </tr>\n  </tbody>\n</table>\n</div>"
     },
     "execution_count": 7,
     "metadata": {},
     "output_type": "execute_result"
    }
   ],
   "source": [
    "df1"
   ],
   "metadata": {
    "collapsed": false,
    "ExecuteTime": {
     "start_time": "2025-04-09T15:39:17.091279Z",
     "end_time": "2025-04-09T15:39:17.138212Z"
    }
   }
  },
  {
   "cell_type": "code",
   "execution_count": 8,
   "outputs": [
    {
     "data": {
      "text/plain": "  country          GDP\n1      英国  73233967692\n2      法国  62225478000\n3      中国  59716467625\n4      日本  44307342950\n5     加拿大  40461721692\n6     意大利  40385288344\n7      印度  37029883875\n8    澳大利亚  18577668271\n9      瑞典  15822585033",
      "text/html": "<div>\n<style scoped>\n    .dataframe tbody tr th:only-of-type {\n        vertical-align: middle;\n    }\n\n    .dataframe tbody tr th {\n        vertical-align: top;\n    }\n\n    .dataframe thead th {\n        text-align: right;\n    }\n</style>\n<table border=\"1\" class=\"dataframe\">\n  <thead>\n    <tr style=\"text-align: right;\">\n      <th></th>\n      <th>country</th>\n      <th>GDP</th>\n    </tr>\n  </thead>\n  <tbody>\n    <tr>\n      <th>1</th>\n      <td>英国</td>\n      <td>73233967692</td>\n    </tr>\n    <tr>\n      <th>2</th>\n      <td>法国</td>\n      <td>62225478000</td>\n    </tr>\n    <tr>\n      <th>3</th>\n      <td>中国</td>\n      <td>59716467625</td>\n    </tr>\n    <tr>\n      <th>4</th>\n      <td>日本</td>\n      <td>44307342950</td>\n    </tr>\n    <tr>\n      <th>5</th>\n      <td>加拿大</td>\n      <td>40461721692</td>\n    </tr>\n    <tr>\n      <th>6</th>\n      <td>意大利</td>\n      <td>40385288344</td>\n    </tr>\n    <tr>\n      <th>7</th>\n      <td>印度</td>\n      <td>37029883875</td>\n    </tr>\n    <tr>\n      <th>8</th>\n      <td>澳大利亚</td>\n      <td>18577668271</td>\n    </tr>\n    <tr>\n      <th>9</th>\n      <td>瑞典</td>\n      <td>15822585033</td>\n    </tr>\n  </tbody>\n</table>\n</div>"
     },
     "execution_count": 8,
     "metadata": {},
     "output_type": "execute_result"
    }
   ],
   "source": [
    "# 删除列  -->    del关键字， 直接会修改原数据\n",
    "del df1['year']\n",
    "df1"
   ],
   "metadata": {
    "collapsed": false,
    "ExecuteTime": {
     "start_time": "2025-04-09T15:40:35.620540Z",
     "end_time": "2025-04-09T15:40:35.660125Z"
    }
   }
  },
  {
   "cell_type": "code",
   "execution_count": 9,
   "outputs": [
    {
     "data": {
      "text/plain": "  country\n1      英国\n2      法国\n3      中国\n4      日本\n5     加拿大\n6     意大利\n7      印度\n8    澳大利亚\n9      瑞典",
      "text/html": "<div>\n<style scoped>\n    .dataframe tbody tr th:only-of-type {\n        vertical-align: middle;\n    }\n\n    .dataframe tbody tr th {\n        vertical-align: top;\n    }\n\n    .dataframe thead th {\n        text-align: right;\n    }\n</style>\n<table border=\"1\" class=\"dataframe\">\n  <thead>\n    <tr style=\"text-align: right;\">\n      <th></th>\n      <th>country</th>\n    </tr>\n  </thead>\n  <tbody>\n    <tr>\n      <th>1</th>\n      <td>英国</td>\n    </tr>\n    <tr>\n      <th>2</th>\n      <td>法国</td>\n    </tr>\n    <tr>\n      <th>3</th>\n      <td>中国</td>\n    </tr>\n    <tr>\n      <th>4</th>\n      <td>日本</td>\n    </tr>\n    <tr>\n      <th>5</th>\n      <td>加拿大</td>\n    </tr>\n    <tr>\n      <th>6</th>\n      <td>意大利</td>\n    </tr>\n    <tr>\n      <th>7</th>\n      <td>印度</td>\n    </tr>\n    <tr>\n      <th>8</th>\n      <td>澳大利亚</td>\n    </tr>\n    <tr>\n      <th>9</th>\n      <td>瑞典</td>\n    </tr>\n  </tbody>\n</table>\n</div>"
     },
     "execution_count": 9,
     "metadata": {},
     "output_type": "execute_result"
    }
   ],
   "source": [
    "# 删除列 drop\n",
    "df1.drop(columns=['GDP'], inplace=True)\n",
    "df1"
   ],
   "metadata": {
    "collapsed": false,
    "ExecuteTime": {
     "start_time": "2025-04-09T15:42:27.679467Z",
     "end_time": "2025-04-09T15:42:27.730626Z"
    }
   }
  },
  {
   "cell_type": "code",
   "execution_count": 19,
   "outputs": [
    {
     "data": {
      "text/plain": "   year country           GDP\n0  1960      美国  543300000000\n1  1960      英国   73233967692\n2  1960      法国   62225478000\n3  1960      中国   59716467625\n4  1960      日本   44307342950",
      "text/html": "<div>\n<style scoped>\n    .dataframe tbody tr th:only-of-type {\n        vertical-align: middle;\n    }\n\n    .dataframe tbody tr th {\n        vertical-align: top;\n    }\n\n    .dataframe thead th {\n        text-align: right;\n    }\n</style>\n<table border=\"1\" class=\"dataframe\">\n  <thead>\n    <tr style=\"text-align: right;\">\n      <th></th>\n      <th>year</th>\n      <th>country</th>\n      <th>GDP</th>\n    </tr>\n  </thead>\n  <tbody>\n    <tr>\n      <th>0</th>\n      <td>1960</td>\n      <td>美国</td>\n      <td>543300000000</td>\n    </tr>\n    <tr>\n      <th>1</th>\n      <td>1960</td>\n      <td>英国</td>\n      <td>73233967692</td>\n    </tr>\n    <tr>\n      <th>2</th>\n      <td>1960</td>\n      <td>法国</td>\n      <td>62225478000</td>\n    </tr>\n    <tr>\n      <th>3</th>\n      <td>1960</td>\n      <td>中国</td>\n      <td>59716467625</td>\n    </tr>\n    <tr>\n      <th>4</th>\n      <td>1960</td>\n      <td>日本</td>\n      <td>44307342950</td>\n    </tr>\n  </tbody>\n</table>\n</div>"
     },
     "execution_count": 19,
     "metadata": {},
     "output_type": "execute_result"
    }
   ],
   "source": [
    "df2 = df[:5].copy()\n",
    "df2"
   ],
   "metadata": {
    "collapsed": false,
    "ExecuteTime": {
     "start_time": "2025-04-09T15:50:36.330281Z",
     "end_time": "2025-04-09T15:50:36.365765Z"
    }
   }
  },
  {
   "cell_type": "code",
   "execution_count": 20,
   "outputs": [
    {
     "data": {
      "text/plain": "   year country           GDP\n0  1960      美国  543300000000\n1  1960      英国   73233967692\n2  1960      法国   62225478000\n3  1960      中国   59716467625\n4  1960      日本   44307342950\n0  1960      美国  543300000000\n1  1960      英国   73233967692\n2  1960      法国   62225478000\n3  1960      中国   59716467625\n4  1960      日本   44307342950",
      "text/html": "<div>\n<style scoped>\n    .dataframe tbody tr th:only-of-type {\n        vertical-align: middle;\n    }\n\n    .dataframe tbody tr th {\n        vertical-align: top;\n    }\n\n    .dataframe thead th {\n        text-align: right;\n    }\n</style>\n<table border=\"1\" class=\"dataframe\">\n  <thead>\n    <tr style=\"text-align: right;\">\n      <th></th>\n      <th>year</th>\n      <th>country</th>\n      <th>GDP</th>\n    </tr>\n  </thead>\n  <tbody>\n    <tr>\n      <th>0</th>\n      <td>1960</td>\n      <td>美国</td>\n      <td>543300000000</td>\n    </tr>\n    <tr>\n      <th>1</th>\n      <td>1960</td>\n      <td>英国</td>\n      <td>73233967692</td>\n    </tr>\n    <tr>\n      <th>2</th>\n      <td>1960</td>\n      <td>法国</td>\n      <td>62225478000</td>\n    </tr>\n    <tr>\n      <th>3</th>\n      <td>1960</td>\n      <td>中国</td>\n      <td>59716467625</td>\n    </tr>\n    <tr>\n      <th>4</th>\n      <td>1960</td>\n      <td>日本</td>\n      <td>44307342950</td>\n    </tr>\n    <tr>\n      <th>0</th>\n      <td>1960</td>\n      <td>美国</td>\n      <td>543300000000</td>\n    </tr>\n    <tr>\n      <th>1</th>\n      <td>1960</td>\n      <td>英国</td>\n      <td>73233967692</td>\n    </tr>\n    <tr>\n      <th>2</th>\n      <td>1960</td>\n      <td>法国</td>\n      <td>62225478000</td>\n    </tr>\n    <tr>\n      <th>3</th>\n      <td>1960</td>\n      <td>中国</td>\n      <td>59716467625</td>\n    </tr>\n    <tr>\n      <th>4</th>\n      <td>1960</td>\n      <td>日本</td>\n      <td>44307342950</td>\n    </tr>\n  </tbody>\n</table>\n</div>"
     },
     "execution_count": 20,
     "metadata": {},
     "output_type": "execute_result"
    }
   ],
   "source": [
    "df2 = pd.concat([df2,df2])        # 连接\n",
    "df2"
   ],
   "metadata": {
    "collapsed": false,
    "ExecuteTime": {
     "start_time": "2025-04-09T15:50:41.011275Z",
     "end_time": "2025-04-09T15:50:41.051852Z"
    }
   }
  },
  {
   "cell_type": "code",
   "execution_count": 13,
   "outputs": [
    {
     "data": {
      "text/plain": "   year country           GDP\n0  1960      美国  543300000000\n1  1960      英国   73233967692\n2  1960      法国   62225478000\n3  1960      中国   59716467625\n4  1960      日本   44307342950",
      "text/html": "<div>\n<style scoped>\n    .dataframe tbody tr th:only-of-type {\n        vertical-align: middle;\n    }\n\n    .dataframe tbody tr th {\n        vertical-align: top;\n    }\n\n    .dataframe thead th {\n        text-align: right;\n    }\n</style>\n<table border=\"1\" class=\"dataframe\">\n  <thead>\n    <tr style=\"text-align: right;\">\n      <th></th>\n      <th>year</th>\n      <th>country</th>\n      <th>GDP</th>\n    </tr>\n  </thead>\n  <tbody>\n    <tr>\n      <th>0</th>\n      <td>1960</td>\n      <td>美国</td>\n      <td>543300000000</td>\n    </tr>\n    <tr>\n      <th>1</th>\n      <td>1960</td>\n      <td>英国</td>\n      <td>73233967692</td>\n    </tr>\n    <tr>\n      <th>2</th>\n      <td>1960</td>\n      <td>法国</td>\n      <td>62225478000</td>\n    </tr>\n    <tr>\n      <th>3</th>\n      <td>1960</td>\n      <td>中国</td>\n      <td>59716467625</td>\n    </tr>\n    <tr>\n      <th>4</th>\n      <td>1960</td>\n      <td>日本</td>\n      <td>44307342950</td>\n    </tr>\n  </tbody>\n</table>\n</div>"
     },
     "execution_count": 13,
     "metadata": {},
     "output_type": "execute_result"
    }
   ],
   "source": [
    "df2.drop_duplicates(inplace=True)       # 整体的数据去重\n",
    "df2"
   ],
   "metadata": {
    "collapsed": false,
    "ExecuteTime": {
     "start_time": "2025-04-09T15:46:19.131605Z",
     "end_time": "2025-04-09T15:46:19.158739Z"
    }
   }
  },
  {
   "cell_type": "code",
   "execution_count": 23,
   "outputs": [
    {
     "data": {
      "text/plain": "0    1960\nName: year, dtype: int64"
     },
     "execution_count": 23,
     "metadata": {},
     "output_type": "execute_result"
    }
   ],
   "source": [
    "# Series 去重  -->  以列为单位进行比较\n",
    "#       Series 去重 使用 inplace 参数 不会影响DataFrame 对象 所以不会影响df2\n",
    "df3 = df2.year.drop_duplicates()               # 对某一列的数据进行去重\n",
    "df3"
   ],
   "metadata": {
    "collapsed": false,
    "ExecuteTime": {
     "start_time": "2025-04-09T15:54:00.958139Z",
     "end_time": "2025-04-09T15:54:00.984675Z"
    }
   }
  },
  {
   "cell_type": "code",
   "execution_count": 26,
   "outputs": [
    {
     "data": {
      "text/plain": "   year country           GDP\n0  1960      美国  543300000000\n1  1960      英国   73233967692\n2  1960      法国   62225478000\n3  1960      中国   59716467625\n4  1960      日本   44307342950\n0  1960      美国  543300000000\n1  1960      英国   73233967692\n2  1960      法国   62225478000\n3  1960      中国   59716467625\n4  1960      日本   44307342950",
      "text/html": "<div>\n<style scoped>\n    .dataframe tbody tr th:only-of-type {\n        vertical-align: middle;\n    }\n\n    .dataframe tbody tr th {\n        vertical-align: top;\n    }\n\n    .dataframe thead th {\n        text-align: right;\n    }\n</style>\n<table border=\"1\" class=\"dataframe\">\n  <thead>\n    <tr style=\"text-align: right;\">\n      <th></th>\n      <th>year</th>\n      <th>country</th>\n      <th>GDP</th>\n    </tr>\n  </thead>\n  <tbody>\n    <tr>\n      <th>0</th>\n      <td>1960</td>\n      <td>美国</td>\n      <td>543300000000</td>\n    </tr>\n    <tr>\n      <th>1</th>\n      <td>1960</td>\n      <td>英国</td>\n      <td>73233967692</td>\n    </tr>\n    <tr>\n      <th>2</th>\n      <td>1960</td>\n      <td>法国</td>\n      <td>62225478000</td>\n    </tr>\n    <tr>\n      <th>3</th>\n      <td>1960</td>\n      <td>中国</td>\n      <td>59716467625</td>\n    </tr>\n    <tr>\n      <th>4</th>\n      <td>1960</td>\n      <td>日本</td>\n      <td>44307342950</td>\n    </tr>\n    <tr>\n      <th>0</th>\n      <td>1960</td>\n      <td>美国</td>\n      <td>543300000000</td>\n    </tr>\n    <tr>\n      <th>1</th>\n      <td>1960</td>\n      <td>英国</td>\n      <td>73233967692</td>\n    </tr>\n    <tr>\n      <th>2</th>\n      <td>1960</td>\n      <td>法国</td>\n      <td>62225478000</td>\n    </tr>\n    <tr>\n      <th>3</th>\n      <td>1960</td>\n      <td>中国</td>\n      <td>59716467625</td>\n    </tr>\n    <tr>\n      <th>4</th>\n      <td>1960</td>\n      <td>日本</td>\n      <td>44307342950</td>\n    </tr>\n  </tbody>\n</table>\n</div>"
     },
     "execution_count": 26,
     "metadata": {},
     "output_type": "execute_result"
    }
   ],
   "source": [
    "df2.year.drop_duplicates(inplace=True)\n",
    "df2"
   ],
   "metadata": {
    "collapsed": false,
    "ExecuteTime": {
     "start_time": "2025-04-09T16:06:20.303484Z",
     "end_time": "2025-04-09T16:06:20.322024Z"
    }
   }
  },
  {
   "cell_type": "code",
   "execution_count": null,
   "outputs": [],
   "source": [],
   "metadata": {
    "collapsed": false
   }
  }
 ],
 "metadata": {
  "kernelspec": {
   "display_name": "Python 3",
   "language": "python",
   "name": "python3"
  },
  "language_info": {
   "codemirror_mode": {
    "name": "ipython",
    "version": 2
   },
   "file_extension": ".py",
   "mimetype": "text/x-python",
   "name": "python",
   "nbconvert_exporter": "python",
   "pygments_lexer": "ipython2",
   "version": "2.7.6"
  }
 },
 "nbformat": 4,
 "nbformat_minor": 0
}
