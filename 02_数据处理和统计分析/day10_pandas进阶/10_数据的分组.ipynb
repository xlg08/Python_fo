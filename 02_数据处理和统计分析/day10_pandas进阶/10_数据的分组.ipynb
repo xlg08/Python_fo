{
 "cells": [
  {
   "cell_type": "code",
   "execution_count": 1,
   "metadata": {
    "collapsed": true,
    "ExecuteTime": {
     "start_time": "2025-04-11T08:54:04.111905Z",
     "end_time": "2025-04-11T08:54:05.182733Z"
    }
   },
   "outputs": [],
   "source": [
    "# 1.导包\n",
    "import pandas as pd\n",
    "import numpy as np\n",
    "import os\n",
    "os.chdir(r\"E:\\ProjectCode\\PythonProjectCode\\pythonProject\\HaskMaProject\")"
   ]
  },
  {
   "cell_type": "code",
   "execution_count": 3,
   "outputs": [
    {
     "data": {
      "text/plain": "       store_id city channel gender_group age_group  wkd_ind product  \\\n0           658   深圳      线下       Female     25-29  Weekday    当季新品   \n1           146   杭州      线下       Female     25-29  Weekday      运动   \n2            70   深圳      线下         Male      >=60  Weekday      T恤   \n3           658   深圳      线下       Female     25-29  Weekday      T恤   \n4           229   深圳      线下         Male     20-24  Weekend      袜子   \n...         ...  ...     ...          ...       ...      ...     ...   \n22288       146   杭州      线下       Female     30-34  Weekday      短裤   \n22289       430   成都      线下       Female     25-29  Weekend      T恤   \n22290       449   武汉      线下       Female     35-39  Weekday      T恤   \n22291       758   杭州      线下       Female     20-24  Weekday      袜子   \n22292       616   成都      线下         Male     30-34  Weekday    当季新品   \n\n       customer  revenue  order  quant  unit_cost  \n0             4    796.0      4      4         59  \n1             1    149.0      1      1         49  \n2             2    178.0      2      2         49  \n3             1     59.0      1      1         49  \n4             2     65.0      2      3          9  \n...         ...      ...    ...    ...        ...  \n22288         1     80.0      1      2         19  \n22289         1     79.0      1      1         49  \n22290         1    158.0      1      2         49  \n22291         1     26.0      1      1          9  \n22292         1     79.0      1      1         59  \n\n[22293 rows x 12 columns]",
      "text/html": "<div>\n<style scoped>\n    .dataframe tbody tr th:only-of-type {\n        vertical-align: middle;\n    }\n\n    .dataframe tbody tr th {\n        vertical-align: top;\n    }\n\n    .dataframe thead th {\n        text-align: right;\n    }\n</style>\n<table border=\"1\" class=\"dataframe\">\n  <thead>\n    <tr style=\"text-align: right;\">\n      <th></th>\n      <th>store_id</th>\n      <th>city</th>\n      <th>channel</th>\n      <th>gender_group</th>\n      <th>age_group</th>\n      <th>wkd_ind</th>\n      <th>product</th>\n      <th>customer</th>\n      <th>revenue</th>\n      <th>order</th>\n      <th>quant</th>\n      <th>unit_cost</th>\n    </tr>\n  </thead>\n  <tbody>\n    <tr>\n      <th>0</th>\n      <td>658</td>\n      <td>深圳</td>\n      <td>线下</td>\n      <td>Female</td>\n      <td>25-29</td>\n      <td>Weekday</td>\n      <td>当季新品</td>\n      <td>4</td>\n      <td>796.0</td>\n      <td>4</td>\n      <td>4</td>\n      <td>59</td>\n    </tr>\n    <tr>\n      <th>1</th>\n      <td>146</td>\n      <td>杭州</td>\n      <td>线下</td>\n      <td>Female</td>\n      <td>25-29</td>\n      <td>Weekday</td>\n      <td>运动</td>\n      <td>1</td>\n      <td>149.0</td>\n      <td>1</td>\n      <td>1</td>\n      <td>49</td>\n    </tr>\n    <tr>\n      <th>2</th>\n      <td>70</td>\n      <td>深圳</td>\n      <td>线下</td>\n      <td>Male</td>\n      <td>&gt;=60</td>\n      <td>Weekday</td>\n      <td>T恤</td>\n      <td>2</td>\n      <td>178.0</td>\n      <td>2</td>\n      <td>2</td>\n      <td>49</td>\n    </tr>\n    <tr>\n      <th>3</th>\n      <td>658</td>\n      <td>深圳</td>\n      <td>线下</td>\n      <td>Female</td>\n      <td>25-29</td>\n      <td>Weekday</td>\n      <td>T恤</td>\n      <td>1</td>\n      <td>59.0</td>\n      <td>1</td>\n      <td>1</td>\n      <td>49</td>\n    </tr>\n    <tr>\n      <th>4</th>\n      <td>229</td>\n      <td>深圳</td>\n      <td>线下</td>\n      <td>Male</td>\n      <td>20-24</td>\n      <td>Weekend</td>\n      <td>袜子</td>\n      <td>2</td>\n      <td>65.0</td>\n      <td>2</td>\n      <td>3</td>\n      <td>9</td>\n    </tr>\n    <tr>\n      <th>...</th>\n      <td>...</td>\n      <td>...</td>\n      <td>...</td>\n      <td>...</td>\n      <td>...</td>\n      <td>...</td>\n      <td>...</td>\n      <td>...</td>\n      <td>...</td>\n      <td>...</td>\n      <td>...</td>\n      <td>...</td>\n    </tr>\n    <tr>\n      <th>22288</th>\n      <td>146</td>\n      <td>杭州</td>\n      <td>线下</td>\n      <td>Female</td>\n      <td>30-34</td>\n      <td>Weekday</td>\n      <td>短裤</td>\n      <td>1</td>\n      <td>80.0</td>\n      <td>1</td>\n      <td>2</td>\n      <td>19</td>\n    </tr>\n    <tr>\n      <th>22289</th>\n      <td>430</td>\n      <td>成都</td>\n      <td>线下</td>\n      <td>Female</td>\n      <td>25-29</td>\n      <td>Weekend</td>\n      <td>T恤</td>\n      <td>1</td>\n      <td>79.0</td>\n      <td>1</td>\n      <td>1</td>\n      <td>49</td>\n    </tr>\n    <tr>\n      <th>22290</th>\n      <td>449</td>\n      <td>武汉</td>\n      <td>线下</td>\n      <td>Female</td>\n      <td>35-39</td>\n      <td>Weekday</td>\n      <td>T恤</td>\n      <td>1</td>\n      <td>158.0</td>\n      <td>1</td>\n      <td>2</td>\n      <td>49</td>\n    </tr>\n    <tr>\n      <th>22291</th>\n      <td>758</td>\n      <td>杭州</td>\n      <td>线下</td>\n      <td>Female</td>\n      <td>20-24</td>\n      <td>Weekday</td>\n      <td>袜子</td>\n      <td>1</td>\n      <td>26.0</td>\n      <td>1</td>\n      <td>1</td>\n      <td>9</td>\n    </tr>\n    <tr>\n      <th>22292</th>\n      <td>616</td>\n      <td>成都</td>\n      <td>线下</td>\n      <td>Male</td>\n      <td>30-34</td>\n      <td>Weekday</td>\n      <td>当季新品</td>\n      <td>1</td>\n      <td>79.0</td>\n      <td>1</td>\n      <td>1</td>\n      <td>59</td>\n    </tr>\n  </tbody>\n</table>\n<p>22293 rows × 12 columns</p>\n</div>"
     },
     "execution_count": 3,
     "metadata": {},
     "output_type": "execute_result"
    }
   ],
   "source": [
    "# 1.获取优衣库数据\n",
    "df = pd.read_csv(\"./data/uniqlo.csv\")\n",
    "df\n",
    "\n"
   ],
   "metadata": {
    "collapsed": false,
    "ExecuteTime": {
     "start_time": "2025-04-11T08:55:47.694608Z",
     "end_time": "2025-04-11T08:55:47.764315Z"
    }
   }
  },
  {
   "cell_type": "code",
   "execution_count": 4,
   "outputs": [
    {
     "name": "stdout",
     "output_type": "stream",
     "text": [
      "<class 'pandas.core.frame.DataFrame'>\n",
      "RangeIndex: 22293 entries, 0 to 22292\n",
      "Data columns (total 12 columns):\n",
      " #   Column        Non-Null Count  Dtype  \n",
      "---  ------        --------------  -----  \n",
      " 0   store_id      22293 non-null  int64  \n",
      " 1   city          22293 non-null  object \n",
      " 2   channel       22293 non-null  object \n",
      " 3   gender_group  22293 non-null  object \n",
      " 4   age_group     22293 non-null  object \n",
      " 5   wkd_ind       22293 non-null  object \n",
      " 6   product       22293 non-null  object \n",
      " 7   customer      22293 non-null  int64  \n",
      " 8   revenue       22293 non-null  float64\n",
      " 9   order         22293 non-null  int64  \n",
      " 10  quant         22293 non-null  int64  \n",
      " 11  unit_cost     22293 non-null  int64  \n",
      "dtypes: float64(1), int64(5), object(6)\n",
      "memory usage: 2.0+ MB\n"
     ]
    }
   ],
   "source": [
    "df.info()"
   ],
   "metadata": {
    "collapsed": false,
    "ExecuteTime": {
     "start_time": "2025-04-11T08:56:25.289088Z",
     "end_time": "2025-04-11T08:56:25.333563Z"
    }
   }
  },
  {
   "cell_type": "code",
   "execution_count": 5,
   "outputs": [
    {
     "data": {
      "text/plain": "           store_id      customer       revenue         order         quant  \\\ncount  22293.000000  22293.000000  22293.000000  22293.000000  22293.000000   \nmean     335.391558      1.629480    159.531371      1.651998      1.858072   \nstd      230.236167      1.785605    276.254066      1.861480      2.347301   \nmin       19.000000      1.000000     -0.660000      1.000000      1.000000   \n25%      142.000000      1.000000     64.000000      1.000000      1.000000   \n50%      315.000000      1.000000     99.000000      1.000000      1.000000   \n75%      480.000000      2.000000    175.000000      2.000000      2.000000   \nmax      831.000000     58.000000  12538.000000     65.000000     84.000000   \n\n          unit_cost  \ncount  22293.000000  \nmean      46.124658  \nstd       19.124347  \nmin        9.000000  \n25%       49.000000  \n50%       49.000000  \n75%       49.000000  \nmax       99.000000  ",
      "text/html": "<div>\n<style scoped>\n    .dataframe tbody tr th:only-of-type {\n        vertical-align: middle;\n    }\n\n    .dataframe tbody tr th {\n        vertical-align: top;\n    }\n\n    .dataframe thead th {\n        text-align: right;\n    }\n</style>\n<table border=\"1\" class=\"dataframe\">\n  <thead>\n    <tr style=\"text-align: right;\">\n      <th></th>\n      <th>store_id</th>\n      <th>customer</th>\n      <th>revenue</th>\n      <th>order</th>\n      <th>quant</th>\n      <th>unit_cost</th>\n    </tr>\n  </thead>\n  <tbody>\n    <tr>\n      <th>count</th>\n      <td>22293.000000</td>\n      <td>22293.000000</td>\n      <td>22293.000000</td>\n      <td>22293.000000</td>\n      <td>22293.000000</td>\n      <td>22293.000000</td>\n    </tr>\n    <tr>\n      <th>mean</th>\n      <td>335.391558</td>\n      <td>1.629480</td>\n      <td>159.531371</td>\n      <td>1.651998</td>\n      <td>1.858072</td>\n      <td>46.124658</td>\n    </tr>\n    <tr>\n      <th>std</th>\n      <td>230.236167</td>\n      <td>1.785605</td>\n      <td>276.254066</td>\n      <td>1.861480</td>\n      <td>2.347301</td>\n      <td>19.124347</td>\n    </tr>\n    <tr>\n      <th>min</th>\n      <td>19.000000</td>\n      <td>1.000000</td>\n      <td>-0.660000</td>\n      <td>1.000000</td>\n      <td>1.000000</td>\n      <td>9.000000</td>\n    </tr>\n    <tr>\n      <th>25%</th>\n      <td>142.000000</td>\n      <td>1.000000</td>\n      <td>64.000000</td>\n      <td>1.000000</td>\n      <td>1.000000</td>\n      <td>49.000000</td>\n    </tr>\n    <tr>\n      <th>50%</th>\n      <td>315.000000</td>\n      <td>1.000000</td>\n      <td>99.000000</td>\n      <td>1.000000</td>\n      <td>1.000000</td>\n      <td>49.000000</td>\n    </tr>\n    <tr>\n      <th>75%</th>\n      <td>480.000000</td>\n      <td>2.000000</td>\n      <td>175.000000</td>\n      <td>2.000000</td>\n      <td>2.000000</td>\n      <td>49.000000</td>\n    </tr>\n    <tr>\n      <th>max</th>\n      <td>831.000000</td>\n      <td>58.000000</td>\n      <td>12538.000000</td>\n      <td>65.000000</td>\n      <td>84.000000</td>\n      <td>99.000000</td>\n    </tr>\n  </tbody>\n</table>\n</div>"
     },
     "execution_count": 5,
     "metadata": {},
     "output_type": "execute_result"
    }
   ],
   "source": [
    "df.describe()"
   ],
   "metadata": {
    "collapsed": false,
    "ExecuteTime": {
     "start_time": "2025-04-11T08:57:34.006006Z",
     "end_time": "2025-04-11T08:57:34.043525Z"
    }
   }
  },
  {
   "cell_type": "code",
   "execution_count": 29,
   "outputs": [
    {
     "data": {
      "text/plain": "<generator object BaseGroupBy.__iter__.<locals>.<genexpr> at 0x0000023427628930>"
     },
     "execution_count": 29,
     "metadata": {},
     "output_type": "execute_result"
    }
   ],
   "source": [
    "# 2.分组聚合\n",
    "\n",
    "# 场景一：按照单列进行分组\n",
    "df.groupby(['city'])        # 格式一 函数定义格式()\n",
    "df.groupby('city')        # 格式二\n",
    "\n",
    "# df.groupby(['city']).first()\n",
    "df.groupby(['city'])\n"
   ],
   "metadata": {
    "collapsed": false,
    "ExecuteTime": {
     "start_time": "2025-04-11T09:51:19.486893Z",
     "end_time": "2025-04-11T09:51:19.494691Z"
    }
   }
  },
  {
   "cell_type": "code",
   "execution_count": 8,
   "outputs": [
    {
     "data": {
      "text/plain": "<pandas.core.groupby.generic.DataFrameGroupBy object at 0x00000234255EB500>"
     },
     "execution_count": 8,
     "metadata": {},
     "output_type": "execute_result"
    }
   ],
   "source": [
    "# 场景二：按照多列进行分组\n",
    "df.groupby(['city','revenue'])          # 多列分组不能省略 []\n",
    "\n",
    "# 变形写法\n",
    "df.groupby('city').revenue"
   ],
   "metadata": {
    "collapsed": false,
    "ExecuteTime": {
     "start_time": "2025-04-11T09:07:27.928840Z",
     "end_time": "2025-04-11T09:07:27.978081Z"
    }
   }
  },
  {
   "cell_type": "code",
   "execution_count": 22,
   "outputs": [
    {
     "ename": "TypeError",
     "evalue": "BaseGroupBy.get_group() missing 1 required positional argument: 'name'",
     "output_type": "error",
     "traceback": [
      "\u001B[1;31m---------------------------------------------------------------------------\u001B[0m",
      "\u001B[1;31mTypeError\u001B[0m                                 Traceback (most recent call last)",
      "Cell \u001B[1;32mIn[22], line 4\u001B[0m\n\u001B[0;32m      1\u001B[0m \u001B[38;5;66;03m# 场景三：如何获取某个分组的数据\u001B[39;00m\n\u001B[0;32m      2\u001B[0m \u001B[38;5;66;03m# df.groupby(['city','channel']).get_group(('北京','线下'))\u001B[39;00m\n\u001B[0;32m      3\u001B[0m \u001B[38;5;66;03m# df.groupby(['city','channel']).get_group(('深圳','线下'))\u001B[39;00m\n\u001B[1;32m----> 4\u001B[0m df\u001B[38;5;241m.\u001B[39mgroupby(\u001B[38;5;124m'\u001B[39m\u001B[38;5;124mcity\u001B[39m\u001B[38;5;124m'\u001B[39m)\u001B[38;5;241m.\u001B[39mget_group()\n",
      "\u001B[1;31mTypeError\u001B[0m: BaseGroupBy.get_group() missing 1 required positional argument: 'name'"
     ]
    }
   ],
   "source": [
    "# 场景三：如何获取某个分组的数据\n",
    "# df.groupby(['city','channel']).get_group(('北京','线下'))\n",
    "df.groupby(['city','channel']).get_group(('深圳','线下'))"
   ],
   "metadata": {
    "collapsed": false,
    "ExecuteTime": {
     "start_time": "2025-04-11T09:11:54.115196Z",
     "end_time": "2025-04-11T09:11:54.186875Z"
    }
   }
  },
  {
   "cell_type": "code",
   "execution_count": 18,
   "outputs": [
    {
     "data": {
      "text/plain": "city  channel\n上海    线上         114438.09\n      线下         275383.64\n北京    线下         130458.62\n南京    线下         123150.93\n广州    线上         200893.30\n      线下         117231.19\n成都    线下         208189.86\n杭州    线下         589518.49\n武汉    线上         281420.73\n      线下         308357.05\n深圳    线下         733123.68\n西安    线上          30088.01\n      线下         180686.61\n重庆    线上          26330.35\n      线下         237162.30\nName: revenue, dtype: float64"
     },
     "execution_count": 18,
     "metadata": {},
     "output_type": "execute_result"
    }
   ],
   "source": [
    "# 场景四：分组+聚合 (聚合字段只有一个)\n",
    "# 需求：求各个城市不同渠道的总销售金额\n",
    "#   格式 df.groupby(字段).agg(字段名:聚合函数)\n",
    "# agg 是 aggregate 的缩写   聚合函数\n",
    "# df.groupby(['city','channel']).agg({'revenue':'sum'})\n",
    "\n",
    "# 变形写法\n",
    "# df.groupby(['city','channel']).revenue.sum()\n",
    "df.groupby(['city','channel'])['revenue'].sum()\n",
    "df.groupby(['city','channel'])[['revenue']].sum()"
   ],
   "metadata": {
    "collapsed": false,
    "ExecuteTime": {
     "start_time": "2025-04-11T09:39:26.820361Z",
     "end_time": "2025-04-11T09:39:26.852419Z"
    }
   }
  },
  {
   "cell_type": "code",
   "execution_count": 15,
   "outputs": [
    {
     "data": {
      "text/plain": "                revenue  order\ncity channel                  \n上海   线上       114438.09   1237\n     线下       275383.64   2800\n北京   线下       130458.62   1303\n南京   线下       123150.93   1113\n广州   线上       200893.30   2115\n     线下       117231.19   1277\n成都   线下       208189.86   2263\n杭州   线下       589518.49   6196\n武汉   线上       281420.73   2895\n     线下       308357.05   3101\n深圳   线下       733123.68   7475\n西安   线上        30088.01    325\n     线下       180686.61   1954\n重庆   线上        26330.35    251\n     线下       237162.30   2523",
      "text/html": "<div>\n<style scoped>\n    .dataframe tbody tr th:only-of-type {\n        vertical-align: middle;\n    }\n\n    .dataframe tbody tr th {\n        vertical-align: top;\n    }\n\n    .dataframe thead th {\n        text-align: right;\n    }\n</style>\n<table border=\"1\" class=\"dataframe\">\n  <thead>\n    <tr style=\"text-align: right;\">\n      <th></th>\n      <th></th>\n      <th>revenue</th>\n      <th>order</th>\n    </tr>\n    <tr>\n      <th>city</th>\n      <th>channel</th>\n      <th></th>\n      <th></th>\n    </tr>\n  </thead>\n  <tbody>\n    <tr>\n      <th rowspan=\"2\" valign=\"top\">上海</th>\n      <th>线上</th>\n      <td>114438.09</td>\n      <td>1237</td>\n    </tr>\n    <tr>\n      <th>线下</th>\n      <td>275383.64</td>\n      <td>2800</td>\n    </tr>\n    <tr>\n      <th>北京</th>\n      <th>线下</th>\n      <td>130458.62</td>\n      <td>1303</td>\n    </tr>\n    <tr>\n      <th>南京</th>\n      <th>线下</th>\n      <td>123150.93</td>\n      <td>1113</td>\n    </tr>\n    <tr>\n      <th rowspan=\"2\" valign=\"top\">广州</th>\n      <th>线上</th>\n      <td>200893.30</td>\n      <td>2115</td>\n    </tr>\n    <tr>\n      <th>线下</th>\n      <td>117231.19</td>\n      <td>1277</td>\n    </tr>\n    <tr>\n      <th>成都</th>\n      <th>线下</th>\n      <td>208189.86</td>\n      <td>2263</td>\n    </tr>\n    <tr>\n      <th>杭州</th>\n      <th>线下</th>\n      <td>589518.49</td>\n      <td>6196</td>\n    </tr>\n    <tr>\n      <th rowspan=\"2\" valign=\"top\">武汉</th>\n      <th>线上</th>\n      <td>281420.73</td>\n      <td>2895</td>\n    </tr>\n    <tr>\n      <th>线下</th>\n      <td>308357.05</td>\n      <td>3101</td>\n    </tr>\n    <tr>\n      <th>深圳</th>\n      <th>线下</th>\n      <td>733123.68</td>\n      <td>7475</td>\n    </tr>\n    <tr>\n      <th rowspan=\"2\" valign=\"top\">西安</th>\n      <th>线上</th>\n      <td>30088.01</td>\n      <td>325</td>\n    </tr>\n    <tr>\n      <th>线下</th>\n      <td>180686.61</td>\n      <td>1954</td>\n    </tr>\n    <tr>\n      <th rowspan=\"2\" valign=\"top\">重庆</th>\n      <th>线上</th>\n      <td>26330.35</td>\n      <td>251</td>\n    </tr>\n    <tr>\n      <th>线下</th>\n      <td>237162.30</td>\n      <td>2523</td>\n    </tr>\n  </tbody>\n</table>\n</div>"
     },
     "execution_count": 15,
     "metadata": {},
     "output_type": "execute_result"
    }
   ],
   "source": [
    "# 场景五：分组+聚合（聚合有两个字段 ---> 聚合操作相同）\n",
    "df.groupby(['city','channel']).agg({'revenue':'sum','order':'sum'})\n",
    "\n",
    "# 变形写法\n",
    "df.groupby(['city','channel'])[['revenue','order']].sum()"
   ],
   "metadata": {
    "collapsed": false,
    "ExecuteTime": {
     "start_time": "2025-04-11T09:23:30.561353Z",
     "end_time": "2025-04-11T09:23:30.613714Z"
    }
   }
  },
  {
   "cell_type": "code",
   "execution_count": 17,
   "outputs": [
    {
     "data": {
      "text/plain": "                 revenue  order\ncity channel                   \n上海   线上       187.603426     37\n     线下       154.623043     29\n北京   线下       226.098128     18\n南京   线下       246.301860     45\n广州   线上       153.470817     15\n     线下       133.368817     12\n成都   线下       136.160798     39\n杭州   线下       155.751252     54\n武汉   线上       180.977961     37\n     线下       153.258971     48\n深圳   线下       167.993511     39\n西安   线上       128.581239      8\n     线下       131.791838     11\n重庆   线上       144.672253      6\n     线下       147.764673     65",
      "text/html": "<div>\n<style scoped>\n    .dataframe tbody tr th:only-of-type {\n        vertical-align: middle;\n    }\n\n    .dataframe tbody tr th {\n        vertical-align: top;\n    }\n\n    .dataframe thead th {\n        text-align: right;\n    }\n</style>\n<table border=\"1\" class=\"dataframe\">\n  <thead>\n    <tr style=\"text-align: right;\">\n      <th></th>\n      <th></th>\n      <th>revenue</th>\n      <th>order</th>\n    </tr>\n    <tr>\n      <th>city</th>\n      <th>channel</th>\n      <th></th>\n      <th></th>\n    </tr>\n  </thead>\n  <tbody>\n    <tr>\n      <th rowspan=\"2\" valign=\"top\">上海</th>\n      <th>线上</th>\n      <td>187.603426</td>\n      <td>37</td>\n    </tr>\n    <tr>\n      <th>线下</th>\n      <td>154.623043</td>\n      <td>29</td>\n    </tr>\n    <tr>\n      <th>北京</th>\n      <th>线下</th>\n      <td>226.098128</td>\n      <td>18</td>\n    </tr>\n    <tr>\n      <th>南京</th>\n      <th>线下</th>\n      <td>246.301860</td>\n      <td>45</td>\n    </tr>\n    <tr>\n      <th rowspan=\"2\" valign=\"top\">广州</th>\n      <th>线上</th>\n      <td>153.470817</td>\n      <td>15</td>\n    </tr>\n    <tr>\n      <th>线下</th>\n      <td>133.368817</td>\n      <td>12</td>\n    </tr>\n    <tr>\n      <th>成都</th>\n      <th>线下</th>\n      <td>136.160798</td>\n      <td>39</td>\n    </tr>\n    <tr>\n      <th>杭州</th>\n      <th>线下</th>\n      <td>155.751252</td>\n      <td>54</td>\n    </tr>\n    <tr>\n      <th rowspan=\"2\" valign=\"top\">武汉</th>\n      <th>线上</th>\n      <td>180.977961</td>\n      <td>37</td>\n    </tr>\n    <tr>\n      <th>线下</th>\n      <td>153.258971</td>\n      <td>48</td>\n    </tr>\n    <tr>\n      <th>深圳</th>\n      <th>线下</th>\n      <td>167.993511</td>\n      <td>39</td>\n    </tr>\n    <tr>\n      <th rowspan=\"2\" valign=\"top\">西安</th>\n      <th>线上</th>\n      <td>128.581239</td>\n      <td>8</td>\n    </tr>\n    <tr>\n      <th>线下</th>\n      <td>131.791838</td>\n      <td>11</td>\n    </tr>\n    <tr>\n      <th rowspan=\"2\" valign=\"top\">重庆</th>\n      <th>线上</th>\n      <td>144.672253</td>\n      <td>6</td>\n    </tr>\n    <tr>\n      <th>线下</th>\n      <td>147.764673</td>\n      <td>65</td>\n    </tr>\n  </tbody>\n</table>\n</div>"
     },
     "execution_count": 17,
     "metadata": {},
     "output_type": "execute_result"
    }
   ],
   "source": [
    "# 场景六：分组+聚合(聚合有两个字段 --> 聚合操作不相同)\n",
    "# df.groupby(['city','channel']).agg({'revenue':'mean','order':'sum'})\n",
    "df.groupby(['city','channel']).agg({'revenue':'mean','order':'max'})"
   ],
   "metadata": {
    "collapsed": false,
    "ExecuteTime": {
     "start_time": "2025-04-11T09:25:36.810863Z",
     "end_time": "2025-04-11T09:25:36.849817Z"
    }
   }
  },
  {
   "cell_type": "code",
   "execution_count": 24,
   "outputs": [
    {
     "data": {
      "text/plain": "      order\ncity       \n上海       37\n北京       18\n南京       45\n广州       15\n成都       39\n杭州       54\n武汉       48\n深圳       39\n西安       11\n重庆       65",
      "text/html": "<div>\n<style scoped>\n    .dataframe tbody tr th:only-of-type {\n        vertical-align: middle;\n    }\n\n    .dataframe tbody tr th {\n        vertical-align: top;\n    }\n\n    .dataframe thead th {\n        text-align: right;\n    }\n</style>\n<table border=\"1\" class=\"dataframe\">\n  <thead>\n    <tr style=\"text-align: right;\">\n      <th></th>\n      <th>order</th>\n    </tr>\n    <tr>\n      <th>city</th>\n      <th></th>\n    </tr>\n  </thead>\n  <tbody>\n    <tr>\n      <th>上海</th>\n      <td>37</td>\n    </tr>\n    <tr>\n      <th>北京</th>\n      <td>18</td>\n    </tr>\n    <tr>\n      <th>南京</th>\n      <td>45</td>\n    </tr>\n    <tr>\n      <th>广州</th>\n      <td>15</td>\n    </tr>\n    <tr>\n      <th>成都</th>\n      <td>39</td>\n    </tr>\n    <tr>\n      <th>杭州</th>\n      <td>54</td>\n    </tr>\n    <tr>\n      <th>武汉</th>\n      <td>48</td>\n    </tr>\n    <tr>\n      <th>深圳</th>\n      <td>39</td>\n    </tr>\n    <tr>\n      <th>西安</th>\n      <td>11</td>\n    </tr>\n    <tr>\n      <th>重庆</th>\n      <td>65</td>\n    </tr>\n  </tbody>\n</table>\n</div>"
     },
     "execution_count": 24,
     "metadata": {},
     "output_type": "execute_result"
    }
   ],
   "source": [
    "df.groupby(['city']).agg({'order':'max'})"
   ],
   "metadata": {
    "collapsed": false,
    "ExecuteTime": {
     "start_time": "2025-04-11T09:48:18.660671Z",
     "end_time": "2025-04-11T09:48:18.706144Z"
    }
   }
  },
  {
   "cell_type": "code",
   "execution_count": 31,
   "outputs": [
    {
     "data": {
      "text/plain": "city\n上海    163.037110\n北京    226.098128\n南京    246.301860\n广州    145.395105\n成都    136.160798\n杭州    155.751252\n武汉    165.342803\n深圳    167.993511\n西安    131.323751\n重庆    147.449720\nName: revenue, dtype: float64"
     },
     "execution_count": 31,
     "metadata": {},
     "output_type": "execute_result"
    }
   ],
   "source": [
    "# 分组过滤  sql  groupby having         groupby filter\n",
    "# 需求一：根据城市分组，计算每个城市的销售金额的平均值\n",
    "df.groupby('city').revenue.mean()\n",
    "# df.groupby('city').agg({})"
   ],
   "metadata": {
    "collapsed": false,
    "ExecuteTime": {
     "start_time": "2025-04-11T09:53:19.769547Z",
     "end_time": "2025-04-11T09:53:19.799399Z"
    }
   }
  },
  {
   "cell_type": "code",
   "execution_count": 32,
   "outputs": [
    {
     "data": {
      "text/plain": "9        199.0\n23       176.0\n40       198.0\n62       197.0\n168      447.0\n         ...  \n22182     79.0\n22192    693.0\n22251     39.0\n22273    288.0\n22280     59.0\nName: revenue, Length: 1077, dtype: float64"
     },
     "execution_count": 32,
     "metadata": {},
     "output_type": "execute_result"
    }
   ],
   "source": [
    "# 需求二：根据城市分组，计算每个城市的销售金额的平均值  筛选大于200的全部数据\n",
    "# filter 方法是基于组的条件进行筛选的，而不是基于单个值。\n",
    "#   只要一个组的平均收入大于 200，该组的所有记录都会被保留。这就是为什么返回结果中包含150 的原因。\n",
    "df.groupby(\"city\").revenue.filter(lambda x:x.mean() > 200)"
   ],
   "metadata": {
    "collapsed": false,
    "ExecuteTime": {
     "start_time": "2025-04-11T09:55:49.598538Z",
     "end_time": "2025-04-11T09:55:49.622863Z"
    }
   }
  }
 ],
 "metadata": {
  "kernelspec": {
   "display_name": "Python 3",
   "language": "python",
   "name": "python3"
  },
  "language_info": {
   "codemirror_mode": {
    "name": "ipython",
    "version": 2
   },
   "file_extension": ".py",
   "mimetype": "text/x-python",
   "name": "python",
   "nbconvert_exporter": "python",
   "pygments_lexer": "ipython2",
   "version": "2.7.6"
  }
 },
 "nbformat": 4,
 "nbformat_minor": 0
}
