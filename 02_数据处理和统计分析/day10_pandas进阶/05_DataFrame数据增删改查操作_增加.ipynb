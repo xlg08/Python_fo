{
 "cells": [
  {
   "cell_type": "code",
   "execution_count": 1,
   "metadata": {
    "collapsed": true,
    "ExecuteTime": {
     "start_time": "2025-04-09T15:12:57.030462Z",
     "end_time": "2025-04-09T15:12:57.397561Z"
    }
   },
   "outputs": [],
   "source": [
    "# 1.导包\n",
    "import pandas as pd\n",
    "import numpy as np\n",
    "import os\n",
    "os.chdir(r\"E:\\ProjectCode\\PythonProjectCode\\pythonProject\\HaskMaProject\")"
   ]
  },
  {
   "cell_type": "code",
   "execution_count": 3,
   "outputs": [],
   "source": [
    "df = pd.read_csv(r\"./data/1960-2019全球GDP数据.csv\", encoding='gbk')\n",
    "df2 = df.head()"
   ],
   "metadata": {
    "collapsed": false,
    "ExecuteTime": {
     "start_time": "2025-04-09T15:14:41.526672Z",
     "end_time": "2025-04-09T15:14:41.576311Z"
    }
   }
  },
  {
   "cell_type": "code",
   "execution_count": 4,
   "outputs": [
    {
     "data": {
      "text/plain": "   year country           GDP\n0  1960      美国  543300000000\n1  1960      英国   73233967692\n2  1960      法国   62225478000\n3  1960      中国   59716467625\n4  1960      日本   44307342950",
      "text/html": "<div>\n<style scoped>\n    .dataframe tbody tr th:only-of-type {\n        vertical-align: middle;\n    }\n\n    .dataframe tbody tr th {\n        vertical-align: top;\n    }\n\n    .dataframe thead th {\n        text-align: right;\n    }\n</style>\n<table border=\"1\" class=\"dataframe\">\n  <thead>\n    <tr style=\"text-align: right;\">\n      <th></th>\n      <th>year</th>\n      <th>country</th>\n      <th>GDP</th>\n    </tr>\n  </thead>\n  <tbody>\n    <tr>\n      <th>0</th>\n      <td>1960</td>\n      <td>美国</td>\n      <td>543300000000</td>\n    </tr>\n    <tr>\n      <th>1</th>\n      <td>1960</td>\n      <td>英国</td>\n      <td>73233967692</td>\n    </tr>\n    <tr>\n      <th>2</th>\n      <td>1960</td>\n      <td>法国</td>\n      <td>62225478000</td>\n    </tr>\n    <tr>\n      <th>3</th>\n      <td>1960</td>\n      <td>中国</td>\n      <td>59716467625</td>\n    </tr>\n    <tr>\n      <th>4</th>\n      <td>1960</td>\n      <td>日本</td>\n      <td>44307342950</td>\n    </tr>\n  </tbody>\n</table>\n</div>"
     },
     "execution_count": 4,
     "metadata": {},
     "output_type": "execute_result"
    }
   ],
   "source": [
    "df3 = df[:5].copy()\n",
    "df3"
   ],
   "metadata": {
    "collapsed": false,
    "ExecuteTime": {
     "start_time": "2025-04-09T15:14:44.439443Z",
     "end_time": "2025-04-09T15:14:44.474009Z"
    }
   }
  },
  {
   "cell_type": "code",
   "execution_count": 6,
   "outputs": [
    {
     "data": {
      "text/plain": "   year country           GDP  c1\n0  1960      美国  543300000000   2\n1  1960      英国   73233967692   2\n2  1960      法国   62225478000   2\n3  1960      中国   59716467625   2\n4  1960      日本   44307342950   2",
      "text/html": "<div>\n<style scoped>\n    .dataframe tbody tr th:only-of-type {\n        vertical-align: middle;\n    }\n\n    .dataframe tbody tr th {\n        vertical-align: top;\n    }\n\n    .dataframe thead th {\n        text-align: right;\n    }\n</style>\n<table border=\"1\" class=\"dataframe\">\n  <thead>\n    <tr style=\"text-align: right;\">\n      <th></th>\n      <th>year</th>\n      <th>country</th>\n      <th>GDP</th>\n      <th>c1</th>\n    </tr>\n  </thead>\n  <tbody>\n    <tr>\n      <th>0</th>\n      <td>1960</td>\n      <td>美国</td>\n      <td>543300000000</td>\n      <td>2</td>\n    </tr>\n    <tr>\n      <th>1</th>\n      <td>1960</td>\n      <td>英国</td>\n      <td>73233967692</td>\n      <td>2</td>\n    </tr>\n    <tr>\n      <th>2</th>\n      <td>1960</td>\n      <td>法国</td>\n      <td>62225478000</td>\n      <td>2</td>\n    </tr>\n    <tr>\n      <th>3</th>\n      <td>1960</td>\n      <td>中国</td>\n      <td>59716467625</td>\n      <td>2</td>\n    </tr>\n    <tr>\n      <th>4</th>\n      <td>1960</td>\n      <td>日本</td>\n      <td>44307342950</td>\n      <td>2</td>\n    </tr>\n  </tbody>\n</table>\n</div>"
     },
     "execution_count": 6,
     "metadata": {},
     "output_type": "execute_result"
    }
   ],
   "source": [
    "# 1.新增列\n",
    "# 方式一：通过直接赋值的方式新增1列（固定值写法）\n",
    "df3['c1'] = 2\n",
    "df3"
   ],
   "metadata": {
    "collapsed": false,
    "ExecuteTime": {
     "start_time": "2025-04-09T15:16:05.607711Z",
     "end_time": "2025-04-09T15:16:05.634094Z"
    }
   }
  },
  {
   "cell_type": "code",
   "execution_count": 7,
   "outputs": [
    {
     "data": {
      "text/plain": "   year country           GDP  c1  c2\n0  1960      美国  543300000000   2  戏剧\n1  1960      英国   73233967692   2  电影\n2  1960      法国   62225478000   2  音乐\n3  1960      中国   59716467625   2  舞蹈\n4  1960      日本   44307342950   2  曲艺",
      "text/html": "<div>\n<style scoped>\n    .dataframe tbody tr th:only-of-type {\n        vertical-align: middle;\n    }\n\n    .dataframe tbody tr th {\n        vertical-align: top;\n    }\n\n    .dataframe thead th {\n        text-align: right;\n    }\n</style>\n<table border=\"1\" class=\"dataframe\">\n  <thead>\n    <tr style=\"text-align: right;\">\n      <th></th>\n      <th>year</th>\n      <th>country</th>\n      <th>GDP</th>\n      <th>c1</th>\n      <th>c2</th>\n    </tr>\n  </thead>\n  <tbody>\n    <tr>\n      <th>0</th>\n      <td>1960</td>\n      <td>美国</td>\n      <td>543300000000</td>\n      <td>2</td>\n      <td>戏剧</td>\n    </tr>\n    <tr>\n      <th>1</th>\n      <td>1960</td>\n      <td>英国</td>\n      <td>73233967692</td>\n      <td>2</td>\n      <td>电影</td>\n    </tr>\n    <tr>\n      <th>2</th>\n      <td>1960</td>\n      <td>法国</td>\n      <td>62225478000</td>\n      <td>2</td>\n      <td>音乐</td>\n    </tr>\n    <tr>\n      <th>3</th>\n      <td>1960</td>\n      <td>中国</td>\n      <td>59716467625</td>\n      <td>2</td>\n      <td>舞蹈</td>\n    </tr>\n    <tr>\n      <th>4</th>\n      <td>1960</td>\n      <td>日本</td>\n      <td>44307342950</td>\n      <td>2</td>\n      <td>曲艺</td>\n    </tr>\n  </tbody>\n</table>\n</div>"
     },
     "execution_count": 7,
     "metadata": {},
     "output_type": "execute_result"
    }
   ],
   "source": [
    "# 方式一：通过直接赋值的方式新增1列（传入列表）\n",
    "df3['c2'] = ['戏剧','电影','音乐','舞蹈','曲艺']\n",
    "df3"
   ],
   "metadata": {
    "collapsed": false,
    "ExecuteTime": {
     "start_time": "2025-04-09T15:17:55.289514Z",
     "end_time": "2025-04-09T15:17:55.350193Z"
    }
   }
  },
  {
   "cell_type": "code",
   "execution_count": 8,
   "outputs": [
    {
     "data": {
      "text/plain": "   year country           GDP  c1  c2    c3\n0  1960      美国  543300000000   2  戏剧  1970\n1  1960      英国   73233967692   2  电影  1970\n2  1960      法国   62225478000   2  音乐  1970\n3  1960      中国   59716467625   2  舞蹈  1970\n4  1960      日本   44307342950   2  曲艺  1970",
      "text/html": "<div>\n<style scoped>\n    .dataframe tbody tr th:only-of-type {\n        vertical-align: middle;\n    }\n\n    .dataframe tbody tr th {\n        vertical-align: top;\n    }\n\n    .dataframe thead th {\n        text-align: right;\n    }\n</style>\n<table border=\"1\" class=\"dataframe\">\n  <thead>\n    <tr style=\"text-align: right;\">\n      <th></th>\n      <th>year</th>\n      <th>country</th>\n      <th>GDP</th>\n      <th>c1</th>\n      <th>c2</th>\n      <th>c3</th>\n    </tr>\n  </thead>\n  <tbody>\n    <tr>\n      <th>0</th>\n      <td>1960</td>\n      <td>美国</td>\n      <td>543300000000</td>\n      <td>2</td>\n      <td>戏剧</td>\n      <td>1970</td>\n    </tr>\n    <tr>\n      <th>1</th>\n      <td>1960</td>\n      <td>英国</td>\n      <td>73233967692</td>\n      <td>2</td>\n      <td>电影</td>\n      <td>1970</td>\n    </tr>\n    <tr>\n      <th>2</th>\n      <td>1960</td>\n      <td>法国</td>\n      <td>62225478000</td>\n      <td>2</td>\n      <td>音乐</td>\n      <td>1970</td>\n    </tr>\n    <tr>\n      <th>3</th>\n      <td>1960</td>\n      <td>中国</td>\n      <td>59716467625</td>\n      <td>2</td>\n      <td>舞蹈</td>\n      <td>1970</td>\n    </tr>\n    <tr>\n      <th>4</th>\n      <td>1960</td>\n      <td>日本</td>\n      <td>44307342950</td>\n      <td>2</td>\n      <td>曲艺</td>\n      <td>1970</td>\n    </tr>\n  </tbody>\n</table>\n</div>"
     },
     "execution_count": 8,
     "metadata": {},
     "output_type": "execute_result"
    }
   ],
   "source": [
    "# 方式一：通过直接赋值的方式新增1列（使用已有的列增加）\n",
    "df3['c3'] = df.year + 10\n",
    "df3"
   ],
   "metadata": {
    "collapsed": false,
    "ExecuteTime": {
     "start_time": "2025-04-09T15:19:01.084079Z",
     "end_time": "2025-04-09T15:19:01.134906Z"
    }
   }
  },
  {
   "cell_type": "code",
   "execution_count": 9,
   "outputs": [
    {
     "data": {
      "text/plain": "   year country           GDP  c1  c2    c3   c4\n0  1960      美国  543300000000   2  戏剧  1970  300\n1  1960      英国   73233967692   2  电影  1970  300\n2  1960      法国   62225478000   2  音乐  1970  300\n3  1960      中国   59716467625   2  舞蹈  1970  300\n4  1960      日本   44307342950   2  曲艺  1970  300",
      "text/html": "<div>\n<style scoped>\n    .dataframe tbody tr th:only-of-type {\n        vertical-align: middle;\n    }\n\n    .dataframe tbody tr th {\n        vertical-align: top;\n    }\n\n    .dataframe thead th {\n        text-align: right;\n    }\n</style>\n<table border=\"1\" class=\"dataframe\">\n  <thead>\n    <tr style=\"text-align: right;\">\n      <th></th>\n      <th>year</th>\n      <th>country</th>\n      <th>GDP</th>\n      <th>c1</th>\n      <th>c2</th>\n      <th>c3</th>\n      <th>c4</th>\n    </tr>\n  </thead>\n  <tbody>\n    <tr>\n      <th>0</th>\n      <td>1960</td>\n      <td>美国</td>\n      <td>543300000000</td>\n      <td>2</td>\n      <td>戏剧</td>\n      <td>1970</td>\n      <td>300</td>\n    </tr>\n    <tr>\n      <th>1</th>\n      <td>1960</td>\n      <td>英国</td>\n      <td>73233967692</td>\n      <td>2</td>\n      <td>电影</td>\n      <td>1970</td>\n      <td>300</td>\n    </tr>\n    <tr>\n      <th>2</th>\n      <td>1960</td>\n      <td>法国</td>\n      <td>62225478000</td>\n      <td>2</td>\n      <td>音乐</td>\n      <td>1970</td>\n      <td>300</td>\n    </tr>\n    <tr>\n      <th>3</th>\n      <td>1960</td>\n      <td>中国</td>\n      <td>59716467625</td>\n      <td>2</td>\n      <td>舞蹈</td>\n      <td>1970</td>\n      <td>300</td>\n    </tr>\n    <tr>\n      <th>4</th>\n      <td>1960</td>\n      <td>日本</td>\n      <td>44307342950</td>\n      <td>2</td>\n      <td>曲艺</td>\n      <td>1970</td>\n      <td>300</td>\n    </tr>\n  </tbody>\n</table>\n</div>"
     },
     "execution_count": 9,
     "metadata": {},
     "output_type": "execute_result"
    }
   ],
   "source": [
    "# 方式一：通过直接赋值的方式新增1列（通过函数计算来增加新的列）\n",
    "def my_fun():\n",
    "    return 300\n",
    "df3['c4'] = my_fun()\n",
    "df3"
   ],
   "metadata": {
    "collapsed": false,
    "ExecuteTime": {
     "start_time": "2025-04-09T15:31:11.481580Z",
     "end_time": "2025-04-09T15:31:11.515795Z"
    }
   }
  },
  {
   "cell_type": "code",
   "execution_count": 10,
   "outputs": [
    {
     "data": {
      "text/plain": "   year country           GDP  c1  c2    c3   c4     c5\n0  1960      美国  543300000000   2  戏剧  1970  300  hello\n1  1960      英国   73233967692   2  电影  1970  300  hello\n2  1960      法国   62225478000   2  音乐  1970  300  hello\n3  1960      中国   59716467625   2  舞蹈  1970  300  hello\n4  1960      日本   44307342950   2  曲艺  1970  300  hello",
      "text/html": "<div>\n<style scoped>\n    .dataframe tbody tr th:only-of-type {\n        vertical-align: middle;\n    }\n\n    .dataframe tbody tr th {\n        vertical-align: top;\n    }\n\n    .dataframe thead th {\n        text-align: right;\n    }\n</style>\n<table border=\"1\" class=\"dataframe\">\n  <thead>\n    <tr style=\"text-align: right;\">\n      <th></th>\n      <th>year</th>\n      <th>country</th>\n      <th>GDP</th>\n      <th>c1</th>\n      <th>c2</th>\n      <th>c3</th>\n      <th>c4</th>\n      <th>c5</th>\n    </tr>\n  </thead>\n  <tbody>\n    <tr>\n      <th>0</th>\n      <td>1960</td>\n      <td>美国</td>\n      <td>543300000000</td>\n      <td>2</td>\n      <td>戏剧</td>\n      <td>1970</td>\n      <td>300</td>\n      <td>hello</td>\n    </tr>\n    <tr>\n      <th>1</th>\n      <td>1960</td>\n      <td>英国</td>\n      <td>73233967692</td>\n      <td>2</td>\n      <td>电影</td>\n      <td>1970</td>\n      <td>300</td>\n      <td>hello</td>\n    </tr>\n    <tr>\n      <th>2</th>\n      <td>1960</td>\n      <td>法国</td>\n      <td>62225478000</td>\n      <td>2</td>\n      <td>音乐</td>\n      <td>1970</td>\n      <td>300</td>\n      <td>hello</td>\n    </tr>\n    <tr>\n      <th>3</th>\n      <td>1960</td>\n      <td>中国</td>\n      <td>59716467625</td>\n      <td>2</td>\n      <td>舞蹈</td>\n      <td>1970</td>\n      <td>300</td>\n      <td>hello</td>\n    </tr>\n    <tr>\n      <th>4</th>\n      <td>1960</td>\n      <td>日本</td>\n      <td>44307342950</td>\n      <td>2</td>\n      <td>曲艺</td>\n      <td>1970</td>\n      <td>300</td>\n      <td>hello</td>\n    </tr>\n  </tbody>\n</table>\n</div>"
     },
     "execution_count": 10,
     "metadata": {},
     "output_type": "execute_result"
    }
   ],
   "source": [
    "# 方式二：通过 assign() 的增加1列\n",
    "df3.assign(c5='hello')"
   ],
   "metadata": {
    "collapsed": false,
    "ExecuteTime": {
     "start_time": "2025-04-09T15:32:43.754872Z",
     "end_time": "2025-04-09T15:32:43.809529Z"
    }
   }
  },
  {
   "cell_type": "code",
   "execution_count": 11,
   "outputs": [
    {
     "data": {
      "text/plain": "   year country           GDP  c1  c2    c3   c4  c11 c22 c33  c44  c55\n0  1960      美国  543300000000   2  戏剧  1970  300    1   a   b  Bom  300\n1  1960      英国   73233967692   2  电影  1970  300    1   a   b  Bom  300\n2  1960      法国   62225478000   2  音乐  1970  300    1   a   b  Bom  300\n3  1960      中国   59716467625   2  舞蹈  1970  300    1   a   b  Bom  300\n4  1960      日本   44307342950   2  曲艺  1970  300    1   a   b  Bom  300",
      "text/html": "<div>\n<style scoped>\n    .dataframe tbody tr th:only-of-type {\n        vertical-align: middle;\n    }\n\n    .dataframe tbody tr th {\n        vertical-align: top;\n    }\n\n    .dataframe thead th {\n        text-align: right;\n    }\n</style>\n<table border=\"1\" class=\"dataframe\">\n  <thead>\n    <tr style=\"text-align: right;\">\n      <th></th>\n      <th>year</th>\n      <th>country</th>\n      <th>GDP</th>\n      <th>c1</th>\n      <th>c2</th>\n      <th>c3</th>\n      <th>c4</th>\n      <th>c11</th>\n      <th>c22</th>\n      <th>c33</th>\n      <th>c44</th>\n      <th>c55</th>\n    </tr>\n  </thead>\n  <tbody>\n    <tr>\n      <th>0</th>\n      <td>1960</td>\n      <td>美国</td>\n      <td>543300000000</td>\n      <td>2</td>\n      <td>戏剧</td>\n      <td>1970</td>\n      <td>300</td>\n      <td>1</td>\n      <td>a</td>\n      <td>b</td>\n      <td>Bom</td>\n      <td>300</td>\n    </tr>\n    <tr>\n      <th>1</th>\n      <td>1960</td>\n      <td>英国</td>\n      <td>73233967692</td>\n      <td>2</td>\n      <td>电影</td>\n      <td>1970</td>\n      <td>300</td>\n      <td>1</td>\n      <td>a</td>\n      <td>b</td>\n      <td>Bom</td>\n      <td>300</td>\n    </tr>\n    <tr>\n      <th>2</th>\n      <td>1960</td>\n      <td>法国</td>\n      <td>62225478000</td>\n      <td>2</td>\n      <td>音乐</td>\n      <td>1970</td>\n      <td>300</td>\n      <td>1</td>\n      <td>a</td>\n      <td>b</td>\n      <td>Bom</td>\n      <td>300</td>\n    </tr>\n    <tr>\n      <th>3</th>\n      <td>1960</td>\n      <td>中国</td>\n      <td>59716467625</td>\n      <td>2</td>\n      <td>舞蹈</td>\n      <td>1970</td>\n      <td>300</td>\n      <td>1</td>\n      <td>a</td>\n      <td>b</td>\n      <td>Bom</td>\n      <td>300</td>\n    </tr>\n    <tr>\n      <th>4</th>\n      <td>1960</td>\n      <td>日本</td>\n      <td>44307342950</td>\n      <td>2</td>\n      <td>曲艺</td>\n      <td>1970</td>\n      <td>300</td>\n      <td>1</td>\n      <td>a</td>\n      <td>b</td>\n      <td>Bom</td>\n      <td>300</td>\n    </tr>\n  </tbody>\n</table>\n</div>"
     },
     "execution_count": 11,
     "metadata": {},
     "output_type": "execute_result"
    }
   ],
   "source": [
    "# 方式二：通过 assign() 的增加 n 列\n",
    "df3.assign(\n",
    "    c11 = 1,\n",
    "    c22 = 'a',\n",
    "    c33 = 'b',\n",
    "    c44 = 'Bom',\n",
    "    c55 = my_fun()\n",
    ")"
   ],
   "metadata": {
    "collapsed": false,
    "ExecuteTime": {
     "start_time": "2025-04-09T15:33:47.287855Z",
     "end_time": "2025-04-09T15:33:47.325490Z"
    }
   }
  },
  {
   "cell_type": "code",
   "execution_count": null,
   "outputs": [],
   "source": [],
   "metadata": {
    "collapsed": false
   }
  }
 ],
 "metadata": {
  "kernelspec": {
   "display_name": "Python 3",
   "language": "python",
   "name": "python3"
  },
  "language_info": {
   "codemirror_mode": {
    "name": "ipython",
    "version": 2
   },
   "file_extension": ".py",
   "mimetype": "text/x-python",
   "name": "python",
   "nbconvert_exporter": "python",
   "pygments_lexer": "ipython2",
   "version": "2.7.6"
  }
 },
 "nbformat": 4,
 "nbformat_minor": 0
}
