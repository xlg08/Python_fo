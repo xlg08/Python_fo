{
 "cells": [
  {
   "cell_type": "code",
   "execution_count": 4,
   "metadata": {
    "collapsed": true,
    "ExecuteTime": {
     "start_time": "2025-04-09T14:48:19.733357Z",
     "end_time": "2025-04-09T14:48:19.745872Z"
    }
   },
   "outputs": [],
   "source": [
    "# 1.导包\n",
    "import pandas as pd\n",
    "import numpy as np\n",
    "import os\n",
    "os.chdir(r\"E:\\ProjectCode\\PythonProjectCode\\pythonProject\\HaskMaProject\")"
   ]
  },
  {
   "cell_type": "code",
   "execution_count": 9,
   "outputs": [
    {
     "data": {
      "text/plain": "                                        article_link  \\\n0  https://www.huffingtonpost.com/entry/versace-b...   \n1  https://www.huffingtonpost.com/entry/roseanne-...   \n2  https://www.huffingtonpost.com/entry/versace-b...   \n3  https://www.huffingtonpost.com/entry/roseanne-...   \n4  https://www.huffingtonpost.com/entry/versace-b...   \n\n                                            headline  is_sarcastic  \n0  former versace store clerk sues over secret 'b...             0  \n1  the 'roseanne' revival catches up to our thorn...             0  \n2  former versace store clerk sues over secret 'b...             0  \n3  the 'roseanne' revival catches up to our thorn...             0  \n4  former versace store clerk sues over secret 'b...             0  ",
      "text/html": "<div>\n<style scoped>\n    .dataframe tbody tr th:only-of-type {\n        vertical-align: middle;\n    }\n\n    .dataframe tbody tr th {\n        vertical-align: top;\n    }\n\n    .dataframe thead th {\n        text-align: right;\n    }\n</style>\n<table border=\"1\" class=\"dataframe\">\n  <thead>\n    <tr style=\"text-align: right;\">\n      <th></th>\n      <th>article_link</th>\n      <th>headline</th>\n      <th>is_sarcastic</th>\n    </tr>\n  </thead>\n  <tbody>\n    <tr>\n      <th>0</th>\n      <td>https://www.huffingtonpost.com/entry/versace-b...</td>\n      <td>former versace store clerk sues over secret 'b...</td>\n      <td>0</td>\n    </tr>\n    <tr>\n      <th>1</th>\n      <td>https://www.huffingtonpost.com/entry/roseanne-...</td>\n      <td>the 'roseanne' revival catches up to our thorn...</td>\n      <td>0</td>\n    </tr>\n    <tr>\n      <th>2</th>\n      <td>https://www.huffingtonpost.com/entry/versace-b...</td>\n      <td>former versace store clerk sues over secret 'b...</td>\n      <td>0</td>\n    </tr>\n    <tr>\n      <th>3</th>\n      <td>https://www.huffingtonpost.com/entry/roseanne-...</td>\n      <td>the 'roseanne' revival catches up to our thorn...</td>\n      <td>0</td>\n    </tr>\n    <tr>\n      <th>4</th>\n      <td>https://www.huffingtonpost.com/entry/versace-b...</td>\n      <td>former versace store clerk sues over secret 'b...</td>\n      <td>0</td>\n    </tr>\n  </tbody>\n</table>\n</div>"
     },
     "execution_count": 9,
     "metadata": {},
     "output_type": "execute_result"
    }
   ],
   "source": [
    "# orient 参数为 限制json字符串格式\n",
    "#     生成一个由行记录组成的列表，每行对应DataFrame中的一行数据\n",
    "# lines 参数 和 orient 参数搭配使用 ，\n",
    "# 参1： 文件读取的路径\n",
    "# 参2： 读取的格式\n",
    "# 参3： 是否按行读取\n",
    "\n",
    "json_df = pd.read_json(r\"./data/test.json\", orient='records', lines=True)\n",
    "json_df"
   ],
   "metadata": {
    "collapsed": false,
    "ExecuteTime": {
     "start_time": "2025-04-09T14:56:09.385015Z",
     "end_time": "2025-04-09T14:56:09.408881Z"
    }
   }
  },
  {
   "cell_type": "code",
   "execution_count": null,
   "outputs": [],
   "source": [
    "# json_df = pd.read_json(r\"./data/test.json\", orient='records')\n",
    "# 结果：[{},{},{}...]\n",
    "#\n",
    "# json_df = pd.read_json(r\"./data/test.json\", orient='records', lines = True)\n",
    "# 结果：{},{},{}...逐行读取"
   ],
   "metadata": {
    "collapsed": false
   }
  },
  {
   "cell_type": "code",
   "execution_count": 10,
   "outputs": [
    {
     "name": "stdout",
     "output_type": "stream",
     "text": [
      "写入成功!\n"
     ]
    }
   ],
   "source": [
    "# to_json\n",
    "# records : 写入方式\n",
    "json_df.to_json(r\"./data/my_json20250409.json\", orient='records',lines=True)\n",
    "print('写入成功!')"
   ],
   "metadata": {
    "collapsed": false,
    "ExecuteTime": {
     "start_time": "2025-04-09T14:56:12.757696Z",
     "end_time": "2025-04-09T14:56:12.782157Z"
    }
   }
  },
  {
   "cell_type": "code",
   "execution_count": 11,
   "outputs": [
    {
     "name": "stdout",
     "output_type": "stream",
     "text": [
      "写入成功!\n"
     ]
    }
   ],
   "source": [
    "# index : 写入方式\n",
    "json_df.to_json(r\"./data/my_json20250409_index.json\", orient='index')\n",
    "print('写入成功!')"
   ],
   "metadata": {
    "collapsed": false,
    "ExecuteTime": {
     "start_time": "2025-04-09T14:57:28.479116Z",
     "end_time": "2025-04-09T14:57:28.537520Z"
    }
   }
  },
  {
   "cell_type": "code",
   "execution_count": null,
   "outputs": [],
   "source": [],
   "metadata": {
    "collapsed": false
   }
  }
 ],
 "metadata": {
  "kernelspec": {
   "display_name": "Python 3",
   "language": "python",
   "name": "python3"
  },
  "language_info": {
   "codemirror_mode": {
    "name": "ipython",
    "version": 2
   },
   "file_extension": ".py",
   "mimetype": "text/x-python",
   "name": "python",
   "nbconvert_exporter": "python",
   "pygments_lexer": "ipython2",
   "version": "2.7.6"
  }
 },
 "nbformat": 4,
 "nbformat_minor": 0
}
