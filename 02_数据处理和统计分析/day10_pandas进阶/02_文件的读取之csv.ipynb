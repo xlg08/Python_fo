{
 "cells": [
  {
   "cell_type": "code",
   "execution_count": 1,
   "metadata": {
    "collapsed": true,
    "ExecuteTime": {
     "start_time": "2025-04-09T11:09:28.737518Z",
     "end_time": "2025-04-09T11:09:29.110020Z"
    }
   },
   "outputs": [],
   "source": [
    "# 1.导包\n",
    "import pandas as pd\n",
    "import numpy as np\n",
    "import os\n",
    "os.chdir(r\"E:\\ProjectCode\\PythonProjectCode\\pythonProject\\HaskMaProject\")\n",
    "# os.getcwd()"
   ]
  },
  {
   "cell_type": "code",
   "execution_count": 5,
   "outputs": [],
   "source": [
    "'''\n",
    "    pandas.read_csv(filepath_or_buffer, sep=',', usecols)\n",
    "        filepath_or_buffer:文件路径\n",
    "        seq:分隔符，默认用','隔开\n",
    "        usecols:指定读取的列名，列表形式\n",
    "'''\n",
    "# 默认的切割方式为 ','\n",
    "df = pd.read_csv(\"data/stock_day.csv\", sep=',', usecols=['open','high','close','low'])\n"
   ],
   "metadata": {
    "collapsed": false,
    "ExecuteTime": {
     "start_time": "2025-04-09T11:18:30.237625Z",
     "end_time": "2025-04-09T11:18:30.263791Z"
    }
   }
  },
  {
   "cell_type": "code",
   "execution_count": 8,
   "outputs": [
    {
     "name": "stdout",
     "output_type": "stream",
     "text": [
      "写入成功！\n"
     ]
    }
   ],
   "source": [
    "# 把读取到的数据写到本地文件中\n",
    "# index表示是否带索引  True 是带索引  False为不带   默认是True\n",
    "df[:10].to_csv('./data/stock_day_20250409_not_index.csv',sep='♥', index=False)\n",
    "print(\"写入成功！\")"
   ],
   "metadata": {
    "collapsed": false,
    "ExecuteTime": {
     "start_time": "2025-04-09T11:23:50.827723Z",
     "end_time": "2025-04-09T11:23:50.838244Z"
    }
   }
  },
  {
   "cell_type": "code",
   "execution_count": null,
   "outputs": [],
   "source": [],
   "metadata": {
    "collapsed": false
   }
  }
 ],
 "metadata": {
  "kernelspec": {
   "display_name": "Python 3",
   "language": "python",
   "name": "python3"
  },
  "language_info": {
   "codemirror_mode": {
    "name": "ipython",
    "version": 2
   },
   "file_extension": ".py",
   "mimetype": "text/x-python",
   "name": "python",
   "nbconvert_exporter": "python",
   "pygments_lexer": "ipython2",
   "version": "2.7.6"
  }
 },
 "nbformat": 4,
 "nbformat_minor": 0
}
