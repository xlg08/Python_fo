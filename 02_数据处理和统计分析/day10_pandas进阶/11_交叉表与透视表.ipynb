{
 "cells": [
  {
   "cell_type": "code",
   "execution_count": 5,
   "metadata": {
    "collapsed": true,
    "ExecuteTime": {
     "start_time": "2025-04-11T10:14:16.048690Z",
     "end_time": "2025-04-11T10:14:16.072759Z"
    }
   },
   "outputs": [],
   "source": [
    "# 1.导包\n",
    "import pandas as pd\n",
    "import numpy as np\n",
    "import os\n",
    "os.chdir(r\"E:\\ProjectCode\\PythonProjectCode\\pythonProject\\HaskMaProject\")\n"
   ]
  },
  {
   "cell_type": "code",
   "execution_count": 2,
   "outputs": [
    {
     "data": {
      "text/plain": "购买  否  是\n性别      \n女   2  2\n男   2  2",
      "text/html": "<div>\n<style scoped>\n    .dataframe tbody tr th:only-of-type {\n        vertical-align: middle;\n    }\n\n    .dataframe tbody tr th {\n        vertical-align: top;\n    }\n\n    .dataframe thead th {\n        text-align: right;\n    }\n</style>\n<table border=\"1\" class=\"dataframe\">\n  <thead>\n    <tr style=\"text-align: right;\">\n      <th>购买</th>\n      <th>否</th>\n      <th>是</th>\n    </tr>\n    <tr>\n      <th>性别</th>\n      <th></th>\n      <th></th>\n    </tr>\n  </thead>\n  <tbody>\n    <tr>\n      <th>女</th>\n      <td>2</td>\n      <td>2</td>\n    </tr>\n    <tr>\n      <th>男</th>\n      <td>2</td>\n      <td>2</td>\n    </tr>\n  </tbody>\n</table>\n</div>"
     },
     "execution_count": 2,
     "metadata": {},
     "output_type": "execute_result"
    }
   ],
   "source": [
    "# 创建一个示例数据集\n",
    "data = {\n",
    "    '性别': ['男', '女', '男', '女', '男', '女', '女', '男'],\n",
    "    '购买': ['是', '否', '是', '是', '否', '否', '是', '否']\n",
    "}\n",
    "\n",
    "df = pd.DataFrame(data)\n",
    "cpd = pd.crosstab(df['性别'],df['购买'])        # 交叉表\n",
    "cpd"
   ],
   "metadata": {
    "collapsed": false,
    "ExecuteTime": {
     "start_time": "2025-04-11T10:08:51.586135Z",
     "end_time": "2025-04-11T10:08:51.633767Z"
    }
   }
  },
  {
   "cell_type": "code",
   "execution_count": 3,
   "outputs": [],
   "source": [
    "# 透视表\n",
    "#   透视表的作用：简化分组写法\n",
    "#   透视表的格式：pd.pivot_table(data=,index=,colums=,values=,aggfunc=,margins=)\n",
    "#   index   分组列作为行索引，可以指定多个列\n",
    "#   colums  分组列值作为列，可以指定多个列\n",
    "#   values  传递需要聚合的列，可以指定多个列\n",
    "#   aggfunc 传递聚合函数，可以使用多个聚合函数\n",
    "#   margins 是否显示行或者列总计"
   ],
   "metadata": {
    "collapsed": false,
    "ExecuteTime": {
     "start_time": "2025-04-11T10:13:47.447469Z",
     "end_time": "2025-04-11T10:13:47.481237Z"
    }
   }
  },
  {
   "cell_type": "code",
   "execution_count": 6,
   "outputs": [
    {
     "data": {
      "text/plain": "       store_id city channel gender_group age_group  wkd_ind product  \\\n0           658   深圳      线下       Female     25-29  Weekday    当季新品   \n1           146   杭州      线下       Female     25-29  Weekday      运动   \n2            70   深圳      线下         Male      >=60  Weekday      T恤   \n3           658   深圳      线下       Female     25-29  Weekday      T恤   \n4           229   深圳      线下         Male     20-24  Weekend      袜子   \n...         ...  ...     ...          ...       ...      ...     ...   \n22288       146   杭州      线下       Female     30-34  Weekday      短裤   \n22289       430   成都      线下       Female     25-29  Weekend      T恤   \n22290       449   武汉      线下       Female     35-39  Weekday      T恤   \n22291       758   杭州      线下       Female     20-24  Weekday      袜子   \n22292       616   成都      线下         Male     30-34  Weekday    当季新品   \n\n       customer  revenue  order  quant  unit_cost  \n0             4    796.0      4      4         59  \n1             1    149.0      1      1         49  \n2             2    178.0      2      2         49  \n3             1     59.0      1      1         49  \n4             2     65.0      2      3          9  \n...         ...      ...    ...    ...        ...  \n22288         1     80.0      1      2         19  \n22289         1     79.0      1      1         49  \n22290         1    158.0      1      2         49  \n22291         1     26.0      1      1          9  \n22292         1     79.0      1      1         59  \n\n[22293 rows x 12 columns]",
      "text/html": "<div>\n<style scoped>\n    .dataframe tbody tr th:only-of-type {\n        vertical-align: middle;\n    }\n\n    .dataframe tbody tr th {\n        vertical-align: top;\n    }\n\n    .dataframe thead th {\n        text-align: right;\n    }\n</style>\n<table border=\"1\" class=\"dataframe\">\n  <thead>\n    <tr style=\"text-align: right;\">\n      <th></th>\n      <th>store_id</th>\n      <th>city</th>\n      <th>channel</th>\n      <th>gender_group</th>\n      <th>age_group</th>\n      <th>wkd_ind</th>\n      <th>product</th>\n      <th>customer</th>\n      <th>revenue</th>\n      <th>order</th>\n      <th>quant</th>\n      <th>unit_cost</th>\n    </tr>\n  </thead>\n  <tbody>\n    <tr>\n      <th>0</th>\n      <td>658</td>\n      <td>深圳</td>\n      <td>线下</td>\n      <td>Female</td>\n      <td>25-29</td>\n      <td>Weekday</td>\n      <td>当季新品</td>\n      <td>4</td>\n      <td>796.0</td>\n      <td>4</td>\n      <td>4</td>\n      <td>59</td>\n    </tr>\n    <tr>\n      <th>1</th>\n      <td>146</td>\n      <td>杭州</td>\n      <td>线下</td>\n      <td>Female</td>\n      <td>25-29</td>\n      <td>Weekday</td>\n      <td>运动</td>\n      <td>1</td>\n      <td>149.0</td>\n      <td>1</td>\n      <td>1</td>\n      <td>49</td>\n    </tr>\n    <tr>\n      <th>2</th>\n      <td>70</td>\n      <td>深圳</td>\n      <td>线下</td>\n      <td>Male</td>\n      <td>&gt;=60</td>\n      <td>Weekday</td>\n      <td>T恤</td>\n      <td>2</td>\n      <td>178.0</td>\n      <td>2</td>\n      <td>2</td>\n      <td>49</td>\n    </tr>\n    <tr>\n      <th>3</th>\n      <td>658</td>\n      <td>深圳</td>\n      <td>线下</td>\n      <td>Female</td>\n      <td>25-29</td>\n      <td>Weekday</td>\n      <td>T恤</td>\n      <td>1</td>\n      <td>59.0</td>\n      <td>1</td>\n      <td>1</td>\n      <td>49</td>\n    </tr>\n    <tr>\n      <th>4</th>\n      <td>229</td>\n      <td>深圳</td>\n      <td>线下</td>\n      <td>Male</td>\n      <td>20-24</td>\n      <td>Weekend</td>\n      <td>袜子</td>\n      <td>2</td>\n      <td>65.0</td>\n      <td>2</td>\n      <td>3</td>\n      <td>9</td>\n    </tr>\n    <tr>\n      <th>...</th>\n      <td>...</td>\n      <td>...</td>\n      <td>...</td>\n      <td>...</td>\n      <td>...</td>\n      <td>...</td>\n      <td>...</td>\n      <td>...</td>\n      <td>...</td>\n      <td>...</td>\n      <td>...</td>\n      <td>...</td>\n    </tr>\n    <tr>\n      <th>22288</th>\n      <td>146</td>\n      <td>杭州</td>\n      <td>线下</td>\n      <td>Female</td>\n      <td>30-34</td>\n      <td>Weekday</td>\n      <td>短裤</td>\n      <td>1</td>\n      <td>80.0</td>\n      <td>1</td>\n      <td>2</td>\n      <td>19</td>\n    </tr>\n    <tr>\n      <th>22289</th>\n      <td>430</td>\n      <td>成都</td>\n      <td>线下</td>\n      <td>Female</td>\n      <td>25-29</td>\n      <td>Weekend</td>\n      <td>T恤</td>\n      <td>1</td>\n      <td>79.0</td>\n      <td>1</td>\n      <td>1</td>\n      <td>49</td>\n    </tr>\n    <tr>\n      <th>22290</th>\n      <td>449</td>\n      <td>武汉</td>\n      <td>线下</td>\n      <td>Female</td>\n      <td>35-39</td>\n      <td>Weekday</td>\n      <td>T恤</td>\n      <td>1</td>\n      <td>158.0</td>\n      <td>1</td>\n      <td>2</td>\n      <td>49</td>\n    </tr>\n    <tr>\n      <th>22291</th>\n      <td>758</td>\n      <td>杭州</td>\n      <td>线下</td>\n      <td>Female</td>\n      <td>20-24</td>\n      <td>Weekday</td>\n      <td>袜子</td>\n      <td>1</td>\n      <td>26.0</td>\n      <td>1</td>\n      <td>1</td>\n      <td>9</td>\n    </tr>\n    <tr>\n      <th>22292</th>\n      <td>616</td>\n      <td>成都</td>\n      <td>线下</td>\n      <td>Male</td>\n      <td>30-34</td>\n      <td>Weekday</td>\n      <td>当季新品</td>\n      <td>1</td>\n      <td>79.0</td>\n      <td>1</td>\n      <td>1</td>\n      <td>59</td>\n    </tr>\n  </tbody>\n</table>\n<p>22293 rows × 12 columns</p>\n</div>"
     },
     "execution_count": 6,
     "metadata": {},
     "output_type": "execute_result"
    }
   ],
   "source": [
    "df = pd.read_csv(\"./data/uniqlo.csv\")\n",
    "df"
   ],
   "metadata": {
    "collapsed": false,
    "ExecuteTime": {
     "start_time": "2025-04-11T10:14:30.353501Z",
     "end_time": "2025-04-11T10:14:30.414190Z"
    }
   }
  },
  {
   "cell_type": "code",
   "execution_count": 7,
   "outputs": [
    {
     "name": "stderr",
     "output_type": "stream",
     "text": [
      "C:\\Users\\LG\\AppData\\Local\\Temp\\ipykernel_16048\\2905188615.py:3: FutureWarning: The provided callable <built-in function sum> is currently using SeriesGroupBy.sum. In a future version of pandas, the provided callable will be used directly. To keep current behavior pass the string \"sum\" instead.\n",
      "  df.groupby(['city','channel']).agg({'revenue':sum})\n"
     ]
    },
    {
     "data": {
      "text/plain": "                revenue\ncity channel           \n上海   线上       114438.09\n     线下       275383.64\n北京   线下       130458.62\n南京   线下       123150.93\n广州   线上       200893.30\n     线下       117231.19\n成都   线下       208189.86\n杭州   线下       589518.49\n武汉   线上       281420.73\n     线下       308357.05\n深圳   线下       733123.68\n西安   线上        30088.01\n     线下       180686.61\n重庆   线上        26330.35\n     线下       237162.30",
      "text/html": "<div>\n<style scoped>\n    .dataframe tbody tr th:only-of-type {\n        vertical-align: middle;\n    }\n\n    .dataframe tbody tr th {\n        vertical-align: top;\n    }\n\n    .dataframe thead th {\n        text-align: right;\n    }\n</style>\n<table border=\"1\" class=\"dataframe\">\n  <thead>\n    <tr style=\"text-align: right;\">\n      <th></th>\n      <th></th>\n      <th>revenue</th>\n    </tr>\n    <tr>\n      <th>city</th>\n      <th>channel</th>\n      <th></th>\n    </tr>\n  </thead>\n  <tbody>\n    <tr>\n      <th rowspan=\"2\" valign=\"top\">上海</th>\n      <th>线上</th>\n      <td>114438.09</td>\n    </tr>\n    <tr>\n      <th>线下</th>\n      <td>275383.64</td>\n    </tr>\n    <tr>\n      <th>北京</th>\n      <th>线下</th>\n      <td>130458.62</td>\n    </tr>\n    <tr>\n      <th>南京</th>\n      <th>线下</th>\n      <td>123150.93</td>\n    </tr>\n    <tr>\n      <th rowspan=\"2\" valign=\"top\">广州</th>\n      <th>线上</th>\n      <td>200893.30</td>\n    </tr>\n    <tr>\n      <th>线下</th>\n      <td>117231.19</td>\n    </tr>\n    <tr>\n      <th>成都</th>\n      <th>线下</th>\n      <td>208189.86</td>\n    </tr>\n    <tr>\n      <th>杭州</th>\n      <th>线下</th>\n      <td>589518.49</td>\n    </tr>\n    <tr>\n      <th rowspan=\"2\" valign=\"top\">武汉</th>\n      <th>线上</th>\n      <td>281420.73</td>\n    </tr>\n    <tr>\n      <th>线下</th>\n      <td>308357.05</td>\n    </tr>\n    <tr>\n      <th>深圳</th>\n      <th>线下</th>\n      <td>733123.68</td>\n    </tr>\n    <tr>\n      <th rowspan=\"2\" valign=\"top\">西安</th>\n      <th>线上</th>\n      <td>30088.01</td>\n    </tr>\n    <tr>\n      <th>线下</th>\n      <td>180686.61</td>\n    </tr>\n    <tr>\n      <th rowspan=\"2\" valign=\"top\">重庆</th>\n      <th>线上</th>\n      <td>26330.35</td>\n    </tr>\n    <tr>\n      <th>线下</th>\n      <td>237162.30</td>\n    </tr>\n  </tbody>\n</table>\n</div>"
     },
     "execution_count": 7,
     "metadata": {},
     "output_type": "execute_result"
    }
   ],
   "source": [
    "# 需求:根据城市、销售渠道分组，计算销售金额的总和\n",
    "#   写法一：groupby+agg\n",
    "df.groupby(['city','channel']).agg({'revenue':sum})"
   ],
   "metadata": {
    "collapsed": false,
    "ExecuteTime": {
     "start_time": "2025-04-11T10:16:18.424153Z",
     "end_time": "2025-04-11T10:16:18.467481Z"
    }
   }
  },
  {
   "cell_type": "code",
   "execution_count": 11,
   "outputs": [
    {
     "data": {
      "text/plain": "channel         线上         线下\ncity                         \n上海       114438.09  275383.64\n北京             NaN  130458.62\n南京             NaN  123150.93\n广州       200893.30  117231.19\n成都             NaN  208189.86\n杭州             NaN  589518.49\n武汉       281420.73  308357.05\n深圳             NaN  733123.68\n西安        30088.01  180686.61\n重庆        26330.35  237162.30",
      "text/html": "<div>\n<style scoped>\n    .dataframe tbody tr th:only-of-type {\n        vertical-align: middle;\n    }\n\n    .dataframe tbody tr th {\n        vertical-align: top;\n    }\n\n    .dataframe thead th {\n        text-align: right;\n    }\n</style>\n<table border=\"1\" class=\"dataframe\">\n  <thead>\n    <tr style=\"text-align: right;\">\n      <th>channel</th>\n      <th>线上</th>\n      <th>线下</th>\n    </tr>\n    <tr>\n      <th>city</th>\n      <th></th>\n      <th></th>\n    </tr>\n  </thead>\n  <tbody>\n    <tr>\n      <th>上海</th>\n      <td>114438.09</td>\n      <td>275383.64</td>\n    </tr>\n    <tr>\n      <th>北京</th>\n      <td>NaN</td>\n      <td>130458.62</td>\n    </tr>\n    <tr>\n      <th>南京</th>\n      <td>NaN</td>\n      <td>123150.93</td>\n    </tr>\n    <tr>\n      <th>广州</th>\n      <td>200893.30</td>\n      <td>117231.19</td>\n    </tr>\n    <tr>\n      <th>成都</th>\n      <td>NaN</td>\n      <td>208189.86</td>\n    </tr>\n    <tr>\n      <th>杭州</th>\n      <td>NaN</td>\n      <td>589518.49</td>\n    </tr>\n    <tr>\n      <th>武汉</th>\n      <td>281420.73</td>\n      <td>308357.05</td>\n    </tr>\n    <tr>\n      <th>深圳</th>\n      <td>NaN</td>\n      <td>733123.68</td>\n    </tr>\n    <tr>\n      <th>西安</th>\n      <td>30088.01</td>\n      <td>180686.61</td>\n    </tr>\n    <tr>\n      <th>重庆</th>\n      <td>26330.35</td>\n      <td>237162.30</td>\n    </tr>\n  </tbody>\n</table>\n</div>"
     },
     "execution_count": 11,
     "metadata": {},
     "output_type": "execute_result"
    }
   ],
   "source": [
    "# 写法二：透视表写法\n",
    "#   参数一：指定分组字段,作为新表索引\n",
    "#   参数二：指定分组的字段\n",
    "#   参数三：指定聚合的字段\n",
    "#   参数四：指定聚合参数\n",
    "df.pivot_table(index='city',columns='channel',values='revenue',aggfunc='sum')"
   ],
   "metadata": {
    "collapsed": false,
    "ExecuteTime": {
     "start_time": "2025-04-11T10:19:27.968278Z",
     "end_time": "2025-04-11T10:19:28.014550Z"
    }
   }
  },
  {
   "cell_type": "code",
   "execution_count": 12,
   "outputs": [
    {
     "data": {
      "text/plain": "city            上海                    北京         南京        广州             \\\nchannel         线上         线下         线下         线下        线上         线下   \nrevenue  114438.09  275383.64  130458.62  123150.93  200893.3  117231.19   \n\ncity            成都         杭州         武汉                    深圳        西安  \\\nchannel         线下         线下         线上         线下         线下        线上   \nrevenue  208189.86  589518.49  281420.73  308357.05  733123.68  30088.01   \n\ncity                      重庆            \nchannel         线下        线上        线下  \nrevenue  180686.61  26330.35  237162.3  ",
      "text/html": "<div>\n<style scoped>\n    .dataframe tbody tr th:only-of-type {\n        vertical-align: middle;\n    }\n\n    .dataframe tbody tr th {\n        vertical-align: top;\n    }\n\n    .dataframe thead tr th {\n        text-align: left;\n    }\n</style>\n<table border=\"1\" class=\"dataframe\">\n  <thead>\n    <tr>\n      <th>city</th>\n      <th colspan=\"2\" halign=\"left\">上海</th>\n      <th>北京</th>\n      <th>南京</th>\n      <th colspan=\"2\" halign=\"left\">广州</th>\n      <th>成都</th>\n      <th>杭州</th>\n      <th colspan=\"2\" halign=\"left\">武汉</th>\n      <th>深圳</th>\n      <th colspan=\"2\" halign=\"left\">西安</th>\n      <th colspan=\"2\" halign=\"left\">重庆</th>\n    </tr>\n    <tr>\n      <th>channel</th>\n      <th>线上</th>\n      <th>线下</th>\n      <th>线下</th>\n      <th>线下</th>\n      <th>线上</th>\n      <th>线下</th>\n      <th>线下</th>\n      <th>线下</th>\n      <th>线上</th>\n      <th>线下</th>\n      <th>线下</th>\n      <th>线上</th>\n      <th>线下</th>\n      <th>线上</th>\n      <th>线下</th>\n    </tr>\n  </thead>\n  <tbody>\n    <tr>\n      <th>revenue</th>\n      <td>114438.09</td>\n      <td>275383.64</td>\n      <td>130458.62</td>\n      <td>123150.93</td>\n      <td>200893.3</td>\n      <td>117231.19</td>\n      <td>208189.86</td>\n      <td>589518.49</td>\n      <td>281420.73</td>\n      <td>308357.05</td>\n      <td>733123.68</td>\n      <td>30088.01</td>\n      <td>180686.61</td>\n      <td>26330.35</td>\n      <td>237162.3</td>\n    </tr>\n  </tbody>\n</table>\n</div>"
     },
     "execution_count": 12,
     "metadata": {},
     "output_type": "execute_result"
    }
   ],
   "source": [
    "# 传递多个值使用列表 []\n",
    "df.pivot_table(columns=['city','channel'],values='revenue',aggfunc='sum')"
   ],
   "metadata": {
    "collapsed": false,
    "ExecuteTime": {
     "start_time": "2025-04-11T10:21:52.226327Z",
     "end_time": "2025-04-11T10:21:52.281890Z"
    }
   }
  },
  {
   "cell_type": "code",
   "execution_count": null,
   "outputs": [],
   "source": [],
   "metadata": {
    "collapsed": false
   }
  }
 ],
 "metadata": {
  "kernelspec": {
   "display_name": "Python 3",
   "language": "python",
   "name": "python3"
  },
  "language_info": {
   "codemirror_mode": {
    "name": "ipython",
    "version": 2
   },
   "file_extension": ".py",
   "mimetype": "text/x-python",
   "name": "python",
   "nbconvert_exporter": "python",
   "pygments_lexer": "ipython2",
   "version": "2.7.6"
  }
 },
 "nbformat": 4,
 "nbformat_minor": 0
}
