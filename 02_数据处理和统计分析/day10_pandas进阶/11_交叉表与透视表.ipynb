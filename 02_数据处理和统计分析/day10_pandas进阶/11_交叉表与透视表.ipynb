{
 "cells": [
  {
   "cell_type": "code",
   "execution_count": 2,
   "metadata": {
    "collapsed": true,
    "ExecuteTime": {
     "start_time": "2025-04-13T08:50:35.105469Z",
     "end_time": "2025-04-13T08:50:38.013964Z"
    }
   },
   "outputs": [],
   "source": [
    "# 1.导包\n",
    "import pandas as pd\n",
    "import numpy as np\n",
    "import os\n",
    "os.chdir(r\"E:\\ProjectCode\\PythonProjectCode\\pythonProject\\HaskMaProject\")\n"
   ]
  },
  {
   "cell_type": "code",
   "execution_count": 3,
   "outputs": [
    {
     "data": {
      "text/plain": "购买  否  是\n性别      \n女   2  2\n男   2  2",
      "text/html": "<div>\n<style scoped>\n    .dataframe tbody tr th:only-of-type {\n        vertical-align: middle;\n    }\n\n    .dataframe tbody tr th {\n        vertical-align: top;\n    }\n\n    .dataframe thead th {\n        text-align: right;\n    }\n</style>\n<table border=\"1\" class=\"dataframe\">\n  <thead>\n    <tr style=\"text-align: right;\">\n      <th>购买</th>\n      <th>否</th>\n      <th>是</th>\n    </tr>\n    <tr>\n      <th>性别</th>\n      <th></th>\n      <th></th>\n    </tr>\n  </thead>\n  <tbody>\n    <tr>\n      <th>女</th>\n      <td>2</td>\n      <td>2</td>\n    </tr>\n    <tr>\n      <th>男</th>\n      <td>2</td>\n      <td>2</td>\n    </tr>\n  </tbody>\n</table>\n</div>"
     },
     "execution_count": 3,
     "metadata": {},
     "output_type": "execute_result"
    }
   ],
   "source": [
    "# 创建一个示例数据集\n",
    "data = {\n",
    "    '性别': ['男', '女', '男', '女', '男', '女', '女', '男'],\n",
    "    '购买': ['是', '否', '是', '是', '否', '否', '是', '否']\n",
    "}\n",
    "\n",
    "df = pd.DataFrame(data)\n",
    "cpd = pd.crosstab(df['性别'],df['购买'])        # 交叉表\n",
    "cpd"
   ],
   "metadata": {
    "collapsed": false,
    "ExecuteTime": {
     "start_time": "2025-04-13T08:50:39.269216Z",
     "end_time": "2025-04-13T08:50:39.316280Z"
    }
   }
  },
  {
   "cell_type": "code",
   "execution_count": 3,
   "outputs": [],
   "source": [
    "# 透视表\n",
    "#   透视表的作用：简化分组写法\n",
    "#   透视表的格式：pd.pivot_table(data=,index=,colums=,values=,aggfunc=,margins=)\n",
    "#   index   分组列作为行索引，可以指定多个列\n",
    "#   colums  分组列值作为列，可以指定多个列\n",
    "#   values  传递需要聚合的列，可以指定多个列    若未指定 values，默认对所有数值列进行聚合。\n",
    "#   aggfunc 传递聚合函数，可以使用多个聚合函数   # 因为透视表就越是简化分组的，因此聚合函数是必传参数\n",
    "#   margins 是否显示行或者列总计"
   ],
   "metadata": {
    "collapsed": false,
    "ExecuteTime": {
     "start_time": "2025-04-11T10:13:47.447469Z",
     "end_time": "2025-04-11T10:13:47.481237Z"
    }
   }
  },
  {
   "cell_type": "code",
   "execution_count": 5,
   "outputs": [
    {
     "data": {
      "text/plain": "       store_id city channel gender_group age_group  wkd_ind product  \\\n0           658   深圳      线下       Female     25-29  Weekday    当季新品   \n1           146   杭州      线下       Female     25-29  Weekday      运动   \n2            70   深圳      线下         Male      >=60  Weekday      T恤   \n3           658   深圳      线下       Female     25-29  Weekday      T恤   \n4           229   深圳      线下         Male     20-24  Weekend      袜子   \n...         ...  ...     ...          ...       ...      ...     ...   \n22288       146   杭州      线下       Female     30-34  Weekday      短裤   \n22289       430   成都      线下       Female     25-29  Weekend      T恤   \n22290       449   武汉      线下       Female     35-39  Weekday      T恤   \n22291       758   杭州      线下       Female     20-24  Weekday      袜子   \n22292       616   成都      线下         Male     30-34  Weekday    当季新品   \n\n       customer  revenue  order  quant  unit_cost  \n0             4    796.0      4      4         59  \n1             1    149.0      1      1         49  \n2             2    178.0      2      2         49  \n3             1     59.0      1      1         49  \n4             2     65.0      2      3          9  \n...         ...      ...    ...    ...        ...  \n22288         1     80.0      1      2         19  \n22289         1     79.0      1      1         49  \n22290         1    158.0      1      2         49  \n22291         1     26.0      1      1          9  \n22292         1     79.0      1      1         59  \n\n[22293 rows x 12 columns]",
      "text/html": "<div>\n<style scoped>\n    .dataframe tbody tr th:only-of-type {\n        vertical-align: middle;\n    }\n\n    .dataframe tbody tr th {\n        vertical-align: top;\n    }\n\n    .dataframe thead th {\n        text-align: right;\n    }\n</style>\n<table border=\"1\" class=\"dataframe\">\n  <thead>\n    <tr style=\"text-align: right;\">\n      <th></th>\n      <th>store_id</th>\n      <th>city</th>\n      <th>channel</th>\n      <th>gender_group</th>\n      <th>age_group</th>\n      <th>wkd_ind</th>\n      <th>product</th>\n      <th>customer</th>\n      <th>revenue</th>\n      <th>order</th>\n      <th>quant</th>\n      <th>unit_cost</th>\n    </tr>\n  </thead>\n  <tbody>\n    <tr>\n      <th>0</th>\n      <td>658</td>\n      <td>深圳</td>\n      <td>线下</td>\n      <td>Female</td>\n      <td>25-29</td>\n      <td>Weekday</td>\n      <td>当季新品</td>\n      <td>4</td>\n      <td>796.0</td>\n      <td>4</td>\n      <td>4</td>\n      <td>59</td>\n    </tr>\n    <tr>\n      <th>1</th>\n      <td>146</td>\n      <td>杭州</td>\n      <td>线下</td>\n      <td>Female</td>\n      <td>25-29</td>\n      <td>Weekday</td>\n      <td>运动</td>\n      <td>1</td>\n      <td>149.0</td>\n      <td>1</td>\n      <td>1</td>\n      <td>49</td>\n    </tr>\n    <tr>\n      <th>2</th>\n      <td>70</td>\n      <td>深圳</td>\n      <td>线下</td>\n      <td>Male</td>\n      <td>&gt;=60</td>\n      <td>Weekday</td>\n      <td>T恤</td>\n      <td>2</td>\n      <td>178.0</td>\n      <td>2</td>\n      <td>2</td>\n      <td>49</td>\n    </tr>\n    <tr>\n      <th>3</th>\n      <td>658</td>\n      <td>深圳</td>\n      <td>线下</td>\n      <td>Female</td>\n      <td>25-29</td>\n      <td>Weekday</td>\n      <td>T恤</td>\n      <td>1</td>\n      <td>59.0</td>\n      <td>1</td>\n      <td>1</td>\n      <td>49</td>\n    </tr>\n    <tr>\n      <th>4</th>\n      <td>229</td>\n      <td>深圳</td>\n      <td>线下</td>\n      <td>Male</td>\n      <td>20-24</td>\n      <td>Weekend</td>\n      <td>袜子</td>\n      <td>2</td>\n      <td>65.0</td>\n      <td>2</td>\n      <td>3</td>\n      <td>9</td>\n    </tr>\n    <tr>\n      <th>...</th>\n      <td>...</td>\n      <td>...</td>\n      <td>...</td>\n      <td>...</td>\n      <td>...</td>\n      <td>...</td>\n      <td>...</td>\n      <td>...</td>\n      <td>...</td>\n      <td>...</td>\n      <td>...</td>\n      <td>...</td>\n    </tr>\n    <tr>\n      <th>22288</th>\n      <td>146</td>\n      <td>杭州</td>\n      <td>线下</td>\n      <td>Female</td>\n      <td>30-34</td>\n      <td>Weekday</td>\n      <td>短裤</td>\n      <td>1</td>\n      <td>80.0</td>\n      <td>1</td>\n      <td>2</td>\n      <td>19</td>\n    </tr>\n    <tr>\n      <th>22289</th>\n      <td>430</td>\n      <td>成都</td>\n      <td>线下</td>\n      <td>Female</td>\n      <td>25-29</td>\n      <td>Weekend</td>\n      <td>T恤</td>\n      <td>1</td>\n      <td>79.0</td>\n      <td>1</td>\n      <td>1</td>\n      <td>49</td>\n    </tr>\n    <tr>\n      <th>22290</th>\n      <td>449</td>\n      <td>武汉</td>\n      <td>线下</td>\n      <td>Female</td>\n      <td>35-39</td>\n      <td>Weekday</td>\n      <td>T恤</td>\n      <td>1</td>\n      <td>158.0</td>\n      <td>1</td>\n      <td>2</td>\n      <td>49</td>\n    </tr>\n    <tr>\n      <th>22291</th>\n      <td>758</td>\n      <td>杭州</td>\n      <td>线下</td>\n      <td>Female</td>\n      <td>20-24</td>\n      <td>Weekday</td>\n      <td>袜子</td>\n      <td>1</td>\n      <td>26.0</td>\n      <td>1</td>\n      <td>1</td>\n      <td>9</td>\n    </tr>\n    <tr>\n      <th>22292</th>\n      <td>616</td>\n      <td>成都</td>\n      <td>线下</td>\n      <td>Male</td>\n      <td>30-34</td>\n      <td>Weekday</td>\n      <td>当季新品</td>\n      <td>1</td>\n      <td>79.0</td>\n      <td>1</td>\n      <td>1</td>\n      <td>59</td>\n    </tr>\n  </tbody>\n</table>\n<p>22293 rows × 12 columns</p>\n</div>"
     },
     "execution_count": 5,
     "metadata": {},
     "output_type": "execute_result"
    }
   ],
   "source": [
    "df = pd.read_csv(\"./data/uniqlo.csv\")\n",
    "df"
   ],
   "metadata": {
    "collapsed": false,
    "ExecuteTime": {
     "start_time": "2025-04-13T08:52:45.245745Z",
     "end_time": "2025-04-13T08:52:45.310027Z"
    }
   }
  },
  {
   "cell_type": "code",
   "execution_count": 7,
   "outputs": [
    {
     "name": "stderr",
     "output_type": "stream",
     "text": [
      "C:\\Users\\LG\\AppData\\Local\\Temp\\ipykernel_16048\\2905188615.py:3: FutureWarning: The provided callable <built-in function sum> is currently using SeriesGroupBy.sum. In a future version of pandas, the provided callable will be used directly. To keep current behavior pass the string \"sum\" instead.\n",
      "  df.groupby(['city','channel']).agg({'revenue':sum})\n"
     ]
    },
    {
     "data": {
      "text/plain": "                revenue\ncity channel           \n上海   线上       114438.09\n     线下       275383.64\n北京   线下       130458.62\n南京   线下       123150.93\n广州   线上       200893.30\n     线下       117231.19\n成都   线下       208189.86\n杭州   线下       589518.49\n武汉   线上       281420.73\n     线下       308357.05\n深圳   线下       733123.68\n西安   线上        30088.01\n     线下       180686.61\n重庆   线上        26330.35\n     线下       237162.30",
      "text/html": "<div>\n<style scoped>\n    .dataframe tbody tr th:only-of-type {\n        vertical-align: middle;\n    }\n\n    .dataframe tbody tr th {\n        vertical-align: top;\n    }\n\n    .dataframe thead th {\n        text-align: right;\n    }\n</style>\n<table border=\"1\" class=\"dataframe\">\n  <thead>\n    <tr style=\"text-align: right;\">\n      <th></th>\n      <th></th>\n      <th>revenue</th>\n    </tr>\n    <tr>\n      <th>city</th>\n      <th>channel</th>\n      <th></th>\n    </tr>\n  </thead>\n  <tbody>\n    <tr>\n      <th rowspan=\"2\" valign=\"top\">上海</th>\n      <th>线上</th>\n      <td>114438.09</td>\n    </tr>\n    <tr>\n      <th>线下</th>\n      <td>275383.64</td>\n    </tr>\n    <tr>\n      <th>北京</th>\n      <th>线下</th>\n      <td>130458.62</td>\n    </tr>\n    <tr>\n      <th>南京</th>\n      <th>线下</th>\n      <td>123150.93</td>\n    </tr>\n    <tr>\n      <th rowspan=\"2\" valign=\"top\">广州</th>\n      <th>线上</th>\n      <td>200893.30</td>\n    </tr>\n    <tr>\n      <th>线下</th>\n      <td>117231.19</td>\n    </tr>\n    <tr>\n      <th>成都</th>\n      <th>线下</th>\n      <td>208189.86</td>\n    </tr>\n    <tr>\n      <th>杭州</th>\n      <th>线下</th>\n      <td>589518.49</td>\n    </tr>\n    <tr>\n      <th rowspan=\"2\" valign=\"top\">武汉</th>\n      <th>线上</th>\n      <td>281420.73</td>\n    </tr>\n    <tr>\n      <th>线下</th>\n      <td>308357.05</td>\n    </tr>\n    <tr>\n      <th>深圳</th>\n      <th>线下</th>\n      <td>733123.68</td>\n    </tr>\n    <tr>\n      <th rowspan=\"2\" valign=\"top\">西安</th>\n      <th>线上</th>\n      <td>30088.01</td>\n    </tr>\n    <tr>\n      <th>线下</th>\n      <td>180686.61</td>\n    </tr>\n    <tr>\n      <th rowspan=\"2\" valign=\"top\">重庆</th>\n      <th>线上</th>\n      <td>26330.35</td>\n    </tr>\n    <tr>\n      <th>线下</th>\n      <td>237162.30</td>\n    </tr>\n  </tbody>\n</table>\n</div>"
     },
     "execution_count": 7,
     "metadata": {},
     "output_type": "execute_result"
    }
   ],
   "source": [
    "# 需求:根据城市、销售渠道分组，计算销售金额的总和\n",
    "#   写法一：groupby+agg\n",
    "df.groupby(['city','channel']).agg({'revenue':sum})"
   ],
   "metadata": {
    "collapsed": false,
    "ExecuteTime": {
     "start_time": "2025-04-11T10:16:18.424153Z",
     "end_time": "2025-04-11T10:16:18.467481Z"
    }
   }
  },
  {
   "cell_type": "code",
   "execution_count": 8,
   "outputs": [
    {
     "data": {
      "text/plain": "channel                                                      线上  \\\nage_group     35-3935-39>=6045-4950-5425-2930-3420-2450-5440...   \ncity          武汉武汉广州广州重庆武汉武汉上海武汉武汉武汉武汉广州重庆广州西安武汉武汉广州西安上海武汉广州...   \ncustomer                                                   6745   \ngender_group  FemaleMaleMaleFemaleFemaleMaleMaleFemaleFemale...   \norder                                                      6823   \nproduct       T恤短裤T恤当季新品短裤T恤短裤T恤T恤当季新品T恤当季新品T恤T恤T恤T恤T恤袜子牛仔裤T...   \nquant                                                      7652   \nrevenue                                               653170.48   \nstore_id                                                 685383   \nunit_cost                                                175110   \nwkd_ind       WeekendWeekendWeekdayWeekdayWeekendWeekendWeek...   \n\nchannel                                                      线下  \nage_group     25-2925-29>=6025-2920-2425-29>=6030-3445-4920-...  \ncity          深圳杭州深圳深圳深圳杭州杭州杭州北京重庆重庆杭州深圳西安深圳杭州重庆深圳重庆西安南京广州深圳...  \ncustomer                                                  29581  \ngender_group  FemaleFemaleMaleFemaleMaleFemaleMaleFemaleFema...  \norder                                                     30005  \nproduct       当季新品运动T恤T恤袜子短裤T恤牛仔裤毛衣配件T恤当季新品T恤T恤短裤袜子T恤牛仔裤T恤短裤...  \nquant                                                     33770  \nrevenue                                              2903262.37  \nstore_id                                                6791501  \nunit_cost                                                853147  \nwkd_ind       WeekdayWeekdayWeekdayWeekdayWeekendWeekendWeek...  ",
      "text/html": "<div>\n<style scoped>\n    .dataframe tbody tr th:only-of-type {\n        vertical-align: middle;\n    }\n\n    .dataframe tbody tr th {\n        vertical-align: top;\n    }\n\n    .dataframe thead th {\n        text-align: right;\n    }\n</style>\n<table border=\"1\" class=\"dataframe\">\n  <thead>\n    <tr style=\"text-align: right;\">\n      <th>channel</th>\n      <th>线上</th>\n      <th>线下</th>\n    </tr>\n  </thead>\n  <tbody>\n    <tr>\n      <th>age_group</th>\n      <td>35-3935-39&gt;=6045-4950-5425-2930-3420-2450-5440...</td>\n      <td>25-2925-29&gt;=6025-2920-2425-29&gt;=6030-3445-4920-...</td>\n    </tr>\n    <tr>\n      <th>city</th>\n      <td>武汉武汉广州广州重庆武汉武汉上海武汉武汉武汉武汉广州重庆广州西安武汉武汉广州西安上海武汉广州...</td>\n      <td>深圳杭州深圳深圳深圳杭州杭州杭州北京重庆重庆杭州深圳西安深圳杭州重庆深圳重庆西安南京广州深圳...</td>\n    </tr>\n    <tr>\n      <th>customer</th>\n      <td>6745</td>\n      <td>29581</td>\n    </tr>\n    <tr>\n      <th>gender_group</th>\n      <td>FemaleMaleMaleFemaleFemaleMaleMaleFemaleFemale...</td>\n      <td>FemaleFemaleMaleFemaleMaleFemaleMaleFemaleFema...</td>\n    </tr>\n    <tr>\n      <th>order</th>\n      <td>6823</td>\n      <td>30005</td>\n    </tr>\n    <tr>\n      <th>product</th>\n      <td>T恤短裤T恤当季新品短裤T恤短裤T恤T恤当季新品T恤当季新品T恤T恤T恤T恤T恤袜子牛仔裤T...</td>\n      <td>当季新品运动T恤T恤袜子短裤T恤牛仔裤毛衣配件T恤当季新品T恤T恤短裤袜子T恤牛仔裤T恤短裤...</td>\n    </tr>\n    <tr>\n      <th>quant</th>\n      <td>7652</td>\n      <td>33770</td>\n    </tr>\n    <tr>\n      <th>revenue</th>\n      <td>653170.48</td>\n      <td>2903262.37</td>\n    </tr>\n    <tr>\n      <th>store_id</th>\n      <td>685383</td>\n      <td>6791501</td>\n    </tr>\n    <tr>\n      <th>unit_cost</th>\n      <td>175110</td>\n      <td>853147</td>\n    </tr>\n    <tr>\n      <th>wkd_ind</th>\n      <td>WeekendWeekendWeekdayWeekdayWeekendWeekendWeek...</td>\n      <td>WeekdayWeekdayWeekdayWeekdayWeekendWeekendWeek...</td>\n    </tr>\n  </tbody>\n</table>\n</div>"
     },
     "execution_count": 8,
     "metadata": {},
     "output_type": "execute_result"
    }
   ],
   "source": [
    "# 写法二：透视表写法\n",
    "#   参数一：指定分组字段,作为新表索引\n",
    "#   参数二：指定分组的字段\n",
    "#   参数三：指定聚合的字段\n",
    "#   参数四：指定聚合参数\n",
    "df.pivot_table(index='city',columns='channel',values='revenue',aggfunc='sum')"
   ],
   "metadata": {
    "collapsed": false,
    "ExecuteTime": {
     "start_time": "2025-04-13T08:53:20.306919Z",
     "end_time": "2025-04-13T08:53:20.606109Z"
    }
   }
  },
  {
   "cell_type": "code",
   "execution_count": 6,
   "outputs": [
    {
     "data": {
      "text/plain": "city                                                         上海  \\\nchannel                                                      线上   \nage_group     20-2435-3930-3450-5420-24>=6045-4935-3935-39>=...   \ncustomer                                                   1219   \ngender_group  FemaleFemaleMaleFemaleFemaleFemaleFemaleMaleFe...   \norder                                                      1237   \nproduct       T恤牛仔裤T恤配件T恤配件当季新品T恤牛仔裤裙子当季新品T恤T恤T恤T恤短裤T恤短裤袜子当季...   \nquant                                                      1393   \nrevenue                                               114438.09   \nstore_id                                                 126270   \nunit_cost                                                 27980   \nwkd_ind       WeekendWeekdayWeekdayWeekdayWeekdayWeekdayWeek...   \n\ncity                                                             \\\nchannel                                                      线下   \nage_group     30-3425-2920-2450-5435-3930-3420-2430-3445-492...   \ncustomer                                                   2754   \ngender_group  FemaleMaleFemaleFemaleFemaleFemaleFemaleFemale...   \norder                                                      2800   \nproduct       当季新品毛衣当季新品当季新品配件短裤袜子T恤牛仔裤当季新品T恤当季新品T恤袜子T恤当季新品袜...   \nquant                                                      3212   \nrevenue                                               275383.64   \nstore_id                                                 498871   \nunit_cost                                                 82359   \nwkd_ind       WeekendWeekdayWeekdayWeekendWeekendWeekdayWeek...   \n\ncity                                                         北京  \\\nchannel                                                      线下   \nage_group     45-4935-3945-4920-2435-3930-3435-3925-2930-342...   \ncustomer                                                   1289   \ngender_group  FemaleFemaleFemaleMaleFemaleFemaleMaleMaleFema...   \norder                                                      1303   \nproduct       毛衣毛衣配件T恤牛仔裤当季新品运动T恤当季新品T恤配件T恤牛仔裤当季新品当季新品T恤T恤袜子...   \nquant                                                      1477   \nrevenue                                               130458.62   \nstore_id                                                  12117   \nunit_cost                                                 26163   \nwkd_ind       WeekendWeekdayWeekendWeekdayWeekendWeekdayWeek...   \n\ncity                                                         南京  \\\nchannel                                                      线下   \nage_group     35-3945-4935-3930-3430-3430-3440-4455-59<2025-...   \ncustomer                                                   1098   \ngender_group  FemaleFemaleFemaleFemaleFemaleFemaleFemaleFema...   \norder                                                      1113   \nproduct       T恤毛衣T恤T恤T恤裙子T恤袜子T恤T恤T恤当季新品T恤牛仔裤T恤运动T恤T恤T恤T恤T恤配...   \nquant                                                      1265   \nrevenue                                               123150.93   \nstore_id                                                   9500   \nunit_cost                                                 23140   \nwkd_ind       WeekendWeekdayWeekendWeekendWeekdayWeekdayWeek...   \n\ncity                                                         广州  \\\nchannel                                                      线上   \nage_group     >=6045-4935-3920-2430-3425-2930-3455-5935-3930...   \ncustomer                                                   2089   \ngender_group  MaleFemaleFemaleFemaleFemaleFemaleMaleFemaleFe...   \norder                                                      2115   \nproduct       T恤当季新品T恤T恤牛仔裤运动毛衣当季新品裙子袜子T恤T恤运动T恤T恤T恤T恤T恤T恤裙子袜...   \nquant                                                      2387   \nrevenue                                                200893.3   \nstore_id                                                 427563   \nunit_cost                                                 59631   \nwkd_ind       WeekdayWeekdayWeekdayWeekendWeekdayWeekendWeek...   \n\ncity                                                             \\\nchannel                                                      线下   \nage_group     35-3930-34>=6035-3930-3440-4440-4450-5435-3940...   \ncustomer                                                   1266   \ngender_group  FemaleMaleFemaleFemaleMaleFemaleFemaleMaleFema...   \norder                                                      1277   \nproduct       T恤当季新品毛衣当季新品T恤T恤T恤短裤T恤袜子短裤袜子裙子运动当季新品当季新品短裤T恤短裤...   \nquant                                                      1428   \nrevenue                                               117231.19   \nstore_id                                                 296229   \nunit_cost                                                 41091   \nwkd_ind       WeekendWeekdayWeekendWeekdayWeekendWeekendWeek...   \n\ncity                                                         成都  \\\nchannel                                                      线下   \nage_group     35-3930-3425-2945-4935-3930-3445-4930-3425-293...   \ncustomer                                                   2235   \ngender_group  MaleMaleFemaleFemaleFemaleFemaleMaleFemaleMale...   \norder                                                      2263   \nproduct       裙子T恤T恤当季新品牛仔裤T恤袜子裙子T恤T恤T恤运动当季新品运动配件毛衣运动T恤T恤短裤T...   \nquant                                                      2524   \nrevenue                                               208189.86   \nstore_id                                                 639696   \nunit_cost                                                 72041   \nwkd_ind       WeekendWeekdayWeekdayWeekendWeekdayWeekendWeek...   \n\ncity                                                         杭州  \\\nchannel                                                      线下   \nage_group     25-2925-29>=6030-3435-3930-3425-2920-2435-3925...   \ncustomer                                                   6120   \ngender_group  FemaleFemaleMaleFemaleFemaleMaleFemaleFemaleFe...   \norder                                                      6196   \nproduct       运动短裤T恤牛仔裤当季新品袜子T恤短裤袜子当季新品当季新品当季新品配件T恤T恤T恤T恤当季新...   \nquant                                                      6975   \nrevenue                                               589518.49   \nstore_id                                                1576318   \nunit_cost                                                173445   \nwkd_ind       WeekdayWeekendWeekendWeekendWeekendWeekdayWeek...   \n\ncity                                                         武汉  \\\nchannel                                                      线上   \nage_group     35-3935-3925-2930-3450-5440-4425-29>=6025-29>=...   \ncustomer                                                   2864   \ngender_group  FemaleMaleMaleMaleFemaleMaleFemaleMaleFemaleMa...   \norder                                                      2895   \nproduct       T恤短裤T恤短裤T恤当季新品T恤当季新品T恤袜子T恤T恤T恤T恤袜子运动当季新品当季新品袜子...   \nquant                                                      3241   \nrevenue                                               281420.73   \nstore_id                                                  87116   \nunit_cost                                                 69225   \nwkd_ind       WeekendWeekendWeekendWeekdayWeekendWeekdayWeek...   \n\ncity                                                             \\\nchannel                                                      线下   \nage_group     35-3925-29>=6035-3920-2425-2925-2925-2930-3450...   \ncustomer                                                   3034   \ngender_group  FemaleFemaleMaleFemaleFemaleMaleFemaleMaleFema...   \norder                                                      3101   \nproduct       T恤T恤短裤T恤毛衣当季新品T恤袜子运动T恤配件T恤T恤袜子T恤T恤T恤T恤袜子T恤T恤T恤...   \nquant                                                      3462   \nrevenue                                               308357.05   \nstore_id                                                 473011   \nunit_cost                                                 93858   \nwkd_ind       WeekdayWeekendWeekendWeekendWeekendWeekdayWeek...   \n\ncity                                                         深圳  \\\nchannel                                                      线下   \nage_group     25-29>=6025-2920-2430-3430-3435-3930-3435-3925...   \ncustomer                                                   7372   \ngender_group  FemaleMaleFemaleMaleMaleMaleFemaleFemaleFemale...   \norder                                                      7475   \nproduct       当季新品T恤T恤袜子T恤短裤牛仔裤配件T恤当季新品当季新品配件短裤短裤短裤T恤T恤T恤T恤T...   \nquant                                                      8502   \nrevenue                                               733123.68   \nstore_id                                                1781495   \nunit_cost                                                201526   \nwkd_ind       WeekdayWeekdayWeekdayWeekendWeekendWeekendWeek...   \n\ncity                                                         西安  \\\nchannel                                                      线上   \nage_group     35-3935-39>=6025-2920-2425-2935-3930-3420-2440...   \ncustomer                                                    324   \ngender_group  FemaleMaleMaleMaleFemaleFemaleFemaleFemaleFema...   \norder                                                       325   \nproduct       T恤T恤短裤T恤袜子牛仔裤当季新品配件配件T恤T恤T恤T恤袜子当季新品毛衣配件配件当季新品运...   \nquant                                                       351   \nrevenue                                                30088.01   \nstore_id                                                  32058   \nunit_cost                                                 10246   \nwkd_ind       WeekdayWeekdayWeekendWeekendWeekdayWeekendWeek...   \n\ncity                                                             \\\nchannel                                                      线下   \nage_group     20-2435-39>=6025-29>=6030-3430-3445-4925-2920-...   \ncustomer                                                   1930   \ngender_group  MaleFemaleMaleMaleMaleFemaleFemaleFemaleFemale...   \norder                                                      1954   \nproduct       T恤短裤T恤T恤T恤T恤当季新品配件短裤袜子T恤T恤当季新品运动牛仔裤T恤袜子T恤T恤T恤牛...   \nquant                                                      2141   \nrevenue                                               180686.61   \nstore_id                                                 723898   \nunit_cost                                                 64469   \nwkd_ind       WeekendWeekdayWeekdayWeekendWeekdayWeekendWeek...   \n\ncity                                                         重庆  \\\nchannel                                                      线上   \nage_group     50-5425-29>=6050-5435-3920-2425-29>=6030-3430-...   \ncustomer                                                    249   \ngender_group  FemaleFemaleMaleFemaleMaleFemaleFemaleMaleMale...   \norder                                                       251   \nproduct       短裤T恤当季新品配件配件T恤T恤T恤T恤短裤短裤短裤T恤短裤袜子T恤T恤T恤T恤T恤短裤当季...   \nquant                                                       280   \nrevenue                                                26330.35   \nstore_id                                                  12376   \nunit_cost                                                  8028   \nwkd_ind       WeekendWeekdayWeekendWeekdayWeekendWeekendWeek...   \n\ncity                                                             \nchannel                                                      线下  \nage_group     20-2420-2430-3425-2925-2930-34>=6020-2420-24Un...  \ncustomer                                                   2483  \ngender_group  MaleFemaleFemaleMaleFemaleFemaleFemaleFemaleFe...  \norder                                                      2523  \nproduct       配件T恤T恤T恤袜子当季新品牛仔裤T恤T恤T恤牛仔裤当季新品裙子配件袜子T恤T恤短裤当季新品...  \nquant                                                      2784  \nrevenue                                                237162.3  \nstore_id                                                 780366  \nunit_cost                                                 75055  \nwkd_ind       WeekendWeekdayWeekendWeekendWeekdayWeekendWeek...  ",
      "text/html": "<div>\n<style scoped>\n    .dataframe tbody tr th:only-of-type {\n        vertical-align: middle;\n    }\n\n    .dataframe tbody tr th {\n        vertical-align: top;\n    }\n\n    .dataframe thead tr th {\n        text-align: left;\n    }\n</style>\n<table border=\"1\" class=\"dataframe\">\n  <thead>\n    <tr>\n      <th>city</th>\n      <th colspan=\"2\" halign=\"left\">上海</th>\n      <th>北京</th>\n      <th>南京</th>\n      <th colspan=\"2\" halign=\"left\">广州</th>\n      <th>成都</th>\n      <th>杭州</th>\n      <th colspan=\"2\" halign=\"left\">武汉</th>\n      <th>深圳</th>\n      <th colspan=\"2\" halign=\"left\">西安</th>\n      <th colspan=\"2\" halign=\"left\">重庆</th>\n    </tr>\n    <tr>\n      <th>channel</th>\n      <th>线上</th>\n      <th>线下</th>\n      <th>线下</th>\n      <th>线下</th>\n      <th>线上</th>\n      <th>线下</th>\n      <th>线下</th>\n      <th>线下</th>\n      <th>线上</th>\n      <th>线下</th>\n      <th>线下</th>\n      <th>线上</th>\n      <th>线下</th>\n      <th>线上</th>\n      <th>线下</th>\n    </tr>\n  </thead>\n  <tbody>\n    <tr>\n      <th>age_group</th>\n      <td>20-2435-3930-3450-5420-24&gt;=6045-4935-3935-39&gt;=...</td>\n      <td>30-3425-2920-2450-5435-3930-3420-2430-3445-492...</td>\n      <td>45-4935-3945-4920-2435-3930-3435-3925-2930-342...</td>\n      <td>35-3945-4935-3930-3430-3430-3440-4455-59&lt;2025-...</td>\n      <td>&gt;=6045-4935-3920-2430-3425-2930-3455-5935-3930...</td>\n      <td>35-3930-34&gt;=6035-3930-3440-4440-4450-5435-3940...</td>\n      <td>35-3930-3425-2945-4935-3930-3445-4930-3425-293...</td>\n      <td>25-2925-29&gt;=6030-3435-3930-3425-2920-2435-3925...</td>\n      <td>35-3935-3925-2930-3450-5440-4425-29&gt;=6025-29&gt;=...</td>\n      <td>35-3925-29&gt;=6035-3920-2425-2925-2925-2930-3450...</td>\n      <td>25-29&gt;=6025-2920-2430-3430-3435-3930-3435-3925...</td>\n      <td>35-3935-39&gt;=6025-2920-2425-2935-3930-3420-2440...</td>\n      <td>20-2435-39&gt;=6025-29&gt;=6030-3430-3445-4925-2920-...</td>\n      <td>50-5425-29&gt;=6050-5435-3920-2425-29&gt;=6030-3430-...</td>\n      <td>20-2420-2430-3425-2925-2930-34&gt;=6020-2420-24Un...</td>\n    </tr>\n    <tr>\n      <th>customer</th>\n      <td>1219</td>\n      <td>2754</td>\n      <td>1289</td>\n      <td>1098</td>\n      <td>2089</td>\n      <td>1266</td>\n      <td>2235</td>\n      <td>6120</td>\n      <td>2864</td>\n      <td>3034</td>\n      <td>7372</td>\n      <td>324</td>\n      <td>1930</td>\n      <td>249</td>\n      <td>2483</td>\n    </tr>\n    <tr>\n      <th>gender_group</th>\n      <td>FemaleFemaleMaleFemaleFemaleFemaleFemaleMaleFe...</td>\n      <td>FemaleMaleFemaleFemaleFemaleFemaleFemaleFemale...</td>\n      <td>FemaleFemaleFemaleMaleFemaleFemaleMaleMaleFema...</td>\n      <td>FemaleFemaleFemaleFemaleFemaleFemaleFemaleFema...</td>\n      <td>MaleFemaleFemaleFemaleFemaleFemaleMaleFemaleFe...</td>\n      <td>FemaleMaleFemaleFemaleMaleFemaleFemaleMaleFema...</td>\n      <td>MaleMaleFemaleFemaleFemaleFemaleMaleFemaleMale...</td>\n      <td>FemaleFemaleMaleFemaleFemaleMaleFemaleFemaleFe...</td>\n      <td>FemaleMaleMaleMaleFemaleMaleFemaleMaleFemaleMa...</td>\n      <td>FemaleFemaleMaleFemaleFemaleMaleFemaleMaleFema...</td>\n      <td>FemaleMaleFemaleMaleMaleMaleFemaleFemaleFemale...</td>\n      <td>FemaleMaleMaleMaleFemaleFemaleFemaleFemaleFema...</td>\n      <td>MaleFemaleMaleMaleMaleFemaleFemaleFemaleFemale...</td>\n      <td>FemaleFemaleMaleFemaleMaleFemaleFemaleMaleMale...</td>\n      <td>MaleFemaleFemaleMaleFemaleFemaleFemaleFemaleFe...</td>\n    </tr>\n    <tr>\n      <th>order</th>\n      <td>1237</td>\n      <td>2800</td>\n      <td>1303</td>\n      <td>1113</td>\n      <td>2115</td>\n      <td>1277</td>\n      <td>2263</td>\n      <td>6196</td>\n      <td>2895</td>\n      <td>3101</td>\n      <td>7475</td>\n      <td>325</td>\n      <td>1954</td>\n      <td>251</td>\n      <td>2523</td>\n    </tr>\n    <tr>\n      <th>product</th>\n      <td>T恤牛仔裤T恤配件T恤配件当季新品T恤牛仔裤裙子当季新品T恤T恤T恤T恤短裤T恤短裤袜子当季...</td>\n      <td>当季新品毛衣当季新品当季新品配件短裤袜子T恤牛仔裤当季新品T恤当季新品T恤袜子T恤当季新品袜...</td>\n      <td>毛衣毛衣配件T恤牛仔裤当季新品运动T恤当季新品T恤配件T恤牛仔裤当季新品当季新品T恤T恤袜子...</td>\n      <td>T恤毛衣T恤T恤T恤裙子T恤袜子T恤T恤T恤当季新品T恤牛仔裤T恤运动T恤T恤T恤T恤T恤配...</td>\n      <td>T恤当季新品T恤T恤牛仔裤运动毛衣当季新品裙子袜子T恤T恤运动T恤T恤T恤T恤T恤T恤裙子袜...</td>\n      <td>T恤当季新品毛衣当季新品T恤T恤T恤短裤T恤袜子短裤袜子裙子运动当季新品当季新品短裤T恤短裤...</td>\n      <td>裙子T恤T恤当季新品牛仔裤T恤袜子裙子T恤T恤T恤运动当季新品运动配件毛衣运动T恤T恤短裤T...</td>\n      <td>运动短裤T恤牛仔裤当季新品袜子T恤短裤袜子当季新品当季新品当季新品配件T恤T恤T恤T恤当季新...</td>\n      <td>T恤短裤T恤短裤T恤当季新品T恤当季新品T恤袜子T恤T恤T恤T恤袜子运动当季新品当季新品袜子...</td>\n      <td>T恤T恤短裤T恤毛衣当季新品T恤袜子运动T恤配件T恤T恤袜子T恤T恤T恤T恤袜子T恤T恤T恤...</td>\n      <td>当季新品T恤T恤袜子T恤短裤牛仔裤配件T恤当季新品当季新品配件短裤短裤短裤T恤T恤T恤T恤T...</td>\n      <td>T恤T恤短裤T恤袜子牛仔裤当季新品配件配件T恤T恤T恤T恤袜子当季新品毛衣配件配件当季新品运...</td>\n      <td>T恤短裤T恤T恤T恤T恤当季新品配件短裤袜子T恤T恤当季新品运动牛仔裤T恤袜子T恤T恤T恤牛...</td>\n      <td>短裤T恤当季新品配件配件T恤T恤T恤T恤短裤短裤短裤T恤短裤袜子T恤T恤T恤T恤T恤短裤当季...</td>\n      <td>配件T恤T恤T恤袜子当季新品牛仔裤T恤T恤T恤牛仔裤当季新品裙子配件袜子T恤T恤短裤当季新品...</td>\n    </tr>\n    <tr>\n      <th>quant</th>\n      <td>1393</td>\n      <td>3212</td>\n      <td>1477</td>\n      <td>1265</td>\n      <td>2387</td>\n      <td>1428</td>\n      <td>2524</td>\n      <td>6975</td>\n      <td>3241</td>\n      <td>3462</td>\n      <td>8502</td>\n      <td>351</td>\n      <td>2141</td>\n      <td>280</td>\n      <td>2784</td>\n    </tr>\n    <tr>\n      <th>revenue</th>\n      <td>114438.09</td>\n      <td>275383.64</td>\n      <td>130458.62</td>\n      <td>123150.93</td>\n      <td>200893.3</td>\n      <td>117231.19</td>\n      <td>208189.86</td>\n      <td>589518.49</td>\n      <td>281420.73</td>\n      <td>308357.05</td>\n      <td>733123.68</td>\n      <td>30088.01</td>\n      <td>180686.61</td>\n      <td>26330.35</td>\n      <td>237162.3</td>\n    </tr>\n    <tr>\n      <th>store_id</th>\n      <td>126270</td>\n      <td>498871</td>\n      <td>12117</td>\n      <td>9500</td>\n      <td>427563</td>\n      <td>296229</td>\n      <td>639696</td>\n      <td>1576318</td>\n      <td>87116</td>\n      <td>473011</td>\n      <td>1781495</td>\n      <td>32058</td>\n      <td>723898</td>\n      <td>12376</td>\n      <td>780366</td>\n    </tr>\n    <tr>\n      <th>unit_cost</th>\n      <td>27980</td>\n      <td>82359</td>\n      <td>26163</td>\n      <td>23140</td>\n      <td>59631</td>\n      <td>41091</td>\n      <td>72041</td>\n      <td>173445</td>\n      <td>69225</td>\n      <td>93858</td>\n      <td>201526</td>\n      <td>10246</td>\n      <td>64469</td>\n      <td>8028</td>\n      <td>75055</td>\n    </tr>\n    <tr>\n      <th>wkd_ind</th>\n      <td>WeekendWeekdayWeekdayWeekdayWeekdayWeekdayWeek...</td>\n      <td>WeekendWeekdayWeekdayWeekendWeekendWeekdayWeek...</td>\n      <td>WeekendWeekdayWeekendWeekdayWeekendWeekdayWeek...</td>\n      <td>WeekendWeekdayWeekendWeekendWeekdayWeekdayWeek...</td>\n      <td>WeekdayWeekdayWeekdayWeekendWeekdayWeekendWeek...</td>\n      <td>WeekendWeekdayWeekendWeekdayWeekendWeekendWeek...</td>\n      <td>WeekendWeekdayWeekdayWeekendWeekdayWeekendWeek...</td>\n      <td>WeekdayWeekendWeekendWeekendWeekendWeekdayWeek...</td>\n      <td>WeekendWeekendWeekendWeekdayWeekendWeekdayWeek...</td>\n      <td>WeekdayWeekendWeekendWeekendWeekendWeekdayWeek...</td>\n      <td>WeekdayWeekdayWeekdayWeekendWeekendWeekendWeek...</td>\n      <td>WeekdayWeekdayWeekendWeekendWeekdayWeekendWeek...</td>\n      <td>WeekendWeekdayWeekdayWeekendWeekdayWeekendWeek...</td>\n      <td>WeekendWeekdayWeekendWeekdayWeekendWeekendWeek...</td>\n      <td>WeekendWeekdayWeekendWeekendWeekdayWeekendWeek...</td>\n    </tr>\n  </tbody>\n</table>\n</div>"
     },
     "execution_count": 6,
     "metadata": {},
     "output_type": "execute_result"
    }
   ],
   "source": [
    "# 传递多个值使用列表 []\n",
    "df.pivot_table(columns=['city','channel'],values='revenue',aggfunc='sum')"
   ],
   "metadata": {
    "collapsed": false,
    "ExecuteTime": {
     "start_time": "2025-04-13T08:52:53.120867Z",
     "end_time": "2025-04-13T08:52:53.195432Z"
    }
   }
  },
  {
   "cell_type": "code",
   "execution_count": null,
   "outputs": [],
   "source": [],
   "metadata": {
    "collapsed": false
   }
  }
 ],
 "metadata": {
  "kernelspec": {
   "display_name": "Python 3",
   "language": "python",
   "name": "python3"
  },
  "language_info": {
   "codemirror_mode": {
    "name": "ipython",
    "version": 2
   },
   "file_extension": ".py",
   "mimetype": "text/x-python",
   "name": "python",
   "nbconvert_exporter": "python",
   "pygments_lexer": "ipython2",
   "version": "2.7.6"
  }
 },
 "nbformat": 4,
 "nbformat_minor": 0
}
