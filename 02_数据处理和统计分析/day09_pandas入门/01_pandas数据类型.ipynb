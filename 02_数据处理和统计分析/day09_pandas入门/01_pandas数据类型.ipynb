{
 "cells": [
  {
   "cell_type": "code",
   "execution_count": 1,
   "metadata": {
    "collapsed": true,
    "ExecuteTime": {
     "start_time": "2025-04-08T22:35:53.808087Z",
     "end_time": "2025-04-08T22:35:54.214871Z"
    }
   },
   "outputs": [
    {
     "data": {
      "text/plain": "      year   country           GDP\n0     1960        美国  543300000000\n1     1960        英国   73233967692\n2     1960        法国   62225478000\n3     1960        中国   59716467625\n4     1960        日本   44307342950\n...    ...       ...           ...\n9925  2019  圣多美和普林西比     418637388\n9926  2019        帕劳     268354919\n9927  2019      基里巴斯     194647201\n9928  2019        瑙鲁     118223430\n9929  2019       图瓦卢      47271463\n\n[9930 rows x 3 columns]",
      "text/html": "<div>\n<style scoped>\n    .dataframe tbody tr th:only-of-type {\n        vertical-align: middle;\n    }\n\n    .dataframe tbody tr th {\n        vertical-align: top;\n    }\n\n    .dataframe thead th {\n        text-align: right;\n    }\n</style>\n<table border=\"1\" class=\"dataframe\">\n  <thead>\n    <tr style=\"text-align: right;\">\n      <th></th>\n      <th>year</th>\n      <th>country</th>\n      <th>GDP</th>\n    </tr>\n  </thead>\n  <tbody>\n    <tr>\n      <th>0</th>\n      <td>1960</td>\n      <td>美国</td>\n      <td>543300000000</td>\n    </tr>\n    <tr>\n      <th>1</th>\n      <td>1960</td>\n      <td>英国</td>\n      <td>73233967692</td>\n    </tr>\n    <tr>\n      <th>2</th>\n      <td>1960</td>\n      <td>法国</td>\n      <td>62225478000</td>\n    </tr>\n    <tr>\n      <th>3</th>\n      <td>1960</td>\n      <td>中国</td>\n      <td>59716467625</td>\n    </tr>\n    <tr>\n      <th>4</th>\n      <td>1960</td>\n      <td>日本</td>\n      <td>44307342950</td>\n    </tr>\n    <tr>\n      <th>...</th>\n      <td>...</td>\n      <td>...</td>\n      <td>...</td>\n    </tr>\n    <tr>\n      <th>9925</th>\n      <td>2019</td>\n      <td>圣多美和普林西比</td>\n      <td>418637388</td>\n    </tr>\n    <tr>\n      <th>9926</th>\n      <td>2019</td>\n      <td>帕劳</td>\n      <td>268354919</td>\n    </tr>\n    <tr>\n      <th>9927</th>\n      <td>2019</td>\n      <td>基里巴斯</td>\n      <td>194647201</td>\n    </tr>\n    <tr>\n      <th>9928</th>\n      <td>2019</td>\n      <td>瑙鲁</td>\n      <td>118223430</td>\n    </tr>\n    <tr>\n      <th>9929</th>\n      <td>2019</td>\n      <td>图瓦卢</td>\n      <td>47271463</td>\n    </tr>\n  </tbody>\n</table>\n<p>9930 rows × 3 columns</p>\n</div>"
     },
     "execution_count": 1,
     "metadata": {},
     "output_type": "execute_result"
    }
   ],
   "source": [
    "import pandas as pd\n",
    "df = pd.read_csv(r\"E:\\ProjectCode\\PythonProjectCode\\pythonProject\\HaskMaProject\\data\\1960-2019全球GDP数据.csv\",encoding='gbk')\n",
    "df"
   ]
  }
 ],
 "metadata": {
  "kernelspec": {
   "display_name": "Python 3",
   "language": "python",
   "name": "python3"
  },
  "language_info": {
   "codemirror_mode": {
    "name": "ipython",
    "version": 2
   },
   "file_extension": ".py",
   "mimetype": "text/x-python",
   "name": "python",
   "nbconvert_exporter": "python",
   "pygments_lexer": "ipython2",
   "version": "2.7.6"
  }
 },
 "nbformat": 4,
 "nbformat_minor": 0
}
