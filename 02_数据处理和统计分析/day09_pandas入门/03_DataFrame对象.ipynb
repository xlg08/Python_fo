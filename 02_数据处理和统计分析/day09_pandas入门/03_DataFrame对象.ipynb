{
 "cells": [
  {
   "cell_type": "code",
   "execution_count": 1,
   "metadata": {
    "collapsed": true,
    "ExecuteTime": {
     "start_time": "2025-04-08T15:38:47.495701Z",
     "end_time": "2025-04-08T15:38:47.887516Z"
    }
   },
   "outputs": [],
   "source": [
    "import pandas as pd\n",
    "import numpy as np"
   ]
  },
  {
   "cell_type": "code",
   "execution_count": 5,
   "outputs": [
    {
     "name": "stdout",
     "output_type": "stream",
     "text": [
      "  name gender  age\n",
      "0   张三      男   30\n",
      "1   李四      男   35\n",
      "2   王五      男   51\n"
     ]
    }
   ],
   "source": [
    "# 1.通过 字典+列表 的方式实现\n",
    "#   每个键值对 = 1列数据\n",
    "info = {\n",
    "    'name': ['张三', '李四', '王五'],\n",
    "    'gender': ['男', '男', '男'],\n",
    "    'age': [30, 35 ,51]\n",
    "}\n",
    "\n",
    "df1 = pd.DataFrame(data=info)\n",
    "print(df1)"
   ],
   "metadata": {
    "collapsed": false,
    "ExecuteTime": {
     "start_time": "2025-04-08T15:49:38.244414Z",
     "end_time": "2025-04-08T15:49:38.260617Z"
    }
   }
  },
  {
   "cell_type": "code",
   "execution_count": 6,
   "outputs": [],
   "source": [
    "# 场景2： 通过 列表+元组 的方式实现\n",
    "#   每个元组 = 1行数据\n",
    "info = [\n",
    "    ('张三','男',36),\n",
    "    ('李四','男',30),\n",
    "    ('王五','男',41)\n",
    "]\n",
    "df2 = pd.DataFrame(data=info)"
   ],
   "metadata": {
    "collapsed": false,
    "ExecuteTime": {
     "start_time": "2025-04-08T15:50:50.930734Z",
     "end_time": "2025-04-08T15:50:50.967706Z"
    }
   }
  },
  {
   "cell_type": "code",
   "execution_count": 8,
   "outputs": [
    {
     "data": {
      "text/plain": "   姓名 性别  年龄\n0  张三  男  36\n1  李四  男  30\n2  王五  男  41",
      "text/html": "<div>\n<style scoped>\n    .dataframe tbody tr th:only-of-type {\n        vertical-align: middle;\n    }\n\n    .dataframe tbody tr th {\n        vertical-align: top;\n    }\n\n    .dataframe thead th {\n        text-align: right;\n    }\n</style>\n<table border=\"1\" class=\"dataframe\">\n  <thead>\n    <tr style=\"text-align: right;\">\n      <th></th>\n      <th>姓名</th>\n      <th>性别</th>\n      <th>年龄</th>\n    </tr>\n  </thead>\n  <tbody>\n    <tr>\n      <th>0</th>\n      <td>张三</td>\n      <td>男</td>\n      <td>36</td>\n    </tr>\n    <tr>\n      <th>1</th>\n      <td>李四</td>\n      <td>男</td>\n      <td>30</td>\n    </tr>\n    <tr>\n      <th>2</th>\n      <td>王五</td>\n      <td>男</td>\n      <td>41</td>\n    </tr>\n  </tbody>\n</table>\n</div>"
     },
     "execution_count": 8,
     "metadata": {},
     "output_type": "execute_result"
    }
   ],
   "source": [
    "info = [\n",
    "    ('张三','男',36),\n",
    "    ('李四','男',30),\n",
    "    ('王五','男',41)\n",
    "]\n",
    "# columns 指定列名\n",
    "df2 = pd.DataFrame(data=info, columns=['姓名', '性别', '年龄'])\n",
    "df2"
   ],
   "metadata": {
    "collapsed": false,
    "ExecuteTime": {
     "start_time": "2025-04-08T15:51:45.345422Z",
     "end_time": "2025-04-08T15:51:45.366166Z"
    }
   }
  },
  {
   "cell_type": "code",
   "execution_count": 11,
   "outputs": [
    {
     "data": {
      "text/plain": "   0  1   2   3\n0  0  1   2   3\n1  4  5   6   7\n2  8  9  10  11",
      "text/html": "<div>\n<style scoped>\n    .dataframe tbody tr th:only-of-type {\n        vertical-align: middle;\n    }\n\n    .dataframe tbody tr th {\n        vertical-align: top;\n    }\n\n    .dataframe thead th {\n        text-align: right;\n    }\n</style>\n<table border=\"1\" class=\"dataframe\">\n  <thead>\n    <tr style=\"text-align: right;\">\n      <th></th>\n      <th>0</th>\n      <th>1</th>\n      <th>2</th>\n      <th>3</th>\n    </tr>\n  </thead>\n  <tbody>\n    <tr>\n      <th>0</th>\n      <td>0</td>\n      <td>1</td>\n      <td>2</td>\n      <td>3</td>\n    </tr>\n    <tr>\n      <th>1</th>\n      <td>4</td>\n      <td>5</td>\n      <td>6</td>\n      <td>7</td>\n    </tr>\n    <tr>\n      <th>2</th>\n      <td>8</td>\n      <td>9</td>\n      <td>10</td>\n      <td>11</td>\n    </tr>\n  </tbody>\n</table>\n</div>"
     },
     "execution_count": 11,
     "metadata": {},
     "output_type": "execute_result"
    }
   ],
   "source": [
    "# 场景3： 通过 numpy 的 ndarray --> DaraFrame\n",
    "df3 = pd.DataFrame(np.arange(12).reshape(3, 4))\n",
    "df3"
   ],
   "metadata": {
    "collapsed": false,
    "ExecuteTime": {
     "start_time": "2025-04-08T15:54:04.909264Z",
     "end_time": "2025-04-08T15:54:04.932937Z"
    }
   }
  },
  {
   "cell_type": "code",
   "execution_count": null,
   "outputs": [],
   "source": [
    "df4 = pd.DataFrame()"
   ],
   "metadata": {
    "collapsed": false
   }
  }
 ],
 "metadata": {
  "kernelspec": {
   "display_name": "Python 3",
   "language": "python",
   "name": "python3"
  },
  "language_info": {
   "codemirror_mode": {
    "name": "ipython",
    "version": 2
   },
   "file_extension": ".py",
   "mimetype": "text/x-python",
   "name": "python",
   "nbconvert_exporter": "python",
   "pygments_lexer": "ipython2",
   "version": "2.7.6"
  }
 },
 "nbformat": 4,
 "nbformat_minor": 0
}
