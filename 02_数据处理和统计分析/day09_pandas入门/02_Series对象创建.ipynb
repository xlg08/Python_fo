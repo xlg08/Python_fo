{
 "cells": [
  {
   "cell_type": "code",
   "execution_count": 6,
   "metadata": {
    "collapsed": true,
    "ExecuteTime": {
     "start_time": "2025-04-08T14:55:44.911113Z",
     "end_time": "2025-04-08T14:55:44.952929Z"
    }
   },
   "outputs": [],
   "source": [
    "import pandas as pd\n",
    "import numpy as np"
   ]
  },
  {
   "cell_type": "markdown",
   "source": [
    ">Series 是 一维的列结构 不是行结构"
   ],
   "metadata": {
    "collapsed": false
   }
  },
  {
   "cell_type": "code",
   "execution_count": 4,
   "outputs": [
    {
     "name": "stdout",
     "output_type": "stream",
     "text": [
      "0    1\n",
      "1    2\n",
      "2    3\n",
      "3    4\n",
      "4    5\n",
      "dtype: int64\n"
     ]
    }
   ],
   "source": [
    "# 1.创建Series对象，使用列表\n",
    "s1 = pd.Series([1,2,3,4,5])\n",
    "print(s1)"
   ],
   "metadata": {
    "collapsed": false,
    "ExecuteTime": {
     "start_time": "2025-04-08T14:55:12.813129Z",
     "end_time": "2025-04-08T14:55:12.880292Z"
    }
   }
  },
  {
   "cell_type": "code",
   "execution_count": 7,
   "outputs": [
    {
     "name": "stdout",
     "output_type": "stream",
     "text": [
      "a    1\n",
      "b    2\n",
      "c    3\n",
      "d    4\n",
      "e    5\n",
      "dtype: int32\n"
     ]
    }
   ],
   "source": [
    "# 2.\n",
    "s2 = pd.Series([1,2,3,4,5],index=['a','b','c','d','e'],dtype=np.int32)\n",
    "print(s2)"
   ],
   "metadata": {
    "collapsed": false,
    "ExecuteTime": {
     "start_time": "2025-04-08T14:56:09.017516Z",
     "end_time": "2025-04-08T14:56:09.058002Z"
    }
   }
  },
  {
   "cell_type": "code",
   "execution_count": 8,
   "outputs": [
    {
     "name": "stdout",
     "output_type": "stream",
     "text": [
      "0    1\n",
      "1    2\n",
      "2    3\n",
      "3    4\n",
      "4    5\n",
      "dtype: int64\n"
     ]
    }
   ],
   "source": [
    "# 3.使用元组创建Series对象\n",
    "s3 = pd.Series((1,2,3,4,5))\n",
    "print(s3)"
   ],
   "metadata": {
    "collapsed": false,
    "ExecuteTime": {
     "start_time": "2025-04-08T14:58:00.510486Z",
     "end_time": "2025-04-08T14:58:00.537886Z"
    }
   }
  },
  {
   "cell_type": "code",
   "execution_count": 14,
   "outputs": [
    {
     "name": "stdout",
     "output_type": "stream",
     "text": [
      "a    1\n",
      "b    2\n",
      "c    3\n",
      "d    4\n",
      "e    5\n",
      "dtype: int64\n",
      "<class 'pandas.core.series.Series'>\n"
     ]
    }
   ],
   "source": [
    "# 4.使用字典创建Series对象\n",
    "s4 = pd.Series({'a':1,'b':2,'c':3,'d':4,'e':5})\n",
    "print(s4)\n",
    "print(type(s4))"
   ],
   "metadata": {
    "collapsed": false,
    "ExecuteTime": {
     "start_time": "2025-04-08T15:10:19.950896Z",
     "end_time": "2025-04-08T15:10:19.970385Z"
    }
   }
  },
  {
   "cell_type": "code",
   "execution_count": 10,
   "outputs": [
    {
     "name": "stdout",
     "output_type": "stream",
     "text": [
      "0    0\n",
      "1    1\n",
      "2    2\n",
      "3    3\n",
      "4    4\n",
      "dtype: int32\n"
     ]
    }
   ],
   "source": [
    "# 5.使用numpy创建Series对象\n",
    "s6 = pd.Series(np.arange(5))\n",
    "print(s6)"
   ],
   "metadata": {
    "collapsed": false,
    "ExecuteTime": {
     "start_time": "2025-04-08T15:00:11.051951Z",
     "end_time": "2025-04-08T15:00:11.058010Z"
    }
   }
  },
  {
   "cell_type": "code",
   "execution_count": 12,
   "outputs": [
    {
     "name": "stdout",
     "output_type": "stream",
     "text": [
      "0    3\n",
      "1    4\n",
      "2    5\n",
      "3    6\n",
      "4    7\n",
      "dtype: int32\n"
     ]
    }
   ],
   "source": [
    "s7 = pd.Series(np.arange(3,8))\n",
    "print(s7)"
   ],
   "metadata": {
    "collapsed": false,
    "ExecuteTime": {
     "start_time": "2025-04-08T15:01:13.029839Z",
     "end_time": "2025-04-08T15:01:13.034706Z"
    }
   }
  },
  {
   "cell_type": "code",
   "execution_count": 19,
   "outputs": [
    {
     "name": "stdout",
     "output_type": "stream",
     "text": [
      "A    0\n",
      "B    1\n",
      "C    2\n",
      "D    3\n",
      "E    4\n",
      "F    5\n",
      "dtype: int64\n"
     ]
    }
   ],
   "source": [
    "# 6.使用列表推导式  index 与 data 数量个数匹配不上则报错\n",
    "s8 = pd.Series(data=[i for i in range(6)], index=[i for i in 'ABCDEF'])\n",
    "print(s8)"
   ],
   "metadata": {
    "collapsed": false,
    "ExecuteTime": {
     "start_time": "2025-04-08T15:14:18.148368Z",
     "end_time": "2025-04-08T15:14:18.154935Z"
    }
   }
  },
  {
   "cell_type": "code",
   "execution_count": 20,
   "outputs": [
    {
     "name": "stdout",
     "output_type": "stream",
     "text": [
      "Index(['A', 'B', 'C', 'D', 'E', 'F'], dtype='object')\n"
     ]
    }
   ],
   "source": [
    "# Series 对象属性  外面是元组  里面是列表\n",
    "print(s8.index)"
   ],
   "metadata": {
    "collapsed": false,
    "ExecuteTime": {
     "start_time": "2025-04-08T15:16:12.425421Z",
     "end_time": "2025-04-08T15:16:12.432293Z"
    }
   }
  },
  {
   "cell_type": "code",
   "execution_count": 21,
   "outputs": [
    {
     "name": "stdout",
     "output_type": "stream",
     "text": [
      "[0 1 2 3 4 5]\n"
     ]
    }
   ],
   "source": [
    "# Series 对象属性之值\n",
    "print(s8.values)"
   ],
   "metadata": {
    "collapsed": false,
    "ExecuteTime": {
     "start_time": "2025-04-08T15:17:10.785670Z",
     "end_time": "2025-04-08T15:17:10.790194Z"
    }
   }
  },
  {
   "cell_type": "code",
   "execution_count": 22,
   "outputs": [],
   "source": [
    "# Series 对象属性之根据索引获取元素\n",
    "#  格式 : Series对象[索引]\n",
    "s8['A'] = 88"
   ],
   "metadata": {
    "collapsed": false,
    "ExecuteTime": {
     "start_time": "2025-04-08T15:18:21.724832Z",
     "end_time": "2025-04-08T15:18:21.729527Z"
    }
   }
  },
  {
   "cell_type": "code",
   "execution_count": 23,
   "outputs": [
    {
     "name": "stdout",
     "output_type": "stream",
     "text": [
      "A    88\n",
      "B     1\n",
      "C     2\n",
      "D     3\n",
      "E     4\n",
      "F     5\n",
      "dtype: int64\n"
     ]
    }
   ],
   "source": [
    "print(s8)"
   ],
   "metadata": {
    "collapsed": false,
    "ExecuteTime": {
     "start_time": "2025-04-08T15:18:25.906279Z",
     "end_time": "2025-04-08T15:18:25.918018Z"
    }
   }
  },
  {
   "cell_type": "code",
   "execution_count": null,
   "outputs": [],
   "source": [],
   "metadata": {
    "collapsed": false
   }
  }
 ],
 "metadata": {
  "kernelspec": {
   "display_name": "Python 3",
   "language": "python",
   "name": "python3"
  },
  "language_info": {
   "codemirror_mode": {
    "name": "ipython",
    "version": 2
   },
   "file_extension": ".py",
   "mimetype": "text/x-python",
   "name": "python",
   "nbconvert_exporter": "python",
   "pygments_lexer": "ipython2",
   "version": "2.7.6"
  }
 },
 "nbformat": 4,
 "nbformat_minor": 0
}
