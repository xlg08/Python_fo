{
 "cells": [
  {
   "cell_type": "code",
   "execution_count": 2,
   "metadata": {
    "collapsed": true,
    "ExecuteTime": {
     "start_time": "2025-04-13T22:28:39.360415Z",
     "end_time": "2025-04-13T22:28:47.069882Z"
    }
   },
   "outputs": [],
   "source": [
    "import pandas as pd\n",
    "import numpy as np"
   ]
  },
  {
   "cell_type": "markdown",
   "source": [
    ">Series 是 一维的列结构 不是行结构\n",
    "\n",
    "Series也是Pandas中的最基本的数据结构对象，\n",
    "    是DataFrame的列对象，series本身也具有索引。\n",
    "Series是一种类似于一维数组的对象，由下面两个部分组成：\n",
    "    - values：一组数据（numpy.ndarray类型）\n",
    "    - index：相关的数据索引标签；\n",
    "        如果没有为数据指定索引，于是会自动创建一个0到N-1(N为数据的长度)的整数型索引。"
   ],
   "metadata": {
    "collapsed": false
   }
  },
  {
   "cell_type": "code",
   "execution_count": 4,
   "outputs": [
    {
     "name": "stdout",
     "output_type": "stream",
     "text": [
      "0    1\n",
      "1    2\n",
      "2    3\n",
      "3    4\n",
      "4    5\n",
      "dtype: int64\n"
     ]
    }
   ],
   "source": [
    "# 1.创建Series对象，使用列表\n",
    "s1 = pd.Series([1,2,3,4,5])\n",
    "print(s1)"
   ],
   "metadata": {
    "collapsed": false,
    "ExecuteTime": {
     "start_time": "2025-04-08T14:55:12.813129Z",
     "end_time": "2025-04-08T14:55:12.880292Z"
    }
   }
  },
  {
   "cell_type": "code",
   "execution_count": 7,
   "outputs": [
    {
     "name": "stdout",
     "output_type": "stream",
     "text": [
      "a    1\n",
      "b    2\n",
      "c    3\n",
      "d    4\n",
      "e    5\n",
      "dtype: int32\n"
     ]
    }
   ],
   "source": [
    "# 2.\n",
    "s2 = pd.Series([1,2,3,4,5],index=['a','b','c','d','e'],dtype=np.int32)\n",
    "print(s2)"
   ],
   "metadata": {
    "collapsed": false,
    "ExecuteTime": {
     "start_time": "2025-04-08T14:56:09.017516Z",
     "end_time": "2025-04-08T14:56:09.058002Z"
    }
   }
  },
  {
   "cell_type": "code",
   "execution_count": 8,
   "outputs": [
    {
     "name": "stdout",
     "output_type": "stream",
     "text": [
      "0    1\n",
      "1    2\n",
      "2    3\n",
      "3    4\n",
      "4    5\n",
      "dtype: int64\n"
     ]
    }
   ],
   "source": [
    "# 3.使用元组创建Series对象\n",
    "s3 = pd.Series((1,2,3,4,5))\n",
    "print(s3)"
   ],
   "metadata": {
    "collapsed": false,
    "ExecuteTime": {
     "start_time": "2025-04-08T14:58:00.510486Z",
     "end_time": "2025-04-08T14:58:00.537886Z"
    }
   }
  },
  {
   "cell_type": "code",
   "execution_count": 14,
   "outputs": [
    {
     "name": "stdout",
     "output_type": "stream",
     "text": [
      "a    1\n",
      "b    2\n",
      "c    3\n",
      "d    4\n",
      "e    5\n",
      "dtype: int64\n",
      "<class 'pandas.core.series.Series'>\n"
     ]
    }
   ],
   "source": [
    "# 4.使用字典创建Series对象\n",
    "s4 = pd.Series({'a':1,'b':2,'c':3,'d':4,'e':5})\n",
    "print(s4)\n",
    "print(type(s4))"
   ],
   "metadata": {
    "collapsed": false,
    "ExecuteTime": {
     "start_time": "2025-04-08T15:10:19.950896Z",
     "end_time": "2025-04-08T15:10:19.970385Z"
    }
   }
  },
  {
   "cell_type": "code",
   "execution_count": 10,
   "outputs": [
    {
     "name": "stdout",
     "output_type": "stream",
     "text": [
      "0    0\n",
      "1    1\n",
      "2    2\n",
      "3    3\n",
      "4    4\n",
      "dtype: int32\n"
     ]
    }
   ],
   "source": [
    "# 5.使用numpy创建Series对象\n",
    "s6 = pd.Series(np.arange(5))\n",
    "print(s6)"
   ],
   "metadata": {
    "collapsed": false,
    "ExecuteTime": {
     "start_time": "2025-04-08T15:00:11.051951Z",
     "end_time": "2025-04-08T15:00:11.058010Z"
    }
   }
  },
  {
   "cell_type": "code",
   "execution_count": 12,
   "outputs": [
    {
     "name": "stdout",
     "output_type": "stream",
     "text": [
      "0    3\n",
      "1    4\n",
      "2    5\n",
      "3    6\n",
      "4    7\n",
      "dtype: int32\n"
     ]
    }
   ],
   "source": [
    "s7 = pd.Series(np.arange(3,8))\n",
    "print(s7)"
   ],
   "metadata": {
    "collapsed": false,
    "ExecuteTime": {
     "start_time": "2025-04-08T15:01:13.029839Z",
     "end_time": "2025-04-08T15:01:13.034706Z"
    }
   }
  },
  {
   "cell_type": "code",
   "execution_count": 19,
   "outputs": [
    {
     "name": "stdout",
     "output_type": "stream",
     "text": [
      "A    0\n",
      "B    1\n",
      "C    2\n",
      "D    3\n",
      "E    4\n",
      "F    5\n",
      "dtype: int64\n"
     ]
    }
   ],
   "source": [
    "# 6.使用列表推导式  index 与 data 数量个数匹配不上则报错\n",
    "s8 = pd.Series(data=[i for i in range(6)], index=[i for i in 'ABCDEF'])\n",
    "print(s8)"
   ],
   "metadata": {
    "collapsed": false,
    "ExecuteTime": {
     "start_time": "2025-04-08T15:14:18.148368Z",
     "end_time": "2025-04-08T15:14:18.154935Z"
    }
   }
  },
  {
   "cell_type": "code",
   "execution_count": 20,
   "outputs": [
    {
     "name": "stdout",
     "output_type": "stream",
     "text": [
      "Index(['A', 'B', 'C', 'D', 'E', 'F'], dtype='object')\n"
     ]
    }
   ],
   "source": [
    "# Series 对象属性  外面是元组  里面是列表\n",
    "print(s8.index)"
   ],
   "metadata": {
    "collapsed": false,
    "ExecuteTime": {
     "start_time": "2025-04-08T15:16:12.425421Z",
     "end_time": "2025-04-08T15:16:12.432293Z"
    }
   }
  },
  {
   "cell_type": "code",
   "execution_count": 21,
   "outputs": [
    {
     "name": "stdout",
     "output_type": "stream",
     "text": [
      "[0 1 2 3 4 5]\n"
     ]
    }
   ],
   "source": [
    "# Series 对象属性之值\n",
    "print(s8.values)"
   ],
   "metadata": {
    "collapsed": false,
    "ExecuteTime": {
     "start_time": "2025-04-08T15:17:10.785670Z",
     "end_time": "2025-04-08T15:17:10.790194Z"
    }
   }
  },
  {
   "cell_type": "code",
   "execution_count": 22,
   "outputs": [],
   "source": [
    "# Series 对象属性之根据索引获取元素\n",
    "#  格式 : Series对象[索引]\n",
    "s8['A'] = 88"
   ],
   "metadata": {
    "collapsed": false,
    "ExecuteTime": {
     "start_time": "2025-04-08T15:18:21.724832Z",
     "end_time": "2025-04-08T15:18:21.729527Z"
    }
   }
  },
  {
   "cell_type": "code",
   "execution_count": 23,
   "outputs": [
    {
     "name": "stdout",
     "output_type": "stream",
     "text": [
      "A    88\n",
      "B     1\n",
      "C     2\n",
      "D     3\n",
      "E     4\n",
      "F     5\n",
      "dtype: int64\n"
     ]
    }
   ],
   "source": [
    "print(s8)"
   ],
   "metadata": {
    "collapsed": false,
    "ExecuteTime": {
     "start_time": "2025-04-08T15:18:25.906279Z",
     "end_time": "2025-04-08T15:18:25.918018Z"
    }
   }
  },
  {
   "cell_type": "code",
   "execution_count": null,
   "outputs": [
    {
     "ename": "TypeError",
     "evalue": "'set' type is unordered",
     "output_type": "error",
     "traceback": [
      "\u001B[1;31m---------------------------------------------------------------------------\u001B[0m",
      "\u001B[1;31mTypeError\u001B[0m                                 Traceback (most recent call last)",
      "Cell \u001B[1;32mIn[3], line 1\u001B[0m\n\u001B[1;32m----> 1\u001B[0m pd\u001B[38;5;241m.\u001B[39mSeries({\u001B[38;5;241m8\u001B[39m,\u001B[38;5;241m4\u001B[39m,\u001B[38;5;241m5\u001B[39m,\u001B[38;5;241m63\u001B[39m,\u001B[38;5;241m5\u001B[39m,\u001B[38;5;241m7\u001B[39m,\u001B[38;5;241m4\u001B[39m})\n",
      "File \u001B[1;32mE:\\ProgrammingLanguage\\Python\\Anaconda3\\Anaconda3-2024\\anaconda3\\Lib\\site-packages\\pandas\\core\\series.py:584\u001B[0m, in \u001B[0;36mSeries.__init__\u001B[1;34m(self, data, index, dtype, name, copy, fastpath)\u001B[0m\n\u001B[0;32m    582\u001B[0m         data \u001B[38;5;241m=\u001B[39m data\u001B[38;5;241m.\u001B[39mcopy()\n\u001B[0;32m    583\u001B[0m \u001B[38;5;28;01melse\u001B[39;00m:\n\u001B[1;32m--> 584\u001B[0m     data \u001B[38;5;241m=\u001B[39m sanitize_array(data, index, dtype, copy)\n\u001B[0;32m    586\u001B[0m     manager \u001B[38;5;241m=\u001B[39m _get_option(\u001B[38;5;124m\"\u001B[39m\u001B[38;5;124mmode.data_manager\u001B[39m\u001B[38;5;124m\"\u001B[39m, silent\u001B[38;5;241m=\u001B[39m\u001B[38;5;28;01mTrue\u001B[39;00m)\n\u001B[0;32m    587\u001B[0m     \u001B[38;5;28;01mif\u001B[39;00m manager \u001B[38;5;241m==\u001B[39m \u001B[38;5;124m\"\u001B[39m\u001B[38;5;124mblock\u001B[39m\u001B[38;5;124m\"\u001B[39m:\n",
      "File \u001B[1;32mE:\\ProgrammingLanguage\\Python\\Anaconda3\\Anaconda3-2024\\anaconda3\\Lib\\site-packages\\pandas\\core\\construction.py:642\u001B[0m, in \u001B[0;36msanitize_array\u001B[1;34m(data, index, dtype, copy, allow_2d)\u001B[0m\n\u001B[0;32m    633\u001B[0m     \u001B[38;5;28;01mreturn\u001B[39;00m sanitize_array(\n\u001B[0;32m    634\u001B[0m         data,\n\u001B[0;32m    635\u001B[0m         index\u001B[38;5;241m=\u001B[39mindex,\n\u001B[1;32m   (...)\u001B[0m\n\u001B[0;32m    638\u001B[0m         allow_2d\u001B[38;5;241m=\u001B[39mallow_2d,\n\u001B[0;32m    639\u001B[0m     )\n\u001B[0;32m    641\u001B[0m \u001B[38;5;28;01melse\u001B[39;00m:\n\u001B[1;32m--> 642\u001B[0m     _sanitize_non_ordered(data)\n\u001B[0;32m    643\u001B[0m     \u001B[38;5;66;03m# materialize e.g. generators, convert e.g. tuples, abc.ValueView\u001B[39;00m\n\u001B[0;32m    644\u001B[0m     data \u001B[38;5;241m=\u001B[39m \u001B[38;5;28mlist\u001B[39m(data)\n",
      "File \u001B[1;32mE:\\ProgrammingLanguage\\Python\\Anaconda3\\Anaconda3-2024\\anaconda3\\Lib\\site-packages\\pandas\\core\\construction.py:693\u001B[0m, in \u001B[0;36m_sanitize_non_ordered\u001B[1;34m(data)\u001B[0m\n\u001B[0;32m    689\u001B[0m \u001B[38;5;250m\u001B[39m\u001B[38;5;124;03m\"\"\"\u001B[39;00m\n\u001B[0;32m    690\u001B[0m \u001B[38;5;124;03mRaise only for unordered sets, e.g., not for dict_keys\u001B[39;00m\n\u001B[0;32m    691\u001B[0m \u001B[38;5;124;03m\"\"\"\u001B[39;00m\n\u001B[0;32m    692\u001B[0m \u001B[38;5;28;01mif\u001B[39;00m \u001B[38;5;28misinstance\u001B[39m(data, (\u001B[38;5;28mset\u001B[39m, \u001B[38;5;28mfrozenset\u001B[39m)):\n\u001B[1;32m--> 693\u001B[0m     \u001B[38;5;28;01mraise\u001B[39;00m \u001B[38;5;167;01mTypeError\u001B[39;00m(\u001B[38;5;124mf\u001B[39m\u001B[38;5;124m\"\u001B[39m\u001B[38;5;124m'\u001B[39m\u001B[38;5;132;01m{\u001B[39;00m\u001B[38;5;28mtype\u001B[39m(data)\u001B[38;5;241m.\u001B[39m\u001B[38;5;18m__name__\u001B[39m\u001B[38;5;132;01m}\u001B[39;00m\u001B[38;5;124m'\u001B[39m\u001B[38;5;124m type is unordered\u001B[39m\u001B[38;5;124m\"\u001B[39m)\n",
      "\u001B[1;31mTypeError\u001B[0m: 'set' type is unordered"
     ]
    }
   ],
   "source": [
    "pd.Series({8,4,5,63,5,7,4})       # 'set' type is unordered 集合是无序的，不能用来创建Series"
   ],
   "metadata": {
    "collapsed": false
   }
  },
  {
   "cell_type": "code",
   "execution_count": null,
   "outputs": [],
   "source": [],
   "metadata": {
    "collapsed": false
   }
  }
 ],
 "metadata": {
  "kernelspec": {
   "display_name": "Python 3",
   "language": "python",
   "name": "python3"
  },
  "language_info": {
   "codemirror_mode": {
    "name": "ipython",
    "version": 2
   },
   "file_extension": ".py",
   "mimetype": "text/x-python",
   "name": "python",
   "nbconvert_exporter": "python",
   "pygments_lexer": "ipython2",
   "version": "2.7.6"
  }
 },
 "nbformat": 4,
 "nbformat_minor": 0
}
