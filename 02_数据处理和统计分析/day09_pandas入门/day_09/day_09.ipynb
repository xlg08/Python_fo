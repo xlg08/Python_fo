{
 "cells": [
  {
   "cell_type": "code",
   "execution_count": 5,
   "outputs": [
    {
     "name": "stdout",
     "output_type": "stream",
     "text": [
      "E:\\ProjectCode\\PythonProjectCode\\pythonProject\\HaskMaProject\\02_数据处理和统计分析\\day09_pandas入门\\day_09\n"
     ]
    }
   ],
   "source": [
    "import numpy as np\n",
    "import pandas as pd\n",
    "import matplotlib as plt\n",
    "import os\n",
    "\n",
    "os.chdir(r\"E:\\ProjectCode\\PythonProjectCode\\pythonProject\\HaskMaProject\\02_数据处理和统计分析\\day09_pandas入门\\day_09\")\n",
    "print(os.getcwd())"
   ],
   "metadata": {
    "collapsed": false,
    "ExecuteTime": {
     "start_time": "2025-04-08T20:45:17.577476Z",
     "end_time": "2025-04-08T20:45:17.584100Z"
    }
   }
  },
  {
   "cell_type": "markdown",
   "source": [
    "# 准备动作"
   ],
   "metadata": {
    "collapsed": false
   }
  },
  {
   "cell_type": "markdown",
   "source": [
    "## 1. 查看数据前5行"
   ],
   "metadata": {
    "collapsed": false
   }
  },
  {
   "cell_type": "code",
   "execution_count": 64,
   "outputs": [
    {
     "data": {
      "text/plain": "      区域      地址                            标题    户型   面积    价格         楼层  \\\n0   燕莎租房     新源街  亮马桥 新源街  精装两居 交通便利 看房方便 随时入住  2室1厅   50  5800   中楼层(共6层)   \n1   望京租房    澳洲康都        澳洲康都东向精致两居室...........  2室1厅   79  7800  中楼层(共28层)   \n2  广安门租房    远见名苑        远见名苑 东向两居室 独立小区环境 适合居家  2室1厅   86  8000  低楼层(共25层)   \n3  天通苑租房  天通苑北一区          北一区简装两居，采光好，视野美，出行方便  2室1厅  103  5300  低楼层(共13层)   \n4  团结湖租房   团结湖北口        团结湖北口近地铁高楼层朝南向精装修正规两居室  2室1厅   63  6400  高楼层(共16层)   \n\n         建造时间  朝向        更新时间  看房人数                                 备注  \\\n0    1981年建板楼   南  2017.07.21    26                      随时看房 精装修 集中供暖   \n1  2005年建板塔结合   东  2017.07.23    33   距离14号线(东段)东湖渠站731米 随时看房 精装修 集中供暖   \n2    2006年建塔楼   东  2017.07.20    34         距离7号线达官营站684米 随时看房 精装修 自供暖   \n3    2004年建板楼  东南  2017.07.25    30        距离5号线天通苑站927米 随时看房 精装修 集中供暖   \n4    1982年建塔楼   南  2017.07.26    30        距离10号线团结湖站88米 随时看房 精装修 集中供暖   \n\n                                              链接地址  \n0  https://bj.lianjia.com/zufang/101101803342.html  \n1  https://bj.lianjia.com/zufang/101101753126.html  \n2  https://bj.lianjia.com/zufang/101101756753.html  \n3  https://bj.lianjia.com/zufang/101101780034.html  \n4  https://bj.lianjia.com/zufang/101101781083.html  ",
      "text/html": "<div>\n<style scoped>\n    .dataframe tbody tr th:only-of-type {\n        vertical-align: middle;\n    }\n\n    .dataframe tbody tr th {\n        vertical-align: top;\n    }\n\n    .dataframe thead th {\n        text-align: right;\n    }\n</style>\n<table border=\"1\" class=\"dataframe\">\n  <thead>\n    <tr style=\"text-align: right;\">\n      <th></th>\n      <th>区域</th>\n      <th>地址</th>\n      <th>标题</th>\n      <th>户型</th>\n      <th>面积</th>\n      <th>价格</th>\n      <th>楼层</th>\n      <th>建造时间</th>\n      <th>朝向</th>\n      <th>更新时间</th>\n      <th>看房人数</th>\n      <th>备注</th>\n      <th>链接地址</th>\n    </tr>\n  </thead>\n  <tbody>\n    <tr>\n      <th>0</th>\n      <td>燕莎租房</td>\n      <td>新源街</td>\n      <td>亮马桥 新源街  精装两居 交通便利 看房方便 随时入住</td>\n      <td>2室1厅</td>\n      <td>50</td>\n      <td>5800</td>\n      <td>中楼层(共6层)</td>\n      <td>1981年建板楼</td>\n      <td>南</td>\n      <td>2017.07.21</td>\n      <td>26</td>\n      <td>随时看房 精装修 集中供暖</td>\n      <td>https://bj.lianjia.com/zufang/101101803342.html</td>\n    </tr>\n    <tr>\n      <th>1</th>\n      <td>望京租房</td>\n      <td>澳洲康都</td>\n      <td>澳洲康都东向精致两居室...........</td>\n      <td>2室1厅</td>\n      <td>79</td>\n      <td>7800</td>\n      <td>中楼层(共28层)</td>\n      <td>2005年建板塔结合</td>\n      <td>东</td>\n      <td>2017.07.23</td>\n      <td>33</td>\n      <td>距离14号线(东段)东湖渠站731米 随时看房 精装修 集中供暖</td>\n      <td>https://bj.lianjia.com/zufang/101101753126.html</td>\n    </tr>\n    <tr>\n      <th>2</th>\n      <td>广安门租房</td>\n      <td>远见名苑</td>\n      <td>远见名苑 东向两居室 独立小区环境 适合居家</td>\n      <td>2室1厅</td>\n      <td>86</td>\n      <td>8000</td>\n      <td>低楼层(共25层)</td>\n      <td>2006年建塔楼</td>\n      <td>东</td>\n      <td>2017.07.20</td>\n      <td>34</td>\n      <td>距离7号线达官营站684米 随时看房 精装修 自供暖</td>\n      <td>https://bj.lianjia.com/zufang/101101756753.html</td>\n    </tr>\n    <tr>\n      <th>3</th>\n      <td>天通苑租房</td>\n      <td>天通苑北一区</td>\n      <td>北一区简装两居，采光好，视野美，出行方便</td>\n      <td>2室1厅</td>\n      <td>103</td>\n      <td>5300</td>\n      <td>低楼层(共13层)</td>\n      <td>2004年建板楼</td>\n      <td>东南</td>\n      <td>2017.07.25</td>\n      <td>30</td>\n      <td>距离5号线天通苑站927米 随时看房 精装修 集中供暖</td>\n      <td>https://bj.lianjia.com/zufang/101101780034.html</td>\n    </tr>\n    <tr>\n      <th>4</th>\n      <td>团结湖租房</td>\n      <td>团结湖北口</td>\n      <td>团结湖北口近地铁高楼层朝南向精装修正规两居室</td>\n      <td>2室1厅</td>\n      <td>63</td>\n      <td>6400</td>\n      <td>高楼层(共16层)</td>\n      <td>1982年建塔楼</td>\n      <td>南</td>\n      <td>2017.07.26</td>\n      <td>30</td>\n      <td>距离10号线团结湖站88米 随时看房 精装修 集中供暖</td>\n      <td>https://bj.lianjia.com/zufang/101101781083.html</td>\n    </tr>\n  </tbody>\n</table>\n</div>"
     },
     "execution_count": 64,
     "metadata": {},
     "output_type": "execute_result"
    }
   ],
   "source": [
    "df = pd.read_csv(r\"data/LJdata.csv\", encoding=\"utf-8\")\n",
    "# print(df)\n",
    "df.head(5)"
   ],
   "metadata": {
    "collapsed": false,
    "ExecuteTime": {
     "start_time": "2025-04-08T21:36:22.747792Z",
     "end_time": "2025-04-08T21:36:22.762266Z"
    }
   }
  },
  {
   "cell_type": "markdown",
   "source": [
    "## 2. 查看列数据分布"
   ],
   "metadata": {
    "collapsed": false
   }
  },
  {
   "cell_type": "code",
   "execution_count": 62,
   "outputs": [
    {
     "name": "stdout",
     "output_type": "stream",
     "text": [
      "<class 'pandas.core.frame.DataFrame'>\n",
      "RangeIndex: 2760 entries, 0 to 2759\n",
      "Data columns (total 13 columns):\n",
      " #   Column  Non-Null Count  Dtype \n",
      "---  ------  --------------  ----- \n",
      " 0   区域      2760 non-null   object\n",
      " 1   地址      2760 non-null   object\n",
      " 2   标题      2760 non-null   object\n",
      " 3   户型      2760 non-null   object\n",
      " 4   面积      2760 non-null   int64 \n",
      " 5   价格      2760 non-null   int64 \n",
      " 6   楼层      2760 non-null   object\n",
      " 7   建造时间    2758 non-null   object\n",
      " 8   朝向      2760 non-null   object\n",
      " 9   更新时间    2760 non-null   object\n",
      " 10  看房人数    2760 non-null   int64 \n",
      " 11  备注      2760 non-null   object\n",
      " 12  链接地址    2760 non-null   object\n",
      "dtypes: int64(3), object(10)\n",
      "memory usage: 280.4+ KB\n",
      "None\n"
     ]
    }
   ],
   "source": [
    "print(df.info())"
   ],
   "metadata": {
    "collapsed": false,
    "ExecuteTime": {
     "start_time": "2025-04-08T21:34:06.976953Z",
     "end_time": "2025-04-08T21:34:06.993583Z"
    }
   }
  },
  {
   "cell_type": "markdown",
   "source": [
    "## 3. 查看列统计指标"
   ],
   "metadata": {
    "collapsed": false
   }
  },
  {
   "cell_type": "code",
   "execution_count": 86,
   "outputs": [
    {
     "name": "stdout",
     "output_type": "stream",
     "text": [
      "Index(['区域', '地址', '标题', '户型', '面积', '价格', '楼层', '建造时间', '朝向', '更新时间', '看房人数',\n",
      "       '备注', '链接地址', 'rent_per_sqm', '单价'],\n",
      "      dtype='object')\n"
     ]
    }
   ],
   "source": [
    "# print(df.describe())\n",
    "print(df.columns)"
   ],
   "metadata": {
    "collapsed": false,
    "ExecuteTime": {
     "start_time": "2025-04-08T22:04:12.979182Z",
     "end_time": "2025-04-08T22:04:12.993464Z"
    }
   }
  },
  {
   "cell_type": "markdown",
   "source": [
    "## 4. 查看数据形状"
   ],
   "metadata": {
    "collapsed": false
   }
  },
  {
   "cell_type": "code",
   "execution_count": 60,
   "outputs": [
    {
     "name": "stdout",
     "output_type": "stream",
     "text": [
      "行数: 2760, 列数: 13\n"
     ]
    }
   ],
   "source": [
    "print(f\"行数: {df.shape[0]}, 列数: {df.shape[1]}\")"
   ],
   "metadata": {
    "collapsed": false,
    "ExecuteTime": {
     "start_time": "2025-04-08T21:33:52.385346Z",
     "end_time": "2025-04-08T21:33:52.427827Z"
    }
   }
  },
  {
   "cell_type": "markdown",
   "source": [
    "# 具体的需求"
   ],
   "metadata": {
    "collapsed": false
   }
  },
  {
   "cell_type": "markdown",
   "source": [
    "## 1. 找到租金最低，和租金最高的房子"
   ],
   "metadata": {
    "collapsed": false
   }
  },
  {
   "cell_type": "code",
   "execution_count": 68,
   "outputs": [
    {
     "name": "stdout",
     "output_type": "stream",
     "text": [
      "最低价格：\n",
      "区域                                                 良乡租房\n",
      "地址                                               伟业嘉园西里\n",
      "标题                                 半地下室 家电齐全 集中供暖 简单装修 \n",
      "户型                                                 1室1厅\n",
      "面积                                                   46\n",
      "价格                                                 1300\n",
      "楼层                                             地下室(共5层)\n",
      "建造时间                                             2005年建\n",
      "朝向                                                    南\n",
      "更新时间                                         2017.07.19\n",
      "看房人数                                                 14\n",
      "备注                                            随时看房 集中供暖\n",
      "链接地址    https://bj.lianjia.com/zufang/101101538484.html\n",
      "Name: 2527, dtype: object\n",
      "最高价格：\n",
      "区域                                                和平里租房\n",
      "地址                                               雍和家园二期\n",
      "标题                                   雍和家园 底商出租 使用面积720米\n",
      "户型                                                 6室3厅\n",
      "面积                                                  720\n",
      "价格                                               210000\n",
      "楼层                                             低楼层(共6层)\n",
      "建造时间                                           2005年建板楼\n",
      "朝向                                                    南\n",
      "更新时间                                         2017.07.26\n",
      "看房人数                                                 21\n",
      "备注                              距离2号线雍和宫站293米 随时看房 集中供暖\n",
      "链接地址    https://bj.lianjia.com/zufang/101101672514.html\n",
      "Name: 2658, dtype: object\n"
     ]
    }
   ],
   "source": [
    "min_rent = df.loc[df['价格'].idxmin()]\n",
    "max_rent = df.loc[df['价格'].idxmax()]\n",
    "print(\"最低价格：\")\n",
    "print(min_rent)\n",
    "print(\"最高价格：\")\n",
    "print(max_rent)"
   ],
   "metadata": {
    "collapsed": false,
    "ExecuteTime": {
     "start_time": "2025-04-08T21:41:13.979799Z",
     "end_time": "2025-04-08T21:41:14.003202Z"
    }
   }
  },
  {
   "cell_type": "markdown",
   "source": [
    "## 2. 找到最近新上的10套房源"
   ],
   "metadata": {
    "collapsed": false
   }
  },
  {
   "cell_type": "code",
   "execution_count": 70,
   "outputs": [
    {
     "name": "stdout",
     "output_type": "stream",
     "text": [
      "最新10套房源:\n"
     ]
    },
    {
     "data": {
      "text/plain": "          区域         地址                            标题     户型   面积     价格  \\\n347     劲松租房       武圣西里            武圣西里正规三居室,低楼层,看房方便   3室1厅   73   6500   \n1790   广安门租房       恒昌花园              广安门恒昌花园西向三居室集中供暖   3室2厅  159  13500   \n2405  武夷花园租房       月亮城堡          月亮城堡精装修正规一居 南北通透 户型好   1室1厅  102   4500   \n2639    常营租房     北京像素南区            北京像素 地铁6号线草房 北向开间   1房间1卫   48   3750   \n2366    马甸租房      北太平庄路  牡丹园精装一居室 可当两居 350米到10号线 南北通透   1室1厅   33   4000   \n405    东直门租房      海运仓小区           东四十条海运仓小区精装两居室诚意出租！   2室1厅   64   8500   \n2538   四季青租房       观澜国际            观澜国际 带车位 二改三  家电齐全   3室1厅  122  13000   \n407   武夷花园租房    京贸国际城西区       京贸国际城西区   全南两居室  家具家电齐全   2室1厅   91   4100   \n2033   知春路租房       罗庄西里               罗庄西里两居室中等装修拎包即住   2室1厅   86   8200   \n273    小西天租房  文慧园北路26号院    小西天积水潭 文慧园北路26号院精装双南二居拎包入住   2室0厅   55   5000   \n\n             楼层        建造时间    朝向        更新时间  看房人数  \\\n347    低楼层(共6层)    1986年建板楼  东南 北  2017.07.27     0   \n1790  高楼层(共28层)    1999年建塔楼     西  2017.07.27    12   \n2405  低楼层(共11层)  2005年建板塔结合   南 北  2017.07.27    28   \n2639  低楼层(共23层)  2012年建板塔结合     北  2017.07.27     3   \n2366   低楼层(共5层)    1985年建板楼     南  2017.07.27    24   \n405    中楼层(共8层)    2002年建板楼   东 西  2017.07.27    32   \n2538  低楼层(共16层)    2004年建板楼   南 北  2017.07.27    13   \n407   高楼层(共35层)    2011年建塔楼     南  2017.07.27    30   \n2033  高楼层(共18层)    1998年建塔楼    东南  2017.07.27    18   \n273   中楼层(共14层)    1989年建塔楼     南  2017.07.27    22   \n\n                                 备注  \\\n347             距离10号线潘家园站965米 随时看房   \n1790        距离7号线达官营站292米 随时看房 集中供暖   \n2405                  随时看房 精装修 集中供暖   \n2639      距离6号线草房站66米 随时看房 精装修 集中供暖   \n2366   距离10号线牡丹园站335米 随时看房 精装修 集中供暖   \n405    距离2号线东四十条站808米 随时看房 精装修 集中供暖   \n2538    距离10号线车道沟站333米 随时看房 精装修 自供暖   \n407                   随时看房 精装修 集中供暖   \n2033       距离10号线知春路站698米 随时看房 集中供暖   \n273                       随时看房 集中供暖   \n\n                                                 链接地址  \n347   https://bj.lianjia.com/zufang/101101862495.html  \n1790  https://bj.lianjia.com/zufang/101101692254.html  \n2405  https://bj.lianjia.com/zufang/101101495373.html  \n2639  https://bj.lianjia.com/zufang/101101852394.html  \n2366  https://bj.lianjia.com/zufang/101101622752.html  \n405   https://bj.lianjia.com/zufang/101101731530.html  \n2538  https://bj.lianjia.com/zufang/101101613246.html  \n407   https://bj.lianjia.com/zufang/101101708896.html  \n2033  https://bj.lianjia.com/zufang/101101414799.html  \n273   https://bj.lianjia.com/zufang/101101777561.html  ",
      "text/html": "<div>\n<style scoped>\n    .dataframe tbody tr th:only-of-type {\n        vertical-align: middle;\n    }\n\n    .dataframe tbody tr th {\n        vertical-align: top;\n    }\n\n    .dataframe thead th {\n        text-align: right;\n    }\n</style>\n<table border=\"1\" class=\"dataframe\">\n  <thead>\n    <tr style=\"text-align: right;\">\n      <th></th>\n      <th>区域</th>\n      <th>地址</th>\n      <th>标题</th>\n      <th>户型</th>\n      <th>面积</th>\n      <th>价格</th>\n      <th>楼层</th>\n      <th>建造时间</th>\n      <th>朝向</th>\n      <th>更新时间</th>\n      <th>看房人数</th>\n      <th>备注</th>\n      <th>链接地址</th>\n    </tr>\n  </thead>\n  <tbody>\n    <tr>\n      <th>347</th>\n      <td>劲松租房</td>\n      <td>武圣西里</td>\n      <td>武圣西里正规三居室,低楼层,看房方便</td>\n      <td>3室1厅</td>\n      <td>73</td>\n      <td>6500</td>\n      <td>低楼层(共6层)</td>\n      <td>1986年建板楼</td>\n      <td>东南 北</td>\n      <td>2017.07.27</td>\n      <td>0</td>\n      <td>距离10号线潘家园站965米 随时看房</td>\n      <td>https://bj.lianjia.com/zufang/101101862495.html</td>\n    </tr>\n    <tr>\n      <th>1790</th>\n      <td>广安门租房</td>\n      <td>恒昌花园</td>\n      <td>广安门恒昌花园西向三居室集中供暖</td>\n      <td>3室2厅</td>\n      <td>159</td>\n      <td>13500</td>\n      <td>高楼层(共28层)</td>\n      <td>1999年建塔楼</td>\n      <td>西</td>\n      <td>2017.07.27</td>\n      <td>12</td>\n      <td>距离7号线达官营站292米 随时看房 集中供暖</td>\n      <td>https://bj.lianjia.com/zufang/101101692254.html</td>\n    </tr>\n    <tr>\n      <th>2405</th>\n      <td>武夷花园租房</td>\n      <td>月亮城堡</td>\n      <td>月亮城堡精装修正规一居 南北通透 户型好</td>\n      <td>1室1厅</td>\n      <td>102</td>\n      <td>4500</td>\n      <td>低楼层(共11层)</td>\n      <td>2005年建板塔结合</td>\n      <td>南 北</td>\n      <td>2017.07.27</td>\n      <td>28</td>\n      <td>随时看房 精装修 集中供暖</td>\n      <td>https://bj.lianjia.com/zufang/101101495373.html</td>\n    </tr>\n    <tr>\n      <th>2639</th>\n      <td>常营租房</td>\n      <td>北京像素南区</td>\n      <td>北京像素 地铁6号线草房 北向开间</td>\n      <td>1房间1卫</td>\n      <td>48</td>\n      <td>3750</td>\n      <td>低楼层(共23层)</td>\n      <td>2012年建板塔结合</td>\n      <td>北</td>\n      <td>2017.07.27</td>\n      <td>3</td>\n      <td>距离6号线草房站66米 随时看房 精装修 集中供暖</td>\n      <td>https://bj.lianjia.com/zufang/101101852394.html</td>\n    </tr>\n    <tr>\n      <th>2366</th>\n      <td>马甸租房</td>\n      <td>北太平庄路</td>\n      <td>牡丹园精装一居室 可当两居 350米到10号线 南北通透</td>\n      <td>1室1厅</td>\n      <td>33</td>\n      <td>4000</td>\n      <td>低楼层(共5层)</td>\n      <td>1985年建板楼</td>\n      <td>南</td>\n      <td>2017.07.27</td>\n      <td>24</td>\n      <td>距离10号线牡丹园站335米 随时看房 精装修 集中供暖</td>\n      <td>https://bj.lianjia.com/zufang/101101622752.html</td>\n    </tr>\n    <tr>\n      <th>405</th>\n      <td>东直门租房</td>\n      <td>海运仓小区</td>\n      <td>东四十条海运仓小区精装两居室诚意出租！</td>\n      <td>2室1厅</td>\n      <td>64</td>\n      <td>8500</td>\n      <td>中楼层(共8层)</td>\n      <td>2002年建板楼</td>\n      <td>东 西</td>\n      <td>2017.07.27</td>\n      <td>32</td>\n      <td>距离2号线东四十条站808米 随时看房 精装修 集中供暖</td>\n      <td>https://bj.lianjia.com/zufang/101101731530.html</td>\n    </tr>\n    <tr>\n      <th>2538</th>\n      <td>四季青租房</td>\n      <td>观澜国际</td>\n      <td>观澜国际 带车位 二改三  家电齐全</td>\n      <td>3室1厅</td>\n      <td>122</td>\n      <td>13000</td>\n      <td>低楼层(共16层)</td>\n      <td>2004年建板楼</td>\n      <td>南 北</td>\n      <td>2017.07.27</td>\n      <td>13</td>\n      <td>距离10号线车道沟站333米 随时看房 精装修 自供暖</td>\n      <td>https://bj.lianjia.com/zufang/101101613246.html</td>\n    </tr>\n    <tr>\n      <th>407</th>\n      <td>武夷花园租房</td>\n      <td>京贸国际城西区</td>\n      <td>京贸国际城西区   全南两居室  家具家电齐全</td>\n      <td>2室1厅</td>\n      <td>91</td>\n      <td>4100</td>\n      <td>高楼层(共35层)</td>\n      <td>2011年建塔楼</td>\n      <td>南</td>\n      <td>2017.07.27</td>\n      <td>30</td>\n      <td>随时看房 精装修 集中供暖</td>\n      <td>https://bj.lianjia.com/zufang/101101708896.html</td>\n    </tr>\n    <tr>\n      <th>2033</th>\n      <td>知春路租房</td>\n      <td>罗庄西里</td>\n      <td>罗庄西里两居室中等装修拎包即住</td>\n      <td>2室1厅</td>\n      <td>86</td>\n      <td>8200</td>\n      <td>高楼层(共18层)</td>\n      <td>1998年建塔楼</td>\n      <td>东南</td>\n      <td>2017.07.27</td>\n      <td>18</td>\n      <td>距离10号线知春路站698米 随时看房 集中供暖</td>\n      <td>https://bj.lianjia.com/zufang/101101414799.html</td>\n    </tr>\n    <tr>\n      <th>273</th>\n      <td>小西天租房</td>\n      <td>文慧园北路26号院</td>\n      <td>小西天积水潭 文慧园北路26号院精装双南二居拎包入住</td>\n      <td>2室0厅</td>\n      <td>55</td>\n      <td>5000</td>\n      <td>中楼层(共14层)</td>\n      <td>1989年建塔楼</td>\n      <td>南</td>\n      <td>2017.07.27</td>\n      <td>22</td>\n      <td>随时看房 集中供暖</td>\n      <td>https://bj.lianjia.com/zufang/101101777561.html</td>\n    </tr>\n  </tbody>\n</table>\n</div>"
     },
     "execution_count": 70,
     "metadata": {},
     "output_type": "execute_result"
    }
   ],
   "source": [
    "df_sorted = df.sort_values('更新时间', ascending=False)\n",
    "latest_10 = df_sorted.head(10)\n",
    "print(\"最新10套房源:\")\n",
    "latest_10"
   ],
   "metadata": {
    "collapsed": false,
    "ExecuteTime": {
     "start_time": "2025-04-08T21:49:29.222983Z",
     "end_time": "2025-04-08T21:49:29.233097Z"
    }
   }
  },
  {
   "cell_type": "markdown",
   "source": [
    "## 3. 查看所有更新时间"
   ],
   "metadata": {
    "collapsed": false
   }
  },
  {
   "cell_type": "code",
   "execution_count": 72,
   "outputs": [
    {
     "data": {
      "text/plain": "array(['2017.07.21', '2017.07.23', '2017.07.20', '2017.07.25',\n       '2017.07.26', '2017.07.16', '2017.07.22', '2017.07.24',\n       '2017.07.27', '2017.07.19', '2017.07.14', '2017.07.15',\n       '2017.07.17', '2017.07.18'], dtype=object)"
     },
     "execution_count": 72,
     "metadata": {},
     "output_type": "execute_result"
    }
   ],
   "source": [
    "df['更新时间'].unique()"
   ],
   "metadata": {
    "collapsed": false,
    "ExecuteTime": {
     "start_time": "2025-04-08T21:50:07.618138Z",
     "end_time": "2025-04-08T21:50:07.658145Z"
    }
   }
  },
  {
   "cell_type": "markdown",
   "source": [
    "## 4. 查看看房人数的平均值, 最大值, 最小值"
   ],
   "metadata": {
    "collapsed": false
   }
  },
  {
   "cell_type": "code",
   "execution_count": 74,
   "outputs": [
    {
     "data": {
      "text/plain": "mean     13.448913\nmax     122.000000\nmin       0.000000\nName: 看房人数, dtype: float64"
     },
     "execution_count": 74,
     "metadata": {},
     "output_type": "execute_result"
    }
   ],
   "source": [
    "df['看房人数'].agg(['mean', 'max', 'min'])"
   ],
   "metadata": {
    "collapsed": false,
    "ExecuteTime": {
     "start_time": "2025-04-08T21:50:50.967766Z",
     "end_time": "2025-04-08T21:50:51.004941Z"
    }
   }
  },
  {
   "cell_type": "markdown",
   "source": [
    "## 5. 查看不同看房人数的房源数量，as_index = False 分组字段不作为行索引（默认为True)"
   ],
   "metadata": {
    "collapsed": false
   }
  },
  {
   "cell_type": "code",
   "execution_count": 75,
   "outputs": [
    {
     "data": {
      "text/plain": "    看房人数  size\n0      0   152\n1      1   149\n2      2   143\n3      3   129\n4      4   147\n..   ...   ...\n69    82     1\n70    84     1\n71    86     1\n72   102     1\n73   122     2\n\n[74 rows x 2 columns]",
      "text/html": "<div>\n<style scoped>\n    .dataframe tbody tr th:only-of-type {\n        vertical-align: middle;\n    }\n\n    .dataframe tbody tr th {\n        vertical-align: top;\n    }\n\n    .dataframe thead th {\n        text-align: right;\n    }\n</style>\n<table border=\"1\" class=\"dataframe\">\n  <thead>\n    <tr style=\"text-align: right;\">\n      <th></th>\n      <th>看房人数</th>\n      <th>size</th>\n    </tr>\n  </thead>\n  <tbody>\n    <tr>\n      <th>0</th>\n      <td>0</td>\n      <td>152</td>\n    </tr>\n    <tr>\n      <th>1</th>\n      <td>1</td>\n      <td>149</td>\n    </tr>\n    <tr>\n      <th>2</th>\n      <td>2</td>\n      <td>143</td>\n    </tr>\n    <tr>\n      <th>3</th>\n      <td>3</td>\n      <td>129</td>\n    </tr>\n    <tr>\n      <th>4</th>\n      <td>4</td>\n      <td>147</td>\n    </tr>\n    <tr>\n      <th>...</th>\n      <td>...</td>\n      <td>...</td>\n    </tr>\n    <tr>\n      <th>69</th>\n      <td>82</td>\n      <td>1</td>\n    </tr>\n    <tr>\n      <th>70</th>\n      <td>84</td>\n      <td>1</td>\n    </tr>\n    <tr>\n      <th>71</th>\n      <td>86</td>\n      <td>1</td>\n    </tr>\n    <tr>\n      <th>72</th>\n      <td>102</td>\n      <td>1</td>\n    </tr>\n    <tr>\n      <th>73</th>\n      <td>122</td>\n      <td>2</td>\n    </tr>\n  </tbody>\n</table>\n<p>74 rows × 2 columns</p>\n</div>"
     },
     "execution_count": 75,
     "metadata": {},
     "output_type": "execute_result"
    }
   ],
   "source": [
    "df.groupby('看房人数', as_index=False).size()"
   ],
   "metadata": {
    "collapsed": false,
    "ExecuteTime": {
     "start_time": "2025-04-08T21:52:17.346985Z",
     "end_time": "2025-04-08T21:52:17.374259Z"
    }
   }
  },
  {
   "cell_type": "markdown",
   "source": [
    "## 6. 查看房租价格的分布, 例如: 平均值, 标准差, 中位数..."
   ],
   "metadata": {
    "collapsed": false
   }
  },
  {
   "cell_type": "code",
   "execution_count": 77,
   "outputs": [
    {
     "data": {
      "text/plain": "count      2760.000000\nmean       7570.800725\nstd        6316.204986\nmin        1300.000000\n25%        4500.000000\n50%        6000.000000\n75%        8500.000000\nmax      210000.000000\nName: 价格, dtype: float64"
     },
     "execution_count": 77,
     "metadata": {},
     "output_type": "execute_result"
    }
   ],
   "source": [
    "df['价格'].describe()"
   ],
   "metadata": {
    "collapsed": false,
    "ExecuteTime": {
     "start_time": "2025-04-08T21:52:48.320239Z",
     "end_time": "2025-04-08T21:52:48.341403Z"
    }
   }
  },
  {
   "cell_type": "markdown",
   "source": [
    "## 7. 找到看房人数最多的朝向"
   ],
   "metadata": {
    "collapsed": false
   }
  },
  {
   "cell_type": "code",
   "execution_count": 79,
   "outputs": [
    {
     "data": {
      "text/plain": "'南 北'"
     },
     "execution_count": 79,
     "metadata": {},
     "output_type": "execute_result"
    }
   ],
   "source": [
    "df.groupby('朝向')['看房人数'].sum().idxmax()"
   ],
   "metadata": {
    "collapsed": false,
    "ExecuteTime": {
     "start_time": "2025-04-08T21:53:40.863949Z",
     "end_time": "2025-04-08T21:53:40.891540Z"
    }
   }
  },
  {
   "cell_type": "markdown",
   "source": [
    "## 8. 查找最受欢迎的房型"
   ],
   "metadata": {
    "collapsed": false
   }
  },
  {
   "cell_type": "code",
   "execution_count": 81,
   "outputs": [
    {
     "data": {
      "text/plain": "'2室1厅'"
     },
     "execution_count": 81,
     "metadata": {},
     "output_type": "execute_result"
    }
   ],
   "source": [
    "df['户型'].value_counts().idxmax()"
   ],
   "metadata": {
    "collapsed": false,
    "ExecuteTime": {
     "start_time": "2025-04-08T21:54:29.426731Z",
     "end_time": "2025-04-08T21:54:29.445785Z"
    }
   }
  },
  {
   "cell_type": "markdown",
   "source": [
    "## 9. 查找房子的平均租房价格 （元/平米）"
   ],
   "metadata": {
    "collapsed": false
   }
  },
  {
   "cell_type": "code",
   "execution_count": 84,
   "outputs": [
    {
     "name": "stdout",
     "output_type": "stream",
     "text": [
      "\n",
      "平均租金单价: 87.72 元/平米\n"
     ]
    }
   ],
   "source": [
    "df['单价'] = df['价格'] / df['面积']\n",
    "avg_rent = df['单价'].mean()\n",
    "print(\"\\n平均租金单价:\", round(avg_rent, 2), \"元/平米\")"
   ],
   "metadata": {
    "collapsed": false,
    "ExecuteTime": {
     "start_time": "2025-04-08T21:57:37.718734Z",
     "end_time": "2025-04-08T21:57:37.732808Z"
    }
   }
  },
  {
   "cell_type": "markdown",
   "source": [
    "## 10. 找到出租房源最多的小区"
   ],
   "metadata": {
    "collapsed": false
   }
  },
  {
   "cell_type": "code",
   "execution_count": 82,
   "outputs": [
    {
     "data": {
      "text/plain": "'远洋山水'"
     },
     "execution_count": 82,
     "metadata": {},
     "output_type": "execute_result"
    }
   ],
   "source": [
    "df['地址'].value_counts().idxmax()"
   ],
   "metadata": {
    "collapsed": false,
    "ExecuteTime": {
     "start_time": "2025-04-08T21:55:21.231411Z",
     "end_time": "2025-04-08T21:55:21.259783Z"
    }
   }
  },
  {
   "cell_type": "markdown",
   "source": [
    "# 修改列名为英文"
   ],
   "metadata": {
    "collapsed": false
   }
  },
  {
   "cell_type": "code",
   "execution_count": null,
   "outputs": [],
   "source": [
    "df.columns = [\n",
    "    'district', 'address', 'title', 'house_type', 'area', 'price',\n",
    "    'floor', 'build_time', 'direction', 'update_time', 'view_num',\n",
    "    'extra_info', 'link'\n",
    "    ]"
   ],
   "metadata": {
    "collapsed": false
   }
  },
  {
   "cell_type": "code",
   "execution_count": 87,
   "outputs": [
    {
     "data": {
      "text/plain": "     district address                         title house_type  area  price  \\\n0        燕莎租房     新源街  亮马桥 新源街  精装两居 交通便利 看房方便 随时入住       2室1厅    50   5800   \n1        望京租房    澳洲康都        澳洲康都东向精致两居室...........       2室1厅    79   7800   \n2       广安门租房    远见名苑        远见名苑 东向两居室 独立小区环境 适合居家       2室1厅    86   8000   \n3       天通苑租房  天通苑北一区          北一区简装两居，采光好，视野美，出行方便       2室1厅   103   5300   \n4       团结湖租房   团结湖北口        团结湖北口近地铁高楼层朝南向精装修正规两居室       2室1厅    63   6400   \n...       ...     ...                           ...        ...   ...    ...   \n2755     朝青租房   天鹅湾北区              天鹅湾北区 1室1厅 9500元       1室1厅    50   9500   \n2756    太阳宫租房     水星园      水星园精装一居室  可自带家具家电 业主也可配齐       1室1厅    68   9500   \n2757    六里桥租房    莲花小区          莲花小区 西南两居室 温馨舒适 楼层合适       2室1厅    84   7200   \n2758    陶然亭租房  中海紫御公馆            中海紫御公馆  把您的家安放在花园里       2室2厅    91  12000   \n2759    三元桥租房     曙光里              曙光里南向 高层两居室 随时看房       2室1厅    62   6200   \n\n          floor  build_time direction update_time  view_num  \\\n0      中楼层(共6层)    1981年建板楼         南  2017.07.21        26   \n1     中楼层(共28层)  2005年建板塔结合         东  2017.07.23        33   \n2     低楼层(共25层)    2006年建塔楼         东  2017.07.20        34   \n3     低楼层(共13层)    2004年建板楼        东南  2017.07.25        30   \n4     高楼层(共16层)    1982年建塔楼         南  2017.07.26        30   \n...         ...         ...       ...         ...       ...   \n2755   中楼层(共8层)  2010年建板塔结合         南  2017.07.27        13   \n2756  中楼层(共23层)  2005年建板塔结合         北  2017.07.24        14   \n2757  低楼层(共28层)  1999年建板塔结合        西南  2017.07.26         7   \n2758  中楼层(共22层)  2010年建板塔结合         南  2017.07.26         6   \n2759  高楼层(共18层)    1992年建塔楼         南  2017.07.25        19   \n\n                             extra_info  \\\n0                         随时看房 精装修 集中供暖   \n1      距离14号线(东段)东湖渠站731米 随时看房 精装修 集中供暖   \n2            距离7号线达官营站684米 随时看房 精装修 自供暖   \n3           距离5号线天通苑站927米 随时看房 精装修 集中供暖   \n4           距离10号线团结湖站88米 随时看房 精装修 集中供暖   \n...                                 ...   \n2755        距离6号线青年路站736米 随时看房 精装修 集中供暖   \n2756           距离10号线太阳宫站432米 随时看房 集中供暖   \n2757           距离10号线莲花桥站661米 随时看房 集中供暖   \n2758                      随时看房 精装修 集中供暖   \n2759            距离机场线三元桥站980米 随时看房 集中供暖   \n\n                                                 link  rent_per_sqm  \\\n0     https://bj.lianjia.com/zufang/101101803342.html    116.000000   \n1     https://bj.lianjia.com/zufang/101101753126.html     98.734177   \n2     https://bj.lianjia.com/zufang/101101756753.html     93.023256   \n3     https://bj.lianjia.com/zufang/101101780034.html     51.456311   \n4     https://bj.lianjia.com/zufang/101101781083.html    101.587302   \n...                                               ...           ...   \n2755  https://bj.lianjia.com/zufang/101101697995.html    190.000000   \n2756  https://bj.lianjia.com/zufang/101101698013.html    139.705882   \n2757  https://bj.lianjia.com/zufang/101101702130.html     85.714286   \n2758  https://bj.lianjia.com/zufang/101101703605.html    131.868132   \n2759  https://bj.lianjia.com/zufang/101101704735.html    100.000000   \n\n              单价  \n0     116.000000  \n1      98.734177  \n2      93.023256  \n3      51.456311  \n4     101.587302  \n...          ...  \n2755  190.000000  \n2756  139.705882  \n2757   85.714286  \n2758  131.868132  \n2759  100.000000  \n\n[2760 rows x 15 columns]",
      "text/html": "<div>\n<style scoped>\n    .dataframe tbody tr th:only-of-type {\n        vertical-align: middle;\n    }\n\n    .dataframe tbody tr th {\n        vertical-align: top;\n    }\n\n    .dataframe thead th {\n        text-align: right;\n    }\n</style>\n<table border=\"1\" class=\"dataframe\">\n  <thead>\n    <tr style=\"text-align: right;\">\n      <th></th>\n      <th>district</th>\n      <th>address</th>\n      <th>title</th>\n      <th>house_type</th>\n      <th>area</th>\n      <th>price</th>\n      <th>floor</th>\n      <th>build_time</th>\n      <th>direction</th>\n      <th>update_time</th>\n      <th>view_num</th>\n      <th>extra_info</th>\n      <th>link</th>\n      <th>rent_per_sqm</th>\n      <th>单价</th>\n    </tr>\n  </thead>\n  <tbody>\n    <tr>\n      <th>0</th>\n      <td>燕莎租房</td>\n      <td>新源街</td>\n      <td>亮马桥 新源街  精装两居 交通便利 看房方便 随时入住</td>\n      <td>2室1厅</td>\n      <td>50</td>\n      <td>5800</td>\n      <td>中楼层(共6层)</td>\n      <td>1981年建板楼</td>\n      <td>南</td>\n      <td>2017.07.21</td>\n      <td>26</td>\n      <td>随时看房 精装修 集中供暖</td>\n      <td>https://bj.lianjia.com/zufang/101101803342.html</td>\n      <td>116.000000</td>\n      <td>116.000000</td>\n    </tr>\n    <tr>\n      <th>1</th>\n      <td>望京租房</td>\n      <td>澳洲康都</td>\n      <td>澳洲康都东向精致两居室...........</td>\n      <td>2室1厅</td>\n      <td>79</td>\n      <td>7800</td>\n      <td>中楼层(共28层)</td>\n      <td>2005年建板塔结合</td>\n      <td>东</td>\n      <td>2017.07.23</td>\n      <td>33</td>\n      <td>距离14号线(东段)东湖渠站731米 随时看房 精装修 集中供暖</td>\n      <td>https://bj.lianjia.com/zufang/101101753126.html</td>\n      <td>98.734177</td>\n      <td>98.734177</td>\n    </tr>\n    <tr>\n      <th>2</th>\n      <td>广安门租房</td>\n      <td>远见名苑</td>\n      <td>远见名苑 东向两居室 独立小区环境 适合居家</td>\n      <td>2室1厅</td>\n      <td>86</td>\n      <td>8000</td>\n      <td>低楼层(共25层)</td>\n      <td>2006年建塔楼</td>\n      <td>东</td>\n      <td>2017.07.20</td>\n      <td>34</td>\n      <td>距离7号线达官营站684米 随时看房 精装修 自供暖</td>\n      <td>https://bj.lianjia.com/zufang/101101756753.html</td>\n      <td>93.023256</td>\n      <td>93.023256</td>\n    </tr>\n    <tr>\n      <th>3</th>\n      <td>天通苑租房</td>\n      <td>天通苑北一区</td>\n      <td>北一区简装两居，采光好，视野美，出行方便</td>\n      <td>2室1厅</td>\n      <td>103</td>\n      <td>5300</td>\n      <td>低楼层(共13层)</td>\n      <td>2004年建板楼</td>\n      <td>东南</td>\n      <td>2017.07.25</td>\n      <td>30</td>\n      <td>距离5号线天通苑站927米 随时看房 精装修 集中供暖</td>\n      <td>https://bj.lianjia.com/zufang/101101780034.html</td>\n      <td>51.456311</td>\n      <td>51.456311</td>\n    </tr>\n    <tr>\n      <th>4</th>\n      <td>团结湖租房</td>\n      <td>团结湖北口</td>\n      <td>团结湖北口近地铁高楼层朝南向精装修正规两居室</td>\n      <td>2室1厅</td>\n      <td>63</td>\n      <td>6400</td>\n      <td>高楼层(共16层)</td>\n      <td>1982年建塔楼</td>\n      <td>南</td>\n      <td>2017.07.26</td>\n      <td>30</td>\n      <td>距离10号线团结湖站88米 随时看房 精装修 集中供暖</td>\n      <td>https://bj.lianjia.com/zufang/101101781083.html</td>\n      <td>101.587302</td>\n      <td>101.587302</td>\n    </tr>\n    <tr>\n      <th>...</th>\n      <td>...</td>\n      <td>...</td>\n      <td>...</td>\n      <td>...</td>\n      <td>...</td>\n      <td>...</td>\n      <td>...</td>\n      <td>...</td>\n      <td>...</td>\n      <td>...</td>\n      <td>...</td>\n      <td>...</td>\n      <td>...</td>\n      <td>...</td>\n      <td>...</td>\n    </tr>\n    <tr>\n      <th>2755</th>\n      <td>朝青租房</td>\n      <td>天鹅湾北区</td>\n      <td>天鹅湾北区 1室1厅 9500元</td>\n      <td>1室1厅</td>\n      <td>50</td>\n      <td>9500</td>\n      <td>中楼层(共8层)</td>\n      <td>2010年建板塔结合</td>\n      <td>南</td>\n      <td>2017.07.27</td>\n      <td>13</td>\n      <td>距离6号线青年路站736米 随时看房 精装修 集中供暖</td>\n      <td>https://bj.lianjia.com/zufang/101101697995.html</td>\n      <td>190.000000</td>\n      <td>190.000000</td>\n    </tr>\n    <tr>\n      <th>2756</th>\n      <td>太阳宫租房</td>\n      <td>水星园</td>\n      <td>水星园精装一居室  可自带家具家电 业主也可配齐</td>\n      <td>1室1厅</td>\n      <td>68</td>\n      <td>9500</td>\n      <td>中楼层(共23层)</td>\n      <td>2005年建板塔结合</td>\n      <td>北</td>\n      <td>2017.07.24</td>\n      <td>14</td>\n      <td>距离10号线太阳宫站432米 随时看房 集中供暖</td>\n      <td>https://bj.lianjia.com/zufang/101101698013.html</td>\n      <td>139.705882</td>\n      <td>139.705882</td>\n    </tr>\n    <tr>\n      <th>2757</th>\n      <td>六里桥租房</td>\n      <td>莲花小区</td>\n      <td>莲花小区 西南两居室 温馨舒适 楼层合适</td>\n      <td>2室1厅</td>\n      <td>84</td>\n      <td>7200</td>\n      <td>低楼层(共28层)</td>\n      <td>1999年建板塔结合</td>\n      <td>西南</td>\n      <td>2017.07.26</td>\n      <td>7</td>\n      <td>距离10号线莲花桥站661米 随时看房 集中供暖</td>\n      <td>https://bj.lianjia.com/zufang/101101702130.html</td>\n      <td>85.714286</td>\n      <td>85.714286</td>\n    </tr>\n    <tr>\n      <th>2758</th>\n      <td>陶然亭租房</td>\n      <td>中海紫御公馆</td>\n      <td>中海紫御公馆  把您的家安放在花园里</td>\n      <td>2室2厅</td>\n      <td>91</td>\n      <td>12000</td>\n      <td>中楼层(共22层)</td>\n      <td>2010年建板塔结合</td>\n      <td>南</td>\n      <td>2017.07.26</td>\n      <td>6</td>\n      <td>随时看房 精装修 集中供暖</td>\n      <td>https://bj.lianjia.com/zufang/101101703605.html</td>\n      <td>131.868132</td>\n      <td>131.868132</td>\n    </tr>\n    <tr>\n      <th>2759</th>\n      <td>三元桥租房</td>\n      <td>曙光里</td>\n      <td>曙光里南向 高层两居室 随时看房</td>\n      <td>2室1厅</td>\n      <td>62</td>\n      <td>6200</td>\n      <td>高楼层(共18层)</td>\n      <td>1992年建塔楼</td>\n      <td>南</td>\n      <td>2017.07.25</td>\n      <td>19</td>\n      <td>距离机场线三元桥站980米 随时看房 集中供暖</td>\n      <td>https://bj.lianjia.com/zufang/101101704735.html</td>\n      <td>100.000000</td>\n      <td>100.000000</td>\n    </tr>\n  </tbody>\n</table>\n<p>2760 rows × 15 columns</p>\n</div>"
     },
     "execution_count": 87,
     "metadata": {},
     "output_type": "execute_result"
    }
   ],
   "source": [
    "column_new = {\n",
    "    '区域':'district',\n",
    "    '地址':'address',\n",
    "    '标题':\"title\",\n",
    "    '户型':'house_type',\n",
    "    '面积':'area',\n",
    "    '价格':'price',\n",
    "    '楼层':'floor',\n",
    "    '建造时间':'build_time',\n",
    "    '朝向':'direction',\n",
    "    '更新时间':'update_time',\n",
    "    '看房人数':'view_num',\n",
    "    '备注':\"extra_info\",\n",
    "    '链接地址':\"link\"\n",
    "}\n",
    "\n",
    "# 使用 rename() 方法修改\n",
    "df = df.rename(columns=column_new)\n",
    "df"
   ],
   "metadata": {
    "collapsed": false,
    "ExecuteTime": {
     "start_time": "2025-04-08T22:09:05.881575Z",
     "end_time": "2025-04-08T22:09:05.914280Z"
    }
   }
  },
  {
   "cell_type": "code",
   "execution_count": null,
   "outputs": [],
   "source": [],
   "metadata": {
    "collapsed": false
   }
  }
 ],
 "metadata": {
  "kernelspec": {
   "display_name": "Python 3",
   "language": "python",
   "name": "python3"
  },
  "language_info": {
   "codemirror_mode": {
    "name": "ipython",
    "version": 2
   },
   "file_extension": ".py",
   "mimetype": "text/x-python",
   "name": "python",
   "nbconvert_exporter": "python",
   "pygments_lexer": "ipython2",
   "version": "2.7.6"
  }
 },
 "nbformat": 4,
 "nbformat_minor": 0
}
