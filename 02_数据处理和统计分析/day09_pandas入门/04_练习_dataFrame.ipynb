{
 "cells": [
  {
   "cell_type": "code",
   "execution_count": 1,
   "metadata": {
    "collapsed": true,
    "ExecuteTime": {
     "start_time": "2025-04-08T16:09:20.290161Z",
     "end_time": "2025-04-08T16:09:20.683331Z"
    }
   },
   "outputs": [],
   "source": [
    "import pandas as pd\n",
    "import numpy as np"
   ]
  },
  {
   "cell_type": "code",
   "execution_count": 53,
   "outputs": [
    {
     "data": {
      "text/plain": "     0   1   2   3   4\n0   58  78  87  50  49\n1   43  71  42  91  88\n2   66  68  46  65  83\n3   62  57  75  99  89\n4   87  60  83  70  86\n5   59  56  44  73  55\n6  100  64  85  61  41\n7   97  60  49  89  47\n8   92  74  66  65  66\n9   48  80  63  40  65",
      "text/html": "<div>\n<style scoped>\n    .dataframe tbody tr th:only-of-type {\n        vertical-align: middle;\n    }\n\n    .dataframe tbody tr th {\n        vertical-align: top;\n    }\n\n    .dataframe thead th {\n        text-align: right;\n    }\n</style>\n<table border=\"1\" class=\"dataframe\">\n  <thead>\n    <tr style=\"text-align: right;\">\n      <th></th>\n      <th>0</th>\n      <th>1</th>\n      <th>2</th>\n      <th>3</th>\n      <th>4</th>\n    </tr>\n  </thead>\n  <tbody>\n    <tr>\n      <th>0</th>\n      <td>58</td>\n      <td>78</td>\n      <td>87</td>\n      <td>50</td>\n      <td>49</td>\n    </tr>\n    <tr>\n      <th>1</th>\n      <td>43</td>\n      <td>71</td>\n      <td>42</td>\n      <td>91</td>\n      <td>88</td>\n    </tr>\n    <tr>\n      <th>2</th>\n      <td>66</td>\n      <td>68</td>\n      <td>46</td>\n      <td>65</td>\n      <td>83</td>\n    </tr>\n    <tr>\n      <th>3</th>\n      <td>62</td>\n      <td>57</td>\n      <td>75</td>\n      <td>99</td>\n      <td>89</td>\n    </tr>\n    <tr>\n      <th>4</th>\n      <td>87</td>\n      <td>60</td>\n      <td>83</td>\n      <td>70</td>\n      <td>86</td>\n    </tr>\n    <tr>\n      <th>5</th>\n      <td>59</td>\n      <td>56</td>\n      <td>44</td>\n      <td>73</td>\n      <td>55</td>\n    </tr>\n    <tr>\n      <th>6</th>\n      <td>100</td>\n      <td>64</td>\n      <td>85</td>\n      <td>61</td>\n      <td>41</td>\n    </tr>\n    <tr>\n      <th>7</th>\n      <td>97</td>\n      <td>60</td>\n      <td>49</td>\n      <td>89</td>\n      <td>47</td>\n    </tr>\n    <tr>\n      <th>8</th>\n      <td>92</td>\n      <td>74</td>\n      <td>66</td>\n      <td>65</td>\n      <td>66</td>\n    </tr>\n    <tr>\n      <th>9</th>\n      <td>48</td>\n      <td>80</td>\n      <td>63</td>\n      <td>40</td>\n      <td>65</td>\n    </tr>\n  </tbody>\n</table>\n</div>"
     },
     "execution_count": 53,
     "metadata": {},
     "output_type": "execute_result"
    }
   ],
   "source": [
    "# 1.生成10名同学，5门功课的数据\n",
    "score_df = pd.DataFrame(np.random.randint(40, 101, (10, 5)))\n",
    "score_df"
   ],
   "metadata": {
    "collapsed": false,
    "ExecuteTime": {
     "start_time": "2025-04-08T17:08:05.030056Z",
     "end_time": "2025-04-08T17:08:05.060578Z"
    }
   }
  },
  {
   "cell_type": "code",
   "execution_count": 26,
   "outputs": [
    {
     "data": {
      "text/plain": "      语文  数学  英语  物理   化学\n同学1   84  60  91  50   82\n同学2   71  80  92  49   50\n同学3   47  93  91  89   90\n同学4   94  60  67  48  100\n同学5   93  52  43  63   64\n同学6   86  75  93  68   69\n同学7   58  42  85  47   93\n同学8   84  98  56  91   59\n同学9   62  80  60  43   74\n同学10  68  43  88  75   83",
      "text/html": "<div>\n<style scoped>\n    .dataframe tbody tr th:only-of-type {\n        vertical-align: middle;\n    }\n\n    .dataframe tbody tr th {\n        vertical-align: top;\n    }\n\n    .dataframe thead th {\n        text-align: right;\n    }\n</style>\n<table border=\"1\" class=\"dataframe\">\n  <thead>\n    <tr style=\"text-align: right;\">\n      <th></th>\n      <th>语文</th>\n      <th>数学</th>\n      <th>英语</th>\n      <th>物理</th>\n      <th>化学</th>\n    </tr>\n  </thead>\n  <tbody>\n    <tr>\n      <th>同学1</th>\n      <td>84</td>\n      <td>60</td>\n      <td>91</td>\n      <td>50</td>\n      <td>82</td>\n    </tr>\n    <tr>\n      <th>同学2</th>\n      <td>71</td>\n      <td>80</td>\n      <td>92</td>\n      <td>49</td>\n      <td>50</td>\n    </tr>\n    <tr>\n      <th>同学3</th>\n      <td>47</td>\n      <td>93</td>\n      <td>91</td>\n      <td>89</td>\n      <td>90</td>\n    </tr>\n    <tr>\n      <th>同学4</th>\n      <td>94</td>\n      <td>60</td>\n      <td>67</td>\n      <td>48</td>\n      <td>100</td>\n    </tr>\n    <tr>\n      <th>同学5</th>\n      <td>93</td>\n      <td>52</td>\n      <td>43</td>\n      <td>63</td>\n      <td>64</td>\n    </tr>\n    <tr>\n      <th>同学6</th>\n      <td>86</td>\n      <td>75</td>\n      <td>93</td>\n      <td>68</td>\n      <td>69</td>\n    </tr>\n    <tr>\n      <th>同学7</th>\n      <td>58</td>\n      <td>42</td>\n      <td>85</td>\n      <td>47</td>\n      <td>93</td>\n    </tr>\n    <tr>\n      <th>同学8</th>\n      <td>84</td>\n      <td>98</td>\n      <td>56</td>\n      <td>91</td>\n      <td>59</td>\n    </tr>\n    <tr>\n      <th>同学9</th>\n      <td>62</td>\n      <td>80</td>\n      <td>60</td>\n      <td>43</td>\n      <td>74</td>\n    </tr>\n    <tr>\n      <th>同学10</th>\n      <td>68</td>\n      <td>43</td>\n      <td>88</td>\n      <td>75</td>\n      <td>83</td>\n    </tr>\n  </tbody>\n</table>\n</div>"
     },
     "execution_count": 26,
     "metadata": {},
     "output_type": "execute_result"
    }
   ],
   "source": [
    "column_names = ['语文', '数学', '英语', '物理', '化学']\n",
    "score_df.columns = column_names\n",
    "score_df"
   ],
   "metadata": {
    "collapsed": false,
    "ExecuteTime": {
     "start_time": "2025-04-08T16:30:50.979298Z",
     "end_time": "2025-04-08T16:30:51.000559Z"
    }
   }
  },
  {
   "cell_type": "code",
   "execution_count": 29,
   "outputs": [
    {
     "name": "stdout",
     "output_type": "stream",
     "text": [
      "10\n",
      "['同学1', '同学2', '同学3', '同学4', '同学5', '同学6', '同学7', '同学8', '同学9', '同学10']\n"
     ]
    }
   ],
   "source": [
    "# [for i in range(1, 13)]       #  问题 ： 如何获取长度\n",
    "# [i for i in range(len(score_df.index))]\n",
    "\n",
    "# 获取表序列长度\n",
    "# 方式一：len(score_df.index)\n",
    "# print(len(score_df.index))\n",
    "# 方式二：__len__()  采用魔法方法\n",
    "# print(score_df.__len__())\n",
    "# 方式三：score_df.shape[0]\n",
    "# score_df.shape      # 获取的是表的行和列的数量  以元组的形式\n",
    "# print(score_df.shape[0])\n",
    "\n",
    "# print(score_df.size)        # 获取的是所有元素的个数  10行5列  (10*5)  50\n",
    "\n",
    "index_names = ['同学' + str(i+1) for i in range(score_df.__len__())]\n",
    "print(index_names)"
   ],
   "metadata": {
    "collapsed": false,
    "ExecuteTime": {
     "start_time": "2025-04-08T16:49:09.372694Z",
     "end_time": "2025-04-08T16:49:09.395221Z"
    }
   }
  },
  {
   "cell_type": "code",
   "execution_count": 16,
   "outputs": [],
   "source": [
    "# colum_names 和 index_names 拼接"
   ],
   "metadata": {
    "collapsed": false,
    "ExecuteTime": {
     "start_time": "2025-04-08T16:25:30.014452Z",
     "end_time": "2025-04-08T16:25:30.022074Z"
    }
   }
  },
  {
   "cell_type": "code",
   "execution_count": 21,
   "outputs": [
    {
     "data": {
      "text/plain": "      语文  数学  英语  物理   化学\n同学1   84  60  91  50   82\n同学2   71  80  92  49   50\n同学3   47  93  91  89   90\n同学4   94  60  67  48  100\n同学5   93  52  43  63   64\n同学6   86  75  93  68   69\n同学7   58  42  85  47   93\n同学8   84  98  56  91   59\n同学9   62  80  60  43   74\n同学10  68  43  88  75   83",
      "text/html": "<div>\n<style scoped>\n    .dataframe tbody tr th:only-of-type {\n        vertical-align: middle;\n    }\n\n    .dataframe tbody tr th {\n        vertical-align: top;\n    }\n\n    .dataframe thead th {\n        text-align: right;\n    }\n</style>\n<table border=\"1\" class=\"dataframe\">\n  <thead>\n    <tr style=\"text-align: right;\">\n      <th></th>\n      <th>语文</th>\n      <th>数学</th>\n      <th>英语</th>\n      <th>物理</th>\n      <th>化学</th>\n    </tr>\n  </thead>\n  <tbody>\n    <tr>\n      <th>同学1</th>\n      <td>84</td>\n      <td>60</td>\n      <td>91</td>\n      <td>50</td>\n      <td>82</td>\n    </tr>\n    <tr>\n      <th>同学2</th>\n      <td>71</td>\n      <td>80</td>\n      <td>92</td>\n      <td>49</td>\n      <td>50</td>\n    </tr>\n    <tr>\n      <th>同学3</th>\n      <td>47</td>\n      <td>93</td>\n      <td>91</td>\n      <td>89</td>\n      <td>90</td>\n    </tr>\n    <tr>\n      <th>同学4</th>\n      <td>94</td>\n      <td>60</td>\n      <td>67</td>\n      <td>48</td>\n      <td>100</td>\n    </tr>\n    <tr>\n      <th>同学5</th>\n      <td>93</td>\n      <td>52</td>\n      <td>43</td>\n      <td>63</td>\n      <td>64</td>\n    </tr>\n    <tr>\n      <th>同学6</th>\n      <td>86</td>\n      <td>75</td>\n      <td>93</td>\n      <td>68</td>\n      <td>69</td>\n    </tr>\n    <tr>\n      <th>同学7</th>\n      <td>58</td>\n      <td>42</td>\n      <td>85</td>\n      <td>47</td>\n      <td>93</td>\n    </tr>\n    <tr>\n      <th>同学8</th>\n      <td>84</td>\n      <td>98</td>\n      <td>56</td>\n      <td>91</td>\n      <td>59</td>\n    </tr>\n    <tr>\n      <th>同学9</th>\n      <td>62</td>\n      <td>80</td>\n      <td>60</td>\n      <td>43</td>\n      <td>74</td>\n    </tr>\n    <tr>\n      <th>同学10</th>\n      <td>68</td>\n      <td>43</td>\n      <td>88</td>\n      <td>75</td>\n      <td>83</td>\n    </tr>\n  </tbody>\n</table>\n</div>"
     },
     "execution_count": 21,
     "metadata": {},
     "output_type": "execute_result"
    }
   ],
   "source": [
    "# 方式一：\n",
    "score_df.columns = column_names\n",
    "score_df.index = index_names\n",
    "score_df"
   ],
   "metadata": {
    "collapsed": false,
    "ExecuteTime": {
     "start_time": "2025-04-08T16:30:17.938681Z",
     "end_time": "2025-04-08T16:30:17.961683Z"
    }
   }
  },
  {
   "cell_type": "code",
   "execution_count": 30,
   "outputs": [
    {
     "data": {
      "text/plain": "     语文文  数学学    2   3   4\n同学1   95   86   42  61  69\n同学2   52   47   44  92  83\n2     99   98   95  68  40\n3     47   93   94  52  40\n4     95   99   56  57  80\n5     79   49   93  66  45\n6     83   87  100  83  46\n7     96   54   46  79  79\n8     46   59   50  75  41\n9     70   48   56  87  63",
      "text/html": "<div>\n<style scoped>\n    .dataframe tbody tr th:only-of-type {\n        vertical-align: middle;\n    }\n\n    .dataframe tbody tr th {\n        vertical-align: top;\n    }\n\n    .dataframe thead th {\n        text-align: right;\n    }\n</style>\n<table border=\"1\" class=\"dataframe\">\n  <thead>\n    <tr style=\"text-align: right;\">\n      <th></th>\n      <th>语文文</th>\n      <th>数学学</th>\n      <th>2</th>\n      <th>3</th>\n      <th>4</th>\n    </tr>\n  </thead>\n  <tbody>\n    <tr>\n      <th>同学1</th>\n      <td>95</td>\n      <td>86</td>\n      <td>42</td>\n      <td>61</td>\n      <td>69</td>\n    </tr>\n    <tr>\n      <th>同学2</th>\n      <td>52</td>\n      <td>47</td>\n      <td>44</td>\n      <td>92</td>\n      <td>83</td>\n    </tr>\n    <tr>\n      <th>2</th>\n      <td>99</td>\n      <td>98</td>\n      <td>95</td>\n      <td>68</td>\n      <td>40</td>\n    </tr>\n    <tr>\n      <th>3</th>\n      <td>47</td>\n      <td>93</td>\n      <td>94</td>\n      <td>52</td>\n      <td>40</td>\n    </tr>\n    <tr>\n      <th>4</th>\n      <td>95</td>\n      <td>99</td>\n      <td>56</td>\n      <td>57</td>\n      <td>80</td>\n    </tr>\n    <tr>\n      <th>5</th>\n      <td>79</td>\n      <td>49</td>\n      <td>93</td>\n      <td>66</td>\n      <td>45</td>\n    </tr>\n    <tr>\n      <th>6</th>\n      <td>83</td>\n      <td>87</td>\n      <td>100</td>\n      <td>83</td>\n      <td>46</td>\n    </tr>\n    <tr>\n      <th>7</th>\n      <td>96</td>\n      <td>54</td>\n      <td>46</td>\n      <td>79</td>\n      <td>79</td>\n    </tr>\n    <tr>\n      <th>8</th>\n      <td>46</td>\n      <td>59</td>\n      <td>50</td>\n      <td>75</td>\n      <td>41</td>\n    </tr>\n    <tr>\n      <th>9</th>\n      <td>70</td>\n      <td>48</td>\n      <td>56</td>\n      <td>87</td>\n      <td>63</td>\n    </tr>\n  </tbody>\n</table>\n</div>"
     },
     "execution_count": 30,
     "metadata": {},
     "output_type": "execute_result"
    }
   ],
   "source": [
    "# 方式二：rename 函数 可以实现对值的精准修改\n",
    "score_df.rename(index={0:'同学1', 1:'同学2'},columns={0:'语文文',1:'数学学'}, inplace=True)\n",
    "score_df"
   ],
   "metadata": {
    "collapsed": false,
    "ExecuteTime": {
     "start_time": "2025-04-08T16:50:57.797635Z",
     "end_time": "2025-04-08T16:50:57.834289Z"
    }
   }
  },
  {
   "cell_type": "code",
   "execution_count": 54,
   "outputs": [
    {
     "data": {
      "text/plain": "      语文  数学  英语  物理  化学\n同学2   58  78  87  50  49\n同学2   43  71  42  91  88\n同学2   66  68  46  65  83\n同学2   62  57  75  99  89\n同学2   87  60  83  70  86\n同学2   59  56  44  73  55\n同学2  100  64  85  61  41\n同学2   97  60  49  89  47\n同学2   92  74  66  65  66\n同学2   48  80  63  40  65",
      "text/html": "<div>\n<style scoped>\n    .dataframe tbody tr th:only-of-type {\n        vertical-align: middle;\n    }\n\n    .dataframe tbody tr th {\n        vertical-align: top;\n    }\n\n    .dataframe thead th {\n        text-align: right;\n    }\n</style>\n<table border=\"1\" class=\"dataframe\">\n  <thead>\n    <tr style=\"text-align: right;\">\n      <th></th>\n      <th>语文</th>\n      <th>数学</th>\n      <th>英语</th>\n      <th>物理</th>\n      <th>化学</th>\n    </tr>\n  </thead>\n  <tbody>\n    <tr>\n      <th>同学2</th>\n      <td>58</td>\n      <td>78</td>\n      <td>87</td>\n      <td>50</td>\n      <td>49</td>\n    </tr>\n    <tr>\n      <th>同学2</th>\n      <td>43</td>\n      <td>71</td>\n      <td>42</td>\n      <td>91</td>\n      <td>88</td>\n    </tr>\n    <tr>\n      <th>同学2</th>\n      <td>66</td>\n      <td>68</td>\n      <td>46</td>\n      <td>65</td>\n      <td>83</td>\n    </tr>\n    <tr>\n      <th>同学2</th>\n      <td>62</td>\n      <td>57</td>\n      <td>75</td>\n      <td>99</td>\n      <td>89</td>\n    </tr>\n    <tr>\n      <th>同学2</th>\n      <td>87</td>\n      <td>60</td>\n      <td>83</td>\n      <td>70</td>\n      <td>86</td>\n    </tr>\n    <tr>\n      <th>同学2</th>\n      <td>59</td>\n      <td>56</td>\n      <td>44</td>\n      <td>73</td>\n      <td>55</td>\n    </tr>\n    <tr>\n      <th>同学2</th>\n      <td>100</td>\n      <td>64</td>\n      <td>85</td>\n      <td>61</td>\n      <td>41</td>\n    </tr>\n    <tr>\n      <th>同学2</th>\n      <td>97</td>\n      <td>60</td>\n      <td>49</td>\n      <td>89</td>\n      <td>47</td>\n    </tr>\n    <tr>\n      <th>同学2</th>\n      <td>92</td>\n      <td>74</td>\n      <td>66</td>\n      <td>65</td>\n      <td>66</td>\n    </tr>\n    <tr>\n      <th>同学2</th>\n      <td>48</td>\n      <td>80</td>\n      <td>63</td>\n      <td>40</td>\n      <td>65</td>\n    </tr>\n  </tbody>\n</table>\n</div>"
     },
     "execution_count": 54,
     "metadata": {},
     "output_type": "execute_result"
    }
   ],
   "source": [
    "score_df.rename(\n",
    "    index={i:index_names[1] for i in range(score_df.shape[0])},\n",
    "    columns={i:column_names[i] for i in range(score_df.shape[1])},\n",
    "    inplace=True\n",
    ")\n",
    "score_df"
   ],
   "metadata": {
    "collapsed": false,
    "ExecuteTime": {
     "start_time": "2025-04-08T17:08:12.321986Z",
     "end_time": "2025-04-08T17:08:12.354695Z"
    }
   }
  },
  {
   "cell_type": "markdown",
   "source": [
    "### DataFrame 属性"
   ],
   "metadata": {
    "collapsed": false
   }
  },
  {
   "cell_type": "code",
   "execution_count": 46,
   "outputs": [
    {
     "name": "stdout",
     "output_type": "stream",
     "text": [
      "Index(['同学1', '同学2', '同学3', '同学4', '同学5', '同学6', '同学7', '同学8', '同学9', '同学10'], dtype='object')\n"
     ]
    }
   ],
   "source": [
    "# DataFrame 属性之index\n",
    "print(score_df.index)       # 获取矩阵所有的索引"
   ],
   "metadata": {
    "collapsed": false,
    "ExecuteTime": {
     "start_time": "2025-04-08T17:01:41.748060Z",
     "end_time": "2025-04-08T17:01:41.754763Z"
    }
   }
  },
  {
   "cell_type": "code",
   "execution_count": 47,
   "outputs": [
    {
     "name": "stdout",
     "output_type": "stream",
     "text": [
      "Index(['学科1', '学科2', '学科3', '学科4', '学科5'], dtype='object')\n"
     ]
    }
   ],
   "source": [
    "# DataFrame 属性之columns\n",
    "print(score_df.columns)       # 获取矩阵所有的列的名称"
   ],
   "metadata": {
    "collapsed": false,
    "ExecuteTime": {
     "start_time": "2025-04-08T17:02:18.611808Z",
     "end_time": "2025-04-08T17:02:18.654091Z"
    }
   }
  },
  {
   "cell_type": "code",
   "execution_count": 48,
   "outputs": [
    {
     "name": "stdout",
     "output_type": "stream",
     "text": [
      "[[67 74 78 97 81]\n",
      " [90 78 75 99 49]\n",
      " [40 57 79 87 69]\n",
      " [55 73 44 92 59]\n",
      " [76 73 61 64 94]\n",
      " [92 67 78 90 63]\n",
      " [55 65 43 96 71]\n",
      " [56 61 81 56 87]\n",
      " [96 52 72 56 98]\n",
      " [96 57 76 67 65]]\n"
     ]
    }
   ],
   "source": [
    "# DataFrame 属性之values\n",
    "print(score_df.values)       # 获取矩阵所有的值"
   ],
   "metadata": {
    "collapsed": false,
    "ExecuteTime": {
     "start_time": "2025-04-08T17:02:36.237114Z",
     "end_time": "2025-04-08T17:02:36.244688Z"
    }
   }
  },
  {
   "cell_type": "code",
   "execution_count": 51,
   "outputs": [
    {
     "data": {
      "text/plain": "     同学1  同学2  同学3  同学4  同学5  同学6  同学7  同学8  同学9  同学10\n学科1   67   90   40   55   76   92   55   56   96    96\n学科2   74   78   57   73   73   67   65   61   52    57\n学科3   78   75   79   44   61   78   43   81   72    76\n学科4   97   99   87   92   64   90   96   56   56    67\n学科5   81   49   69   59   94   63   71   87   98    65",
      "text/html": "<div>\n<style scoped>\n    .dataframe tbody tr th:only-of-type {\n        vertical-align: middle;\n    }\n\n    .dataframe tbody tr th {\n        vertical-align: top;\n    }\n\n    .dataframe thead th {\n        text-align: right;\n    }\n</style>\n<table border=\"1\" class=\"dataframe\">\n  <thead>\n    <tr style=\"text-align: right;\">\n      <th></th>\n      <th>同学1</th>\n      <th>同学2</th>\n      <th>同学3</th>\n      <th>同学4</th>\n      <th>同学5</th>\n      <th>同学6</th>\n      <th>同学7</th>\n      <th>同学8</th>\n      <th>同学9</th>\n      <th>同学10</th>\n    </tr>\n  </thead>\n  <tbody>\n    <tr>\n      <th>学科1</th>\n      <td>67</td>\n      <td>90</td>\n      <td>40</td>\n      <td>55</td>\n      <td>76</td>\n      <td>92</td>\n      <td>55</td>\n      <td>56</td>\n      <td>96</td>\n      <td>96</td>\n    </tr>\n    <tr>\n      <th>学科2</th>\n      <td>74</td>\n      <td>78</td>\n      <td>57</td>\n      <td>73</td>\n      <td>73</td>\n      <td>67</td>\n      <td>65</td>\n      <td>61</td>\n      <td>52</td>\n      <td>57</td>\n    </tr>\n    <tr>\n      <th>学科3</th>\n      <td>78</td>\n      <td>75</td>\n      <td>79</td>\n      <td>44</td>\n      <td>61</td>\n      <td>78</td>\n      <td>43</td>\n      <td>81</td>\n      <td>72</td>\n      <td>76</td>\n    </tr>\n    <tr>\n      <th>学科4</th>\n      <td>97</td>\n      <td>99</td>\n      <td>87</td>\n      <td>92</td>\n      <td>64</td>\n      <td>90</td>\n      <td>96</td>\n      <td>56</td>\n      <td>56</td>\n      <td>67</td>\n    </tr>\n    <tr>\n      <th>学科5</th>\n      <td>81</td>\n      <td>49</td>\n      <td>69</td>\n      <td>59</td>\n      <td>94</td>\n      <td>63</td>\n      <td>71</td>\n      <td>87</td>\n      <td>98</td>\n      <td>65</td>\n    </tr>\n  </tbody>\n</table>\n</div>"
     },
     "execution_count": 51,
     "metadata": {},
     "output_type": "execute_result"
    }
   ],
   "source": [
    "# DataFrame 属性之转置\n",
    "score_df.T       # 获取矩阵转置  行列转换"
   ],
   "metadata": {
    "collapsed": false,
    "ExecuteTime": {
     "start_time": "2025-04-08T17:06:24.570823Z",
     "end_time": "2025-04-08T17:06:24.597512Z"
    }
   }
  },
  {
   "cell_type": "code",
   "execution_count": null,
   "outputs": [],
   "source": [],
   "metadata": {
    "collapsed": false
   }
  }
 ],
 "metadata": {
  "kernelspec": {
   "display_name": "Python 3",
   "language": "python",
   "name": "python3"
  },
  "language_info": {
   "codemirror_mode": {
    "name": "ipython",
    "version": 2
   },
   "file_extension": ".py",
   "mimetype": "text/x-python",
   "name": "python",
   "nbconvert_exporter": "python",
   "pygments_lexer": "ipython2",
   "version": "2.7.6"
  }
 },
 "nbformat": 4,
 "nbformat_minor": 0
}
