{
 "cells": [
  {
   "cell_type": "code",
   "execution_count": 1,
   "metadata": {
    "collapsed": true,
    "ExecuteTime": {
     "start_time": "2025-04-08T16:09:20.290161Z",
     "end_time": "2025-04-08T16:09:20.683331Z"
    }
   },
   "outputs": [],
   "source": [
    "import pandas as pd\n",
    "import numpy as np"
   ]
  },
  {
   "cell_type": "code",
   "execution_count": 83,
   "outputs": [
    {
     "data": {
      "text/plain": "    0   1    2    3   4\n0  76  98   99   98  46\n1  89  91   55   77  73\n2  78  67   45   74  71\n3  63  61  100   60  79\n4  98  80   57   94  60\n5  61  52   56   81  85\n6  63  55   73   96  60\n7  85  96   59   70  82\n8  51  54   49  100  56\n9  53  53   93   44  75",
      "text/html": "<div>\n<style scoped>\n    .dataframe tbody tr th:only-of-type {\n        vertical-align: middle;\n    }\n\n    .dataframe tbody tr th {\n        vertical-align: top;\n    }\n\n    .dataframe thead th {\n        text-align: right;\n    }\n</style>\n<table border=\"1\" class=\"dataframe\">\n  <thead>\n    <tr style=\"text-align: right;\">\n      <th></th>\n      <th>0</th>\n      <th>1</th>\n      <th>2</th>\n      <th>3</th>\n      <th>4</th>\n    </tr>\n  </thead>\n  <tbody>\n    <tr>\n      <th>0</th>\n      <td>76</td>\n      <td>98</td>\n      <td>99</td>\n      <td>98</td>\n      <td>46</td>\n    </tr>\n    <tr>\n      <th>1</th>\n      <td>89</td>\n      <td>91</td>\n      <td>55</td>\n      <td>77</td>\n      <td>73</td>\n    </tr>\n    <tr>\n      <th>2</th>\n      <td>78</td>\n      <td>67</td>\n      <td>45</td>\n      <td>74</td>\n      <td>71</td>\n    </tr>\n    <tr>\n      <th>3</th>\n      <td>63</td>\n      <td>61</td>\n      <td>100</td>\n      <td>60</td>\n      <td>79</td>\n    </tr>\n    <tr>\n      <th>4</th>\n      <td>98</td>\n      <td>80</td>\n      <td>57</td>\n      <td>94</td>\n      <td>60</td>\n    </tr>\n    <tr>\n      <th>5</th>\n      <td>61</td>\n      <td>52</td>\n      <td>56</td>\n      <td>81</td>\n      <td>85</td>\n    </tr>\n    <tr>\n      <th>6</th>\n      <td>63</td>\n      <td>55</td>\n      <td>73</td>\n      <td>96</td>\n      <td>60</td>\n    </tr>\n    <tr>\n      <th>7</th>\n      <td>85</td>\n      <td>96</td>\n      <td>59</td>\n      <td>70</td>\n      <td>82</td>\n    </tr>\n    <tr>\n      <th>8</th>\n      <td>51</td>\n      <td>54</td>\n      <td>49</td>\n      <td>100</td>\n      <td>56</td>\n    </tr>\n    <tr>\n      <th>9</th>\n      <td>53</td>\n      <td>53</td>\n      <td>93</td>\n      <td>44</td>\n      <td>75</td>\n    </tr>\n  </tbody>\n</table>\n</div>"
     },
     "execution_count": 83,
     "metadata": {},
     "output_type": "execute_result"
    }
   ],
   "source": [
    "# 1.生成10名同学，5门功课的数据\n",
    "score_df = pd.DataFrame(np.random.randint(40, 101, (10, 5)))\n",
    "score_df"
   ],
   "metadata": {
    "collapsed": false,
    "ExecuteTime": {
     "start_time": "2025-04-08T17:47:34.386498Z",
     "end_time": "2025-04-08T17:47:34.415661Z"
    }
   }
  },
  {
   "cell_type": "code",
   "execution_count": 26,
   "outputs": [
    {
     "data": {
      "text/plain": "      语文  数学  英语  物理   化学\n同学1   84  60  91  50   82\n同学2   71  80  92  49   50\n同学3   47  93  91  89   90\n同学4   94  60  67  48  100\n同学5   93  52  43  63   64\n同学6   86  75  93  68   69\n同学7   58  42  85  47   93\n同学8   84  98  56  91   59\n同学9   62  80  60  43   74\n同学10  68  43  88  75   83",
      "text/html": "<div>\n<style scoped>\n    .dataframe tbody tr th:only-of-type {\n        vertical-align: middle;\n    }\n\n    .dataframe tbody tr th {\n        vertical-align: top;\n    }\n\n    .dataframe thead th {\n        text-align: right;\n    }\n</style>\n<table border=\"1\" class=\"dataframe\">\n  <thead>\n    <tr style=\"text-align: right;\">\n      <th></th>\n      <th>语文</th>\n      <th>数学</th>\n      <th>英语</th>\n      <th>物理</th>\n      <th>化学</th>\n    </tr>\n  </thead>\n  <tbody>\n    <tr>\n      <th>同学1</th>\n      <td>84</td>\n      <td>60</td>\n      <td>91</td>\n      <td>50</td>\n      <td>82</td>\n    </tr>\n    <tr>\n      <th>同学2</th>\n      <td>71</td>\n      <td>80</td>\n      <td>92</td>\n      <td>49</td>\n      <td>50</td>\n    </tr>\n    <tr>\n      <th>同学3</th>\n      <td>47</td>\n      <td>93</td>\n      <td>91</td>\n      <td>89</td>\n      <td>90</td>\n    </tr>\n    <tr>\n      <th>同学4</th>\n      <td>94</td>\n      <td>60</td>\n      <td>67</td>\n      <td>48</td>\n      <td>100</td>\n    </tr>\n    <tr>\n      <th>同学5</th>\n      <td>93</td>\n      <td>52</td>\n      <td>43</td>\n      <td>63</td>\n      <td>64</td>\n    </tr>\n    <tr>\n      <th>同学6</th>\n      <td>86</td>\n      <td>75</td>\n      <td>93</td>\n      <td>68</td>\n      <td>69</td>\n    </tr>\n    <tr>\n      <th>同学7</th>\n      <td>58</td>\n      <td>42</td>\n      <td>85</td>\n      <td>47</td>\n      <td>93</td>\n    </tr>\n    <tr>\n      <th>同学8</th>\n      <td>84</td>\n      <td>98</td>\n      <td>56</td>\n      <td>91</td>\n      <td>59</td>\n    </tr>\n    <tr>\n      <th>同学9</th>\n      <td>62</td>\n      <td>80</td>\n      <td>60</td>\n      <td>43</td>\n      <td>74</td>\n    </tr>\n    <tr>\n      <th>同学10</th>\n      <td>68</td>\n      <td>43</td>\n      <td>88</td>\n      <td>75</td>\n      <td>83</td>\n    </tr>\n  </tbody>\n</table>\n</div>"
     },
     "execution_count": 26,
     "metadata": {},
     "output_type": "execute_result"
    }
   ],
   "source": [
    "column_names = ['语文', '数学', '英语', '物理', '化学']\n",
    "score_df.columns = column_names\n",
    "score_df"
   ],
   "metadata": {
    "collapsed": false,
    "ExecuteTime": {
     "start_time": "2025-04-08T16:30:50.979298Z",
     "end_time": "2025-04-08T16:30:51.000559Z"
    }
   }
  },
  {
   "cell_type": "code",
   "execution_count": 29,
   "outputs": [
    {
     "name": "stdout",
     "output_type": "stream",
     "text": [
      "10\n",
      "['同学1', '同学2', '同学3', '同学4', '同学5', '同学6', '同学7', '同学8', '同学9', '同学10']\n"
     ]
    }
   ],
   "source": [
    "# [for i in range(1, 13)]       #  问题 ： 如何获取长度\n",
    "# [i for i in range(len(score_df.index))]\n",
    "\n",
    "# 获取表序列长度\n",
    "# 方式一：len(score_df.index)\n",
    "# print(len(score_df.index))\n",
    "# 方式二：__len__()  采用魔法方法\n",
    "# print(score_df.__len__())\n",
    "# 方式三：score_df.shape[0]\n",
    "# score_df.shape      # 获取的是表的行和列的数量  以元组的形式\n",
    "# print(score_df.shape[0])\n",
    "\n",
    "# print(score_df.size)        # 获取的是所有元素的个数  10行5列  (10*5)  50\n",
    "\n",
    "index_names = ['同学' + str(i+1) for i in range(score_df.__len__())]\n",
    "print(index_names)"
   ],
   "metadata": {
    "collapsed": false,
    "ExecuteTime": {
     "start_time": "2025-04-08T16:49:09.372694Z",
     "end_time": "2025-04-08T16:49:09.395221Z"
    }
   }
  },
  {
   "cell_type": "code",
   "execution_count": 16,
   "outputs": [],
   "source": [
    "# colum_names 和 index_names 拼接"
   ],
   "metadata": {
    "collapsed": false,
    "ExecuteTime": {
     "start_time": "2025-04-08T16:25:30.014452Z",
     "end_time": "2025-04-08T16:25:30.022074Z"
    }
   }
  },
  {
   "cell_type": "code",
   "execution_count": 21,
   "outputs": [
    {
     "data": {
      "text/plain": "      语文  数学  英语  物理   化学\n同学1   84  60  91  50   82\n同学2   71  80  92  49   50\n同学3   47  93  91  89   90\n同学4   94  60  67  48  100\n同学5   93  52  43  63   64\n同学6   86  75  93  68   69\n同学7   58  42  85  47   93\n同学8   84  98  56  91   59\n同学9   62  80  60  43   74\n同学10  68  43  88  75   83",
      "text/html": "<div>\n<style scoped>\n    .dataframe tbody tr th:only-of-type {\n        vertical-align: middle;\n    }\n\n    .dataframe tbody tr th {\n        vertical-align: top;\n    }\n\n    .dataframe thead th {\n        text-align: right;\n    }\n</style>\n<table border=\"1\" class=\"dataframe\">\n  <thead>\n    <tr style=\"text-align: right;\">\n      <th></th>\n      <th>语文</th>\n      <th>数学</th>\n      <th>英语</th>\n      <th>物理</th>\n      <th>化学</th>\n    </tr>\n  </thead>\n  <tbody>\n    <tr>\n      <th>同学1</th>\n      <td>84</td>\n      <td>60</td>\n      <td>91</td>\n      <td>50</td>\n      <td>82</td>\n    </tr>\n    <tr>\n      <th>同学2</th>\n      <td>71</td>\n      <td>80</td>\n      <td>92</td>\n      <td>49</td>\n      <td>50</td>\n    </tr>\n    <tr>\n      <th>同学3</th>\n      <td>47</td>\n      <td>93</td>\n      <td>91</td>\n      <td>89</td>\n      <td>90</td>\n    </tr>\n    <tr>\n      <th>同学4</th>\n      <td>94</td>\n      <td>60</td>\n      <td>67</td>\n      <td>48</td>\n      <td>100</td>\n    </tr>\n    <tr>\n      <th>同学5</th>\n      <td>93</td>\n      <td>52</td>\n      <td>43</td>\n      <td>63</td>\n      <td>64</td>\n    </tr>\n    <tr>\n      <th>同学6</th>\n      <td>86</td>\n      <td>75</td>\n      <td>93</td>\n      <td>68</td>\n      <td>69</td>\n    </tr>\n    <tr>\n      <th>同学7</th>\n      <td>58</td>\n      <td>42</td>\n      <td>85</td>\n      <td>47</td>\n      <td>93</td>\n    </tr>\n    <tr>\n      <th>同学8</th>\n      <td>84</td>\n      <td>98</td>\n      <td>56</td>\n      <td>91</td>\n      <td>59</td>\n    </tr>\n    <tr>\n      <th>同学9</th>\n      <td>62</td>\n      <td>80</td>\n      <td>60</td>\n      <td>43</td>\n      <td>74</td>\n    </tr>\n    <tr>\n      <th>同学10</th>\n      <td>68</td>\n      <td>43</td>\n      <td>88</td>\n      <td>75</td>\n      <td>83</td>\n    </tr>\n  </tbody>\n</table>\n</div>"
     },
     "execution_count": 21,
     "metadata": {},
     "output_type": "execute_result"
    }
   ],
   "source": [
    "# 方式一：\n",
    "score_df.columns = column_names\n",
    "score_df.index = index_names\n",
    "score_df"
   ],
   "metadata": {
    "collapsed": false,
    "ExecuteTime": {
     "start_time": "2025-04-08T16:30:17.938681Z",
     "end_time": "2025-04-08T16:30:17.961683Z"
    }
   }
  },
  {
   "cell_type": "code",
   "execution_count": 30,
   "outputs": [
    {
     "data": {
      "text/plain": "     语文文  数学学    2   3   4\n同学1   95   86   42  61  69\n同学2   52   47   44  92  83\n2     99   98   95  68  40\n3     47   93   94  52  40\n4     95   99   56  57  80\n5     79   49   93  66  45\n6     83   87  100  83  46\n7     96   54   46  79  79\n8     46   59   50  75  41\n9     70   48   56  87  63",
      "text/html": "<div>\n<style scoped>\n    .dataframe tbody tr th:only-of-type {\n        vertical-align: middle;\n    }\n\n    .dataframe tbody tr th {\n        vertical-align: top;\n    }\n\n    .dataframe thead th {\n        text-align: right;\n    }\n</style>\n<table border=\"1\" class=\"dataframe\">\n  <thead>\n    <tr style=\"text-align: right;\">\n      <th></th>\n      <th>语文文</th>\n      <th>数学学</th>\n      <th>2</th>\n      <th>3</th>\n      <th>4</th>\n    </tr>\n  </thead>\n  <tbody>\n    <tr>\n      <th>同学1</th>\n      <td>95</td>\n      <td>86</td>\n      <td>42</td>\n      <td>61</td>\n      <td>69</td>\n    </tr>\n    <tr>\n      <th>同学2</th>\n      <td>52</td>\n      <td>47</td>\n      <td>44</td>\n      <td>92</td>\n      <td>83</td>\n    </tr>\n    <tr>\n      <th>2</th>\n      <td>99</td>\n      <td>98</td>\n      <td>95</td>\n      <td>68</td>\n      <td>40</td>\n    </tr>\n    <tr>\n      <th>3</th>\n      <td>47</td>\n      <td>93</td>\n      <td>94</td>\n      <td>52</td>\n      <td>40</td>\n    </tr>\n    <tr>\n      <th>4</th>\n      <td>95</td>\n      <td>99</td>\n      <td>56</td>\n      <td>57</td>\n      <td>80</td>\n    </tr>\n    <tr>\n      <th>5</th>\n      <td>79</td>\n      <td>49</td>\n      <td>93</td>\n      <td>66</td>\n      <td>45</td>\n    </tr>\n    <tr>\n      <th>6</th>\n      <td>83</td>\n      <td>87</td>\n      <td>100</td>\n      <td>83</td>\n      <td>46</td>\n    </tr>\n    <tr>\n      <th>7</th>\n      <td>96</td>\n      <td>54</td>\n      <td>46</td>\n      <td>79</td>\n      <td>79</td>\n    </tr>\n    <tr>\n      <th>8</th>\n      <td>46</td>\n      <td>59</td>\n      <td>50</td>\n      <td>75</td>\n      <td>41</td>\n    </tr>\n    <tr>\n      <th>9</th>\n      <td>70</td>\n      <td>48</td>\n      <td>56</td>\n      <td>87</td>\n      <td>63</td>\n    </tr>\n  </tbody>\n</table>\n</div>"
     },
     "execution_count": 30,
     "metadata": {},
     "output_type": "execute_result"
    }
   ],
   "source": [
    "# 方式二：rename 函数 可以实现对值的精准修改\n",
    "score_df.rename(index={0:'同学1', 1:'同学2'},columns={0:'语文文',1:'数学学'}, inplace=True)\n",
    "score_df"
   ],
   "metadata": {
    "collapsed": false,
    "ExecuteTime": {
     "start_time": "2025-04-08T16:50:57.797635Z",
     "end_time": "2025-04-08T16:50:57.834289Z"
    }
   }
  },
  {
   "cell_type": "code",
   "execution_count": 84,
   "outputs": [
    {
     "data": {
      "text/plain": "      语文  数学   英语   物理  化学\n同学1   76  98   99   98  46\n同学2   89  91   55   77  73\n同学3   78  67   45   74  71\n同学4   63  61  100   60  79\n同学5   98  80   57   94  60\n同学6   61  52   56   81  85\n同学7   63  55   73   96  60\n同学8   85  96   59   70  82\n同学9   51  54   49  100  56\n同学10  53  53   93   44  75",
      "text/html": "<div>\n<style scoped>\n    .dataframe tbody tr th:only-of-type {\n        vertical-align: middle;\n    }\n\n    .dataframe tbody tr th {\n        vertical-align: top;\n    }\n\n    .dataframe thead th {\n        text-align: right;\n    }\n</style>\n<table border=\"1\" class=\"dataframe\">\n  <thead>\n    <tr style=\"text-align: right;\">\n      <th></th>\n      <th>语文</th>\n      <th>数学</th>\n      <th>英语</th>\n      <th>物理</th>\n      <th>化学</th>\n    </tr>\n  </thead>\n  <tbody>\n    <tr>\n      <th>同学1</th>\n      <td>76</td>\n      <td>98</td>\n      <td>99</td>\n      <td>98</td>\n      <td>46</td>\n    </tr>\n    <tr>\n      <th>同学2</th>\n      <td>89</td>\n      <td>91</td>\n      <td>55</td>\n      <td>77</td>\n      <td>73</td>\n    </tr>\n    <tr>\n      <th>同学3</th>\n      <td>78</td>\n      <td>67</td>\n      <td>45</td>\n      <td>74</td>\n      <td>71</td>\n    </tr>\n    <tr>\n      <th>同学4</th>\n      <td>63</td>\n      <td>61</td>\n      <td>100</td>\n      <td>60</td>\n      <td>79</td>\n    </tr>\n    <tr>\n      <th>同学5</th>\n      <td>98</td>\n      <td>80</td>\n      <td>57</td>\n      <td>94</td>\n      <td>60</td>\n    </tr>\n    <tr>\n      <th>同学6</th>\n      <td>61</td>\n      <td>52</td>\n      <td>56</td>\n      <td>81</td>\n      <td>85</td>\n    </tr>\n    <tr>\n      <th>同学7</th>\n      <td>63</td>\n      <td>55</td>\n      <td>73</td>\n      <td>96</td>\n      <td>60</td>\n    </tr>\n    <tr>\n      <th>同学8</th>\n      <td>85</td>\n      <td>96</td>\n      <td>59</td>\n      <td>70</td>\n      <td>82</td>\n    </tr>\n    <tr>\n      <th>同学9</th>\n      <td>51</td>\n      <td>54</td>\n      <td>49</td>\n      <td>100</td>\n      <td>56</td>\n    </tr>\n    <tr>\n      <th>同学10</th>\n      <td>53</td>\n      <td>53</td>\n      <td>93</td>\n      <td>44</td>\n      <td>75</td>\n    </tr>\n  </tbody>\n</table>\n</div>"
     },
     "execution_count": 84,
     "metadata": {},
     "output_type": "execute_result"
    }
   ],
   "source": [
    "score_df.rename(\n",
    "    index={i:index_names[i] for i in range(score_df.shape[0])},\n",
    "    columns={i:column_names[i] for i in range(score_df.shape[1])},\n",
    "    inplace=True\n",
    ")\n",
    "score_df"
   ],
   "metadata": {
    "collapsed": false,
    "ExecuteTime": {
     "start_time": "2025-04-08T17:47:41.861135Z",
     "end_time": "2025-04-08T17:47:41.899098Z"
    }
   }
  },
  {
   "cell_type": "markdown",
   "source": [
    "### DataFrame 属性"
   ],
   "metadata": {
    "collapsed": false
   }
  },
  {
   "cell_type": "code",
   "execution_count": 46,
   "outputs": [
    {
     "name": "stdout",
     "output_type": "stream",
     "text": [
      "Index(['同学1', '同学2', '同学3', '同学4', '同学5', '同学6', '同学7', '同学8', '同学9', '同学10'], dtype='object')\n"
     ]
    }
   ],
   "source": [
    "# DataFrame 属性之index\n",
    "print(score_df.index)       # 获取矩阵所有的索引"
   ],
   "metadata": {
    "collapsed": false,
    "ExecuteTime": {
     "start_time": "2025-04-08T17:01:41.748060Z",
     "end_time": "2025-04-08T17:01:41.754763Z"
    }
   }
  },
  {
   "cell_type": "code",
   "execution_count": 47,
   "outputs": [
    {
     "name": "stdout",
     "output_type": "stream",
     "text": [
      "Index(['学科1', '学科2', '学科3', '学科4', '学科5'], dtype='object')\n"
     ]
    }
   ],
   "source": [
    "# DataFrame 属性之columns\n",
    "print(score_df.columns)       # 获取矩阵所有的列的名称"
   ],
   "metadata": {
    "collapsed": false,
    "ExecuteTime": {
     "start_time": "2025-04-08T17:02:18.611808Z",
     "end_time": "2025-04-08T17:02:18.654091Z"
    }
   }
  },
  {
   "cell_type": "code",
   "execution_count": 48,
   "outputs": [
    {
     "name": "stdout",
     "output_type": "stream",
     "text": [
      "[[67 74 78 97 81]\n",
      " [90 78 75 99 49]\n",
      " [40 57 79 87 69]\n",
      " [55 73 44 92 59]\n",
      " [76 73 61 64 94]\n",
      " [92 67 78 90 63]\n",
      " [55 65 43 96 71]\n",
      " [56 61 81 56 87]\n",
      " [96 52 72 56 98]\n",
      " [96 57 76 67 65]]\n"
     ]
    }
   ],
   "source": [
    "# DataFrame 属性之values\n",
    "print(score_df.values)       # 获取矩阵所有的值"
   ],
   "metadata": {
    "collapsed": false,
    "ExecuteTime": {
     "start_time": "2025-04-08T17:02:36.237114Z",
     "end_time": "2025-04-08T17:02:36.244688Z"
    }
   }
  },
  {
   "cell_type": "code",
   "execution_count": 91,
   "outputs": [
    {
     "data": {
      "text/plain": "    同学1  同学2  同学3  同学4  同学5  同学6  同学7  同学8  同学9  同学10\n语文   76   89   78   63   98   61   63   85   51    53\n数学   98   91   67   61   80   52   55   96   54    53\n英语   99   55   45  100   57   56   73   59   49    93\n物理   98   77   74   60   94   81   96   70  100    44\n化学   46   73   71   79   60   85   60   82   56    75",
      "text/html": "<div>\n<style scoped>\n    .dataframe tbody tr th:only-of-type {\n        vertical-align: middle;\n    }\n\n    .dataframe tbody tr th {\n        vertical-align: top;\n    }\n\n    .dataframe thead th {\n        text-align: right;\n    }\n</style>\n<table border=\"1\" class=\"dataframe\">\n  <thead>\n    <tr style=\"text-align: right;\">\n      <th></th>\n      <th>同学1</th>\n      <th>同学2</th>\n      <th>同学3</th>\n      <th>同学4</th>\n      <th>同学5</th>\n      <th>同学6</th>\n      <th>同学7</th>\n      <th>同学8</th>\n      <th>同学9</th>\n      <th>同学10</th>\n    </tr>\n  </thead>\n  <tbody>\n    <tr>\n      <th>语文</th>\n      <td>76</td>\n      <td>89</td>\n      <td>78</td>\n      <td>63</td>\n      <td>98</td>\n      <td>61</td>\n      <td>63</td>\n      <td>85</td>\n      <td>51</td>\n      <td>53</td>\n    </tr>\n    <tr>\n      <th>数学</th>\n      <td>98</td>\n      <td>91</td>\n      <td>67</td>\n      <td>61</td>\n      <td>80</td>\n      <td>52</td>\n      <td>55</td>\n      <td>96</td>\n      <td>54</td>\n      <td>53</td>\n    </tr>\n    <tr>\n      <th>英语</th>\n      <td>99</td>\n      <td>55</td>\n      <td>45</td>\n      <td>100</td>\n      <td>57</td>\n      <td>56</td>\n      <td>73</td>\n      <td>59</td>\n      <td>49</td>\n      <td>93</td>\n    </tr>\n    <tr>\n      <th>物理</th>\n      <td>98</td>\n      <td>77</td>\n      <td>74</td>\n      <td>60</td>\n      <td>94</td>\n      <td>81</td>\n      <td>96</td>\n      <td>70</td>\n      <td>100</td>\n      <td>44</td>\n    </tr>\n    <tr>\n      <th>化学</th>\n      <td>46</td>\n      <td>73</td>\n      <td>71</td>\n      <td>79</td>\n      <td>60</td>\n      <td>85</td>\n      <td>60</td>\n      <td>82</td>\n      <td>56</td>\n      <td>75</td>\n    </tr>\n  </tbody>\n</table>\n</div>"
     },
     "execution_count": 91,
     "metadata": {},
     "output_type": "execute_result"
    }
   ],
   "source": [
    "# DataFrame 属性之转置\n",
    "score_df.T       # 获取矩阵转置  行列转换"
   ],
   "metadata": {
    "collapsed": false,
    "ExecuteTime": {
     "start_time": "2025-04-08T18:04:37.706949Z",
     "end_time": "2025-04-08T18:04:37.729527Z"
    }
   }
  },
  {
   "cell_type": "markdown",
   "source": [
    "### DataFrame 方法"
   ],
   "metadata": {
    "collapsed": false
   }
  },
  {
   "cell_type": "code",
   "execution_count": 62,
   "outputs": [
    {
     "data": {
      "text/plain": "     语文  数学  英语  物理   化学\n同学1  74  71  75  41   41\n同学2  44  91  99  69  100\n同学3  81  88  51  99   54\n同学4  87  55  49  43   98\n同学5  44  88  58  82   47\n同学6  80  84  86  77   63\n同学7  65  50  41  44   54\n同学8  96  81  62  59   94\n同学9  72  55  92  68   60",
      "text/html": "<div>\n<style scoped>\n    .dataframe tbody tr th:only-of-type {\n        vertical-align: middle;\n    }\n\n    .dataframe tbody tr th {\n        vertical-align: top;\n    }\n\n    .dataframe thead th {\n        text-align: right;\n    }\n</style>\n<table border=\"1\" class=\"dataframe\">\n  <thead>\n    <tr style=\"text-align: right;\">\n      <th></th>\n      <th>语文</th>\n      <th>数学</th>\n      <th>英语</th>\n      <th>物理</th>\n      <th>化学</th>\n    </tr>\n  </thead>\n  <tbody>\n    <tr>\n      <th>同学1</th>\n      <td>74</td>\n      <td>71</td>\n      <td>75</td>\n      <td>41</td>\n      <td>41</td>\n    </tr>\n    <tr>\n      <th>同学2</th>\n      <td>44</td>\n      <td>91</td>\n      <td>99</td>\n      <td>69</td>\n      <td>100</td>\n    </tr>\n    <tr>\n      <th>同学3</th>\n      <td>81</td>\n      <td>88</td>\n      <td>51</td>\n      <td>99</td>\n      <td>54</td>\n    </tr>\n    <tr>\n      <th>同学4</th>\n      <td>87</td>\n      <td>55</td>\n      <td>49</td>\n      <td>43</td>\n      <td>98</td>\n    </tr>\n    <tr>\n      <th>同学5</th>\n      <td>44</td>\n      <td>88</td>\n      <td>58</td>\n      <td>82</td>\n      <td>47</td>\n    </tr>\n    <tr>\n      <th>同学6</th>\n      <td>80</td>\n      <td>84</td>\n      <td>86</td>\n      <td>77</td>\n      <td>63</td>\n    </tr>\n    <tr>\n      <th>同学7</th>\n      <td>65</td>\n      <td>50</td>\n      <td>41</td>\n      <td>44</td>\n      <td>54</td>\n    </tr>\n    <tr>\n      <th>同学8</th>\n      <td>96</td>\n      <td>81</td>\n      <td>62</td>\n      <td>59</td>\n      <td>94</td>\n    </tr>\n    <tr>\n      <th>同学9</th>\n      <td>72</td>\n      <td>55</td>\n      <td>92</td>\n      <td>68</td>\n      <td>60</td>\n    </tr>\n  </tbody>\n</table>\n</div>"
     },
     "execution_count": 62,
     "metadata": {},
     "output_type": "execute_result"
    }
   ],
   "source": [
    "# 从前向后展示 ，展示n行\n",
    "# 如果输入的是 负数 例如 -m 为 从后去除m行，继续从前向后展示剩下的\n",
    "# 1.head(n)     # n\n",
    "score_df.head(-1)"
   ],
   "metadata": {
    "collapsed": false,
    "ExecuteTime": {
     "start_time": "2025-04-08T17:13:28.250329Z",
     "end_time": "2025-04-08T17:13:28.297271Z"
    }
   }
  },
  {
   "cell_type": "code",
   "execution_count": 67,
   "outputs": [
    {
     "data": {
      "text/plain": "      语文  数学  英语  物理  化学\n同学5   44  88  58  82  47\n同学6   80  84  86  77  63\n同学7   65  50  41  44  54\n同学8   96  81  62  59  94\n同学9   72  55  92  68  60\n同学10  91  61  48  78  78",
      "text/html": "<div>\n<style scoped>\n    .dataframe tbody tr th:only-of-type {\n        vertical-align: middle;\n    }\n\n    .dataframe tbody tr th {\n        vertical-align: top;\n    }\n\n    .dataframe thead th {\n        text-align: right;\n    }\n</style>\n<table border=\"1\" class=\"dataframe\">\n  <thead>\n    <tr style=\"text-align: right;\">\n      <th></th>\n      <th>语文</th>\n      <th>数学</th>\n      <th>英语</th>\n      <th>物理</th>\n      <th>化学</th>\n    </tr>\n  </thead>\n  <tbody>\n    <tr>\n      <th>同学5</th>\n      <td>44</td>\n      <td>88</td>\n      <td>58</td>\n      <td>82</td>\n      <td>47</td>\n    </tr>\n    <tr>\n      <th>同学6</th>\n      <td>80</td>\n      <td>84</td>\n      <td>86</td>\n      <td>77</td>\n      <td>63</td>\n    </tr>\n    <tr>\n      <th>同学7</th>\n      <td>65</td>\n      <td>50</td>\n      <td>41</td>\n      <td>44</td>\n      <td>54</td>\n    </tr>\n    <tr>\n      <th>同学8</th>\n      <td>96</td>\n      <td>81</td>\n      <td>62</td>\n      <td>59</td>\n      <td>94</td>\n    </tr>\n    <tr>\n      <th>同学9</th>\n      <td>72</td>\n      <td>55</td>\n      <td>92</td>\n      <td>68</td>\n      <td>60</td>\n    </tr>\n    <tr>\n      <th>同学10</th>\n      <td>91</td>\n      <td>61</td>\n      <td>48</td>\n      <td>78</td>\n      <td>78</td>\n    </tr>\n  </tbody>\n</table>\n</div>"
     },
     "execution_count": 67,
     "metadata": {},
     "output_type": "execute_result"
    }
   ],
   "source": [
    "# 从后向前展示 ，展示n行\n",
    "# 如果输入的是 负数 例如 -m 为 从前去除m行，继续从后向前展示剩下的\n",
    "# 2.tail(n)     # n 默认是5\n",
    "score_df.tail(6)"
   ],
   "metadata": {
    "collapsed": false,
    "ExecuteTime": {
     "start_time": "2025-04-08T17:18:08.999282Z",
     "end_time": "2025-04-08T17:18:09.034424Z"
    }
   }
  },
  {
   "cell_type": "code",
   "execution_count": 68,
   "outputs": [
    {
     "name": "stdout",
     "output_type": "stream",
     "text": [
      "<class 'pandas.core.frame.DataFrame'>\n",
      "Index: 10 entries, 同学1 to 同学10\n",
      "Data columns (total 5 columns):\n",
      " #   Column  Non-Null Count  Dtype\n",
      "---  ------  --------------  -----\n",
      " 0   语文      10 non-null     int32\n",
      " 1   数学      10 non-null     int32\n",
      " 2   英语      10 non-null     int32\n",
      " 3   物理      10 non-null     int32\n",
      " 4   化学      10 non-null     int32\n",
      "dtypes: int32(5)\n",
      "memory usage: 280.0+ bytes\n"
     ]
    }
   ],
   "source": [
    "# 3.info() 查看 df 对象的详情信息\n",
    "#   第一行展示表示类型  例如：表示一个Pandas二维表格的数据结构DataFrame\n",
    "#   第二行展示 共几行数据 索引标签 从哪到哪  例如：共10行数据， 索引标签为 同学1到同学9\n",
    "#   第三行展示 一共几列      例如:共5列\n",
    "#   展示 每列均有几个非空的值，数据完整是否有缺失     例如：每列均有10个非空的值，数据完整无缺失\n",
    "#   展示 总内存占用多少字节  例如：总内存占用580字节\n",
    "score_df.info()\n"
   ],
   "metadata": {
    "collapsed": false,
    "ExecuteTime": {
     "start_time": "2025-04-08T17:22:29.208343Z",
     "end_time": "2025-04-08T17:22:29.257590Z"
    }
   }
  },
  {
   "cell_type": "code",
   "execution_count": 104,
   "outputs": [
    {
     "data": {
      "text/plain": "              语文         数学          英语          物理        化学\ncount  10.000000  10.000000   10.000000   10.000000  10.00000\nmean   71.700000  70.700000   68.600000   79.400000  68.70000\nstd    15.881855  18.797458   21.177556   18.301184  12.64955\nmin    51.000000  52.000000   45.000000   44.000000  46.00000\n25%    61.500000  54.250000   55.250000   71.000000  60.00000\n50%    69.500000  64.000000   58.000000   79.000000  72.00000\n75%    83.250000  88.250000   88.000000   95.500000  78.00000\nmax    98.000000  98.000000  100.000000  100.000000  85.00000",
      "text/html": "<div>\n<style scoped>\n    .dataframe tbody tr th:only-of-type {\n        vertical-align: middle;\n    }\n\n    .dataframe tbody tr th {\n        vertical-align: top;\n    }\n\n    .dataframe thead th {\n        text-align: right;\n    }\n</style>\n<table border=\"1\" class=\"dataframe\">\n  <thead>\n    <tr style=\"text-align: right;\">\n      <th></th>\n      <th>语文</th>\n      <th>数学</th>\n      <th>英语</th>\n      <th>物理</th>\n      <th>化学</th>\n    </tr>\n  </thead>\n  <tbody>\n    <tr>\n      <th>count</th>\n      <td>10.000000</td>\n      <td>10.000000</td>\n      <td>10.000000</td>\n      <td>10.000000</td>\n      <td>10.00000</td>\n    </tr>\n    <tr>\n      <th>mean</th>\n      <td>71.700000</td>\n      <td>70.700000</td>\n      <td>68.600000</td>\n      <td>79.400000</td>\n      <td>68.70000</td>\n    </tr>\n    <tr>\n      <th>std</th>\n      <td>15.881855</td>\n      <td>18.797458</td>\n      <td>21.177556</td>\n      <td>18.301184</td>\n      <td>12.64955</td>\n    </tr>\n    <tr>\n      <th>min</th>\n      <td>51.000000</td>\n      <td>52.000000</td>\n      <td>45.000000</td>\n      <td>44.000000</td>\n      <td>46.00000</td>\n    </tr>\n    <tr>\n      <th>25%</th>\n      <td>61.500000</td>\n      <td>54.250000</td>\n      <td>55.250000</td>\n      <td>71.000000</td>\n      <td>60.00000</td>\n    </tr>\n    <tr>\n      <th>50%</th>\n      <td>69.500000</td>\n      <td>64.000000</td>\n      <td>58.000000</td>\n      <td>79.000000</td>\n      <td>72.00000</td>\n    </tr>\n    <tr>\n      <th>75%</th>\n      <td>83.250000</td>\n      <td>88.250000</td>\n      <td>88.000000</td>\n      <td>95.500000</td>\n      <td>78.00000</td>\n    </tr>\n    <tr>\n      <th>max</th>\n      <td>98.000000</td>\n      <td>98.000000</td>\n      <td>100.000000</td>\n      <td>100.000000</td>\n      <td>85.00000</td>\n    </tr>\n  </tbody>\n</table>\n</div>"
     },
     "execution_count": 104,
     "metadata": {},
     "output_type": "execute_result"
    }
   ],
   "source": [
    "# describe  查看 df 对象的描述性统计信息\n",
    "# 展示的信息为：\n",
    "'''\n",
    "数值型列（numeric columns）的统计信息：\n",
    "    count: 非空值的数量\n",
    "    mean: 平均值\n",
    "    std: 标准差（反映数据的离散程度）\n",
    "    min: 最小值\n",
    "    25%：第一四分位数  （Q1，25% 的数据小于该值）\n",
    "    50%：中位数       （Q2，50% 的数据小于该值）\n",
    "    75%：第三四分位数  （Q3，75% 的数据小于该值）\n",
    "    max：最大值\n",
    "'''\n",
    "\"\"\"\n",
    "非数值型列（object/category 类型）的统计信息：\n",
    "    count：非空值的数量\n",
    "    unique：唯一值的数量\n",
    "    top：出现最频繁的值（众数）\n",
    "    freq：最频繁值（top）的出现次数\n",
    "\"\"\"\n",
    "# 1~100  1/4(25%)    2/4(中分位 50%)    3/4(75%)    4/4 max   四分位\n",
    "#   四分法 ： 将数据切分为四分\n",
    "score_df.describe()\n",
    "'''\n",
    "describe()方法 可选参数：\n",
    "    include / exclude：指定包含或排除某些数据类型的列\n",
    "        （如 include='all' 会显示所有列的统计信息）。\n",
    "    percentiles：自定义百分位数\n",
    "        （如 percentiles=[0.1, 0.5, 0.9]）。\n",
    "    datetime_is_numeric：如果为 True，时间类型列也会像数值型列一样计算统计量。\n",
    "'''\n"
   ],
   "metadata": {
    "collapsed": false,
    "ExecuteTime": {
     "start_time": "2025-04-08T18:12:41.916466Z",
     "end_time": "2025-04-08T18:12:41.942032Z"
    }
   }
  },
  {
   "cell_type": "code",
   "execution_count": 101,
   "outputs": [
    {
     "data": {
      "text/plain": "  index  语文  数学   英语   物理  化学\n0   同学1  76  98   99   98  46\n1   同学2  89  91   55   77  73\n2   同学3  78  67   45   74  71\n3   同学4  63  61  100   60  79\n4   同学5  98  80   57   94  60\n5   同学6  61  52   56   81  85\n6   同学7  63  55   73   96  60\n7   同学8  85  96   59   70  82\n8   同学9  51  54   49  100  56\n9  同学10  53  53   93   44  75",
      "text/html": "<div>\n<style scoped>\n    .dataframe tbody tr th:only-of-type {\n        vertical-align: middle;\n    }\n\n    .dataframe tbody tr th {\n        vertical-align: top;\n    }\n\n    .dataframe thead th {\n        text-align: right;\n    }\n</style>\n<table border=\"1\" class=\"dataframe\">\n  <thead>\n    <tr style=\"text-align: right;\">\n      <th></th>\n      <th>index</th>\n      <th>语文</th>\n      <th>数学</th>\n      <th>英语</th>\n      <th>物理</th>\n      <th>化学</th>\n    </tr>\n  </thead>\n  <tbody>\n    <tr>\n      <th>0</th>\n      <td>同学1</td>\n      <td>76</td>\n      <td>98</td>\n      <td>99</td>\n      <td>98</td>\n      <td>46</td>\n    </tr>\n    <tr>\n      <th>1</th>\n      <td>同学2</td>\n      <td>89</td>\n      <td>91</td>\n      <td>55</td>\n      <td>77</td>\n      <td>73</td>\n    </tr>\n    <tr>\n      <th>2</th>\n      <td>同学3</td>\n      <td>78</td>\n      <td>67</td>\n      <td>45</td>\n      <td>74</td>\n      <td>71</td>\n    </tr>\n    <tr>\n      <th>3</th>\n      <td>同学4</td>\n      <td>63</td>\n      <td>61</td>\n      <td>100</td>\n      <td>60</td>\n      <td>79</td>\n    </tr>\n    <tr>\n      <th>4</th>\n      <td>同学5</td>\n      <td>98</td>\n      <td>80</td>\n      <td>57</td>\n      <td>94</td>\n      <td>60</td>\n    </tr>\n    <tr>\n      <th>5</th>\n      <td>同学6</td>\n      <td>61</td>\n      <td>52</td>\n      <td>56</td>\n      <td>81</td>\n      <td>85</td>\n    </tr>\n    <tr>\n      <th>6</th>\n      <td>同学7</td>\n      <td>63</td>\n      <td>55</td>\n      <td>73</td>\n      <td>96</td>\n      <td>60</td>\n    </tr>\n    <tr>\n      <th>7</th>\n      <td>同学8</td>\n      <td>85</td>\n      <td>96</td>\n      <td>59</td>\n      <td>70</td>\n      <td>82</td>\n    </tr>\n    <tr>\n      <th>8</th>\n      <td>同学9</td>\n      <td>51</td>\n      <td>54</td>\n      <td>49</td>\n      <td>100</td>\n      <td>56</td>\n    </tr>\n    <tr>\n      <th>9</th>\n      <td>同学10</td>\n      <td>53</td>\n      <td>53</td>\n      <td>93</td>\n      <td>44</td>\n      <td>75</td>\n    </tr>\n  </tbody>\n</table>\n</div>"
     },
     "execution_count": 101,
     "metadata": {},
     "output_type": "execute_result"
    }
   ],
   "source": [
    "# reset_index()     重置索引列\n",
    "score_df.reset_index()      # 重置索引 为 0 ~ ....\n",
    "# score_df.reset_index(drop=True)     # drop参数为：重置索引后是否保留原索引 ，默认为False 不删除要保留\n"
   ],
   "metadata": {
    "collapsed": false,
    "ExecuteTime": {
     "start_time": "2025-04-08T18:08:49.703333Z",
     "end_time": "2025-04-08T18:08:49.709439Z"
    }
   }
  },
  {
   "cell_type": "code",
   "execution_count": 103,
   "outputs": [
    {
     "data": {
      "text/plain": "        英语   物理  化学\n语文 数学              \n76 98   99   98  46\n89 91   55   77  73\n78 67   45   74  71\n63 61  100   60  79\n98 80   57   94  60\n61 52   56   81  85\n63 55   73   96  60\n85 96   59   70  82\n51 54   49  100  56\n53 53   93   44  75",
      "text/html": "<div>\n<style scoped>\n    .dataframe tbody tr th:only-of-type {\n        vertical-align: middle;\n    }\n\n    .dataframe tbody tr th {\n        vertical-align: top;\n    }\n\n    .dataframe thead th {\n        text-align: right;\n    }\n</style>\n<table border=\"1\" class=\"dataframe\">\n  <thead>\n    <tr style=\"text-align: right;\">\n      <th></th>\n      <th></th>\n      <th>英语</th>\n      <th>物理</th>\n      <th>化学</th>\n    </tr>\n    <tr>\n      <th>语文</th>\n      <th>数学</th>\n      <th></th>\n      <th></th>\n      <th></th>\n    </tr>\n  </thead>\n  <tbody>\n    <tr>\n      <th>76</th>\n      <th>98</th>\n      <td>99</td>\n      <td>98</td>\n      <td>46</td>\n    </tr>\n    <tr>\n      <th>89</th>\n      <th>91</th>\n      <td>55</td>\n      <td>77</td>\n      <td>73</td>\n    </tr>\n    <tr>\n      <th>78</th>\n      <th>67</th>\n      <td>45</td>\n      <td>74</td>\n      <td>71</td>\n    </tr>\n    <tr>\n      <th>63</th>\n      <th>61</th>\n      <td>100</td>\n      <td>60</td>\n      <td>79</td>\n    </tr>\n    <tr>\n      <th>98</th>\n      <th>80</th>\n      <td>57</td>\n      <td>94</td>\n      <td>60</td>\n    </tr>\n    <tr>\n      <th>61</th>\n      <th>52</th>\n      <td>56</td>\n      <td>81</td>\n      <td>85</td>\n    </tr>\n    <tr>\n      <th>63</th>\n      <th>55</th>\n      <td>73</td>\n      <td>96</td>\n      <td>60</td>\n    </tr>\n    <tr>\n      <th>85</th>\n      <th>96</th>\n      <td>59</td>\n      <td>70</td>\n      <td>82</td>\n    </tr>\n    <tr>\n      <th>51</th>\n      <th>54</th>\n      <td>49</td>\n      <td>100</td>\n      <td>56</td>\n    </tr>\n    <tr>\n      <th>53</th>\n      <th>53</th>\n      <td>93</td>\n      <td>44</td>\n      <td>75</td>\n    </tr>\n  </tbody>\n</table>\n</div>"
     },
     "execution_count": 103,
     "metadata": {},
     "output_type": "execute_result"
    }
   ],
   "source": [
    "# 通过某一列的列名设置某一列为新索引\n",
    "# score_df.set_index('语文',)      # 指定某一个列为索引\n",
    "# score_df\n",
    "score_df.set_index([\"语文\", \"数学\"])      # 指定某多个列为索引，传入列表形式"
   ],
   "metadata": {
    "collapsed": false,
    "ExecuteTime": {
     "start_time": "2025-04-08T18:09:57.281525Z",
     "end_time": "2025-04-08T18:09:57.318786Z"
    }
   }
  }
 ],
 "metadata": {
  "kernelspec": {
   "display_name": "Python 3",
   "language": "python",
   "name": "python3"
  },
  "language_info": {
   "codemirror_mode": {
    "name": "ipython",
    "version": 2
   },
   "file_extension": ".py",
   "mimetype": "text/x-python",
   "name": "python",
   "nbconvert_exporter": "python",
   "pygments_lexer": "ipython2",
   "version": "2.7.6"
  }
 },
 "nbformat": 4,
 "nbformat_minor": 0
}
