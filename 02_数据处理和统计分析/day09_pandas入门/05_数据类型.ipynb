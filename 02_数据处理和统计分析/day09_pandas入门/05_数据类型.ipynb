{
 "cells": [
  {
   "cell_type": "code",
   "execution_count": 6,
   "metadata": {
    "collapsed": true,
    "ExecuteTime": {
     "start_time": "2025-04-08T17:54:12.529194Z",
     "end_time": "2025-04-08T17:54:12.553169Z"
    }
   },
   "outputs": [],
   "source": [
    "import pandas as pd\n",
    "import numpy as np"
   ]
  },
  {
   "cell_type": "code",
   "execution_count": 4,
   "outputs": [],
   "source": [
    "df = pd.DataFrame(\n",
    "    {\n",
    "    'name': [np.NAN,'张三', '李四', '王五'],\n",
    "    'gender': ['女','男', '男', '男'],\n",
    "    'age': [18, 30, 35 ,51]\n",
    "    }\n",
    ")"
   ],
   "metadata": {
    "collapsed": false,
    "ExecuteTime": {
     "start_time": "2025-04-08T17:53:02.404258Z",
     "end_time": "2025-04-08T17:53:02.425846Z"
    }
   }
  },
  {
   "cell_type": "code",
   "execution_count": 5,
   "outputs": [
    {
     "name": "stdout",
     "output_type": "stream",
     "text": [
      "<class 'pandas.core.frame.DataFrame'>\n",
      "RangeIndex: 4 entries, 0 to 3\n",
      "Data columns (total 3 columns):\n",
      " #   Column  Non-Null Count  Dtype \n",
      "---  ------  --------------  ----- \n",
      " 0   name    3 non-null      object\n",
      " 1   gender  4 non-null      object\n",
      " 2   age     4 non-null      int64 \n",
      "dtypes: int64(1), object(2)\n",
      "memory usage: 228.0+ bytes\n"
     ]
    }
   ],
   "source": [
    "df.info()       # 本质上可以查看   数据质量 = 有效数据 / 总数据"
   ],
   "metadata": {
    "collapsed": false,
    "ExecuteTime": {
     "start_time": "2025-04-08T17:53:03.890909Z",
     "end_time": "2025-04-08T17:53:03.917268Z"
    }
   }
  },
  {
   "cell_type": "code",
   "execution_count": 8,
   "outputs": [
    {
     "name": "stdout",
     "output_type": "stream",
     "text": [
      "           0\n",
      "0 2025-04-12\n",
      "1 2025-04-18\n"
     ]
    }
   ],
   "source": [
    "df = pd.DataFrame(['2025-04-12','2025-04-18'], dtype='datetime64[ns]')  # ns 为 纳秒\n",
    "print(df)"
   ],
   "metadata": {
    "collapsed": false,
    "ExecuteTime": {
     "start_time": "2025-04-08T17:57:28.818933Z",
     "end_time": "2025-04-08T17:57:28.824083Z"
    }
   }
  },
  {
   "cell_type": "code",
   "execution_count": 10,
   "outputs": [
    {
     "name": "stdout",
     "output_type": "stream",
     "text": [
      "10 days 00:00:00\n"
     ]
    }
   ],
   "source": [
    "# 演示时间差\n",
    "start_date = pd.to_datetime('2025-04-08')\n",
    "end_date = pd.to_datetime('2025-04-18')\n",
    "print(end_date - start_date)"
   ],
   "metadata": {
    "collapsed": false,
    "ExecuteTime": {
     "start_time": "2025-04-08T17:58:47.467873Z",
     "end_time": "2025-04-08T17:58:47.477392Z"
    }
   }
  },
  {
   "cell_type": "code",
   "execution_count": 12,
   "outputs": [
    {
     "name": "stdout",
     "output_type": "stream",
     "text": [
      "0     男\n",
      "1     女\n",
      "2    保密\n",
      "dtype: category\n",
      "Categories (3, object): ['保密', '女', '男']\n"
     ]
    }
   ],
   "source": [
    "# 演示 类别 category  限制内容选择，只能在定义的内容中选择，类似于枚举\n",
    "s1 = pd.Series(['男', '女', '保密'], dtype='category')  # 只能选择 男 女 保密\n",
    "print(s1)"
   ],
   "metadata": {
    "collapsed": false,
    "ExecuteTime": {
     "start_time": "2025-04-08T18:01:37.713704Z",
     "end_time": "2025-04-08T18:01:37.724949Z"
    }
   }
  },
  {
   "cell_type": "code",
   "execution_count": 14,
   "outputs": [
    {
     "name": "stdout",
     "output_type": "stream",
     "text": [
      "category\n"
     ]
    }
   ],
   "source": [
    "print(s1.dtype)"
   ],
   "metadata": {
    "collapsed": false,
    "ExecuteTime": {
     "start_time": "2025-04-08T18:01:56.884349Z",
     "end_time": "2025-04-08T18:01:56.890877Z"
    }
   }
  },
  {
   "cell_type": "code",
   "execution_count": 16,
   "outputs": [],
   "source": [],
   "metadata": {
    "collapsed": false,
    "ExecuteTime": {
     "start_time": "2025-04-08T20:01:23.438634Z",
     "end_time": "2025-04-08T20:01:23.445271Z"
    }
   }
  }
 ],
 "metadata": {
  "kernelspec": {
   "display_name": "Python 3",
   "language": "python",
   "name": "python3"
  },
  "language_info": {
   "codemirror_mode": {
    "name": "ipython",
    "version": 2
   },
   "file_extension": ".py",
   "mimetype": "text/x-python",
   "name": "python",
   "nbconvert_exporter": "python",
   "pygments_lexer": "ipython2",
   "version": "2.7.6"
  }
 },
 "nbformat": 4,
 "nbformat_minor": 0
}
