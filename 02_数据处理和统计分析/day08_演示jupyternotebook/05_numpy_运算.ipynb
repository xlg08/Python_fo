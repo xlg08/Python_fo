{
 "cells": [
  {
   "cell_type": "code",
   "execution_count": 1,
   "metadata": {
    "collapsed": true,
    "ExecuteTime": {
     "start_time": "2025-04-06T20:39:19.249518Z",
     "end_time": "2025-04-06T20:39:19.578954Z"
    }
   },
   "outputs": [],
   "source": [
    "import numpy as np\n",
    "import pandas as pd"
   ]
  },
  {
   "cell_type": "markdown",
   "source": [
    "# Numpy 运算"
   ],
   "metadata": {
    "collapsed": false
   }
  },
  {
   "cell_type": "markdown",
   "source": [
    "## 1.基本运算"
   ],
   "metadata": {
    "collapsed": false
   }
  },
  {
   "cell_type": "code",
   "execution_count": 3,
   "outputs": [
    {
     "name": "stdout",
     "output_type": "stream",
     "text": [
      "原数组arr_1： [20 30 40 50]\n",
      "原数组arr_2： [0 1 2 3]\n",
      "运算后的数组： [20 29 38 47]\n"
     ]
    }
   ],
   "source": [
    "# 数组的算数运算是按照元素的。新的数组被创建并且被结果填充。\n",
    "arr = np.array([20, 30, 40, 50])\n",
    "print(\"原数组arr_1：\", arr)\n",
    "arr_2 = np.arange(4)\n",
    "print(\"原数组arr_2：\", arr_2)\n",
    "c = arr - arr_2\n",
    "print(\"运算后的数组：\", c)"
   ],
   "metadata": {
    "collapsed": false,
    "ExecuteTime": {
     "start_time": "2025-04-06T20:42:44.351329Z",
     "end_time": "2025-04-06T20:42:44.366079Z"
    }
   }
  },
  {
   "cell_type": "markdown",
   "source": [
    "## 2 矩阵乘法 矩阵对应元素的乘法（multiplication by element-wise）"
   ],
   "metadata": {
    "collapsed": false
   }
  },
  {
   "cell_type": "markdown",
   "source": [
    "### (1).对应元素相乘"
   ],
   "metadata": {
    "collapsed": false
   }
  },
  {
   "cell_type": "code",
   "execution_count": 4,
   "outputs": [
    {
     "name": "stdout",
     "output_type": "stream",
     "text": [
      "[[ 1  4  9]\n",
      " [16 25 36]]\n",
      "[[ 1  4  9]\n",
      " [16 25 36]]\n"
     ]
    }
   ],
   "source": [
    "a = np.array([[1,2,3],[4,5,6]])\n",
    "b = np.array([[1,2,3],[4,5,6]])\n",
    "c = a*b     # 对应元素相乘\n",
    "print(c)\n",
    "# 等价于\n",
    "c = np.multiply(a,b)        # 对应元素相乘\n",
    "print(c)"
   ],
   "metadata": {
    "collapsed": false,
    "ExecuteTime": {
     "start_time": "2025-04-06T20:45:01.733827Z",
     "end_time": "2025-04-06T20:45:01.738561Z"
    }
   }
  },
  {
   "cell_type": "markdown",
   "source": [
    "### (2).矩阵乘法"
   ],
   "metadata": {
    "collapsed": false
   }
  },
  {
   "cell_type": "code",
   "execution_count": 5,
   "outputs": [
    {
     "name": "stdout",
     "output_type": "stream",
     "text": [
      "[[1 2 3]\n",
      " [4 5 6]]\n",
      "[[ 6 23]\n",
      " [-1  7]\n",
      " [ 8  9]]\n",
      "[[ 28  64]\n",
      " [ 67 181]]\n",
      "[[ 98 127 156]\n",
      " [ 27  33  39]\n",
      " [ 44  61  78]]\n"
     ]
    }
   ],
   "source": [
    "a = np.array([[1,2,3],[4,5,6]])             # 2 * 3\n",
    "b = np.array([[6,23],[-1,7],[8,9]])         # 3 * 2\n",
    "\n",
    "print(a)\n",
    "print(b)\n",
    "\n",
    "print(a.dot(b))         # 2 * 2\n",
    "print(b.dot(a))         # 3 * 3"
   ],
   "metadata": {
    "collapsed": false,
    "ExecuteTime": {
     "start_time": "2025-04-06T20:49:27.456671Z",
     "end_time": "2025-04-06T20:49:27.461196Z"
    }
   }
  },
  {
   "cell_type": "code",
   "execution_count": null,
   "outputs": [],
   "source": [],
   "metadata": {
    "collapsed": false
   }
  }
 ],
 "metadata": {
  "kernelspec": {
   "display_name": "Python 3",
   "language": "python",
   "name": "python3"
  },
  "language_info": {
   "codemirror_mode": {
    "name": "ipython",
    "version": 2
   },
   "file_extension": ".py",
   "mimetype": "text/x-python",
   "name": "python",
   "nbconvert_exporter": "python",
   "pygments_lexer": "ipython2",
   "version": "2.7.6"
  }
 },
 "nbformat": 4,
 "nbformat_minor": 0
}
