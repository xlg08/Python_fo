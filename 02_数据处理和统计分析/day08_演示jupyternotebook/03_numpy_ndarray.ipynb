{
 "cells": [
  {
   "cell_type": "code",
   "execution_count": 2,
   "metadata": {
    "collapsed": true,
    "ExecuteTime": {
     "start_time": "2025-04-08T09:21:17.563368Z",
     "end_time": "2025-04-08T09:21:25.129391Z"
    }
   },
   "outputs": [
    {
     "name": "stdout",
     "output_type": "stream",
     "text": [
      "<class 'list'>\n",
      "<class 'numpy.ndarray'>\n"
     ]
    }
   ],
   "source": [
    "import pandas as pd\n",
    "import numpy as np\n",
    "\n",
    "# 创建ndarray对象\n",
    "# 1.array()函数：可以把python的列表转换为->ndarray对象\n",
    "my_list = [11,22,33,44,55,66]\n",
    "print(type(my_list))\n",
    "\n",
    "# 2.把python列表传入 array()  ---->  ndarray对象\n",
    "arr1 = np.array(my_list)\n",
    "print(type(arr1))"
   ]
  },
  {
   "cell_type": "markdown",
   "source": [
    "# 1.arange()函数创建ndarray对象"
   ],
   "metadata": {
    "collapsed": false
   }
  },
  {
   "cell_type": "code",
   "execution_count": 2,
   "outputs": [],
   "source": [
    "# 1.创建ndarray对象   (包头不包尾)\n",
    "arr3 = np.arange(0,10,2,dtype=np.int32)"
   ],
   "metadata": {
    "collapsed": false,
    "ExecuteTime": {
     "start_time": "2025-04-06T18:08:27.626028Z",
     "end_time": "2025-04-06T18:08:27.629582Z"
    }
   }
  },
  {
   "cell_type": "code",
   "execution_count": 7,
   "outputs": [
    {
     "name": "stdout",
     "output_type": "stream",
     "text": [
      "[0 2 4 6 8]\n",
      "<class 'numpy.ndarray'>\n"
     ]
    }
   ],
   "source": [
    "print(arr3)\n",
    "print(type(arr3))"
   ],
   "metadata": {
    "collapsed": false,
    "ExecuteTime": {
     "start_time": "2025-04-06T18:26:47.900640Z",
     "end_time": "2025-04-06T18:26:47.928495Z"
    }
   }
  },
  {
   "cell_type": "markdown",
   "source": [
    "# 2.随机数"
   ],
   "metadata": {
    "collapsed": false
   }
  },
  {
   "cell_type": "markdown",
   "source": [
    "## 2.1.random.rand 生成 0.0 ~ 1.0 之间的 包左不包右，随机小数矩阵"
   ],
   "metadata": {
    "collapsed": false
   }
  },
  {
   "cell_type": "code",
   "execution_count": 5,
   "outputs": [
    {
     "name": "stdout",
     "output_type": "stream",
     "text": [
      "[[0.24768116 0.14380767 0.07821623 0.88930598 0.46428034]\n",
      " [0.74652494 0.70630189 0.24059068 0.80990128 0.07725235]\n",
      " [0.85675405 0.85820298 0.50448567 0.32963987 0.77199611]]\n"
     ]
    }
   ],
   "source": [
    "arr4 = np.random.rand(3,5)\n",
    "print(arr4)"
   ],
   "metadata": {
    "collapsed": false,
    "ExecuteTime": {
     "start_time": "2025-04-06T18:10:29.482592Z",
     "end_time": "2025-04-06T18:10:29.486293Z"
    }
   }
  },
  {
   "cell_type": "markdown",
   "source": [
    "## 2.2.random.randint(起始值, 结束值, size = (行, 列)) 生成指定范围的，包左不包右，随机整数矩阵"
   ],
   "metadata": {
    "collapsed": false
   }
  },
  {
   "cell_type": "code",
   "execution_count": 6,
   "outputs": [
    {
     "name": "stdout",
     "output_type": "stream",
     "text": [
      "[[8 3 6 7 7]\n",
      " [5 3 3 6 3]\n",
      " [3 7 8 5 3]]\n"
     ]
    }
   ],
   "source": [
    "arr5 = np.random.randint(3,9,size=(3,5))\n",
    "print(arr5)"
   ],
   "metadata": {
    "collapsed": false,
    "ExecuteTime": {
     "start_time": "2025-04-06T18:12:41.103631Z",
     "end_time": "2025-04-06T18:12:41.107863Z"
    }
   }
  },
  {
   "cell_type": "markdown",
   "source": [
    "## 2.3.random.uniform(起始值, 结束值, size = (行, 列)) 生成指定范围的，包左不包右，随机多维浮点型矩阵"
   ],
   "metadata": {
    "collapsed": false
   }
  },
  {
   "cell_type": "code",
   "execution_count": 10,
   "outputs": [
    {
     "name": "stdout",
     "output_type": "stream",
     "text": [
      "[[ 6.83803173  0.13556364  7.90016403  0.72033048]\n",
      " [ 5.8769138   3.71508997  1.67382643  1.01953789]\n",
      " [-0.83026167  9.74672912  1.74959121  1.47448981]]\n"
     ]
    }
   ],
   "source": [
    "arr6 = np.random.uniform(-1,10,size=(3, 4))\n",
    "print(arr6)"
   ],
   "metadata": {
    "collapsed": false,
    "ExecuteTime": {
     "start_time": "2025-04-06T19:34:04.476569Z",
     "end_time": "2025-04-06T19:34:04.496124Z"
    }
   }
  },
  {
   "cell_type": "markdown",
   "source": [
    "## 2.4.指定数组的数据类型"
   ],
   "metadata": {
    "collapsed": false
   }
  },
  {
   "cell_type": "code",
   "execution_count": 14,
   "outputs": [
    {
     "name": "stdout",
     "output_type": "stream",
     "text": [
      "[[0. 0. 0. 0.]\n",
      " [0. 0. 0. 0.]\n",
      " [0. 0. 0. 0.]]\n",
      "<class 'numpy.ndarray'>\n",
      "float64\n"
     ]
    }
   ],
   "source": [
    "#dtype参数，指定数组的数据类型，类型名+位数，如float64, int32\n",
    "zeros_float_arr = np.zeros((3, 4), dtype=np.float64)\n",
    "print(zeros_float_arr)\n",
    "print(type(zeros_float_arr))\n",
    "print(zeros_float_arr.dtype)"
   ],
   "metadata": {
    "collapsed": false,
    "ExecuteTime": {
     "start_time": "2025-04-06T19:39:33.671986Z",
     "end_time": "2025-04-06T19:39:33.695182Z"
    }
   }
  },
  {
   "cell_type": "markdown",
   "source": [
    "## 2.5.转换数组的数据类型"
   ],
   "metadata": {
    "collapsed": false
   }
  },
  {
   "cell_type": "code",
   "execution_count": 16,
   "outputs": [
    {
     "name": "stdout",
     "output_type": "stream",
     "text": [
      "[[0 0 0 0]\n",
      " [0 0 0 0]\n",
      " [0 0 0 0]]\n",
      "<class 'numpy.ndarray'>\n",
      "int32\n"
     ]
    }
   ],
   "source": [
    "zeros_int_arr = zeros_float_arr.astype(np.int32)        # astype方法，转换数组的数据类型\n",
    "print(zeros_int_arr)\n",
    "print(type(zeros_int_arr))\n",
    "print(zeros_int_arr.dtype)"
   ],
   "metadata": {
    "collapsed": false,
    "ExecuteTime": {
     "start_time": "2025-04-06T19:40:58.799326Z",
     "end_time": "2025-04-06T19:40:58.818257Z"
    }
   }
  },
  {
   "cell_type": "markdown",
   "source": [
    "# 3.等比数列"
   ],
   "metadata": {
    "collapsed": false
   }
  },
  {
   "cell_type": "markdown",
   "source": [
    "## 3.1.np.logspace等比数列"
   ],
   "metadata": {
    "collapsed": false
   }
  },
  {
   "cell_type": "code",
   "execution_count": 19,
   "outputs": [
    {
     "name": "stdout",
     "output_type": "stream",
     "text": [
      "[1. 1. 1. 1. 1. 1. 1. 1. 1. 1.]\n",
      "float64\n"
     ]
    }
   ],
   "source": [
    "# logspace中，默认开始点和结束点是10的幂\n",
    "a = np.logspace(0,0,10)         # 开始点为0 2^0  结束点为0 2^0  元素个数为10\n",
    "print(a)\n",
    "print(a.dtype)"
   ],
   "metadata": {
    "collapsed": false,
    "ExecuteTime": {
     "start_time": "2025-04-06T19:43:42.374074Z",
     "end_time": "2025-04-06T19:43:42.385102Z"
    }
   }
  },
  {
   "cell_type": "code",
   "execution_count": 3,
   "outputs": [
    {
     "name": "stdout",
     "output_type": "stream",
     "text": [
      "[   1.   10.  100. 1000.]\n"
     ]
    }
   ],
   "source": [
    "a = np.logspace(0,3,4)\n",
    "print(a)"
   ],
   "metadata": {
    "collapsed": false,
    "ExecuteTime": {
     "start_time": "2025-04-08T09:21:41.918952Z",
     "end_time": "2025-04-08T09:21:41.930863Z"
    }
   }
  },
  {
   "cell_type": "code",
   "execution_count": 21,
   "outputs": [
    {
     "name": "stdout",
     "output_type": "stream",
     "text": [
      "[1.e+00 1.e+01 1.e+02 1.e+03 1.e+04 1.e+05 1.e+06 1.e+07 1.e+08 1.e+09]\n",
      "float64\n",
      "[1.e+00 1.e+01 1.e+02 1.e+03 1.e+04 1.e+05 1.e+06 1.e+07 1.e+08 1.e+09]\n",
      "float64\n",
      "[         1         10        100       1000      10000     100000\n",
      "    1000000   10000000  100000000 1000000000]\n",
      "int64\n"
     ]
    }
   ],
   "source": [
    "a = np.logspace(0,9,10)         # 0代表10的0次方，9代表10的9次方。\n",
    "print(a)\n",
    "print(a.dtype)\n",
    "b = a.astype(np.int64)          # 不会改变之前的对象，只会产生新的对象\n",
    "print(a)\n",
    "print(a.dtype)\n",
    "print(b)\n",
    "print(b.dtype)"
   ],
   "metadata": {
    "collapsed": false,
    "ExecuteTime": {
     "start_time": "2025-04-06T19:46:11.367894Z",
     "end_time": "2025-04-06T19:46:11.385139Z"
    }
   }
  },
  {
   "cell_type": "code",
   "execution_count": 23,
   "outputs": [
    {
     "name": "stdout",
     "output_type": "stream",
     "text": [
      "[  1.   2.   4.   8.  16.  32.  64. 128. 256. 512.]\n",
      "float64\n"
     ]
    }
   ],
   "source": [
    "# 改变基数，不让它以10为底数，可以改变base参数，将其设置为2\n",
    "a = np.logspace(0, 9, 10, base=2)\n",
    "print(a)\n",
    "print(a.dtype)"
   ],
   "metadata": {
    "collapsed": false,
    "ExecuteTime": {
     "start_time": "2025-04-06T19:55:37.937759Z",
     "end_time": "2025-04-06T19:55:37.990863Z"
    }
   }
  },
  {
   "cell_type": "markdown",
   "source": [
    "# 4.等差数列"
   ],
   "metadata": {
    "collapsed": false
   }
  },
  {
   "cell_type": "markdown",
   "source": [
    "## 4.1.np.linspace等差数列"
   ],
   "metadata": {
    "collapsed": false
   }
  },
  {
   "cell_type": "code",
   "execution_count": 25,
   "outputs": [
    {
     "name": "stdout",
     "output_type": "stream",
     "text": [
      "[1.e+00 1.e+01 1.e+02 1.e+03 1.e+04 1.e+05 1.e+06 1.e+07 1.e+08 1.e+09]\n",
      "float64\n"
     ]
    }
   ],
   "source": [
    "# np.linspace是用于创建一个一维数组，并且是等差数列构成的一维数组\n",
    "#   最常用的三个参数:\n",
    "#       第一个参数表示起始点，第二个参数表示终止点，第三个参数表示数列的个数。\n",
    "a = np.linspace(1, 10, 10)\n",
    "a = np.logspace(0,9,10)         # 0代表10的0次方，9代表10的9次方。\n",
    "print(a)\n",
    "print(a.dtype)"
   ],
   "metadata": {
    "collapsed": false,
    "ExecuteTime": {
     "start_time": "2025-04-06T19:57:42.431999Z",
     "end_time": "2025-04-06T19:57:42.455379Z"
    }
   }
  },
  {
   "cell_type": "code",
   "execution_count": 26,
   "outputs": [
    {
     "name": "stdout",
     "output_type": "stream",
     "text": [
      "[1.e+00 1.e+01 1.e+02 1.e+03 1.e+04 1.e+05 1.e+06 1.e+07 1.e+08 1.e+09]\n",
      "float64\n",
      "[         1         10        100       1000      10000     100000\n",
      "    1000000   10000000  100000000 1000000000]\n",
      "int64\n"
     ]
    }
   ],
   "source": [
    "b = a.astype(np.int64)          # 不会改变之前的对象，只会产生新的对象\n",
    "print(a)\n",
    "print(a.dtype)\n",
    "print(b)\n",
    "print(b.dtype)"
   ],
   "metadata": {
    "collapsed": false,
    "ExecuteTime": {
     "start_time": "2025-04-06T19:58:19.715759Z",
     "end_time": "2025-04-06T19:58:19.722511Z"
    }
   }
  },
  {
   "cell_type": "code",
   "execution_count": null,
   "outputs": [],
   "source": [
    "# 参数endpoint用来决定是否包含终止值，默认值为True。\n",
    "a = np.linspace(1, 10, endpoint=False)\n",
    "print(a)\n",
    "print(a.dtype)"
   ],
   "metadata": {
    "collapsed": false
   }
  }
 ],
 "metadata": {
  "kernelspec": {
   "display_name": "Python 3",
   "language": "python",
   "name": "python3"
  },
  "language_info": {
   "codemirror_mode": {
    "name": "ipython",
    "version": 2
   },
   "file_extension": ".py",
   "mimetype": "text/x-python",
   "name": "python",
   "nbconvert_exporter": "python",
   "pygments_lexer": "ipython2",
   "version": "2.7.6"
  }
 },
 "nbformat": 4,
 "nbformat_minor": 0
}
