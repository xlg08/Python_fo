{
 "cells": [
  {
   "cell_type": "code",
   "execution_count": 2,
   "metadata": {
    "collapsed": true,
    "ExecuteTime": {
     "start_time": "2025-04-06T21:46:49.847351Z",
     "end_time": "2025-04-06T21:46:50.257492Z"
    }
   },
   "outputs": [],
   "source": [
    "import numpy as np\n",
    "import pandas as pd"
   ]
  },
  {
   "cell_type": "code",
   "execution_count": 3,
   "outputs": [],
   "source": [
    "# 1.创建numpy对象ndarray\n",
    "# 以下代码：\n",
    "#   先创建一个一维数组 元素为0-14\n",
    "#   再将一维数组变为三行五列\n",
    "# [\n",
    "#       [0,1,2,3,4],\n",
    "#       [5,6,7,8,9],\n",
    "#       [10,11,12,13,14]\n",
    "# ]\n",
    "arr1 = np.arange(15).reshape(3,5)\n",
    "arr2 = np.arange(15)"
   ],
   "metadata": {
    "collapsed": false,
    "ExecuteTime": {
     "start_time": "2025-04-06T21:46:53.396028Z",
     "end_time": "2025-04-06T21:46:53.424716Z"
    }
   }
  },
  {
   "cell_type": "code",
   "execution_count": 4,
   "outputs": [
    {
     "name": "stdout",
     "output_type": "stream",
     "text": [
      "[[ 0  1  2  3  4]\n",
      " [ 5  6  7  8  9]\n",
      " [10 11 12 13 14]]\n"
     ]
    }
   ],
   "source": [
    "print(arr1)"
   ],
   "metadata": {
    "collapsed": false,
    "ExecuteTime": {
     "start_time": "2025-04-06T21:46:55.203302Z",
     "end_time": "2025-04-06T21:46:55.221508Z"
    }
   }
  },
  {
   "cell_type": "code",
   "execution_count": 7,
   "outputs": [
    {
     "name": "stdout",
     "output_type": "stream",
     "text": [
      "[ 0  1  2  3  4  5  6  7  8  9 10 11 12 13 14]\n"
     ]
    }
   ],
   "source": [
    "print(arr2)"
   ],
   "metadata": {
    "collapsed": false,
    "ExecuteTime": {
     "start_time": "2025-04-06T17:51:27.611700Z",
     "end_time": "2025-04-06T17:51:27.618715Z"
    }
   }
  },
  {
   "cell_type": "code",
   "execution_count": 34,
   "outputs": [
    {
     "name": "stdout",
     "output_type": "stream",
     "text": [
      "numpy数组轴的个数：2\n",
      "一位数的维度是： 0\n",
      "一维数组的维度是：1\n",
      "三维数组的轴：a:3\n"
     ]
    }
   ],
   "source": [
    "print(f\"numpy数组轴的个数：{arr1.ndim}\")\n",
    "\n",
    "a = np.array(1)\n",
    "print(\"一位数的轴是：\", a.ndim)\n",
    "\n",
    "arr2 = np.arange(15)\n",
    "print(f\"一维数组的轴是：{arr2.ndim}\")\n",
    "\n",
    "my_list = [\n",
    "    [[1,2,3],[1,2,3],[1,2,3]],\n",
    "    [[8,9,10],[1,2,3],[1,2,3]],\n",
    "    [[11,12,13],[1,2,3],[1,2,3]]\n",
    "]\n",
    "a = np.array(my_list)\n",
    "print(f\"三维数组的轴：a:{a.ndim}\")"
   ],
   "metadata": {
    "collapsed": false,
    "ExecuteTime": {
     "start_time": "2025-04-06T21:06:51.574390Z",
     "end_time": "2025-04-06T21:06:51.597834Z"
    }
   }
  },
  {
   "cell_type": "code",
   "execution_count": 33,
   "outputs": [
    {
     "name": "stdout",
     "output_type": "stream",
     "text": [
      "numpy的维度：arr1:(3, 5)\n",
      "numpy的维度：arr2:(15,)\n",
      "1\n",
      "<class 'numpy.ndarray'>\n",
      "int32\n",
      "一位数的维度：a:()\n",
      "numpy的维度：a:(3, 3, 3)\n"
     ]
    }
   ],
   "source": [
    "print(f\"numpy的维度：arr1:{arr1.shape}\")\n",
    "print(f\"numpy的维度：arr2:{arr2.shape}\")\n",
    "\n",
    "a = np.array(1)\n",
    "print(a)\n",
    "print(type(a))\n",
    "print(a.dtype)\n",
    "print(f\"一位数的维度：a:{a.shape}\")\n",
    "\n",
    "my_list = [\n",
    "    [[1,2,3],[1,2,3],[1,2,3]],\n",
    "    [[8,9,10],[1,2,3],[1,2,3]],\n",
    "    [[11,12,13],[1,2,3],[1,2,3]]\n",
    "]\n",
    "a = np.array(my_list)\n",
    "print(f\"numpy的维度：a:{a.shape}\")"
   ],
   "metadata": {
    "collapsed": false,
    "ExecuteTime": {
     "start_time": "2025-04-06T21:04:41.614577Z",
     "end_time": "2025-04-06T21:04:41.632554Z"
    }
   }
  },
  {
   "cell_type": "code",
   "execution_count": 1,
   "outputs": [
    {
     "ename": "NameError",
     "evalue": "name 'arr1' is not defined",
     "output_type": "error",
     "traceback": [
      "\u001B[1;31m---------------------------------------------------------------------------\u001B[0m",
      "\u001B[1;31mNameError\u001B[0m                                 Traceback (most recent call last)",
      "Cell \u001B[1;32mIn[1], line 1\u001B[0m\n\u001B[1;32m----> 1\u001B[0m \u001B[38;5;28mprint\u001B[39m(\u001B[38;5;124mf\u001B[39m\u001B[38;5;124m\"\u001B[39m\u001B[38;5;124mnumpy的元素的个数：\u001B[39m\u001B[38;5;132;01m{\u001B[39;00marr1\u001B[38;5;241m.\u001B[39msize\u001B[38;5;132;01m}\u001B[39;00m\u001B[38;5;124m\"\u001B[39m)\n",
      "\u001B[1;31mNameError\u001B[0m: name 'arr1' is not defined"
     ]
    }
   ],
   "source": [
    "print(f\"numpy的元素的个数：{arr1.size}\")"
   ],
   "metadata": {
    "collapsed": false,
    "ExecuteTime": {
     "start_time": "2025-04-06T20:53:59.401645Z",
     "end_time": "2025-04-06T20:53:59.467074Z"
    }
   }
  },
  {
   "cell_type": "code",
   "execution_count": 12,
   "outputs": [
    {
     "name": "stdout",
     "output_type": "stream",
     "text": [
      "numpy的元素所占的字节数：4\n"
     ]
    }
   ],
   "source": [
    "print(f\"numpy的元素所占的字节数：{arr1.itemsize}\")"
   ],
   "metadata": {
    "collapsed": false,
    "ExecuteTime": {
     "start_time": "2025-04-06T17:57:03.255180Z",
     "end_time": "2025-04-06T17:57:03.309319Z"
    }
   }
  },
  {
   "cell_type": "code",
   "execution_count": 13,
   "outputs": [
    {
     "name": "stdout",
     "output_type": "stream",
     "text": [
      "numpy的元素的类型：int32\n"
     ]
    }
   ],
   "source": [
    "print(f\"numpy的元素的类型：{arr1.dtype}\")"
   ],
   "metadata": {
    "collapsed": false,
    "ExecuteTime": {
     "start_time": "2025-04-06T17:57:47.879020Z",
     "end_time": "2025-04-06T17:57:47.888695Z"
    }
   }
  },
  {
   "cell_type": "code",
   "execution_count": 14,
   "outputs": [
    {
     "name": "stdout",
     "output_type": "stream",
     "text": [
      "numpy的元素类型：<class 'numpy.ndarray'>\n"
     ]
    }
   ],
   "source": [
    "# 数组类型:numpy.ndarray 数组是numpy的容器\n",
    "print(f\"numpy的元素类型：{type(arr1)}\")"
   ],
   "metadata": {
    "collapsed": false,
    "ExecuteTime": {
     "start_time": "2025-04-06T17:58:36.712329Z",
     "end_time": "2025-04-06T17:58:36.762635Z"
    }
   }
  },
  {
   "cell_type": "code",
   "execution_count": null,
   "outputs": [],
   "source": [],
   "metadata": {
    "collapsed": false
   }
  }
 ],
 "metadata": {
  "kernelspec": {
   "display_name": "Python 3",
   "language": "python",
   "name": "python3"
  },
  "language_info": {
   "codemirror_mode": {
    "name": "ipython",
    "version": 2
   },
   "file_extension": ".py",
   "mimetype": "text/x-python",
   "name": "python",
   "nbconvert_exporter": "python",
   "pygments_lexer": "ipython2",
   "version": "2.7.6"
  }
 },
 "nbformat": 4,
 "nbformat_minor": 0
}
