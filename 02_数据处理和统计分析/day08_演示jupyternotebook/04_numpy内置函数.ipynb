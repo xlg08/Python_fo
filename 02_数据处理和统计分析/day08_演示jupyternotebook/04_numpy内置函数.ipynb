{
 "cells": [
  {
   "cell_type": "code",
   "execution_count": 1,
   "outputs": [],
   "source": [
    "import numpy as np\n",
    "import pandas as pd"
   ],
   "metadata": {
    "collapsed": false,
    "ExecuteTime": {
     "start_time": "2025-04-06T20:04:50.070779Z",
     "end_time": "2025-04-06T20:04:50.433895Z"
    }
   }
  },
  {
   "cell_type": "markdown",
   "source": [
    "# Numpy 内置函数"
   ],
   "metadata": {
    "collapsed": false
   }
  },
  {
   "cell_type": "markdown",
   "source": [
    "## 1.基本函数"
   ],
   "metadata": {
    "collapsed": false
   }
  },
  {
   "cell_type": "code",
   "execution_count": 3,
   "outputs": [
    {
     "name": "stdout",
     "output_type": "stream",
     "text": [
      "[[ 0.36326339 -0.97299874 -0.10006107]\n",
      " [-0.45961574  1.05179423  0.70147697]]\n",
      "float64\n"
     ]
    }
   ],
   "source": [
    "# randn() 返回具有标准正态分布的序列\n",
    "arr = np.random.randn(2,3)\n",
    "print(arr)\n",
    "print(\"元素类型：\",arr.dtype)        # 元素类型"
   ],
   "metadata": {
    "collapsed": false,
    "ExecuteTime": {
     "start_time": "2025-04-06T20:05:58.840457Z",
     "end_time": "2025-04-06T20:05:58.863274Z"
    }
   }
  },
  {
   "cell_type": "markdown",
   "source": [
    "### (1).np.ceil(): 向上最接近的整数，参数是 number 或 array"
   ],
   "metadata": {
    "collapsed": false
   }
  },
  {
   "cell_type": "code",
   "execution_count": 5,
   "outputs": [
    {
     "name": "stdout",
     "output_type": "stream",
     "text": [
      "[[ 1. -0. -0.]\n",
      " [-0.  2.  1.]]\n",
      "<class 'numpy.ndarray'>\n",
      "float64\n"
     ]
    }
   ],
   "source": [
    "b = np.ceil(arr)\n",
    "print(b)\n",
    "print(type(b))\n",
    "print(b.dtype)"
   ],
   "metadata": {
    "collapsed": false,
    "ExecuteTime": {
     "start_time": "2025-04-06T20:09:05.142801Z",
     "end_time": "2025-04-06T20:09:05.162308Z"
    }
   }
  },
  {
   "cell_type": "markdown",
   "source": [
    "### (2).np.floor(): 向下最接近的整数，参数是 number 或 array"
   ],
   "metadata": {
    "collapsed": false
   }
  },
  {
   "cell_type": "code",
   "execution_count": 6,
   "outputs": [
    {
     "name": "stdout",
     "output_type": "stream",
     "text": [
      "[[ 0. -1. -1.]\n",
      " [-1.  1.  0.]]\n",
      "<class 'numpy.ndarray'>\n",
      "float64\n"
     ]
    }
   ],
   "source": [
    "b = np.floor(arr)\n",
    "print(b)\n",
    "print(type(b))\n",
    "print(b.dtype)"
   ],
   "metadata": {
    "collapsed": false,
    "ExecuteTime": {
     "start_time": "2025-04-06T20:13:31.436472Z",
     "end_time": "2025-04-06T20:13:31.457396Z"
    }
   }
  },
  {
   "cell_type": "markdown",
   "source": [
    "### (3).np.rint(): 四舍五入，参数是 number 或 array"
   ],
   "metadata": {
    "collapsed": false
   }
  },
  {
   "cell_type": "code",
   "execution_count": 7,
   "outputs": [
    {
     "name": "stdout",
     "output_type": "stream",
     "text": [
      "[[ 0. -1. -0.]\n",
      " [-0.  1.  1.]]\n",
      "<class 'numpy.ndarray'>\n",
      "float64\n"
     ]
    }
   ],
   "source": [
    "b = np.rint(arr)\n",
    "print(b)\n",
    "print(type(b))\n",
    "print(b.dtype)"
   ],
   "metadata": {
    "collapsed": false,
    "ExecuteTime": {
     "start_time": "2025-04-06T20:13:33.450088Z",
     "end_time": "2025-04-06T20:13:33.453869Z"
    }
   }
  },
  {
   "cell_type": "markdown",
   "source": [
    "### (4).np.isnan(): 判断元素是否为 NaN(Not a Number)，参数是 number 或 array"
   ],
   "metadata": {
    "collapsed": false
   }
  },
  {
   "cell_type": "code",
   "execution_count": 8,
   "outputs": [
    {
     "name": "stdout",
     "output_type": "stream",
     "text": [
      "[[False False False]\n",
      " [False False False]]\n",
      "<class 'numpy.ndarray'>\n",
      "bool\n"
     ]
    }
   ],
   "source": [
    "b = np.isnan(arr)\n",
    "print(b)\n",
    "print(type(b))\n",
    "print(b.dtype)"
   ],
   "metadata": {
    "collapsed": false,
    "ExecuteTime": {
     "start_time": "2025-04-06T20:16:19.866843Z",
     "end_time": "2025-04-06T20:16:19.892927Z"
    }
   }
  },
  {
   "cell_type": "markdown",
   "source": [
    "### (5).np.multiply(): 元素相乘，参数是 number 或 array"
   ],
   "metadata": {
    "collapsed": false
   }
  },
  {
   "cell_type": "code",
   "execution_count": 10,
   "outputs": [
    {
     "name": "stdout",
     "output_type": "stream",
     "text": [
      "[[0.13196029 0.94672655 0.01001222]\n",
      " [0.21124663 1.10627111 0.49206993]]\n",
      "<class 'numpy.ndarray'>\n",
      "float64\n"
     ]
    }
   ],
   "source": [
    "b = np.multiply(arr,arr)\n",
    "print(b)\n",
    "print(type(b))\n",
    "print(b.dtype)"
   ],
   "metadata": {
    "collapsed": false,
    "ExecuteTime": {
     "start_time": "2025-04-06T20:17:03.512621Z",
     "end_time": "2025-04-06T20:17:03.819534Z"
    }
   }
  },
  {
   "cell_type": "markdown",
   "source": [
    "### (6).np.divide(): 元素相除，参数是 number 或 array"
   ],
   "metadata": {
    "collapsed": false
   }
  },
  {
   "cell_type": "code",
   "execution_count": 11,
   "outputs": [
    {
     "name": "stdout",
     "output_type": "stream",
     "text": [
      "[[1. 1. 1.]\n",
      " [1. 1. 1.]]\n",
      "<class 'numpy.ndarray'>\n",
      "float64\n"
     ]
    }
   ],
   "source": [
    "b = np.divide(arr,arr)\n",
    "print(b)\n",
    "print(type(b))\n",
    "print(b.dtype)"
   ],
   "metadata": {
    "collapsed": false,
    "ExecuteTime": {
     "start_time": "2025-04-06T20:17:32.625958Z",
     "end_time": "2025-04-06T20:17:32.652541Z"
    }
   }
  },
  {
   "cell_type": "markdown",
   "source": [
    "### (7).np.abs()：元素的绝对值，参数是 number 或 array"
   ],
   "metadata": {
    "collapsed": false
   }
  },
  {
   "cell_type": "code",
   "execution_count": 14,
   "outputs": [
    {
     "name": "stdout",
     "output_type": "stream",
     "text": [
      "[[ 0.36326339 -0.97299874 -0.10006107]\n",
      " [-0.45961574  1.05179423  0.70147697]]\n",
      "[[0.36326339 0.97299874 0.10006107]\n",
      " [0.45961574 1.05179423 0.70147697]]\n",
      "<class 'numpy.ndarray'>\n",
      "float64\n"
     ]
    }
   ],
   "source": [
    "b = np.divide(arr,arr)\n",
    "print(b)\n",
    "print(type(b))\n",
    "print(b.dtype)"
   ],
   "metadata": {
    "collapsed": false,
    "ExecuteTime": {
     "start_time": "2025-04-06T20:18:21.950058Z",
     "end_time": "2025-04-06T20:18:21.963178Z"
    }
   }
  },
  {
   "cell_type": "markdown",
   "source": [
    "### (8).np.where(condition, x, y): 三元运算符"
   ],
   "metadata": {
    "collapsed": false
   }
  },
  {
   "cell_type": "code",
   "execution_count": 17,
   "outputs": [
    {
     "name": "stdout",
     "output_type": "stream",
     "text": [
      "[[ 0.36326339 -0.97299874 -0.10006107]\n",
      " [-0.45961574  1.05179423  0.70147697]]\n",
      "[[ 1 -1 -1]\n",
      " [-1  1  1]]\n",
      "<class 'numpy.ndarray'>\n",
      "int32\n"
     ]
    }
   ],
   "source": [
    "# 等价于python的 x if condition else y\n",
    "b = np.where(arr > 0 ,1 , -1)\n",
    "print(arr)\n",
    "print(b)\n",
    "print(type(b))\n",
    "print(b.dtype)"
   ],
   "metadata": {
    "collapsed": false,
    "ExecuteTime": {
     "start_time": "2025-04-06T20:20:37.457391Z",
     "end_time": "2025-04-06T20:20:37.472449Z"
    }
   }
  },
  {
   "cell_type": "markdown",
   "source": [
    "## 2.统计函数"
   ],
   "metadata": {
    "collapsed": false
   }
  },
  {
   "cell_type": "code",
   "execution_count": 21,
   "outputs": [
    {
     "name": "stdout",
     "output_type": "stream",
     "text": [
      "数组： [[ 0  1  2  3]\n",
      " [ 4  5  6  7]\n",
      " [ 8  9 10 11]]\n",
      "所有元素的和： 66\n",
      "数组按列统计所有元素的和： [12 15 18 21]\n",
      "数组按行统计所有元素的和： [ 6 22 38]\n",
      "所有元素的累加和： [ 0  1  3  6 10 15 21 28 36 45 55 66]\n"
     ]
    }
   ],
   "source": [
    "arr = np.arange(12).reshape(3, 4)\n",
    "print(\"数组：\", arr)\n",
    "#   多维数组默认统计全部维度，axis参数可以按指定轴心统计，值为0则按列统计，值为1则按行统计。\n",
    "\n",
    "# np.mean(), np.sum()：\n",
    "#   所有元素的平均值，所有元素的和，参数是 number 或 array\n",
    "print(\"所有元素的和：\", np.sum(arr))          # 所有元素的和\n",
    "print(\"数组按列统计所有元素的和：\", np.sum(arr, axis=0))      # 数组按列统计\n",
    "print(\"数组按行统计所有元素的和：\", np.sum(arr, axis=1))      # 数组按行统计\n",
    "\n",
    "# np.max(), np.min()：\n",
    "#   所有元素的最大值，所有元素的最小值，参数是 number 或 array\n",
    "\n",
    "\n",
    "# np.std(), np.var()：\n",
    "#   所有元素的标准差，所有元素的方差，参数是 number 或 array\n",
    "\n",
    "\n",
    "# np.argmax(), np.argmin()：\n",
    "#   最大值的下标索引值，最小值的下标索引值，参数是 number 或 array\n",
    "\n",
    "\n",
    "# np.cumsum(), np.cumprod()：\n",
    "#   返回一个一维数组，每个元素都是之前所有元素的 累加和 和 累乘积，参数是 number 或 array\n",
    "print(\"所有元素的累加和：\", np.cumsum(arr))        # 返回一个一维数组，每个元素都是之前所有元素的累加和"
   ],
   "metadata": {
    "collapsed": false,
    "ExecuteTime": {
     "start_time": "2025-04-06T20:28:18.279317Z",
     "end_time": "2025-04-06T20:28:18.288836Z"
    }
   }
  },
  {
   "cell_type": "markdown",
   "source": [
    "## 3.去重函数"
   ],
   "metadata": {
    "collapsed": false
   }
  },
  {
   "cell_type": "code",
   "execution_count": 23,
   "outputs": [
    {
     "name": "stdout",
     "output_type": "stream",
     "text": [
      "[[1 2 1]\n",
      " [2 3 4]]\n",
      "int32\n",
      "[1 2 3 4]\n",
      "int32\n"
     ]
    }
   ],
   "source": [
    "arr = [[1, 2, 1], [2, 3, 4]]\n",
    "\n",
    "# np.unique():\n",
    "#   找到唯一值并返回排序结果，类似于Python的set集合\n",
    "a = np.array(arr)\n",
    "print(a)\n",
    "print(a.dtype)\n",
    "b = np.unique(a)\n",
    "print(b)\n",
    "print(b.dtype)"
   ],
   "metadata": {
    "collapsed": false,
    "ExecuteTime": {
     "start_time": "2025-04-06T20:31:57.574314Z",
     "end_time": "2025-04-06T20:31:57.597485Z"
    }
   }
  },
  {
   "cell_type": "markdown",
   "source": [
    "## 4.排序函数"
   ],
   "metadata": {
    "collapsed": false
   }
  },
  {
   "cell_type": "code",
   "execution_count": 24,
   "outputs": [
    {
     "name": "stdout",
     "output_type": "stream",
     "text": [
      "原数组arr： [ 1  2 34  5]\n",
      "排序后的数组： [ 1  2  5 34]\n",
      "数组.sort()方法排序： [ 1  2  5 34]\n"
     ]
    }
   ],
   "source": [
    "arr = np.array([1, 2, 34, 5])\n",
    "print(\"原数组arr：\", arr)\n",
    "\n",
    "# np.sort() 函数排序，返回排序后的副本\n",
    "sort_arr = np.sort(arr)\n",
    "print(\"排序后的数组：\", sort_arr)\n",
    "\n",
    "# ndarray 直接调用sort，在原数据上进行修改\n",
    "arr.sort()\n",
    "print(\"数组.sort()方法排序：\",arr)"
   ],
   "metadata": {
    "collapsed": false,
    "ExecuteTime": {
     "start_time": "2025-04-06T20:36:51.029363Z",
     "end_time": "2025-04-06T20:36:51.040742Z"
    }
   }
  },
  {
   "cell_type": "code",
   "execution_count": null,
   "outputs": [],
   "source": [],
   "metadata": {
    "collapsed": false
   }
  }
 ],
 "metadata": {
  "kernelspec": {
   "display_name": "Python 3",
   "language": "python",
   "name": "python3"
  },
  "language_info": {
   "codemirror_mode": {
    "name": "ipython",
    "version": 2
   },
   "file_extension": ".py",
   "mimetype": "text/x-python",
   "name": "python",
   "nbconvert_exporter": "python",
   "pygments_lexer": "ipython2",
   "version": "2.7.6"
  }
 },
 "nbformat": 4,
 "nbformat_minor": 0
}
