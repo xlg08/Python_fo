{
 "cells": [
  {
   "cell_type": "code",
   "execution_count": 1,
   "outputs": [],
   "source": [
    "import numpy as np\n",
    "import pandas as pd"
   ],
   "metadata": {
    "collapsed": false,
    "ExecuteTime": {
     "start_time": "2025-04-08T09:58:00.402695Z",
     "end_time": "2025-04-08T09:58:00.748483Z"
    }
   }
  },
  {
   "cell_type": "markdown",
   "source": [
    "# Numpy 内置函数"
   ],
   "metadata": {
    "collapsed": false
   }
  },
  {
   "cell_type": "markdown",
   "source": [
    "## 1.基本函数"
   ],
   "metadata": {
    "collapsed": false
   }
  },
  {
   "cell_type": "code",
   "execution_count": 5,
   "outputs": [
    {
     "name": "stdout",
     "output_type": "stream",
     "text": [
      "[[ 0.67738573  0.11813069 -0.34836939]\n",
      " [-1.2640191   0.68498438  0.21878281]]\n",
      "元素类型： float64\n"
     ]
    }
   ],
   "source": [
    "# randn() 返回具有标准正态分布的序列\n",
    "arr = np.random.randn(2,3)\n",
    "print(arr)\n",
    "print(\"元素类型：\",arr.dtype)        # 元素类型"
   ],
   "metadata": {
    "collapsed": false,
    "ExecuteTime": {
     "start_time": "2025-04-08T10:02:40.475057Z",
     "end_time": "2025-04-08T10:02:40.491754Z"
    }
   }
  },
  {
   "cell_type": "markdown",
   "source": [
    "### (1).np.ceil(): 向上最接近的整数，参数是 number 或 array"
   ],
   "metadata": {
    "collapsed": false
   }
  },
  {
   "cell_type": "code",
   "execution_count": 7,
   "outputs": [
    {
     "name": "stdout",
     "output_type": "stream",
     "text": [
      "[[ 1.  1. -0.]\n",
      " [-1.  1.  1.]]\n",
      "<class 'numpy.ndarray'>\n",
      "float64\n"
     ]
    }
   ],
   "source": [
    "b = np.ceil(arr)        # 天花板数  -->  向上取整\n",
    "b\n",
    "print(b)\n",
    "print(type(b))\n",
    "print(b.dtype)"
   ],
   "metadata": {
    "collapsed": false,
    "ExecuteTime": {
     "start_time": "2025-04-08T10:02:53.534487Z",
     "end_time": "2025-04-08T10:02:53.551568Z"
    }
   }
  },
  {
   "cell_type": "markdown",
   "source": [
    "### (2).np.floor(): 向下最接近的整数，参数是 number 或 array"
   ],
   "metadata": {
    "collapsed": false
   }
  },
  {
   "cell_type": "code",
   "execution_count": 6,
   "outputs": [
    {
     "name": "stdout",
     "output_type": "stream",
     "text": [
      "[[ 0. -1. -1.]\n",
      " [-1.  1.  0.]]\n",
      "<class 'numpy.ndarray'>\n",
      "float64\n"
     ]
    }
   ],
   "source": [
    "b = np.floor(arr)       # 地板数 --> 向下取整\n",
    "print(b)\n",
    "print(type(b))\n",
    "print(b.dtype)"
   ],
   "metadata": {
    "collapsed": false,
    "ExecuteTime": {
     "start_time": "2025-04-06T20:13:31.436472Z",
     "end_time": "2025-04-06T20:13:31.457396Z"
    }
   }
  },
  {
   "cell_type": "markdown",
   "source": [
    "### (3).np.rint(): 四舍五入，参数是 number 或 array"
   ],
   "metadata": {
    "collapsed": false
   }
  },
  {
   "cell_type": "code",
   "execution_count": 7,
   "outputs": [
    {
     "name": "stdout",
     "output_type": "stream",
     "text": [
      "[[ 0. -1. -0.]\n",
      " [-0.  1.  1.]]\n",
      "<class 'numpy.ndarray'>\n",
      "float64\n"
     ]
    }
   ],
   "source": [
    "b = np.rint(arr)        # 四舍五入\n",
    "print(b)\n",
    "print(type(b))\n",
    "print(b.dtype)"
   ],
   "metadata": {
    "collapsed": false,
    "ExecuteTime": {
     "start_time": "2025-04-06T20:13:33.450088Z",
     "end_time": "2025-04-06T20:13:33.453869Z"
    }
   }
  },
  {
   "cell_type": "markdown",
   "source": [
    "### (4).np.isnan(): 判断元素是否为 NaN(Not a Number)，参数是 number 或 array"
   ],
   "metadata": {
    "collapsed": false
   }
  },
  {
   "cell_type": "code",
   "execution_count": 8,
   "outputs": [
    {
     "name": "stdout",
     "output_type": "stream",
     "text": [
      "[[False False False]\n",
      " [False False False]]\n",
      "<class 'numpy.ndarray'>\n",
      "bool\n"
     ]
    }
   ],
   "source": [
    "b = np.isnan(arr)\n",
    "print(b)\n",
    "print(type(b))\n",
    "print(b.dtype)"
   ],
   "metadata": {
    "collapsed": false,
    "ExecuteTime": {
     "start_time": "2025-04-06T20:16:19.866843Z",
     "end_time": "2025-04-06T20:16:19.892927Z"
    }
   }
  },
  {
   "cell_type": "markdown",
   "source": [
    "### (5).np.multiply(): 元素相乘，参数是 number 或 array"
   ],
   "metadata": {
    "collapsed": false
   }
  },
  {
   "cell_type": "code",
   "execution_count": 10,
   "outputs": [
    {
     "name": "stdout",
     "output_type": "stream",
     "text": [
      "[[0.13196029 0.94672655 0.01001222]\n",
      " [0.21124663 1.10627111 0.49206993]]\n",
      "<class 'numpy.ndarray'>\n",
      "float64\n"
     ]
    }
   ],
   "source": [
    "b = np.multiply(arr,arr)        # 对应位置相乘\n",
    "print(b)\n",
    "print(type(b))\n",
    "print(b.dtype)"
   ],
   "metadata": {
    "collapsed": false,
    "ExecuteTime": {
     "start_time": "2025-04-06T20:17:03.512621Z",
     "end_time": "2025-04-06T20:17:03.819534Z"
    }
   }
  },
  {
   "cell_type": "markdown",
   "source": [
    "### (6).np.divide(): 元素相除，参数是 number 或 array"
   ],
   "metadata": {
    "collapsed": false
   }
  },
  {
   "cell_type": "code",
   "execution_count": 9,
   "outputs": [
    {
     "name": "stdout",
     "output_type": "stream",
     "text": [
      "[[1. 1. 1.]\n",
      " [1. 1. 1.]]\n",
      "<class 'numpy.ndarray'>\n",
      "float64\n"
     ]
    }
   ],
   "source": [
    "b = np.divide(arr,arr)      # 对应位置相除\n",
    "print(b)\n",
    "print(type(b))\n",
    "print(b.dtype)"
   ],
   "metadata": {
    "collapsed": false,
    "ExecuteTime": {
     "start_time": "2025-04-08T10:12:56.903445Z",
     "end_time": "2025-04-08T10:12:56.930957Z"
    }
   }
  },
  {
   "cell_type": "markdown",
   "source": [
    "### (7).np.abs()：元素的绝对值，参数是 number 或 array"
   ],
   "metadata": {
    "collapsed": false
   }
  },
  {
   "cell_type": "code",
   "execution_count": 8,
   "outputs": [
    {
     "name": "stdout",
     "output_type": "stream",
     "text": [
      "[[0.67738573 0.11813069 0.34836939]\n",
      " [1.2640191  0.68498438 0.21878281]]\n",
      "<class 'numpy.ndarray'>\n",
      "float64\n"
     ]
    }
   ],
   "source": [
    "b = np.abs(arr)\n",
    "print(b)\n",
    "print(type(b))\n",
    "print(b.dtype)"
   ],
   "metadata": {
    "collapsed": false,
    "ExecuteTime": {
     "start_time": "2025-04-08T10:05:30.789206Z",
     "end_time": "2025-04-08T10:05:30.829054Z"
    }
   }
  },
  {
   "cell_type": "markdown",
   "source": [
    "### (8).np.where(condition, x, y): 三元运算符"
   ],
   "metadata": {
    "collapsed": false
   }
  },
  {
   "cell_type": "code",
   "execution_count": 17,
   "outputs": [
    {
     "name": "stdout",
     "output_type": "stream",
     "text": [
      "[[ 0.36326339 -0.97299874 -0.10006107]\n",
      " [-0.45961574  1.05179423  0.70147697]]\n",
      "[[ 1 -1 -1]\n",
      " [-1  1  1]]\n",
      "<class 'numpy.ndarray'>\n",
      "int32\n"
     ]
    }
   ],
   "source": [
    "# 等价于python的 x if condition else y\n",
    "b = np.where(arr > 0 ,1 , -1)\n",
    "print(arr)\n",
    "print(b)\n",
    "print(type(b))\n",
    "print(b.dtype)"
   ],
   "metadata": {
    "collapsed": false,
    "ExecuteTime": {
     "start_time": "2025-04-06T20:20:37.457391Z",
     "end_time": "2025-04-06T20:20:37.472449Z"
    }
   }
  },
  {
   "cell_type": "markdown",
   "source": [
    "## 2.统计函数"
   ],
   "metadata": {
    "collapsed": false
   }
  },
  {
   "cell_type": "code",
   "execution_count": 11,
   "outputs": [
    {
     "name": "stdout",
     "output_type": "stream",
     "text": [
      "数组： [[ 0  1  2  3]\n",
      " [ 4  5  6  7]\n",
      " [ 8  9 10 11]]\n",
      "5.5\n",
      "所有元素的和： 66\n",
      "数组按列统计所有元素的和： [12 15 18 21]\n",
      "数组按行统计所有元素的和： [ 6 22 38]\n",
      "所有元素的累加和： [ 0  1  3  6 10 15 21 28 36 45 55 66]\n"
     ]
    }
   ],
   "source": [
    "arr = np.arange(12).reshape(3, 4)\n",
    "print(\"数组：\", arr)\n",
    "#   多维数组默认统计全部维度，\n",
    "#       axis参数可以按指定轴心统计，值为0则按列统计，值为1则按行统计。\n",
    "\n",
    "# np.mean(), np.sum()：\n",
    "#   所有元素的平均值，所有元素的和，参数是 number 或 array\n",
    "print(\"平均值是：\", np.mean(arr))     # 平均值\n",
    "print(\"所有元素的和：\", np.sum(arr))          # 所有元素的和\n",
    "print(\"数组按列统计所有元素的和：\", np.sum(arr, axis=0))      # 数组按列统计\n",
    "print(\"数组按行统计所有元素的和：\", np.sum(arr, axis=1))      # 数组按行统计\n",
    "\n",
    "# np.max(), np.min()：\n",
    "#   所有元素的最大值，所有元素的最小值，参数是 number 或 array\n",
    "\n",
    "\n",
    "# np.std(), np.var()：\n",
    "#   所有元素的标准差，所有元素的方差，参数是 number 或 array\n",
    "\n",
    "\n",
    "# np.argmax(), np.argmin()：\n",
    "#   最大值的下标索引值，最小值的下标索引值，参数是 number 或 array\n",
    "\n",
    "\n",
    "# np.cumsum(), np.cumprod()：\n",
    "#   返回一个一维数组，每个元素都是之前所有元素的 累加和 和 累乘积，参数是 number 或 array\n",
    "print(\"所有元素的累加和：\", np.cumsum(arr))        # 返回一个一维数组，每个元素都是之前所有元素的累加和"
   ],
   "metadata": {
    "collapsed": false,
    "ExecuteTime": {
     "start_time": "2025-04-08T10:45:53.870146Z",
     "end_time": "2025-04-08T10:45:53.880469Z"
    }
   }
  },
  {
   "cell_type": "markdown",
   "source": [
    "## 3.去重函数"
   ],
   "metadata": {
    "collapsed": false
   }
  },
  {
   "cell_type": "code",
   "execution_count": 23,
   "outputs": [
    {
     "name": "stdout",
     "output_type": "stream",
     "text": [
      "[[1 2 1]\n",
      " [2 3 4]]\n",
      "int32\n",
      "[1 2 3 4]\n",
      "int32\n"
     ]
    }
   ],
   "source": [
    "arr = [[1, 2, 1], [2, 3, 4]]        # 2行3列\n",
    "\n",
    "# np.unique():\n",
    "#   找到唯一值并返回排序结果，类似于Python的set集合\n",
    "a = np.array(arr)\n",
    "print(a)\n",
    "print(a.dtype)\n",
    "b = np.unique(a)        # 返回一维数组\n",
    "print(b)\n",
    "print(b.dtype)"
   ],
   "metadata": {
    "collapsed": false,
    "ExecuteTime": {
     "start_time": "2025-04-06T20:31:57.574314Z",
     "end_time": "2025-04-06T20:31:57.597485Z"
    }
   }
  },
  {
   "cell_type": "markdown",
   "source": [
    "## 4.排序函数"
   ],
   "metadata": {
    "collapsed": false
   }
  },
  {
   "cell_type": "code",
   "execution_count": 33,
   "outputs": [
    {
     "name": "stdout",
     "output_type": "stream",
     "text": [
      "原数组arr： [ 1  2 34  5]\n",
      "排序后的数组： [ 1  2  5 34]\n",
      "数组.sort()方法排序： [ 1  2  5 34]\n",
      "逆序排序后的数组： [34  5  2  1]\n",
      "逆序排序后的数组： [34  5  2  1]\n",
      "逆序排序后的数组： [34  5  2  1]\n",
      "原数组：\n",
      " [[3 2]\n",
      " [4 1]]\n",
      "逆序排序后的数组：\n",
      " [[4 2]\n",
      " [3 1]]\n"
     ]
    }
   ],
   "source": [
    "arr = np.array([1, 2, 34, 5])\n",
    "print(\"原数组arr：\", arr)\n",
    "\n",
    "# np.sort() 函数排序，返回排序后的副本\n",
    "sort_arr = np.sort(arr)\n",
    "print(\"排序后的数组：\", sort_arr)\n",
    "\n",
    "# ndarray 直接调用sort，在原数据上进行修改\n",
    "arr.sort()\n",
    "print(\"数组.sort()方法排序：\",arr)\n",
    "\n",
    "# 逆序\n",
    "sort_arr = np.argsort(-arr)\n",
    "sortd_arr = arr[sort_arr]\n",
    "print(\"逆序排序后的数组：\", sortd_arr)\n",
    "\n",
    "sortd_arr = np.sort(arr)[::-1]          # 先升序排序，再反转\n",
    "print(\"逆序排序后的数组：\", sortd_arr)\n",
    "\n",
    "sortd_arr = np.flip(np.sort(arr))       # 先升序排序，再翻转\n",
    "print(\"逆序排序后的数组：\", sortd_arr)\n",
    "\n",
    "\n",
    "arr = np.array([[3, 2], [4, 1]])\n",
    "sortd_arr = np.sort(arr, axis=0)[::-1]  # 按列逆序排序\n",
    "print(\"原数组：\\n\", arr)\n",
    "print(\"逆序排序后的数组：\\n\", sortd_arr)\n"
   ],
   "metadata": {
    "collapsed": false,
    "ExecuteTime": {
     "start_time": "2025-04-08T11:08:21.490026Z",
     "end_time": "2025-04-08T11:08:21.501402Z"
    }
   }
  },
  {
   "cell_type": "code",
   "execution_count": null,
   "outputs": [],
   "source": [],
   "metadata": {
    "collapsed": false
   }
  }
 ],
 "metadata": {
  "kernelspec": {
   "display_name": "Python 3",
   "language": "python",
   "name": "python3"
  },
  "language_info": {
   "codemirror_mode": {
    "name": "ipython",
    "version": 2
   },
   "file_extension": ".py",
   "mimetype": "text/x-python",
   "name": "python",
   "nbconvert_exporter": "python",
   "pygments_lexer": "ipython2",
   "version": "2.7.6"
  }
 },
 "nbformat": 4,
 "nbformat_minor": 0
}
