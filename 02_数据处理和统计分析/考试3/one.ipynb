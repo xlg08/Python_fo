{
 "cells": [
  {
   "cell_type": "code",
   "execution_count": 8,
   "metadata": {
    "collapsed": true,
    "ExecuteTime": {
     "start_time": "2025-04-14T10:56:00.568267Z",
     "end_time": "2025-04-14T10:56:00.576163Z"
    }
   },
   "outputs": [],
   "source": [
    "import pandas as pd\n",
    "import numpy as np\n",
    "import os\n",
    "os.chdir(r'E:\\ProjectCode\\PythonProjectCode\\pythonProject\\HaskMaProject\\考试3')"
   ]
  },
  {
   "cell_type": "code",
   "execution_count": 12,
   "outputs": [
    {
     "data": {
      "text/plain": "      color      director_name  num_critic_for_reviews  duration  \\\n0     Color      James Cameron                   723.0     178.0   \n1     Color     Gore Verbinski                   302.0     169.0   \n2     Color         Sam Mendes                   602.0     148.0   \n3     Color  Christopher Nolan                   813.0     164.0   \n4       NaN        Doug Walker                     NaN       NaN   \n...     ...                ...                     ...       ...   \n4911  Color        Scott Smith                     1.0      87.0   \n4912  Color                NaN                    43.0      43.0   \n4913  Color   Benjamin Roberds                    13.0      76.0   \n4914  Color        Daniel Hsia                    14.0     100.0   \n4915  Color           Jon Gunn                    43.0      90.0   \n\n      director_facebook_likes  actor_3_facebook_likes      actor_2_name  \\\n0                         0.0                   855.0  Joel David Moore   \n1                       563.0                  1000.0     Orlando Bloom   \n2                         0.0                   161.0      Rory Kinnear   \n3                     22000.0                 23000.0    Christian Bale   \n4                       131.0                     NaN        Rob Walker   \n...                       ...                     ...               ...   \n4911                      2.0                   318.0     Daphne Zuniga   \n4912                      NaN                   319.0     Valorie Curry   \n4913                      0.0                     0.0     Maxwell Moody   \n4914                      0.0                   489.0     Daniel Henney   \n4915                     16.0                    16.0  Brian Herzlinger   \n\n      actor_1_facebook_likes        gross                           genres  \\\n0                     1000.0  760505847.0  Action|Adventure|Fantasy|Sci-Fi   \n1                    40000.0  309404152.0         Action|Adventure|Fantasy   \n2                    11000.0  200074175.0        Action|Adventure|Thriller   \n3                    27000.0  448130642.0                  Action|Thriller   \n4                      131.0          NaN                      Documentary   \n...                      ...          ...                              ...   \n4911                   637.0          NaN                     Comedy|Drama   \n4912                   841.0          NaN     Crime|Drama|Mystery|Thriller   \n4913                     0.0          NaN            Drama|Horror|Thriller   \n4914                   946.0      10443.0             Comedy|Drama|Romance   \n4915                    86.0      85222.0                      Documentary   \n\n      ... num_user_for_reviews language  country  content_rating       budget  \\\n0     ...               3054.0  English      USA           PG-13  237000000.0   \n1     ...               1238.0  English      USA           PG-13  300000000.0   \n2     ...                994.0  English       UK           PG-13  245000000.0   \n3     ...               2701.0  English      USA           PG-13  250000000.0   \n4     ...                  NaN      NaN      NaN             NaN          NaN   \n...   ...                  ...      ...      ...             ...          ...   \n4911  ...                  6.0  English   Canada             NaN          NaN   \n4912  ...                359.0  English      USA           TV-14          NaN   \n4913  ...                  3.0  English      USA             NaN       1400.0   \n4914  ...                  9.0  English      USA           PG-13          NaN   \n4915  ...                 84.0  English      USA              PG       1100.0   \n\n      title_year actor_2_facebook_likes imdb_score  aspect_ratio  \\\n0         2009.0                  936.0        7.9          1.78   \n1         2007.0                 5000.0        7.1          2.35   \n2         2015.0                  393.0        6.8          2.35   \n3         2012.0                23000.0        8.5          2.35   \n4            NaN                   12.0        7.1           NaN   \n...          ...                    ...        ...           ...   \n4911      2013.0                  470.0        7.7           NaN   \n4912         NaN                  593.0        7.5         16.00   \n4913      2013.0                    0.0        6.3           NaN   \n4914      2012.0                  719.0        6.3          2.35   \n4915      2004.0                   23.0        6.6          1.85   \n\n     movie_facebook_likes  \n0                   33000  \n1                       0  \n2                   85000  \n3                  164000  \n4                       0  \n...                   ...  \n4911                   84  \n4912                32000  \n4913                   16  \n4914                  660  \n4915                  456  \n\n[4916 rows x 28 columns]",
      "text/html": "<div>\n<style scoped>\n    .dataframe tbody tr th:only-of-type {\n        vertical-align: middle;\n    }\n\n    .dataframe tbody tr th {\n        vertical-align: top;\n    }\n\n    .dataframe thead th {\n        text-align: right;\n    }\n</style>\n<table border=\"1\" class=\"dataframe\">\n  <thead>\n    <tr style=\"text-align: right;\">\n      <th></th>\n      <th>color</th>\n      <th>director_name</th>\n      <th>num_critic_for_reviews</th>\n      <th>duration</th>\n      <th>director_facebook_likes</th>\n      <th>actor_3_facebook_likes</th>\n      <th>actor_2_name</th>\n      <th>actor_1_facebook_likes</th>\n      <th>gross</th>\n      <th>genres</th>\n      <th>...</th>\n      <th>num_user_for_reviews</th>\n      <th>language</th>\n      <th>country</th>\n      <th>content_rating</th>\n      <th>budget</th>\n      <th>title_year</th>\n      <th>actor_2_facebook_likes</th>\n      <th>imdb_score</th>\n      <th>aspect_ratio</th>\n      <th>movie_facebook_likes</th>\n    </tr>\n  </thead>\n  <tbody>\n    <tr>\n      <th>0</th>\n      <td>Color</td>\n      <td>James Cameron</td>\n      <td>723.0</td>\n      <td>178.0</td>\n      <td>0.0</td>\n      <td>855.0</td>\n      <td>Joel David Moore</td>\n      <td>1000.0</td>\n      <td>760505847.0</td>\n      <td>Action|Adventure|Fantasy|Sci-Fi</td>\n      <td>...</td>\n      <td>3054.0</td>\n      <td>English</td>\n      <td>USA</td>\n      <td>PG-13</td>\n      <td>237000000.0</td>\n      <td>2009.0</td>\n      <td>936.0</td>\n      <td>7.9</td>\n      <td>1.78</td>\n      <td>33000</td>\n    </tr>\n    <tr>\n      <th>1</th>\n      <td>Color</td>\n      <td>Gore Verbinski</td>\n      <td>302.0</td>\n      <td>169.0</td>\n      <td>563.0</td>\n      <td>1000.0</td>\n      <td>Orlando Bloom</td>\n      <td>40000.0</td>\n      <td>309404152.0</td>\n      <td>Action|Adventure|Fantasy</td>\n      <td>...</td>\n      <td>1238.0</td>\n      <td>English</td>\n      <td>USA</td>\n      <td>PG-13</td>\n      <td>300000000.0</td>\n      <td>2007.0</td>\n      <td>5000.0</td>\n      <td>7.1</td>\n      <td>2.35</td>\n      <td>0</td>\n    </tr>\n    <tr>\n      <th>2</th>\n      <td>Color</td>\n      <td>Sam Mendes</td>\n      <td>602.0</td>\n      <td>148.0</td>\n      <td>0.0</td>\n      <td>161.0</td>\n      <td>Rory Kinnear</td>\n      <td>11000.0</td>\n      <td>200074175.0</td>\n      <td>Action|Adventure|Thriller</td>\n      <td>...</td>\n      <td>994.0</td>\n      <td>English</td>\n      <td>UK</td>\n      <td>PG-13</td>\n      <td>245000000.0</td>\n      <td>2015.0</td>\n      <td>393.0</td>\n      <td>6.8</td>\n      <td>2.35</td>\n      <td>85000</td>\n    </tr>\n    <tr>\n      <th>3</th>\n      <td>Color</td>\n      <td>Christopher Nolan</td>\n      <td>813.0</td>\n      <td>164.0</td>\n      <td>22000.0</td>\n      <td>23000.0</td>\n      <td>Christian Bale</td>\n      <td>27000.0</td>\n      <td>448130642.0</td>\n      <td>Action|Thriller</td>\n      <td>...</td>\n      <td>2701.0</td>\n      <td>English</td>\n      <td>USA</td>\n      <td>PG-13</td>\n      <td>250000000.0</td>\n      <td>2012.0</td>\n      <td>23000.0</td>\n      <td>8.5</td>\n      <td>2.35</td>\n      <td>164000</td>\n    </tr>\n    <tr>\n      <th>4</th>\n      <td>NaN</td>\n      <td>Doug Walker</td>\n      <td>NaN</td>\n      <td>NaN</td>\n      <td>131.0</td>\n      <td>NaN</td>\n      <td>Rob Walker</td>\n      <td>131.0</td>\n      <td>NaN</td>\n      <td>Documentary</td>\n      <td>...</td>\n      <td>NaN</td>\n      <td>NaN</td>\n      <td>NaN</td>\n      <td>NaN</td>\n      <td>NaN</td>\n      <td>NaN</td>\n      <td>12.0</td>\n      <td>7.1</td>\n      <td>NaN</td>\n      <td>0</td>\n    </tr>\n    <tr>\n      <th>...</th>\n      <td>...</td>\n      <td>...</td>\n      <td>...</td>\n      <td>...</td>\n      <td>...</td>\n      <td>...</td>\n      <td>...</td>\n      <td>...</td>\n      <td>...</td>\n      <td>...</td>\n      <td>...</td>\n      <td>...</td>\n      <td>...</td>\n      <td>...</td>\n      <td>...</td>\n      <td>...</td>\n      <td>...</td>\n      <td>...</td>\n      <td>...</td>\n      <td>...</td>\n      <td>...</td>\n    </tr>\n    <tr>\n      <th>4911</th>\n      <td>Color</td>\n      <td>Scott Smith</td>\n      <td>1.0</td>\n      <td>87.0</td>\n      <td>2.0</td>\n      <td>318.0</td>\n      <td>Daphne Zuniga</td>\n      <td>637.0</td>\n      <td>NaN</td>\n      <td>Comedy|Drama</td>\n      <td>...</td>\n      <td>6.0</td>\n      <td>English</td>\n      <td>Canada</td>\n      <td>NaN</td>\n      <td>NaN</td>\n      <td>2013.0</td>\n      <td>470.0</td>\n      <td>7.7</td>\n      <td>NaN</td>\n      <td>84</td>\n    </tr>\n    <tr>\n      <th>4912</th>\n      <td>Color</td>\n      <td>NaN</td>\n      <td>43.0</td>\n      <td>43.0</td>\n      <td>NaN</td>\n      <td>319.0</td>\n      <td>Valorie Curry</td>\n      <td>841.0</td>\n      <td>NaN</td>\n      <td>Crime|Drama|Mystery|Thriller</td>\n      <td>...</td>\n      <td>359.0</td>\n      <td>English</td>\n      <td>USA</td>\n      <td>TV-14</td>\n      <td>NaN</td>\n      <td>NaN</td>\n      <td>593.0</td>\n      <td>7.5</td>\n      <td>16.00</td>\n      <td>32000</td>\n    </tr>\n    <tr>\n      <th>4913</th>\n      <td>Color</td>\n      <td>Benjamin Roberds</td>\n      <td>13.0</td>\n      <td>76.0</td>\n      <td>0.0</td>\n      <td>0.0</td>\n      <td>Maxwell Moody</td>\n      <td>0.0</td>\n      <td>NaN</td>\n      <td>Drama|Horror|Thriller</td>\n      <td>...</td>\n      <td>3.0</td>\n      <td>English</td>\n      <td>USA</td>\n      <td>NaN</td>\n      <td>1400.0</td>\n      <td>2013.0</td>\n      <td>0.0</td>\n      <td>6.3</td>\n      <td>NaN</td>\n      <td>16</td>\n    </tr>\n    <tr>\n      <th>4914</th>\n      <td>Color</td>\n      <td>Daniel Hsia</td>\n      <td>14.0</td>\n      <td>100.0</td>\n      <td>0.0</td>\n      <td>489.0</td>\n      <td>Daniel Henney</td>\n      <td>946.0</td>\n      <td>10443.0</td>\n      <td>Comedy|Drama|Romance</td>\n      <td>...</td>\n      <td>9.0</td>\n      <td>English</td>\n      <td>USA</td>\n      <td>PG-13</td>\n      <td>NaN</td>\n      <td>2012.0</td>\n      <td>719.0</td>\n      <td>6.3</td>\n      <td>2.35</td>\n      <td>660</td>\n    </tr>\n    <tr>\n      <th>4915</th>\n      <td>Color</td>\n      <td>Jon Gunn</td>\n      <td>43.0</td>\n      <td>90.0</td>\n      <td>16.0</td>\n      <td>16.0</td>\n      <td>Brian Herzlinger</td>\n      <td>86.0</td>\n      <td>85222.0</td>\n      <td>Documentary</td>\n      <td>...</td>\n      <td>84.0</td>\n      <td>English</td>\n      <td>USA</td>\n      <td>PG</td>\n      <td>1100.0</td>\n      <td>2004.0</td>\n      <td>23.0</td>\n      <td>6.6</td>\n      <td>1.85</td>\n      <td>456</td>\n    </tr>\n  </tbody>\n</table>\n<p>4916 rows × 28 columns</p>\n</div>"
     },
     "execution_count": 12,
     "metadata": {},
     "output_type": "execute_result"
    }
   ],
   "source": [
    "df = pd.read_csv('./movie.csv')\n",
    "# df.info()\n",
    "df"
   ],
   "metadata": {
    "collapsed": false,
    "ExecuteTime": {
     "start_time": "2025-04-14T10:58:37.069110Z",
     "end_time": "2025-04-14T10:58:37.144309Z"
    }
   }
  },
  {
   "cell_type": "code",
   "execution_count": 16,
   "outputs": [
    {
     "data": {
      "text/plain": "                         gross\ndirector_name                 \nA. Raven Cruz              0.0\nAaron Hann                 0.0\nAaron Schneider      9176553.0\nAaron Seltzer       48546578.0\nAbel Ferrara         1227324.0\n...                        ...\nZoran Lisinac              0.0\nÁlex de la Iglesia      3607.0\nÉmile Gaudreault     6239558.0\nÉric Tessier               0.0\nÉtienne Faure              0.0\n\n[2397 rows x 1 columns]",
      "text/html": "<div>\n<style scoped>\n    .dataframe tbody tr th:only-of-type {\n        vertical-align: middle;\n    }\n\n    .dataframe tbody tr th {\n        vertical-align: top;\n    }\n\n    .dataframe thead th {\n        text-align: right;\n    }\n</style>\n<table border=\"1\" class=\"dataframe\">\n  <thead>\n    <tr style=\"text-align: right;\">\n      <th></th>\n      <th>gross</th>\n    </tr>\n    <tr>\n      <th>director_name</th>\n      <th></th>\n    </tr>\n  </thead>\n  <tbody>\n    <tr>\n      <th>A. Raven Cruz</th>\n      <td>0.0</td>\n    </tr>\n    <tr>\n      <th>Aaron Hann</th>\n      <td>0.0</td>\n    </tr>\n    <tr>\n      <th>Aaron Schneider</th>\n      <td>9176553.0</td>\n    </tr>\n    <tr>\n      <th>Aaron Seltzer</th>\n      <td>48546578.0</td>\n    </tr>\n    <tr>\n      <th>Abel Ferrara</th>\n      <td>1227324.0</td>\n    </tr>\n    <tr>\n      <th>...</th>\n      <td>...</td>\n    </tr>\n    <tr>\n      <th>Zoran Lisinac</th>\n      <td>0.0</td>\n    </tr>\n    <tr>\n      <th>Álex de la Iglesia</th>\n      <td>3607.0</td>\n    </tr>\n    <tr>\n      <th>Émile Gaudreault</th>\n      <td>6239558.0</td>\n    </tr>\n    <tr>\n      <th>Éric Tessier</th>\n      <td>0.0</td>\n    </tr>\n    <tr>\n      <th>Étienne Faure</th>\n      <td>0.0</td>\n    </tr>\n  </tbody>\n</table>\n<p>2397 rows × 1 columns</p>\n</div>"
     },
     "execution_count": 16,
     "metadata": {},
     "output_type": "execute_result"
    }
   ],
   "source": [
    "#（1）按照导演进行分组，计算每位导演票房收入（gross列）总和\n",
    "df_gross = df.groupby('director_name').agg({\n",
    "    'gross':\"sum\"\n",
    "})\n",
    "df_gross"
   ],
   "metadata": {
    "collapsed": false,
    "ExecuteTime": {
     "start_time": "2025-04-14T11:51:59.263933Z",
     "end_time": "2025-04-14T11:51:59.305042Z"
    }
   }
  },
  {
   "cell_type": "code",
   "execution_count": 15,
   "outputs": [
    {
     "data": {
      "text/plain": "                          gross\ndirector_name                  \nSteven Spielberg   4.114233e+09\nMichael Bay        2.195444e+09\nPeter Jackson      2.112884e+09\nJames Cameron      1.948126e+09\nChristopher Nolan  1.813228e+09\nGeorge Lucas       1.741418e+09\nRobert Zemeckis    1.619309e+09\nChris Columbus     1.618708e+09\nTim Burton         1.557079e+09\nSam Raimi          1.478116e+09",
      "text/html": "<div>\n<style scoped>\n    .dataframe tbody tr th:only-of-type {\n        vertical-align: middle;\n    }\n\n    .dataframe tbody tr th {\n        vertical-align: top;\n    }\n\n    .dataframe thead th {\n        text-align: right;\n    }\n</style>\n<table border=\"1\" class=\"dataframe\">\n  <thead>\n    <tr style=\"text-align: right;\">\n      <th></th>\n      <th>gross</th>\n    </tr>\n    <tr>\n      <th>director_name</th>\n      <th></th>\n    </tr>\n  </thead>\n  <tbody>\n    <tr>\n      <th>Steven Spielberg</th>\n      <td>4.114233e+09</td>\n    </tr>\n    <tr>\n      <th>Michael Bay</th>\n      <td>2.195444e+09</td>\n    </tr>\n    <tr>\n      <th>Peter Jackson</th>\n      <td>2.112884e+09</td>\n    </tr>\n    <tr>\n      <th>James Cameron</th>\n      <td>1.948126e+09</td>\n    </tr>\n    <tr>\n      <th>Christopher Nolan</th>\n      <td>1.813228e+09</td>\n    </tr>\n    <tr>\n      <th>George Lucas</th>\n      <td>1.741418e+09</td>\n    </tr>\n    <tr>\n      <th>Robert Zemeckis</th>\n      <td>1.619309e+09</td>\n    </tr>\n    <tr>\n      <th>Chris Columbus</th>\n      <td>1.618708e+09</td>\n    </tr>\n    <tr>\n      <th>Tim Burton</th>\n      <td>1.557079e+09</td>\n    </tr>\n    <tr>\n      <th>Sam Raimi</th>\n      <td>1.478116e+09</td>\n    </tr>\n  </tbody>\n</table>\n</div>"
     },
     "execution_count": 15,
     "metadata": {},
     "output_type": "execute_result"
    }
   ],
   "source": [
    "#（2）对上一步结果进行排序，求出票房前十的导演名称\n",
    "df_gross.sort_values(by='gross',ascending=False).head(10)\n"
   ],
   "metadata": {
    "collapsed": false,
    "ExecuteTime": {
     "start_time": "2025-04-14T11:01:20.875796Z",
     "end_time": "2025-04-14T11:01:20.890935Z"
    }
   }
  },
  {
   "cell_type": "markdown",
   "source": [],
   "metadata": {
    "collapsed": false
   }
  }
 ],
 "metadata": {
  "kernelspec": {
   "display_name": "Python 3",
   "language": "python",
   "name": "python3"
  },
  "language_info": {
   "codemirror_mode": {
    "name": "ipython",
    "version": 2
   },
   "file_extension": ".py",
   "mimetype": "text/x-python",
   "name": "python",
   "nbconvert_exporter": "python",
   "pygments_lexer": "ipython2",
   "version": "2.7.6"
  }
 },
 "nbformat": 4,
 "nbformat_minor": 0
}
