{
 "cells": [
  {
   "cell_type": "code",
   "execution_count": 1,
   "metadata": {
    "collapsed": true,
    "ExecuteTime": {
     "start_time": "2025-04-13T10:39:18.643767Z",
     "end_time": "2025-04-13T10:39:19.257462Z"
    }
   },
   "outputs": [],
   "source": [
    "# 1.导包\n",
    "# 1.1在canda下安装pyecharts\n",
    "# pip install pyecharts\n",
    "\n",
    "import time\n",
    "import numpy as np\n",
    "import pandas as pd\n",
    "from sqlalchemy import create_engine\n",
    "from pyecharts.charts import Bar3D\n",
    "from pyecharts.commons.utils import JsCode\n",
    "import pyecharts.options as opts\n",
    "import os\n",
    "os.chdir(r\"E:\\ProjectCode\\PythonProjectCode\\pythonProject\\HaskMaProject\\data\")"
   ]
  },
  {
   "cell_type": "code",
   "execution_count": 5,
   "outputs": [],
   "source": [
    "# 2.导入数据\n",
    "sheet_names = ['2015','2016','2017','2018','会员等级',]\n",
    "# sheet_name: str | int | list[IntStrT] | None = 0\n",
    "sheet_dict = pd.read_excel('sales.xlsx',sheet_name=sheet_names)"
   ],
   "metadata": {
    "collapsed": false,
    "ExecuteTime": {
     "start_time": "2025-04-13T10:45:56.862265Z",
     "end_time": "2025-04-13T10:46:45.994171Z"
    }
   }
  },
  {
   "cell_type": "code",
   "execution_count": 7,
   "outputs": [
    {
     "name": "stdout",
     "output_type": "stream",
     "text": [
      "<class 'pandas.core.frame.DataFrame'>\n",
      "RangeIndex: 30774 entries, 0 to 30773\n",
      "Data columns (total 4 columns):\n",
      " #   Column  Non-Null Count  Dtype         \n",
      "---  ------  --------------  -----         \n",
      " 0   会员ID    30774 non-null  int64         \n",
      " 1   订单号     30774 non-null  int64         \n",
      " 2   提交日期    30774 non-null  datetime64[ns]\n",
      " 3   订单金额    30774 non-null  float64       \n",
      "dtypes: datetime64[ns](1), float64(1), int64(2)\n",
      "memory usage: 961.8 KB\n"
     ]
    }
   ],
   "source": [
    "# 2.1查看某一个sheet页的基本信息\n",
    "sheet_dict['2015'].info()"
   ],
   "metadata": {
    "collapsed": false,
    "ExecuteTime": {
     "start_time": "2025-04-13T10:47:43.203814Z",
     "end_time": "2025-04-13T10:47:43.239592Z"
    }
   }
  },
  {
   "cell_type": "code",
   "execution_count": 6,
   "outputs": [
    {
     "data": {
      "text/plain": "               会员ID           订单号                           提交日期  \\\ncount  3.077400e+04  3.077400e+04                          30774   \nmean   2.918779e+10  4.020414e+09  2015-07-01 20:55:49.424839168   \nmin    2.670000e+02  3.000305e+09            2015-01-01 00:00:00   \n25%    1.944122e+10  3.885510e+09            2015-04-02 00:00:00   \n50%    3.746545e+10  4.117491e+09            2015-07-02 00:00:00   \n75%    3.923593e+10  4.234882e+09            2015-10-01 00:00:00   \nmax    3.954613e+10  4.282025e+09            2015-12-31 00:00:00   \nstd    1.385333e+10  2.630510e+08                            NaN   \n\n                订单金额  \ncount   30774.000000  \nmean      960.991161  \nmin         0.500000  \n25%        59.000000  \n50%       139.000000  \n75%       899.000000  \nmax    111750.000000  \nstd      2068.107231  ",
      "text/html": "<div>\n<style scoped>\n    .dataframe tbody tr th:only-of-type {\n        vertical-align: middle;\n    }\n\n    .dataframe tbody tr th {\n        vertical-align: top;\n    }\n\n    .dataframe thead th {\n        text-align: right;\n    }\n</style>\n<table border=\"1\" class=\"dataframe\">\n  <thead>\n    <tr style=\"text-align: right;\">\n      <th></th>\n      <th>会员ID</th>\n      <th>订单号</th>\n      <th>提交日期</th>\n      <th>订单金额</th>\n    </tr>\n  </thead>\n  <tbody>\n    <tr>\n      <th>count</th>\n      <td>3.077400e+04</td>\n      <td>3.077400e+04</td>\n      <td>30774</td>\n      <td>30774.000000</td>\n    </tr>\n    <tr>\n      <th>mean</th>\n      <td>2.918779e+10</td>\n      <td>4.020414e+09</td>\n      <td>2015-07-01 20:55:49.424839168</td>\n      <td>960.991161</td>\n    </tr>\n    <tr>\n      <th>min</th>\n      <td>2.670000e+02</td>\n      <td>3.000305e+09</td>\n      <td>2015-01-01 00:00:00</td>\n      <td>0.500000</td>\n    </tr>\n    <tr>\n      <th>25%</th>\n      <td>1.944122e+10</td>\n      <td>3.885510e+09</td>\n      <td>2015-04-02 00:00:00</td>\n      <td>59.000000</td>\n    </tr>\n    <tr>\n      <th>50%</th>\n      <td>3.746545e+10</td>\n      <td>4.117491e+09</td>\n      <td>2015-07-02 00:00:00</td>\n      <td>139.000000</td>\n    </tr>\n    <tr>\n      <th>75%</th>\n      <td>3.923593e+10</td>\n      <td>4.234882e+09</td>\n      <td>2015-10-01 00:00:00</td>\n      <td>899.000000</td>\n    </tr>\n    <tr>\n      <th>max</th>\n      <td>3.954613e+10</td>\n      <td>4.282025e+09</td>\n      <td>2015-12-31 00:00:00</td>\n      <td>111750.000000</td>\n    </tr>\n    <tr>\n      <th>std</th>\n      <td>1.385333e+10</td>\n      <td>2.630510e+08</td>\n      <td>NaN</td>\n      <td>2068.107231</td>\n    </tr>\n  </tbody>\n</table>\n</div>"
     },
     "execution_count": 6,
     "metadata": {},
     "output_type": "execute_result"
    }
   ],
   "source": [
    "# 2.2[数据质量查看]查看某一个sheet页的统计信息\n",
    "sheet_dict['2015'].describe()"
   ],
   "metadata": {
    "collapsed": false,
    "ExecuteTime": {
     "start_time": "2025-04-13T10:47:40.241537Z",
     "end_time": "2025-04-13T10:47:40.266768Z"
    }
   }
  },
  {
   "cell_type": "code",
   "execution_count": 8,
   "outputs": [
    {
     "name": "stdout",
     "output_type": "stream",
     "text": [
      "2015\n",
      "<bound method DataFrame.info of               会员ID         订单号       提交日期    订单金额\n",
      "0      15278002468  3000304681 2015-01-01   499.0\n",
      "1      39236378972  3000305791 2015-01-01  2588.0\n",
      "2      38722039578  3000641787 2015-01-01   498.0\n",
      "3      11049640063  3000798913 2015-01-01  1572.0\n",
      "4      35038752292  3000821546 2015-01-01    10.1\n",
      "...            ...         ...        ...     ...\n",
      "30769  39368100847  4281994827 2015-12-31   828.0\n",
      "30770       409757  4282010457 2015-12-31   199.0\n",
      "30771  38380526114  4282017675 2015-12-31   208.0\n",
      "30772     28074988  4282019440 2015-12-31    89.0\n",
      "30773  39460363230  4282025309 2015-12-31   719.0\n",
      "\n",
      "[30774 rows x 4 columns]>\n",
      "               会员ID           订单号                           提交日期  \\\n",
      "count  3.077400e+04  3.077400e+04                          30774   \n",
      "mean   2.918779e+10  4.020414e+09  2015-07-01 20:55:49.424839168   \n",
      "min    2.670000e+02  3.000305e+09            2015-01-01 00:00:00   \n",
      "25%    1.944122e+10  3.885510e+09            2015-04-02 00:00:00   \n",
      "50%    3.746545e+10  4.117491e+09            2015-07-02 00:00:00   \n",
      "75%    3.923593e+10  4.234882e+09            2015-10-01 00:00:00   \n",
      "max    3.954613e+10  4.282025e+09            2015-12-31 00:00:00   \n",
      "std    1.385333e+10  2.630510e+08                            NaN   \n",
      "\n",
      "                订单金额  \n",
      "count   30774.000000  \n",
      "mean      960.991161  \n",
      "min         0.500000  \n",
      "25%        59.000000  \n",
      "50%       139.000000  \n",
      "75%       899.000000  \n",
      "max    111750.000000  \n",
      "std      2068.107231  \n",
      "2016\n",
      "<bound method DataFrame.info of               会员ID         订单号       提交日期     订单金额\n",
      "0      39288120141  4282025766 2016-01-01    76.00\n",
      "1      39293812118  4282037929 2016-01-01  7599.00\n",
      "2      27596340905  4282038740 2016-01-01   802.00\n",
      "3      15111475509  4282043819 2016-01-01    65.00\n",
      "4      38896594001  4282051044 2016-01-01    95.00\n",
      "...            ...         ...        ...      ...\n",
      "41273  35336052906  4324910145 2016-12-31    99.00\n",
      "41274  39305835721  4324910148 2016-12-31   238.89\n",
      "41275  39296945352  4324910770 2016-12-31   765.00\n",
      "41276  14791026234  4324911025 2016-12-31    45.80\n",
      "41277  16779755770  4324911048 2016-12-31   119.00\n",
      "\n",
      "[41278 rows x 4 columns]>\n",
      "               会员ID           订单号                           提交日期  \\\n",
      "count  4.127800e+04  4.127800e+04                          41278   \n",
      "mean   2.908415e+10  4.313583e+09  2016-07-01 16:34:58.008624384   \n",
      "min    8.100000e+01  4.282026e+09            2016-01-01 00:00:00   \n",
      "25%    1.934990e+10  4.309457e+09            2016-04-01 00:00:00   \n",
      "50%    3.730339e+10  4.317545e+09            2016-07-02 00:00:00   \n",
      "75%    3.923182e+10  4.321132e+09            2016-10-01 00:00:00   \n",
      "max    3.954554e+10  4.324911e+09            2016-12-31 00:00:00   \n",
      "std    1.389468e+10  1.094572e+07                            NaN   \n",
      "\n",
      "                订单金额  \n",
      "count   41277.000000  \n",
      "mean      957.106694  \n",
      "min         0.100000  \n",
      "25%        59.000000  \n",
      "50%       147.000000  \n",
      "75%       888.000000  \n",
      "max    174900.000000  \n",
      "std      2478.560036  \n",
      "2017\n",
      "<bound method DataFrame.info of               会员ID         订单号       提交日期    订单金额\n",
      "0      38765290840  4324911135 2017-01-01  1799.0\n",
      "1      39305832102  4324911213 2017-01-01   369.0\n",
      "2      34190994969  4324911251 2017-01-01   189.0\n",
      "3      38986333210  4324911283 2017-01-01   169.0\n",
      "4          4271359  4324911355 2017-01-01    78.0\n",
      "...            ...         ...        ...     ...\n",
      "50834  39155833075  4338762307 2017-12-31    96.0\n",
      "50835  29523124076  4338762514 2017-12-31    99.0\n",
      "50836      7807573  4338762906 2017-12-31   258.0\n",
      "50837  36642530033  4338762958 2017-12-31   286.0\n",
      "50838  39155901156  4338763879 2017-12-31   249.0\n",
      "\n",
      "[50839 rows x 4 columns]>\n",
      "               会员ID           订单号                           提交日期  \\\n",
      "count  5.083900e+04  5.083900e+04                          50839   \n",
      "mean   2.882368e+10  4.332466e+09  2017-07-02 00:53:06.530025984   \n",
      "min    2.780000e+02  4.324911e+09            2017-01-01 00:00:00   \n",
      "25%    1.869274e+10  4.328415e+09            2017-04-01 00:00:00   \n",
      "50%    3.688044e+10  4.331989e+09            2017-07-02 00:00:00   \n",
      "75%    3.923020e+10  4.337515e+09            2017-10-02 00:00:00   \n",
      "max    3.954554e+10  4.338764e+09            2017-12-31 00:00:00   \n",
      "std    1.409416e+10  4.404350e+06                            NaN   \n",
      "\n",
      "                订单金额  \n",
      "count   50839.000000  \n",
      "mean      963.587872  \n",
      "min         0.300000  \n",
      "25%        59.000000  \n",
      "50%       149.000000  \n",
      "75%       898.000000  \n",
      "max    123609.000000  \n",
      "std      2178.727261  \n",
      "2018\n",
      "<bound method DataFrame.info of               会员ID         订单号       提交日期    订单金额\n",
      "0      39229691808  4338764262 2018-01-01  3646.0\n",
      "1      39293668916  4338764363 2018-01-01  3999.0\n",
      "2      35059646224  4338764376 2018-01-01    10.1\n",
      "3          1084397  4338770013 2018-01-01   828.0\n",
      "4          3349915  4338770121 2018-01-01  3758.0\n",
      "...            ...         ...        ...     ...\n",
      "81344  39229485704  4354225182 2018-12-31   249.0\n",
      "81345  39229021075  4354225188 2018-12-31    89.0\n",
      "81346  39288976750  4354230034 2018-12-31    48.5\n",
      "81347     26772630  4354230163 2018-12-31  3196.0\n",
      "81348  39455580335  4354235084 2018-12-31  2999.0\n",
      "\n",
      "[81349 rows x 4 columns]>\n",
      "               会员ID           订单号                           提交日期  \\\n",
      "count  8.134900e+04  8.134900e+04                          81349   \n",
      "mean   2.902317e+10  4.348372e+09  2018-07-01 17:23:17.489827584   \n",
      "min    2.780000e+02  4.338764e+09            2018-01-01 00:00:00   \n",
      "25%    1.902755e+10  4.345654e+09            2018-04-01 00:00:00   \n",
      "50%    3.740121e+10  4.349448e+09            2018-07-01 00:00:00   \n",
      "75%    3.923380e+10  4.351639e+09            2018-10-01 00:00:00   \n",
      "max    3.954614e+10  4.354235e+09            2018-12-31 00:00:00   \n",
      "std    1.404116e+10  4.183774e+06                            NaN   \n",
      "\n",
      "                订单金额  \n",
      "count   81348.000000  \n",
      "mean      966.582792  \n",
      "min         0.000000  \n",
      "25%        60.000000  \n",
      "50%       149.000000  \n",
      "75%       899.000000  \n",
      "max    174900.000000  \n",
      "std      2204.969534  \n",
      "会员等级\n",
      "<bound method DataFrame.info of                会员ID  会员等级\n",
      "0            100090     3\n",
      "1       10012905801     1\n",
      "2       10012935109     1\n",
      "3       10013498043     1\n",
      "4       10014087899     4\n",
      "...             ...   ...\n",
      "154380       998138     3\n",
      "154381       998298     1\n",
      "154382       998571     4\n",
      "154383       999563     4\n",
      "154384       999951     1\n",
      "\n",
      "[154385 rows x 2 columns]>\n",
      "               会员ID           会员等级\n",
      "count  1.543850e+05  154385.000000\n",
      "mean   2.980055e+10       2.259701\n",
      "std    1.365654e+10       1.346408\n",
      "min    8.100000e+01       1.000000\n",
      "25%    2.213894e+10       1.000000\n",
      "50%    3.833022e+10       2.000000\n",
      "75%    3.927932e+10       3.000000\n",
      "max    3.954614e+10       5.000000\n"
     ]
    }
   ],
   "source": [
    "# 2.2[数据质量查看]查看全部  2015、2016、2017、2018\n",
    "# 遍历查看每一页页签的数据信息\n",
    "for i in sheet_names:\n",
    "    print(i)        # 每一个sheet页的名字\n",
    "    print(sheet_dict[i].info)\n",
    "    print(sheet_dict[i].describe())"
   ],
   "metadata": {
    "collapsed": false,
    "ExecuteTime": {
     "start_time": "2025-04-13T10:49:32.101607Z",
     "end_time": "2025-04-13T10:49:32.221279Z"
    }
   }
  },
  {
   "cell_type": "code",
   "execution_count": 9,
   "outputs": [],
   "source": [
    "# 3.对源数据进行处理（空值、极小值） --> 异常值\n",
    "# 空值：可填充 可删除\n",
    "# 极小值：低于一元的订单均删除\n",
    "# 固定时间点：以每年的最后一天作为当年的时间点"
   ],
   "metadata": {
    "collapsed": false,
    "ExecuteTime": {
     "start_time": "2025-04-13T11:10:30.981578Z",
     "end_time": "2025-04-13T11:10:30.985591Z"
    }
   }
  },
  {
   "cell_type": "code",
   "execution_count": 10,
   "outputs": [],
   "source": [
    "# 3.1:删除空值 & 过滤出订单金额 > 1  &  固定时间点 ：以每年的最后一天作为当年的时间点\n",
    "# for i in sheet_names[:len(sheet_names)-1]:\n",
    "for i in sheet_names[:-1]:\n",
    "    # 3.1.1:删除空值 dropna()  删除数据中的空值\n",
    "    sheet_dict[i] = sheet_dict[i].dropna()\n",
    "    # 3.1.2:过滤金额\n",
    "    sheet_dict[i] = sheet_dict[i][sheet_dict[i]['订单金额']>1]\n",
    "    # 3.1.3:固定时间点：以每年的最后一天作为当年的时间点\n",
    "    sheet_dict[i]['max_year_date'] = sheet_dict[i]['提交日期'].max()"
   ],
   "metadata": {
    "collapsed": false,
    "ExecuteTime": {
     "start_time": "2025-04-13T11:46:07.639228Z",
     "end_time": "2025-04-13T11:46:07.696742Z"
    }
   }
  },
  {
   "cell_type": "code",
   "execution_count": 11,
   "outputs": [
    {
     "name": "stdout",
     "output_type": "stream",
     "text": [
      "<class 'pandas.core.frame.DataFrame'>\n",
      "Index: 30574 entries, 0 to 30773\n",
      "Data columns (total 5 columns):\n",
      " #   Column         Non-Null Count  Dtype         \n",
      "---  ------         --------------  -----         \n",
      " 0   会员ID           30574 non-null  int64         \n",
      " 1   订单号            30574 non-null  int64         \n",
      " 2   提交日期           30574 non-null  datetime64[ns]\n",
      " 3   订单金额           30574 non-null  float64       \n",
      " 4   max_year_date  30574 non-null  datetime64[ns]\n",
      "dtypes: datetime64[ns](2), float64(1), int64(2)\n",
      "memory usage: 1.4 MB\n",
      "None\n",
      "               会员ID           订单号                           提交日期  \\\n",
      "count  3.057400e+04  3.057400e+04                          30574   \n",
      "mean   2.921327e+10  4.020442e+09  2015-07-01 21:10:04.042650624   \n",
      "min    2.670000e+02  3.000305e+09            2015-01-01 00:00:00   \n",
      "25%    1.961657e+10  3.885746e+09            2015-04-02 00:00:00   \n",
      "50%    3.754532e+10  4.117491e+09            2015-07-02 00:00:00   \n",
      "75%    3.923630e+10  4.234853e+09            2015-10-01 00:00:00   \n",
      "max    3.954613e+10  4.282025e+09            2015-12-31 00:00:00   \n",
      "std    1.384598e+10  2.630518e+08                            NaN   \n",
      "\n",
      "                订单金额                  max_year_date  \n",
      "count   30574.000000                          30574  \n",
      "mean      967.270965  2015-12-30 23:59:59.999999744  \n",
      "min         1.500000            2015-12-31 00:00:00  \n",
      "25%        59.700000            2015-12-31 00:00:00  \n",
      "50%       142.000000            2015-12-31 00:00:00  \n",
      "75%       899.000000            2015-12-31 00:00:00  \n",
      "max    111750.000000            2015-12-31 00:00:00  \n",
      "std      2073.397861                            NaN  \n",
      "<class 'pandas.core.frame.DataFrame'>\n",
      "Index: 41001 entries, 0 to 41277\n",
      "Data columns (total 5 columns):\n",
      " #   Column         Non-Null Count  Dtype         \n",
      "---  ------         --------------  -----         \n",
      " 0   会员ID           41001 non-null  int64         \n",
      " 1   订单号            41001 non-null  int64         \n",
      " 2   提交日期           41001 non-null  datetime64[ns]\n",
      " 3   订单金额           41001 non-null  float64       \n",
      " 4   max_year_date  41001 non-null  datetime64[ns]\n",
      "dtypes: datetime64[ns](2), float64(1), int64(2)\n",
      "memory usage: 1.9 MB\n",
      "None\n",
      "               会员ID           订单号                           提交日期  \\\n",
      "count  4.100100e+04  4.100100e+04                          41001   \n",
      "mean   2.910772e+10  4.313582e+09  2016-07-01 16:37:53.739664640   \n",
      "min    8.100000e+01  4.282026e+09            2016-01-01 00:00:00   \n",
      "25%    1.943201e+10  4.309457e+09            2016-04-01 00:00:00   \n",
      "50%    3.740237e+10  4.317545e+09            2016-07-02 00:00:00   \n",
      "75%    3.923184e+10  4.321133e+09            2016-10-01 00:00:00   \n",
      "max    3.954554e+10  4.324911e+09            2016-12-31 00:00:00   \n",
      "std    1.388571e+10  1.094832e+07                            NaN   \n",
      "\n",
      "                订单金额        max_year_date  \n",
      "count   41001.000000                41001  \n",
      "mean      963.542790  2016-12-31 00:00:00  \n",
      "min         1.500000  2016-12-31 00:00:00  \n",
      "25%        65.000000  2016-12-31 00:00:00  \n",
      "50%       149.000000  2016-12-31 00:00:00  \n",
      "75%       898.000000  2016-12-31 00:00:00  \n",
      "max    174900.000000  2016-12-31 00:00:00  \n",
      "std      2485.642632                  NaN  \n",
      "<class 'pandas.core.frame.DataFrame'>\n",
      "Index: 50451 entries, 0 to 50838\n",
      "Data columns (total 5 columns):\n",
      " #   Column         Non-Null Count  Dtype         \n",
      "---  ------         --------------  -----         \n",
      " 0   会员ID           50451 non-null  int64         \n",
      " 1   订单号            50451 non-null  int64         \n",
      " 2   提交日期           50451 non-null  datetime64[ns]\n",
      " 3   订单金额           50451 non-null  float64       \n",
      " 4   max_year_date  50451 non-null  datetime64[ns]\n",
      "dtypes: datetime64[ns](2), float64(1), int64(2)\n",
      "memory usage: 2.3 MB\n",
      "None\n",
      "               会员ID           订单号                           提交日期  \\\n",
      "count  5.045100e+04  5.045100e+04                          50451   \n",
      "mean   2.884214e+10  4.332469e+09  2017-07-02 02:16:12.301837568   \n",
      "min    2.780000e+02  4.324911e+09            2017-01-01 00:00:00   \n",
      "25%    1.870549e+10  4.328416e+09            2017-04-01 00:00:00   \n",
      "50%    3.692362e+10  4.331989e+09            2017-07-02 00:00:00   \n",
      "75%    3.923070e+10  4.337528e+09            2017-10-02 00:00:00   \n",
      "max    3.954554e+10  4.338764e+09            2017-12-31 00:00:00   \n",
      "std    1.408666e+10  4.404894e+06                            NaN   \n",
      "\n",
      "                订单金额        max_year_date  \n",
      "count   50451.000000                50451  \n",
      "mean      970.990793  2017-12-31 00:00:00  \n",
      "min         1.500000  2017-12-31 00:00:00  \n",
      "25%        65.000000  2017-12-31 00:00:00  \n",
      "50%       155.000000  2017-12-31 00:00:00  \n",
      "75%       899.000000  2017-12-31 00:00:00  \n",
      "max    123609.000000  2017-12-31 00:00:00  \n",
      "std      2185.446995                  NaN  \n",
      "<class 'pandas.core.frame.DataFrame'>\n",
      "Index: 80801 entries, 0 to 81348\n",
      "Data columns (total 5 columns):\n",
      " #   Column         Non-Null Count  Dtype         \n",
      "---  ------         --------------  -----         \n",
      " 0   会员ID           80801 non-null  int64         \n",
      " 1   订单号            80801 non-null  int64         \n",
      " 2   提交日期           80801 non-null  datetime64[ns]\n",
      " 3   订单金额           80801 non-null  float64       \n",
      " 4   max_year_date  80801 non-null  datetime64[ns]\n",
      "dtypes: datetime64[ns](2), float64(1), int64(2)\n",
      "memory usage: 3.7 MB\n",
      "None\n",
      "               会员ID           订单号                           提交日期  \\\n",
      "count  8.080100e+04  8.080100e+04                          80801   \n",
      "mean   2.905571e+10  4.348372e+09  2018-07-01 18:16:22.948230912   \n",
      "min    2.780000e+02  4.338764e+09            2018-01-01 00:00:00   \n",
      "25%    1.919622e+10  4.345654e+09            2018-04-01 00:00:00   \n",
      "50%    3.749326e+10  4.349448e+09            2018-07-01 00:00:00   \n",
      "75%    3.923398e+10  4.351641e+09            2018-10-02 00:00:00   \n",
      "max    3.954614e+10  4.354235e+09            2018-12-31 00:00:00   \n",
      "std    1.402185e+10  4.185250e+06                            NaN   \n",
      "\n",
      "                订单金额        max_year_date  \n",
      "count   80801.000000                80801  \n",
      "mean      973.119528  2018-12-31 00:00:00  \n",
      "min         1.500000  2018-12-31 00:00:00  \n",
      "25%        68.000000  2018-12-31 00:00:00  \n",
      "50%       151.700000  2018-12-31 00:00:00  \n",
      "75%       925.000000  2018-12-31 00:00:00  \n",
      "max    174900.000000  2018-12-31 00:00:00  \n",
      "std      2210.983968                  NaN  \n",
      "<class 'pandas.core.frame.DataFrame'>\n",
      "RangeIndex: 154385 entries, 0 to 154384\n",
      "Data columns (total 2 columns):\n",
      " #   Column  Non-Null Count   Dtype\n",
      "---  ------  --------------   -----\n",
      " 0   会员ID    154385 non-null  int64\n",
      " 1   会员等级    154385 non-null  int64\n",
      "dtypes: int64(2)\n",
      "memory usage: 2.4 MB\n",
      "None\n",
      "               会员ID           会员等级\n",
      "count  1.543850e+05  154385.000000\n",
      "mean   2.980055e+10       2.259701\n",
      "std    1.365654e+10       1.346408\n",
      "min    8.100000e+01       1.000000\n",
      "25%    2.213894e+10       1.000000\n",
      "50%    3.833022e+10       2.000000\n",
      "75%    3.927932e+10       3.000000\n",
      "max    3.954614e+10       5.000000\n"
     ]
    }
   ],
   "source": [
    "# 3.2:查看处理后的数据\n",
    "for i in sheet_names:\n",
    "    print(sheet_dict[i].info())\n",
    "    print(sheet_dict[i].describe())"
   ],
   "metadata": {
    "collapsed": false,
    "ExecuteTime": {
     "start_time": "2025-04-13T11:46:58.029800Z",
     "end_time": "2025-04-13T11:46:58.136902Z"
    }
   }
  },
  {
   "cell_type": "code",
   "execution_count": 13,
   "outputs": [
    {
     "data": {
      "text/plain": "               会员ID         订单号       提交日期    订单金额 max_year_date\n0       15278002468  3000304681 2015-01-01   499.0    2015-12-31\n1       39236378972  3000305791 2015-01-01  2588.0    2015-12-31\n2       38722039578  3000641787 2015-01-01   498.0    2015-12-31\n3       11049640063  3000798913 2015-01-01  1572.0    2015-12-31\n4       35038752292  3000821546 2015-01-01    10.1    2015-12-31\n...             ...         ...        ...     ...           ...\n202822  39229485704  4354225182 2018-12-31   249.0    2018-12-31\n202823  39229021075  4354225188 2018-12-31    89.0    2018-12-31\n202824  39288976750  4354230034 2018-12-31    48.5    2018-12-31\n202825     26772630  4354230163 2018-12-31  3196.0    2018-12-31\n202826  39455580335  4354235084 2018-12-31  2999.0    2018-12-31\n\n[202827 rows x 5 columns]",
      "text/html": "<div>\n<style scoped>\n    .dataframe tbody tr th:only-of-type {\n        vertical-align: middle;\n    }\n\n    .dataframe tbody tr th {\n        vertical-align: top;\n    }\n\n    .dataframe thead th {\n        text-align: right;\n    }\n</style>\n<table border=\"1\" class=\"dataframe\">\n  <thead>\n    <tr style=\"text-align: right;\">\n      <th></th>\n      <th>会员ID</th>\n      <th>订单号</th>\n      <th>提交日期</th>\n      <th>订单金额</th>\n      <th>max_year_date</th>\n    </tr>\n  </thead>\n  <tbody>\n    <tr>\n      <th>0</th>\n      <td>15278002468</td>\n      <td>3000304681</td>\n      <td>2015-01-01</td>\n      <td>499.0</td>\n      <td>2015-12-31</td>\n    </tr>\n    <tr>\n      <th>1</th>\n      <td>39236378972</td>\n      <td>3000305791</td>\n      <td>2015-01-01</td>\n      <td>2588.0</td>\n      <td>2015-12-31</td>\n    </tr>\n    <tr>\n      <th>2</th>\n      <td>38722039578</td>\n      <td>3000641787</td>\n      <td>2015-01-01</td>\n      <td>498.0</td>\n      <td>2015-12-31</td>\n    </tr>\n    <tr>\n      <th>3</th>\n      <td>11049640063</td>\n      <td>3000798913</td>\n      <td>2015-01-01</td>\n      <td>1572.0</td>\n      <td>2015-12-31</td>\n    </tr>\n    <tr>\n      <th>4</th>\n      <td>35038752292</td>\n      <td>3000821546</td>\n      <td>2015-01-01</td>\n      <td>10.1</td>\n      <td>2015-12-31</td>\n    </tr>\n    <tr>\n      <th>...</th>\n      <td>...</td>\n      <td>...</td>\n      <td>...</td>\n      <td>...</td>\n      <td>...</td>\n    </tr>\n    <tr>\n      <th>202822</th>\n      <td>39229485704</td>\n      <td>4354225182</td>\n      <td>2018-12-31</td>\n      <td>249.0</td>\n      <td>2018-12-31</td>\n    </tr>\n    <tr>\n      <th>202823</th>\n      <td>39229021075</td>\n      <td>4354225188</td>\n      <td>2018-12-31</td>\n      <td>89.0</td>\n      <td>2018-12-31</td>\n    </tr>\n    <tr>\n      <th>202824</th>\n      <td>39288976750</td>\n      <td>4354230034</td>\n      <td>2018-12-31</td>\n      <td>48.5</td>\n      <td>2018-12-31</td>\n    </tr>\n    <tr>\n      <th>202825</th>\n      <td>26772630</td>\n      <td>4354230163</td>\n      <td>2018-12-31</td>\n      <td>3196.0</td>\n      <td>2018-12-31</td>\n    </tr>\n    <tr>\n      <th>202826</th>\n      <td>39455580335</td>\n      <td>4354235084</td>\n      <td>2018-12-31</td>\n      <td>2999.0</td>\n      <td>2018-12-31</td>\n    </tr>\n  </tbody>\n</table>\n<p>202827 rows × 5 columns</p>\n</div>"
     },
     "execution_count": 13,
     "metadata": {},
     "output_type": "execute_result"
    }
   ],
   "source": [
    "# 3.3：把上述的四张表(dataframe)  合并为一个df对象\n",
    "# sheet_dict['2015']\n",
    "# sheet_dict['2016']\n",
    "# sheet_dict['2017']\n",
    "# sheet_dict['2018']\n",
    "# list(sheet_dict.values())\n",
    "# ignore_index=True     # 合并后的表格行号从0开始重新排队，避免混乱\n",
    "df_merge = pd.concat(list(sheet_dict.values())[:-1],ignore_index=True)\n",
    "df_merge"
   ],
   "metadata": {
    "collapsed": false,
    "ExecuteTime": {
     "start_time": "2025-04-13T11:49:24.224181Z",
     "end_time": "2025-04-13T11:49:24.258810Z"
    }
   }
  },
  {
   "cell_type": "code",
   "execution_count": 35,
   "outputs": [
    {
     "data": {
      "text/plain": "               会员ID         订单号       提交日期    订单金额 max_year_date  year  \\\n0       15278002468  3000304681 2015-01-01   499.0    2015-12-31  2015   \n1       39236378972  3000305791 2015-01-01  2588.0    2015-12-31  2015   \n2       38722039578  3000641787 2015-01-01   498.0    2015-12-31  2015   \n3       11049640063  3000798913 2015-01-01  1572.0    2015-12-31  2015   \n4       35038752292  3000821546 2015-01-01    10.1    2015-12-31  2015   \n...             ...         ...        ...     ...           ...   ...   \n202822  39229485704  4354225182 2018-12-31   249.0    2018-12-31  2018   \n202823  39229021075  4354225188 2018-12-31    89.0    2018-12-31  2018   \n202824  39288976750  4354230034 2018-12-31    48.5    2018-12-31  2018   \n202825     26772630  4354230163 2018-12-31  3196.0    2018-12-31  2018   \n202826  39455580335  4354235084 2018-12-31  2999.0    2018-12-31  2018   \n\n        data_interval  \n0                 364  \n1                 364  \n2                 364  \n3                 364  \n4                 364  \n...               ...  \n202822              0  \n202823              0  \n202824              0  \n202825              0  \n202826              0  \n\n[202827 rows x 7 columns]",
      "text/html": "<div>\n<style scoped>\n    .dataframe tbody tr th:only-of-type {\n        vertical-align: middle;\n    }\n\n    .dataframe tbody tr th {\n        vertical-align: top;\n    }\n\n    .dataframe thead th {\n        text-align: right;\n    }\n</style>\n<table border=\"1\" class=\"dataframe\">\n  <thead>\n    <tr style=\"text-align: right;\">\n      <th></th>\n      <th>会员ID</th>\n      <th>订单号</th>\n      <th>提交日期</th>\n      <th>订单金额</th>\n      <th>max_year_date</th>\n      <th>year</th>\n      <th>data_interval</th>\n    </tr>\n  </thead>\n  <tbody>\n    <tr>\n      <th>0</th>\n      <td>15278002468</td>\n      <td>3000304681</td>\n      <td>2015-01-01</td>\n      <td>499.0</td>\n      <td>2015-12-31</td>\n      <td>2015</td>\n      <td>364</td>\n    </tr>\n    <tr>\n      <th>1</th>\n      <td>39236378972</td>\n      <td>3000305791</td>\n      <td>2015-01-01</td>\n      <td>2588.0</td>\n      <td>2015-12-31</td>\n      <td>2015</td>\n      <td>364</td>\n    </tr>\n    <tr>\n      <th>2</th>\n      <td>38722039578</td>\n      <td>3000641787</td>\n      <td>2015-01-01</td>\n      <td>498.0</td>\n      <td>2015-12-31</td>\n      <td>2015</td>\n      <td>364</td>\n    </tr>\n    <tr>\n      <th>3</th>\n      <td>11049640063</td>\n      <td>3000798913</td>\n      <td>2015-01-01</td>\n      <td>1572.0</td>\n      <td>2015-12-31</td>\n      <td>2015</td>\n      <td>364</td>\n    </tr>\n    <tr>\n      <th>4</th>\n      <td>35038752292</td>\n      <td>3000821546</td>\n      <td>2015-01-01</td>\n      <td>10.1</td>\n      <td>2015-12-31</td>\n      <td>2015</td>\n      <td>364</td>\n    </tr>\n    <tr>\n      <th>...</th>\n      <td>...</td>\n      <td>...</td>\n      <td>...</td>\n      <td>...</td>\n      <td>...</td>\n      <td>...</td>\n      <td>...</td>\n    </tr>\n    <tr>\n      <th>202822</th>\n      <td>39229485704</td>\n      <td>4354225182</td>\n      <td>2018-12-31</td>\n      <td>249.0</td>\n      <td>2018-12-31</td>\n      <td>2018</td>\n      <td>0</td>\n    </tr>\n    <tr>\n      <th>202823</th>\n      <td>39229021075</td>\n      <td>4354225188</td>\n      <td>2018-12-31</td>\n      <td>89.0</td>\n      <td>2018-12-31</td>\n      <td>2018</td>\n      <td>0</td>\n    </tr>\n    <tr>\n      <th>202824</th>\n      <td>39288976750</td>\n      <td>4354230034</td>\n      <td>2018-12-31</td>\n      <td>48.5</td>\n      <td>2018-12-31</td>\n      <td>2018</td>\n      <td>0</td>\n    </tr>\n    <tr>\n      <th>202825</th>\n      <td>26772630</td>\n      <td>4354230163</td>\n      <td>2018-12-31</td>\n      <td>3196.0</td>\n      <td>2018-12-31</td>\n      <td>2018</td>\n      <td>0</td>\n    </tr>\n    <tr>\n      <th>202826</th>\n      <td>39455580335</td>\n      <td>4354235084</td>\n      <td>2018-12-31</td>\n      <td>2999.0</td>\n      <td>2018-12-31</td>\n      <td>2018</td>\n      <td>0</td>\n    </tr>\n  </tbody>\n</table>\n<p>202827 rows × 7 columns</p>\n</div>"
     },
     "execution_count": 35,
     "metadata": {},
     "output_type": "execute_result"
    }
   ],
   "source": [
    "# 3.4：为了好区分，给df增加一个year列\n",
    "df_merge['year'] = df_merge['提交日期'].dt.year\n",
    "df_merge"
   ],
   "metadata": {
    "collapsed": false,
    "ExecuteTime": {
     "start_time": "2025-04-13T12:23:12.944498Z",
     "end_time": "2025-04-13T12:23:12.980723Z"
    }
   }
  },
  {
   "cell_type": "code",
   "execution_count": 43,
   "outputs": [
    {
     "name": "stdout",
     "output_type": "stream",
     "text": [
      "<class 'pandas.core.indexes.accessors.TimedeltaProperties'>\n",
      "<class 'pandas.core.series.Series'>\n"
     ]
    }
   ],
   "source": [
    "# 3.5：预处理R字段\n",
    "#   时间间隔 = 截止时间 - 提交时间     算出用户最近间隔\n",
    "df_merge['data_interval']=df_merge['max_year_date'] - df_merge['提交日期']\n",
    "# df_merge\n",
    "# 现状：  显示 364 days\n",
    "#    想要     364\n",
    "# df_merge['data_interval'] = df_merge['data_interval'].dt.days\n",
    "# df_merge\n",
    "# <class 'pandas.core.indexes.accessors.TimedeltaProperties'>\n",
    "# TimedeltaProperties\n",
    "print(type(df_merge['data_interval'].dt))\n",
    "\n"
   ],
   "metadata": {
    "collapsed": false,
    "ExecuteTime": {
     "start_time": "2025-04-13T12:24:55.644900Z",
     "end_time": "2025-04-13T12:24:55.668184Z"
    }
   }
  },
  {
   "cell_type": "code",
   "execution_count": 22,
   "outputs": [],
   "source": [
    "# 按照年份、会员ID进行分组\n",
    "#   R：取间隔时间最小值\n",
    "#   F：订单数量\n",
    "#   M：订单金额"
   ],
   "metadata": {
    "collapsed": false,
    "ExecuteTime": {
     "start_time": "2025-04-13T12:12:05.746559Z",
     "end_time": "2025-04-13T12:12:05.804248Z"
    }
   }
  },
  {
   "cell_type": "code",
   "execution_count": 25,
   "outputs": [],
   "source": [
    "# as_index = False  不要把分组字段设置为索引\n",
    "rfm = df_merge.groupby(['year','会员ID'],as_index=False).agg(\n",
    "    {\n",
    "        'data_interval':'min',\n",
    "        '订单号':'count',\n",
    "        '订单金额':'sum'\n",
    "    }\n",
    ")"
   ],
   "metadata": {
    "collapsed": false,
    "ExecuteTime": {
     "start_time": "2025-04-13T12:17:14.253278Z",
     "end_time": "2025-04-13T12:17:14.371946Z"
    }
   }
  },
  {
   "cell_type": "code",
   "execution_count": 26,
   "outputs": [
    {
     "data": {
      "text/plain": "        year         会员ID    r  f       m\n0       2015          267  197  2   105.0\n1       2015          282  251  1    29.7\n2       2015          283  340  1  5398.0\n3       2015          343  300  1   118.0\n4       2015          525   37  3   213.0\n...      ...          ...  ... ..     ...\n148586  2018  39538034299  272  1    49.0\n148587  2018  39538034662  189  1  3558.0\n148588  2018  39538035729  179  1  3699.0\n148589  2018  39545237824  275  1    49.0\n148590  2018  39546136285  163  1    19.9\n\n[148591 rows x 5 columns]",
      "text/html": "<div>\n<style scoped>\n    .dataframe tbody tr th:only-of-type {\n        vertical-align: middle;\n    }\n\n    .dataframe tbody tr th {\n        vertical-align: top;\n    }\n\n    .dataframe thead th {\n        text-align: right;\n    }\n</style>\n<table border=\"1\" class=\"dataframe\">\n  <thead>\n    <tr style=\"text-align: right;\">\n      <th></th>\n      <th>year</th>\n      <th>会员ID</th>\n      <th>r</th>\n      <th>f</th>\n      <th>m</th>\n    </tr>\n  </thead>\n  <tbody>\n    <tr>\n      <th>0</th>\n      <td>2015</td>\n      <td>267</td>\n      <td>197</td>\n      <td>2</td>\n      <td>105.0</td>\n    </tr>\n    <tr>\n      <th>1</th>\n      <td>2015</td>\n      <td>282</td>\n      <td>251</td>\n      <td>1</td>\n      <td>29.7</td>\n    </tr>\n    <tr>\n      <th>2</th>\n      <td>2015</td>\n      <td>283</td>\n      <td>340</td>\n      <td>1</td>\n      <td>5398.0</td>\n    </tr>\n    <tr>\n      <th>3</th>\n      <td>2015</td>\n      <td>343</td>\n      <td>300</td>\n      <td>1</td>\n      <td>118.0</td>\n    </tr>\n    <tr>\n      <th>4</th>\n      <td>2015</td>\n      <td>525</td>\n      <td>37</td>\n      <td>3</td>\n      <td>213.0</td>\n    </tr>\n    <tr>\n      <th>...</th>\n      <td>...</td>\n      <td>...</td>\n      <td>...</td>\n      <td>...</td>\n      <td>...</td>\n    </tr>\n    <tr>\n      <th>148586</th>\n      <td>2018</td>\n      <td>39538034299</td>\n      <td>272</td>\n      <td>1</td>\n      <td>49.0</td>\n    </tr>\n    <tr>\n      <th>148587</th>\n      <td>2018</td>\n      <td>39538034662</td>\n      <td>189</td>\n      <td>1</td>\n      <td>3558.0</td>\n    </tr>\n    <tr>\n      <th>148588</th>\n      <td>2018</td>\n      <td>39538035729</td>\n      <td>179</td>\n      <td>1</td>\n      <td>3699.0</td>\n    </tr>\n    <tr>\n      <th>148589</th>\n      <td>2018</td>\n      <td>39545237824</td>\n      <td>275</td>\n      <td>1</td>\n      <td>49.0</td>\n    </tr>\n    <tr>\n      <th>148590</th>\n      <td>2018</td>\n      <td>39546136285</td>\n      <td>163</td>\n      <td>1</td>\n      <td>19.9</td>\n    </tr>\n  </tbody>\n</table>\n<p>148591 rows × 5 columns</p>\n</div>"
     },
     "execution_count": 26,
     "metadata": {},
     "output_type": "execute_result"
    }
   ],
   "source": [
    "# 修改列名（方便分析）\n",
    "rfm.columns = ['year','会员ID','r','f','m']\n",
    "rfm"
   ],
   "metadata": {
    "collapsed": false,
    "ExecuteTime": {
     "start_time": "2025-04-13T12:17:18.563680Z",
     "end_time": "2025-04-13T12:17:18.582049Z"
    }
   }
  }
 ],
 "metadata": {
  "kernelspec": {
   "display_name": "Python 3",
   "language": "python",
   "name": "python3"
  },
  "language_info": {
   "codemirror_mode": {
    "name": "ipython",
    "version": 2
   },
   "file_extension": ".py",
   "mimetype": "text/x-python",
   "name": "python",
   "nbconvert_exporter": "python",
   "pygments_lexer": "ipython2",
   "version": "2.7.6"
  }
 },
 "nbformat": 4,
 "nbformat_minor": 0
}
