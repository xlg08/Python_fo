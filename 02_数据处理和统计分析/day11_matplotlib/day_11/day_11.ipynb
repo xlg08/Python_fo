{
 "cells": [
  {
   "cell_type": "code",
   "execution_count": 3,
   "metadata": {
    "collapsed": true,
    "ExecuteTime": {
     "start_time": "2025-04-14T22:46:41.386009Z",
     "end_time": "2025-04-14T22:46:43.416063Z"
    }
   },
   "outputs": [],
   "source": [
    "# 1.导包\n",
    "import random\n",
    "import pandas as pd\n",
    "import numpy as np\n",
    "import matplotlib.pyplot as plt\n",
    "import os\n",
    "# 改变工作目录\n",
    "os.chdir(r\"E:\\ProjectCode\\PythonProjectCode\\pythonProject\\HaskMaProject\")\n",
    "# 解决折线图中中文显示问题\n",
    "plt.rcParams['font.sans-serif'] = ['SimHei']\n",
    "plt.rcParams['axes.unicode_minus'] = False"
   ]
  },
  {
   "cell_type": "markdown",
   "source": [
    "# 《movie.csv》"
   ],
   "metadata": {
    "collapsed": false
   }
  },
  {
   "cell_type": "code",
   "execution_count": 119,
   "outputs": [
    {
     "name": "stdout",
     "output_type": "stream",
     "text": [
      "<class 'pandas.core.frame.DataFrame'>\n",
      "RangeIndex: 1000 entries, 0 to 999\n",
      "Data columns (total 12 columns):\n",
      " #   Column              Non-Null Count  Dtype  \n",
      "---  ------              --------------  -----  \n",
      " 0   Rank                1000 non-null   int64  \n",
      " 1   Title               1000 non-null   object \n",
      " 2   Genre               1000 non-null   object \n",
      " 3   Description         1000 non-null   object \n",
      " 4   Director            1000 non-null   object \n",
      " 5   Actors              1000 non-null   object \n",
      " 6   Year                1000 non-null   int64  \n",
      " 7   Runtime (Minutes)   1000 non-null   int64  \n",
      " 8   Rating              1000 non-null   float64\n",
      " 9   Votes               1000 non-null   int64  \n",
      " 10  Revenue (Millions)  872 non-null    float64\n",
      " 11  Metascore           936 non-null    float64\n",
      "dtypes: float64(3), int64(4), object(5)\n",
      "memory usage: 93.9+ KB\n"
     ]
    }
   ],
   "source": [
    "# 读取文件\n",
    "df = pd.read_csv(r\"./data/movie.csv\")\n",
    "df.info()"
   ],
   "metadata": {
    "collapsed": false,
    "ExecuteTime": {
     "start_time": "2025-04-14T18:11:08.812636Z",
     "end_time": "2025-04-14T18:11:08.849202Z"
    }
   }
  },
  {
   "cell_type": "code",
   "execution_count": 8,
   "outputs": [
    {
     "data": {
      "text/plain": "     Rank                                         Title  \\\n54     55                               The Dark Knight   \n80     81                                     Inception   \n117   118                                        Dangal   \n36     37                                  Interstellar   \n124   125                         The Dark Knight Rises   \n476   477                           The Lives of Others   \n99    100                                  The Departed   \n991   992                              Taare Zameen Par   \n64     65                                  The Prestige   \n144   145                              Django Unchained   \n861   862                                Koe no katachi   \n430   431                                      3 Idiots   \n77     78                          Inglourious Basterds   \n26     27                       Bahubali: The Beginning   \n6       7                                    La La Land   \n194   195                                       Warrior   \n82     83                       The Wolf of Wall Street   \n765   766                                            PK   \n742   743                        El secreto de sus ojos   \n713   714                                     Incendies   \n16     17                                 Hacksaw Ridge   \n334   335                                          Rush   \n76     77                                  The Avengers   \n299   300                           There Will Be Blood   \n641   642                              Relatos salvajes   \n608   609                                         Mommy   \n145   146                                     Ah-ga-ssi   \n197   198                                 Into the Wild   \n192   193                                     Spotlight   \n138   139                                Shutter Island   \n136   137                        No Country for Old Men   \n114   115  Harry Potter and the Deathly Hallows: Part 2   \n111   112                              12 Years a Slave   \n50     51    Star Wars: Episode VII - The Force Awakens   \n92     93                                      The Help   \n90     91                                     Prisoners   \n83     84                                     Gone Girl   \n0       1                       Guardians of the Galaxy   \n\n                         Genre  \\\n54          Action,Crime,Drama   \n80     Action,Adventure,Sci-Fi   \n117     Action,Biography,Drama   \n36      Adventure,Drama,Sci-Fi   \n124            Action,Thriller   \n476             Drama,Thriller   \n99        Crime,Drama,Thriller   \n991         Drama,Family,Music   \n64        Drama,Mystery,Sci-Fi   \n144              Drama,Western   \n861    Animation,Drama,Romance   \n430               Comedy,Drama   \n77         Adventure,Drama,War   \n26      Action,Adventure,Drama   \n6           Comedy,Drama,Music   \n194         Action,Drama,Sport   \n82      Biography,Comedy,Crime   \n765       Comedy,Drama,Romance   \n742      Drama,Mystery,Romance   \n713          Drama,Mystery,War   \n16     Biography,Drama,History   \n334     Action,Biography,Drama   \n76               Action,Sci-Fi   \n299              Drama,History   \n641      Comedy,Drama,Thriller   \n608                      Drama   \n145      Drama,Mystery,Romance   \n197  Adventure,Biography,Drama   \n192        Crime,Drama,History   \n138           Mystery,Thriller   \n136       Crime,Drama,Thriller   \n114    Adventure,Drama,Fantasy   \n111    Biography,Drama,History   \n50    Action,Adventure,Fantasy   \n92                       Drama   \n90         Crime,Drama,Mystery   \n83         Crime,Drama,Mystery   \n0      Action,Adventure,Sci-Fi   \n\n                                           Description  \\\n54   When the menace known as the Joker wreaks havo...   \n80   A thief, who steals corporate secrets through ...   \n117  Former wrestler Mahavir Singh Phogat and his t...   \n36   A team of explorers travel through a wormhole ...   \n124  Eight years after the Joker's reign of anarchy...   \n476  In 1984 East Berlin, an agent of the secret po...   \n99   An undercover cop and a mole in the police att...   \n991  An eight-year-old boy is thought to be a lazy ...   \n64   Two stage magicians engage in competitive one-...   \n144  With the help of a German bounty hunter , a fr...   \n861  The story revolves around Nishimiya Shoko, a g...   \n430  Two friends are searching for their long lost ...   \n77   In Nazi-occupied France during World War II, a...   \n26   In ancient India, an adventurous and daring ma...   \n6    A jazz pianist falls for an aspiring actress i...   \n194  The youngest son of an alcoholic former boxer ...   \n82   Based on the true story of Jordan Belfort, fro...   \n765  A stranger in the city asks questions no one h...   \n742  A retired legal counselor writes a novel hopin...   \n713  Twins journey to the Middle East to discover t...   \n16   WWII American Army Medic Desmond T. Doss, who ...   \n334  The merciless 1970s rivalry between Formula On...   \n76   Earth's mightiest heroes must come together an...   \n299  A story of family, religion, hatred, oil and m...   \n641  Six short stories that explore the extremities...   \n608  A widowed single mother, raising her violent s...   \n145  A woman is hired as a handmaiden to a Japanese...   \n197  After graduating from Emory University, top st...   \n192  The true story of how the Boston Globe uncover...   \n138  In 1954, a U.S. marshal investigates the disap...   \n136  Violence and mayhem ensue after a hunter stumb...   \n114  Harry, Ron and Hermione search for Voldemort's...   \n111  In the antebellum United States, Solomon North...   \n50   Three decades after the defeat of the Galactic...   \n92   An aspiring author during the civil rights mov...   \n90   When Keller Dover's daughter and her friend go...   \n83   With his wife's disappearance having become th...   \n0    A group of intergalactic criminals are forced ...   \n\n                             Director  \\\n54                  Christopher Nolan   \n80                  Christopher Nolan   \n117                     Nitesh Tiwari   \n36                  Christopher Nolan   \n124                 Christopher Nolan   \n476  Florian Henckel von Donnersmarck   \n99                    Martin Scorsese   \n991                        Aamir Khan   \n64                  Christopher Nolan   \n144                 Quentin Tarantino   \n861                      Naoko Yamada   \n430                   Rajkumar Hirani   \n77                  Quentin Tarantino   \n26                     S.S. Rajamouli   \n6                     Damien Chazelle   \n194                    Gavin O'Connor   \n82                    Martin Scorsese   \n765                   Rajkumar Hirani   \n742              Juan José Campanella   \n713                  Denis Villeneuve   \n16                         Mel Gibson   \n334                        Ron Howard   \n76                        Joss Whedon   \n299              Paul Thomas Anderson   \n641                    Damián Szifron   \n608                      Xavier Dolan   \n145                    Chan-wook Park   \n197                         Sean Penn   \n192                      Tom McCarthy   \n138                   Martin Scorsese   \n136                        Ethan Coen   \n114                       David Yates   \n111                     Steve McQueen   \n50                        J.J. Abrams   \n92                        Tate Taylor   \n90                   Denis Villeneuve   \n83                      David Fincher   \n0                          James Gunn   \n\n                                                Actors  Year  \\\n54   Christian Bale, Heath Ledger, Aaron Eckhart,Mi...  2008   \n80   Leonardo DiCaprio, Joseph Gordon-Levitt, Ellen...  2010   \n117  Aamir Khan, Sakshi Tanwar, Fatima Sana Shaikh,...  2016   \n36   Matthew McConaughey, Anne Hathaway, Jessica Ch...  2014   \n124  Christian Bale, Tom Hardy, Anne Hathaway,Gary ...  2012   \n476  Ulrich Mühe, Martina Gedeck,Sebastian Koch, Ul...  2006   \n99   Leonardo DiCaprio, Matt Damon, Jack Nicholson,...  2006   \n991  Darsheel Safary, Aamir Khan, Tanay Chheda, Sac...  2007   \n64   Christian Bale, Hugh Jackman, Scarlett Johanss...  2006   \n144  Jamie Foxx, Christoph Waltz, Leonardo DiCaprio...  2012   \n861     Miyu Irino, Saori Hayami, Aoi Yuki, Kenshô Ono  2016   \n430    Aamir Khan, Madhavan, Mona Singh, Sharman Joshi  2009   \n77   Brad Pitt, Diane Kruger, Eli Roth,Mélanie Laurent  2009   \n26   Prabhas, Rana Daggubati, Anushka Shetty,Tamann...  2015   \n6    Ryan Gosling, Emma Stone, Rosemarie DeWitt, J....  2016   \n194  Tom Hardy, Nick Nolte, Joel Edgerton, Jennifer...  2011   \n82   Leonardo DiCaprio, Jonah Hill, Margot Robbie,M...  2013   \n765  Aamir Khan, Anushka Sharma, Sanjay Dutt,Boman ...  2014   \n742  Ricardo Darín, Soledad Villamil, Pablo Rago,Ca...  2009   \n713  Lubna Azabal, Mélissa Désormeaux-Poulin, Maxim...  2010   \n16   Andrew Garfield, Sam Worthington, Luke Bracey,...  2016   \n334  Daniel Brühl, Chris Hemsworth, Olivia Wilde,Al...  2013   \n76   Robert Downey Jr., Chris Evans, Scarlett Johan...  2012   \n299  Daniel Day-Lewis, Paul Dano, Ciarán Hinds,Mart...  2007   \n641  Darío Grandinetti, María Marull, Mónica Villa,...  2014   \n608  Anne Dorval, Antoine-Olivier Pilon, Suzanne Cl...  2014   \n145  Min-hee Kim, Jung-woo Ha, Jin-woong Jo, So-ri ...  2016   \n197  Emile Hirsch, Vince Vaughn, Catherine Keener, ...  2007   \n192  Mark Ruffalo, Michael Keaton, Rachel McAdams, ...  2015   \n138  Leonardo DiCaprio, Emily Mortimer, Mark Ruffal...  2010   \n136  Tommy Lee Jones, Javier Bardem, Josh Brolin, W...  2007   \n114  Daniel Radcliffe, Emma Watson, Rupert Grint, M...  2011   \n111  Chiwetel Ejiofor, Michael Kenneth Williams, Mi...  2013   \n50   Daisy Ridley, John Boyega, Oscar Isaac, Domhna...  2015   \n92   Emma Stone, Viola Davis, Octavia Spencer, Bryc...  2011   \n90   Hugh Jackman, Jake Gyllenhaal, Viola Davis,Mel...  2013   \n83   Ben Affleck, Rosamund Pike, Neil Patrick Harri...  2014   \n0    Chris Pratt, Vin Diesel, Bradley Cooper, Zoe S...  2014   \n\n     Runtime (Minutes)  Rating    Votes  Revenue (Millions)  Metascore  \n54                 152     9.0  1791916              533.32       82.0  \n80                 148     8.8  1583625              292.57       74.0  \n117                161     8.8    48969               11.15        NaN  \n36                 169     8.6  1047747              187.99       74.0  \n124                164     8.5  1222645              448.13       78.0  \n476                137     8.5   278103               11.28       89.0  \n99                 151     8.5   937414              132.37       85.0  \n991                165     8.5   102697                1.20       42.0  \n64                 130     8.5   913152               53.08       66.0  \n144                165     8.4  1039115              162.80       81.0  \n861                129     8.4     2421                 NaN       80.0  \n430                170     8.4   238789                6.52       67.0  \n77                 153     8.3   959065              120.52       69.0  \n26                 159     8.3    76193                6.50        NaN  \n6                  128     8.3   258682              151.06       93.0  \n194                140     8.2   355722               13.65       71.0  \n82                 180     8.2   865134              116.87       75.0  \n765                153     8.2   103279               10.57       51.0  \n742                129     8.2   144524               20.17       80.0  \n713                131     8.2    92863                6.86       80.0  \n16                 139     8.2   211760               67.12       71.0  \n334                123     8.1   339722               26.90       75.0  \n76                 143     8.1  1045588              623.28       69.0  \n299                158     8.1   400682               40.22       92.0  \n641                122     8.1   110100                3.08       77.0  \n608                139     8.1    33560                3.49       74.0  \n145                144     8.1    33418                2.01       84.0  \n197                148     8.1   459304               18.35       73.0  \n192                128     8.1   268282               44.99       93.0  \n138                138     8.1   855604              127.97       63.0  \n136                122     8.1   660286               74.27       91.0  \n114                130     8.1   590595              380.96       87.0  \n111                134     8.1   486338               56.67       96.0  \n50                 136     8.1   661608              936.63       81.0  \n92                 146     8.1   342429              169.71       62.0  \n90                 153     8.1   431185               60.96       74.0  \n83                 149     8.1   636243              167.74       79.0  \n0                  121     8.1   757074              333.13       76.0  ",
      "text/html": "<div>\n<style scoped>\n    .dataframe tbody tr th:only-of-type {\n        vertical-align: middle;\n    }\n\n    .dataframe tbody tr th {\n        vertical-align: top;\n    }\n\n    .dataframe thead th {\n        text-align: right;\n    }\n</style>\n<table border=\"1\" class=\"dataframe\">\n  <thead>\n    <tr style=\"text-align: right;\">\n      <th></th>\n      <th>Rank</th>\n      <th>Title</th>\n      <th>Genre</th>\n      <th>Description</th>\n      <th>Director</th>\n      <th>Actors</th>\n      <th>Year</th>\n      <th>Runtime (Minutes)</th>\n      <th>Rating</th>\n      <th>Votes</th>\n      <th>Revenue (Millions)</th>\n      <th>Metascore</th>\n    </tr>\n  </thead>\n  <tbody>\n    <tr>\n      <th>54</th>\n      <td>55</td>\n      <td>The Dark Knight</td>\n      <td>Action,Crime,Drama</td>\n      <td>When the menace known as the Joker wreaks havo...</td>\n      <td>Christopher Nolan</td>\n      <td>Christian Bale, Heath Ledger, Aaron Eckhart,Mi...</td>\n      <td>2008</td>\n      <td>152</td>\n      <td>9.0</td>\n      <td>1791916</td>\n      <td>533.32</td>\n      <td>82.0</td>\n    </tr>\n    <tr>\n      <th>80</th>\n      <td>81</td>\n      <td>Inception</td>\n      <td>Action,Adventure,Sci-Fi</td>\n      <td>A thief, who steals corporate secrets through ...</td>\n      <td>Christopher Nolan</td>\n      <td>Leonardo DiCaprio, Joseph Gordon-Levitt, Ellen...</td>\n      <td>2010</td>\n      <td>148</td>\n      <td>8.8</td>\n      <td>1583625</td>\n      <td>292.57</td>\n      <td>74.0</td>\n    </tr>\n    <tr>\n      <th>117</th>\n      <td>118</td>\n      <td>Dangal</td>\n      <td>Action,Biography,Drama</td>\n      <td>Former wrestler Mahavir Singh Phogat and his t...</td>\n      <td>Nitesh Tiwari</td>\n      <td>Aamir Khan, Sakshi Tanwar, Fatima Sana Shaikh,...</td>\n      <td>2016</td>\n      <td>161</td>\n      <td>8.8</td>\n      <td>48969</td>\n      <td>11.15</td>\n      <td>NaN</td>\n    </tr>\n    <tr>\n      <th>36</th>\n      <td>37</td>\n      <td>Interstellar</td>\n      <td>Adventure,Drama,Sci-Fi</td>\n      <td>A team of explorers travel through a wormhole ...</td>\n      <td>Christopher Nolan</td>\n      <td>Matthew McConaughey, Anne Hathaway, Jessica Ch...</td>\n      <td>2014</td>\n      <td>169</td>\n      <td>8.6</td>\n      <td>1047747</td>\n      <td>187.99</td>\n      <td>74.0</td>\n    </tr>\n    <tr>\n      <th>124</th>\n      <td>125</td>\n      <td>The Dark Knight Rises</td>\n      <td>Action,Thriller</td>\n      <td>Eight years after the Joker's reign of anarchy...</td>\n      <td>Christopher Nolan</td>\n      <td>Christian Bale, Tom Hardy, Anne Hathaway,Gary ...</td>\n      <td>2012</td>\n      <td>164</td>\n      <td>8.5</td>\n      <td>1222645</td>\n      <td>448.13</td>\n      <td>78.0</td>\n    </tr>\n    <tr>\n      <th>476</th>\n      <td>477</td>\n      <td>The Lives of Others</td>\n      <td>Drama,Thriller</td>\n      <td>In 1984 East Berlin, an agent of the secret po...</td>\n      <td>Florian Henckel von Donnersmarck</td>\n      <td>Ulrich Mühe, Martina Gedeck,Sebastian Koch, Ul...</td>\n      <td>2006</td>\n      <td>137</td>\n      <td>8.5</td>\n      <td>278103</td>\n      <td>11.28</td>\n      <td>89.0</td>\n    </tr>\n    <tr>\n      <th>99</th>\n      <td>100</td>\n      <td>The Departed</td>\n      <td>Crime,Drama,Thriller</td>\n      <td>An undercover cop and a mole in the police att...</td>\n      <td>Martin Scorsese</td>\n      <td>Leonardo DiCaprio, Matt Damon, Jack Nicholson,...</td>\n      <td>2006</td>\n      <td>151</td>\n      <td>8.5</td>\n      <td>937414</td>\n      <td>132.37</td>\n      <td>85.0</td>\n    </tr>\n    <tr>\n      <th>991</th>\n      <td>992</td>\n      <td>Taare Zameen Par</td>\n      <td>Drama,Family,Music</td>\n      <td>An eight-year-old boy is thought to be a lazy ...</td>\n      <td>Aamir Khan</td>\n      <td>Darsheel Safary, Aamir Khan, Tanay Chheda, Sac...</td>\n      <td>2007</td>\n      <td>165</td>\n      <td>8.5</td>\n      <td>102697</td>\n      <td>1.20</td>\n      <td>42.0</td>\n    </tr>\n    <tr>\n      <th>64</th>\n      <td>65</td>\n      <td>The Prestige</td>\n      <td>Drama,Mystery,Sci-Fi</td>\n      <td>Two stage magicians engage in competitive one-...</td>\n      <td>Christopher Nolan</td>\n      <td>Christian Bale, Hugh Jackman, Scarlett Johanss...</td>\n      <td>2006</td>\n      <td>130</td>\n      <td>8.5</td>\n      <td>913152</td>\n      <td>53.08</td>\n      <td>66.0</td>\n    </tr>\n    <tr>\n      <th>144</th>\n      <td>145</td>\n      <td>Django Unchained</td>\n      <td>Drama,Western</td>\n      <td>With the help of a German bounty hunter , a fr...</td>\n      <td>Quentin Tarantino</td>\n      <td>Jamie Foxx, Christoph Waltz, Leonardo DiCaprio...</td>\n      <td>2012</td>\n      <td>165</td>\n      <td>8.4</td>\n      <td>1039115</td>\n      <td>162.80</td>\n      <td>81.0</td>\n    </tr>\n    <tr>\n      <th>861</th>\n      <td>862</td>\n      <td>Koe no katachi</td>\n      <td>Animation,Drama,Romance</td>\n      <td>The story revolves around Nishimiya Shoko, a g...</td>\n      <td>Naoko Yamada</td>\n      <td>Miyu Irino, Saori Hayami, Aoi Yuki, Kenshô Ono</td>\n      <td>2016</td>\n      <td>129</td>\n      <td>8.4</td>\n      <td>2421</td>\n      <td>NaN</td>\n      <td>80.0</td>\n    </tr>\n    <tr>\n      <th>430</th>\n      <td>431</td>\n      <td>3 Idiots</td>\n      <td>Comedy,Drama</td>\n      <td>Two friends are searching for their long lost ...</td>\n      <td>Rajkumar Hirani</td>\n      <td>Aamir Khan, Madhavan, Mona Singh, Sharman Joshi</td>\n      <td>2009</td>\n      <td>170</td>\n      <td>8.4</td>\n      <td>238789</td>\n      <td>6.52</td>\n      <td>67.0</td>\n    </tr>\n    <tr>\n      <th>77</th>\n      <td>78</td>\n      <td>Inglourious Basterds</td>\n      <td>Adventure,Drama,War</td>\n      <td>In Nazi-occupied France during World War II, a...</td>\n      <td>Quentin Tarantino</td>\n      <td>Brad Pitt, Diane Kruger, Eli Roth,Mélanie Laurent</td>\n      <td>2009</td>\n      <td>153</td>\n      <td>8.3</td>\n      <td>959065</td>\n      <td>120.52</td>\n      <td>69.0</td>\n    </tr>\n    <tr>\n      <th>26</th>\n      <td>27</td>\n      <td>Bahubali: The Beginning</td>\n      <td>Action,Adventure,Drama</td>\n      <td>In ancient India, an adventurous and daring ma...</td>\n      <td>S.S. Rajamouli</td>\n      <td>Prabhas, Rana Daggubati, Anushka Shetty,Tamann...</td>\n      <td>2015</td>\n      <td>159</td>\n      <td>8.3</td>\n      <td>76193</td>\n      <td>6.50</td>\n      <td>NaN</td>\n    </tr>\n    <tr>\n      <th>6</th>\n      <td>7</td>\n      <td>La La Land</td>\n      <td>Comedy,Drama,Music</td>\n      <td>A jazz pianist falls for an aspiring actress i...</td>\n      <td>Damien Chazelle</td>\n      <td>Ryan Gosling, Emma Stone, Rosemarie DeWitt, J....</td>\n      <td>2016</td>\n      <td>128</td>\n      <td>8.3</td>\n      <td>258682</td>\n      <td>151.06</td>\n      <td>93.0</td>\n    </tr>\n    <tr>\n      <th>194</th>\n      <td>195</td>\n      <td>Warrior</td>\n      <td>Action,Drama,Sport</td>\n      <td>The youngest son of an alcoholic former boxer ...</td>\n      <td>Gavin O'Connor</td>\n      <td>Tom Hardy, Nick Nolte, Joel Edgerton, Jennifer...</td>\n      <td>2011</td>\n      <td>140</td>\n      <td>8.2</td>\n      <td>355722</td>\n      <td>13.65</td>\n      <td>71.0</td>\n    </tr>\n    <tr>\n      <th>82</th>\n      <td>83</td>\n      <td>The Wolf of Wall Street</td>\n      <td>Biography,Comedy,Crime</td>\n      <td>Based on the true story of Jordan Belfort, fro...</td>\n      <td>Martin Scorsese</td>\n      <td>Leonardo DiCaprio, Jonah Hill, Margot Robbie,M...</td>\n      <td>2013</td>\n      <td>180</td>\n      <td>8.2</td>\n      <td>865134</td>\n      <td>116.87</td>\n      <td>75.0</td>\n    </tr>\n    <tr>\n      <th>765</th>\n      <td>766</td>\n      <td>PK</td>\n      <td>Comedy,Drama,Romance</td>\n      <td>A stranger in the city asks questions no one h...</td>\n      <td>Rajkumar Hirani</td>\n      <td>Aamir Khan, Anushka Sharma, Sanjay Dutt,Boman ...</td>\n      <td>2014</td>\n      <td>153</td>\n      <td>8.2</td>\n      <td>103279</td>\n      <td>10.57</td>\n      <td>51.0</td>\n    </tr>\n    <tr>\n      <th>742</th>\n      <td>743</td>\n      <td>El secreto de sus ojos</td>\n      <td>Drama,Mystery,Romance</td>\n      <td>A retired legal counselor writes a novel hopin...</td>\n      <td>Juan José Campanella</td>\n      <td>Ricardo Darín, Soledad Villamil, Pablo Rago,Ca...</td>\n      <td>2009</td>\n      <td>129</td>\n      <td>8.2</td>\n      <td>144524</td>\n      <td>20.17</td>\n      <td>80.0</td>\n    </tr>\n    <tr>\n      <th>713</th>\n      <td>714</td>\n      <td>Incendies</td>\n      <td>Drama,Mystery,War</td>\n      <td>Twins journey to the Middle East to discover t...</td>\n      <td>Denis Villeneuve</td>\n      <td>Lubna Azabal, Mélissa Désormeaux-Poulin, Maxim...</td>\n      <td>2010</td>\n      <td>131</td>\n      <td>8.2</td>\n      <td>92863</td>\n      <td>6.86</td>\n      <td>80.0</td>\n    </tr>\n    <tr>\n      <th>16</th>\n      <td>17</td>\n      <td>Hacksaw Ridge</td>\n      <td>Biography,Drama,History</td>\n      <td>WWII American Army Medic Desmond T. Doss, who ...</td>\n      <td>Mel Gibson</td>\n      <td>Andrew Garfield, Sam Worthington, Luke Bracey,...</td>\n      <td>2016</td>\n      <td>139</td>\n      <td>8.2</td>\n      <td>211760</td>\n      <td>67.12</td>\n      <td>71.0</td>\n    </tr>\n    <tr>\n      <th>334</th>\n      <td>335</td>\n      <td>Rush</td>\n      <td>Action,Biography,Drama</td>\n      <td>The merciless 1970s rivalry between Formula On...</td>\n      <td>Ron Howard</td>\n      <td>Daniel Brühl, Chris Hemsworth, Olivia Wilde,Al...</td>\n      <td>2013</td>\n      <td>123</td>\n      <td>8.1</td>\n      <td>339722</td>\n      <td>26.90</td>\n      <td>75.0</td>\n    </tr>\n    <tr>\n      <th>76</th>\n      <td>77</td>\n      <td>The Avengers</td>\n      <td>Action,Sci-Fi</td>\n      <td>Earth's mightiest heroes must come together an...</td>\n      <td>Joss Whedon</td>\n      <td>Robert Downey Jr., Chris Evans, Scarlett Johan...</td>\n      <td>2012</td>\n      <td>143</td>\n      <td>8.1</td>\n      <td>1045588</td>\n      <td>623.28</td>\n      <td>69.0</td>\n    </tr>\n    <tr>\n      <th>299</th>\n      <td>300</td>\n      <td>There Will Be Blood</td>\n      <td>Drama,History</td>\n      <td>A story of family, religion, hatred, oil and m...</td>\n      <td>Paul Thomas Anderson</td>\n      <td>Daniel Day-Lewis, Paul Dano, Ciarán Hinds,Mart...</td>\n      <td>2007</td>\n      <td>158</td>\n      <td>8.1</td>\n      <td>400682</td>\n      <td>40.22</td>\n      <td>92.0</td>\n    </tr>\n    <tr>\n      <th>641</th>\n      <td>642</td>\n      <td>Relatos salvajes</td>\n      <td>Comedy,Drama,Thriller</td>\n      <td>Six short stories that explore the extremities...</td>\n      <td>Damián Szifron</td>\n      <td>Darío Grandinetti, María Marull, Mónica Villa,...</td>\n      <td>2014</td>\n      <td>122</td>\n      <td>8.1</td>\n      <td>110100</td>\n      <td>3.08</td>\n      <td>77.0</td>\n    </tr>\n    <tr>\n      <th>608</th>\n      <td>609</td>\n      <td>Mommy</td>\n      <td>Drama</td>\n      <td>A widowed single mother, raising her violent s...</td>\n      <td>Xavier Dolan</td>\n      <td>Anne Dorval, Antoine-Olivier Pilon, Suzanne Cl...</td>\n      <td>2014</td>\n      <td>139</td>\n      <td>8.1</td>\n      <td>33560</td>\n      <td>3.49</td>\n      <td>74.0</td>\n    </tr>\n    <tr>\n      <th>145</th>\n      <td>146</td>\n      <td>Ah-ga-ssi</td>\n      <td>Drama,Mystery,Romance</td>\n      <td>A woman is hired as a handmaiden to a Japanese...</td>\n      <td>Chan-wook Park</td>\n      <td>Min-hee Kim, Jung-woo Ha, Jin-woong Jo, So-ri ...</td>\n      <td>2016</td>\n      <td>144</td>\n      <td>8.1</td>\n      <td>33418</td>\n      <td>2.01</td>\n      <td>84.0</td>\n    </tr>\n    <tr>\n      <th>197</th>\n      <td>198</td>\n      <td>Into the Wild</td>\n      <td>Adventure,Biography,Drama</td>\n      <td>After graduating from Emory University, top st...</td>\n      <td>Sean Penn</td>\n      <td>Emile Hirsch, Vince Vaughn, Catherine Keener, ...</td>\n      <td>2007</td>\n      <td>148</td>\n      <td>8.1</td>\n      <td>459304</td>\n      <td>18.35</td>\n      <td>73.0</td>\n    </tr>\n    <tr>\n      <th>192</th>\n      <td>193</td>\n      <td>Spotlight</td>\n      <td>Crime,Drama,History</td>\n      <td>The true story of how the Boston Globe uncover...</td>\n      <td>Tom McCarthy</td>\n      <td>Mark Ruffalo, Michael Keaton, Rachel McAdams, ...</td>\n      <td>2015</td>\n      <td>128</td>\n      <td>8.1</td>\n      <td>268282</td>\n      <td>44.99</td>\n      <td>93.0</td>\n    </tr>\n    <tr>\n      <th>138</th>\n      <td>139</td>\n      <td>Shutter Island</td>\n      <td>Mystery,Thriller</td>\n      <td>In 1954, a U.S. marshal investigates the disap...</td>\n      <td>Martin Scorsese</td>\n      <td>Leonardo DiCaprio, Emily Mortimer, Mark Ruffal...</td>\n      <td>2010</td>\n      <td>138</td>\n      <td>8.1</td>\n      <td>855604</td>\n      <td>127.97</td>\n      <td>63.0</td>\n    </tr>\n    <tr>\n      <th>136</th>\n      <td>137</td>\n      <td>No Country for Old Men</td>\n      <td>Crime,Drama,Thriller</td>\n      <td>Violence and mayhem ensue after a hunter stumb...</td>\n      <td>Ethan Coen</td>\n      <td>Tommy Lee Jones, Javier Bardem, Josh Brolin, W...</td>\n      <td>2007</td>\n      <td>122</td>\n      <td>8.1</td>\n      <td>660286</td>\n      <td>74.27</td>\n      <td>91.0</td>\n    </tr>\n    <tr>\n      <th>114</th>\n      <td>115</td>\n      <td>Harry Potter and the Deathly Hallows: Part 2</td>\n      <td>Adventure,Drama,Fantasy</td>\n      <td>Harry, Ron and Hermione search for Voldemort's...</td>\n      <td>David Yates</td>\n      <td>Daniel Radcliffe, Emma Watson, Rupert Grint, M...</td>\n      <td>2011</td>\n      <td>130</td>\n      <td>8.1</td>\n      <td>590595</td>\n      <td>380.96</td>\n      <td>87.0</td>\n    </tr>\n    <tr>\n      <th>111</th>\n      <td>112</td>\n      <td>12 Years a Slave</td>\n      <td>Biography,Drama,History</td>\n      <td>In the antebellum United States, Solomon North...</td>\n      <td>Steve McQueen</td>\n      <td>Chiwetel Ejiofor, Michael Kenneth Williams, Mi...</td>\n      <td>2013</td>\n      <td>134</td>\n      <td>8.1</td>\n      <td>486338</td>\n      <td>56.67</td>\n      <td>96.0</td>\n    </tr>\n    <tr>\n      <th>50</th>\n      <td>51</td>\n      <td>Star Wars: Episode VII - The Force Awakens</td>\n      <td>Action,Adventure,Fantasy</td>\n      <td>Three decades after the defeat of the Galactic...</td>\n      <td>J.J. Abrams</td>\n      <td>Daisy Ridley, John Boyega, Oscar Isaac, Domhna...</td>\n      <td>2015</td>\n      <td>136</td>\n      <td>8.1</td>\n      <td>661608</td>\n      <td>936.63</td>\n      <td>81.0</td>\n    </tr>\n    <tr>\n      <th>92</th>\n      <td>93</td>\n      <td>The Help</td>\n      <td>Drama</td>\n      <td>An aspiring author during the civil rights mov...</td>\n      <td>Tate Taylor</td>\n      <td>Emma Stone, Viola Davis, Octavia Spencer, Bryc...</td>\n      <td>2011</td>\n      <td>146</td>\n      <td>8.1</td>\n      <td>342429</td>\n      <td>169.71</td>\n      <td>62.0</td>\n    </tr>\n    <tr>\n      <th>90</th>\n      <td>91</td>\n      <td>Prisoners</td>\n      <td>Crime,Drama,Mystery</td>\n      <td>When Keller Dover's daughter and her friend go...</td>\n      <td>Denis Villeneuve</td>\n      <td>Hugh Jackman, Jake Gyllenhaal, Viola Davis,Mel...</td>\n      <td>2013</td>\n      <td>153</td>\n      <td>8.1</td>\n      <td>431185</td>\n      <td>60.96</td>\n      <td>74.0</td>\n    </tr>\n    <tr>\n      <th>83</th>\n      <td>84</td>\n      <td>Gone Girl</td>\n      <td>Crime,Drama,Mystery</td>\n      <td>With his wife's disappearance having become th...</td>\n      <td>David Fincher</td>\n      <td>Ben Affleck, Rosamund Pike, Neil Patrick Harri...</td>\n      <td>2014</td>\n      <td>149</td>\n      <td>8.1</td>\n      <td>636243</td>\n      <td>167.74</td>\n      <td>79.0</td>\n    </tr>\n    <tr>\n      <th>0</th>\n      <td>1</td>\n      <td>Guardians of the Galaxy</td>\n      <td>Action,Adventure,Sci-Fi</td>\n      <td>A group of intergalactic criminals are forced ...</td>\n      <td>James Gunn</td>\n      <td>Chris Pratt, Vin Diesel, Bradley Cooper, Zoe S...</td>\n      <td>2014</td>\n      <td>121</td>\n      <td>8.1</td>\n      <td>757074</td>\n      <td>333.13</td>\n      <td>76.0</td>\n    </tr>\n  </tbody>\n</table>\n</div>"
     },
     "execution_count": 8,
     "metadata": {},
     "output_type": "execute_result"
    }
   ],
   "source": [
    "# 1.读取文件，筛选出评分大于 8 且时长超过 120 分钟的电影，按评分降序排序后保存为新的 CSV 文件。\n",
    "# df[df['Rating'] > 8]\n",
    "# df[df['Runtime (Minutes)'] > 120]\n",
    "df[(df['Rating'] > 8) & (df['Runtime (Minutes)'] > 120)].sort_values(by='Rating',ascending=False)\n",
    "# 按评分降序排序 sort_values\n"
   ],
   "metadata": {
    "collapsed": false,
    "ExecuteTime": {
     "start_time": "2025-04-14T14:54:30.330528Z",
     "end_time": "2025-04-14T14:54:30.376366Z"
    }
   }
  },
  {
   "cell_type": "code",
   "execution_count": 15,
   "outputs": [
    {
     "data": {
      "text/plain": "                          Genre  电影数量\n0                        Action     2\n1              Action,Adventure     3\n2    Action,Adventure,Biography     2\n3       Action,Adventure,Comedy    14\n4        Action,Adventure,Crime     6\n..                          ...   ...\n202     Romance,Sci-Fi,Thriller     1\n203                      Sci-Fi     2\n204             Sci-Fi,Thriller     1\n205                    Thriller     9\n206                Thriller,War     1\n\n[206 rows x 2 columns]",
      "text/html": "<div>\n<style scoped>\n    .dataframe tbody tr th:only-of-type {\n        vertical-align: middle;\n    }\n\n    .dataframe tbody tr th {\n        vertical-align: top;\n    }\n\n    .dataframe thead th {\n        text-align: right;\n    }\n</style>\n<table border=\"1\" class=\"dataframe\">\n  <thead>\n    <tr style=\"text-align: right;\">\n      <th></th>\n      <th>Genre</th>\n      <th>电影数量</th>\n    </tr>\n  </thead>\n  <tbody>\n    <tr>\n      <th>0</th>\n      <td>Action</td>\n      <td>2</td>\n    </tr>\n    <tr>\n      <th>1</th>\n      <td>Action,Adventure</td>\n      <td>3</td>\n    </tr>\n    <tr>\n      <th>2</th>\n      <td>Action,Adventure,Biography</td>\n      <td>2</td>\n    </tr>\n    <tr>\n      <th>3</th>\n      <td>Action,Adventure,Comedy</td>\n      <td>14</td>\n    </tr>\n    <tr>\n      <th>4</th>\n      <td>Action,Adventure,Crime</td>\n      <td>6</td>\n    </tr>\n    <tr>\n      <th>...</th>\n      <td>...</td>\n      <td>...</td>\n    </tr>\n    <tr>\n      <th>202</th>\n      <td>Romance,Sci-Fi,Thriller</td>\n      <td>1</td>\n    </tr>\n    <tr>\n      <th>203</th>\n      <td>Sci-Fi</td>\n      <td>2</td>\n    </tr>\n    <tr>\n      <th>204</th>\n      <td>Sci-Fi,Thriller</td>\n      <td>1</td>\n    </tr>\n    <tr>\n      <th>205</th>\n      <td>Thriller</td>\n      <td>9</td>\n    </tr>\n    <tr>\n      <th>206</th>\n      <td>Thriller,War</td>\n      <td>1</td>\n    </tr>\n  </tbody>\n</table>\n<p>206 rows × 2 columns</p>\n</div>"
     },
     "execution_count": 15,
     "metadata": {},
     "output_type": "execute_result"
    }
   ],
   "source": [
    "# 2.按电影类型分组，过滤出电影数量少于 50 部的类型，展示这些类型的名称和电影数量。\n",
    "g_df = df.groupby('Genre').size().reset_index(name='电影数量')\n",
    "df2 = g_df[g_df['电影数量']<50]\n",
    "df2"
   ],
   "metadata": {
    "collapsed": false,
    "ExecuteTime": {
     "start_time": "2025-04-14T14:59:25.034151Z",
     "end_time": "2025-04-14T14:59:25.064091Z"
    }
   }
  },
  {
   "cell_type": "code",
   "execution_count": 16,
   "outputs": [
    {
     "data": {
      "text/plain": "     Rank                                         Title  \\\n78     79    Pirates of the Caribbean: Dead Man's Chest   \n344   345                                  Spider-Man 3   \n54     55                               The Dark Knight   \n87     88                                        Avatar   \n688   689                                   Toy Story 3   \n114   115  Harry Potter and the Deathly Hallows: Part 2   \n76     77                                  The Avengers   \n578   579               The Hunger Games: Catching Fire   \n331   332                               American Sniper   \n50     51    Star Wars: Episode VII - The Force Awakens   \n12     13                                     Rogue One   \n\n                          Genre  \\\n78     Action,Adventure,Fantasy   \n344            Action,Adventure   \n54           Action,Crime,Drama   \n87     Action,Adventure,Fantasy   \n688  Animation,Adventure,Comedy   \n114     Adventure,Drama,Fantasy   \n76                Action,Sci-Fi   \n578    Action,Adventure,Mystery   \n331      Action,Biography,Drama   \n50     Action,Adventure,Fantasy   \n12      Action,Adventure,Sci-Fi   \n\n                                           Description           Director  \\\n78   Jack Sparrow races to recover the heart of Dav...     Gore Verbinski   \n344  A strange black entity from another world bond...          Sam Raimi   \n54   When the menace known as the Joker wreaks havo...  Christopher Nolan   \n87   A paraplegic marine dispatched to the moon Pan...      James Cameron   \n688  The toys are mistakenly delivered to a day-car...        Lee Unkrich   \n114  Harry, Ron and Hermione search for Voldemort's...        David Yates   \n76   Earth's mightiest heroes must come together an...        Joss Whedon   \n578  Katniss Everdeen and Peeta Mellark become targ...   Francis Lawrence   \n331  Navy S.E.A.L. sniper Chris Kyle's pinpoint acc...     Clint Eastwood   \n50   Three decades after the defeat of the Galactic...        J.J. Abrams   \n12   The Rebel Alliance makes a risky move to steal...     Gareth Edwards   \n\n                                                Actors  Year  \\\n78   Johnny Depp, Orlando Bloom, Keira Knightley, J...  2006   \n344  Tobey Maguire, Kirsten Dunst, Topher Grace, Th...  2007   \n54   Christian Bale, Heath Ledger, Aaron Eckhart,Mi...  2008   \n87   Sam Worthington, Zoe Saldana, Sigourney Weaver...  2009   \n688      Tom Hanks, Tim Allen, Joan Cusack, Ned Beatty  2010   \n114  Daniel Radcliffe, Emma Watson, Rupert Grint, M...  2011   \n76   Robert Downey Jr., Chris Evans, Scarlett Johan...  2012   \n578  Jennifer Lawrence, Josh Hutcherson, Liam Hemsw...  2013   \n331  Bradley Cooper, Sienna Miller, Kyle Gallner, C...  2014   \n50   Daisy Ridley, John Boyega, Oscar Isaac, Domhna...  2015   \n12   Felicity Jones, Diego Luna, Alan Tudyk, Donnie...  2016   \n\n     Runtime (Minutes)  Rating    Votes  Revenue (Millions)  Metascore  \n78                 151     7.3   552027              423.03       53.0  \n344                139     6.2   406219              336.53       59.0  \n54                 152     9.0  1791916              533.32       82.0  \n87                 162     7.8   935408              760.51       83.0  \n688                103     8.3   586669              414.98       92.0  \n114                130     8.1   590595              380.96       87.0  \n76                 143     8.1  1045588              623.28       69.0  \n578                146     7.6   525646              424.65       76.0  \n331                133     7.3   353305              350.12       72.0  \n50                 136     8.1   661608              936.63       81.0  \n12                 133     7.9   323118              532.17       65.0  ",
      "text/html": "<div>\n<style scoped>\n    .dataframe tbody tr th:only-of-type {\n        vertical-align: middle;\n    }\n\n    .dataframe tbody tr th {\n        vertical-align: top;\n    }\n\n    .dataframe thead th {\n        text-align: right;\n    }\n</style>\n<table border=\"1\" class=\"dataframe\">\n  <thead>\n    <tr style=\"text-align: right;\">\n      <th></th>\n      <th>Rank</th>\n      <th>Title</th>\n      <th>Genre</th>\n      <th>Description</th>\n      <th>Director</th>\n      <th>Actors</th>\n      <th>Year</th>\n      <th>Runtime (Minutes)</th>\n      <th>Rating</th>\n      <th>Votes</th>\n      <th>Revenue (Millions)</th>\n      <th>Metascore</th>\n    </tr>\n  </thead>\n  <tbody>\n    <tr>\n      <th>78</th>\n      <td>79</td>\n      <td>Pirates of the Caribbean: Dead Man's Chest</td>\n      <td>Action,Adventure,Fantasy</td>\n      <td>Jack Sparrow races to recover the heart of Dav...</td>\n      <td>Gore Verbinski</td>\n      <td>Johnny Depp, Orlando Bloom, Keira Knightley, J...</td>\n      <td>2006</td>\n      <td>151</td>\n      <td>7.3</td>\n      <td>552027</td>\n      <td>423.03</td>\n      <td>53.0</td>\n    </tr>\n    <tr>\n      <th>344</th>\n      <td>345</td>\n      <td>Spider-Man 3</td>\n      <td>Action,Adventure</td>\n      <td>A strange black entity from another world bond...</td>\n      <td>Sam Raimi</td>\n      <td>Tobey Maguire, Kirsten Dunst, Topher Grace, Th...</td>\n      <td>2007</td>\n      <td>139</td>\n      <td>6.2</td>\n      <td>406219</td>\n      <td>336.53</td>\n      <td>59.0</td>\n    </tr>\n    <tr>\n      <th>54</th>\n      <td>55</td>\n      <td>The Dark Knight</td>\n      <td>Action,Crime,Drama</td>\n      <td>When the menace known as the Joker wreaks havo...</td>\n      <td>Christopher Nolan</td>\n      <td>Christian Bale, Heath Ledger, Aaron Eckhart,Mi...</td>\n      <td>2008</td>\n      <td>152</td>\n      <td>9.0</td>\n      <td>1791916</td>\n      <td>533.32</td>\n      <td>82.0</td>\n    </tr>\n    <tr>\n      <th>87</th>\n      <td>88</td>\n      <td>Avatar</td>\n      <td>Action,Adventure,Fantasy</td>\n      <td>A paraplegic marine dispatched to the moon Pan...</td>\n      <td>James Cameron</td>\n      <td>Sam Worthington, Zoe Saldana, Sigourney Weaver...</td>\n      <td>2009</td>\n      <td>162</td>\n      <td>7.8</td>\n      <td>935408</td>\n      <td>760.51</td>\n      <td>83.0</td>\n    </tr>\n    <tr>\n      <th>688</th>\n      <td>689</td>\n      <td>Toy Story 3</td>\n      <td>Animation,Adventure,Comedy</td>\n      <td>The toys are mistakenly delivered to a day-car...</td>\n      <td>Lee Unkrich</td>\n      <td>Tom Hanks, Tim Allen, Joan Cusack, Ned Beatty</td>\n      <td>2010</td>\n      <td>103</td>\n      <td>8.3</td>\n      <td>586669</td>\n      <td>414.98</td>\n      <td>92.0</td>\n    </tr>\n    <tr>\n      <th>114</th>\n      <td>115</td>\n      <td>Harry Potter and the Deathly Hallows: Part 2</td>\n      <td>Adventure,Drama,Fantasy</td>\n      <td>Harry, Ron and Hermione search for Voldemort's...</td>\n      <td>David Yates</td>\n      <td>Daniel Radcliffe, Emma Watson, Rupert Grint, M...</td>\n      <td>2011</td>\n      <td>130</td>\n      <td>8.1</td>\n      <td>590595</td>\n      <td>380.96</td>\n      <td>87.0</td>\n    </tr>\n    <tr>\n      <th>76</th>\n      <td>77</td>\n      <td>The Avengers</td>\n      <td>Action,Sci-Fi</td>\n      <td>Earth's mightiest heroes must come together an...</td>\n      <td>Joss Whedon</td>\n      <td>Robert Downey Jr., Chris Evans, Scarlett Johan...</td>\n      <td>2012</td>\n      <td>143</td>\n      <td>8.1</td>\n      <td>1045588</td>\n      <td>623.28</td>\n      <td>69.0</td>\n    </tr>\n    <tr>\n      <th>578</th>\n      <td>579</td>\n      <td>The Hunger Games: Catching Fire</td>\n      <td>Action,Adventure,Mystery</td>\n      <td>Katniss Everdeen and Peeta Mellark become targ...</td>\n      <td>Francis Lawrence</td>\n      <td>Jennifer Lawrence, Josh Hutcherson, Liam Hemsw...</td>\n      <td>2013</td>\n      <td>146</td>\n      <td>7.6</td>\n      <td>525646</td>\n      <td>424.65</td>\n      <td>76.0</td>\n    </tr>\n    <tr>\n      <th>331</th>\n      <td>332</td>\n      <td>American Sniper</td>\n      <td>Action,Biography,Drama</td>\n      <td>Navy S.E.A.L. sniper Chris Kyle's pinpoint acc...</td>\n      <td>Clint Eastwood</td>\n      <td>Bradley Cooper, Sienna Miller, Kyle Gallner, C...</td>\n      <td>2014</td>\n      <td>133</td>\n      <td>7.3</td>\n      <td>353305</td>\n      <td>350.12</td>\n      <td>72.0</td>\n    </tr>\n    <tr>\n      <th>50</th>\n      <td>51</td>\n      <td>Star Wars: Episode VII - The Force Awakens</td>\n      <td>Action,Adventure,Fantasy</td>\n      <td>Three decades after the defeat of the Galactic...</td>\n      <td>J.J. Abrams</td>\n      <td>Daisy Ridley, John Boyega, Oscar Isaac, Domhna...</td>\n      <td>2015</td>\n      <td>136</td>\n      <td>8.1</td>\n      <td>661608</td>\n      <td>936.63</td>\n      <td>81.0</td>\n    </tr>\n    <tr>\n      <th>12</th>\n      <td>13</td>\n      <td>Rogue One</td>\n      <td>Action,Adventure,Sci-Fi</td>\n      <td>The Rebel Alliance makes a risky move to steal...</td>\n      <td>Gareth Edwards</td>\n      <td>Felicity Jones, Diego Luna, Alan Tudyk, Donnie...</td>\n      <td>2016</td>\n      <td>133</td>\n      <td>7.9</td>\n      <td>323118</td>\n      <td>532.17</td>\n      <td>65.0</td>\n    </tr>\n  </tbody>\n</table>\n</div>"
     },
     "execution_count": 16,
     "metadata": {},
     "output_type": "execute_result"
    }
   ],
   "source": [
    "# 3.找出每年票房最高的电影及其票房金额，将结果保存为新的 DataFrame。\n",
    "# 方法一：\n",
    "df.sort_values(by=['Year', 'Revenue (Millions)'], ascending=[True, False]).groupby('Year').head(1)\n",
    "# 方法二：\n",
    "df3 = df.groupby('Year').agg({\n",
    "    'Revenue (Millions)': 'max'\n",
    "})\n",
    "df3_1 = pd.merge(df3, df, on=['Revenue (Millions)', 'Year'])[['Title', 'Year', 'Revenue (Millions)']]\n",
    "# 方法三\n",
    "df3_1 = pd.merge(df3, df, on=['Revenue (Millions)', 'Year'])[['Title', 'Year', 'Revenue (Millions)']]"
   ],
   "metadata": {
    "collapsed": false,
    "ExecuteTime": {
     "start_time": "2025-04-14T15:05:43.369760Z",
     "end_time": "2025-04-14T15:05:43.420396Z"
    }
   }
  },
  {
   "cell_type": "code",
   "execution_count": 17,
   "outputs": [
    {
     "data": {
      "text/plain": "                      Genre     评分标准差\n50   Action,Horror,Thriller  2.095233\n0                    Action  1.767767\n125   Comedy,Fantasy,Horror  1.656301",
      "text/html": "<div>\n<style scoped>\n    .dataframe tbody tr th:only-of-type {\n        vertical-align: middle;\n    }\n\n    .dataframe tbody tr th {\n        vertical-align: top;\n    }\n\n    .dataframe thead th {\n        text-align: right;\n    }\n</style>\n<table border=\"1\" class=\"dataframe\">\n  <thead>\n    <tr style=\"text-align: right;\">\n      <th></th>\n      <th>Genre</th>\n      <th>评分标准差</th>\n    </tr>\n  </thead>\n  <tbody>\n    <tr>\n      <th>50</th>\n      <td>Action,Horror,Thriller</td>\n      <td>2.095233</td>\n    </tr>\n    <tr>\n      <th>0</th>\n      <td>Action</td>\n      <td>1.767767</td>\n    </tr>\n    <tr>\n      <th>125</th>\n      <td>Comedy,Fantasy,Horror</td>\n      <td>1.656301</td>\n    </tr>\n  </tbody>\n</table>\n</div>"
     },
     "execution_count": 17,
     "metadata": {},
     "output_type": "execute_result"
    }
   ],
   "source": [
    "# 4.计算每种电影类型的评分标准差，按标准差从大到小排序，取前 3 种类型。\n",
    "g_df = df.groupby('Genre')['Rating'].std().reset_index(name='评分标准差')\n",
    "df4 = g_df.sort_values(by='评分标准差',ascending=False).head(3)\n",
    "df4"
   ],
   "metadata": {
    "collapsed": false,
    "ExecuteTime": {
     "start_time": "2025-04-14T15:11:20.370048Z",
     "end_time": "2025-04-14T15:11:20.399062Z"
    }
   }
  },
  {
   "cell_type": "code",
   "execution_count": 134,
   "outputs": [
    {
     "data": {
      "text/plain": "     Rank                    Title                     Genre  \\\n0       1  Guardians of the Galaxy   Action,Adventure,Sci-Fi   \n1       2               Prometheus  Adventure,Mystery,Sci-Fi   \n2       3                    Split           Horror,Thriller   \n3       4                     Sing   Animation,Comedy,Family   \n4       5            Suicide Squad  Action,Adventure,Fantasy   \n..    ...                      ...                       ...   \n995   996     Secret in Their Eyes       Crime,Drama,Mystery   \n996   997          Hostel: Part II                    Horror   \n997   998   Step Up 2: The Streets       Drama,Music,Romance   \n998   999             Search Party          Adventure,Comedy   \n999  1000               Nine Lives     Comedy,Family,Fantasy   \n\n                                           Description              Director  \\\n0    A group of intergalactic criminals are forced ...            James Gunn   \n1    Following clues to the origin of mankind, a te...          Ridley Scott   \n2    Three girls are kidnapped by a man with a diag...    M. Night Shyamalan   \n3    In a city of humanoid animals, a hustling thea...  Christophe Lourdelet   \n4    A secret government agency recruits some of th...            David Ayer   \n..                                                 ...                   ...   \n995  A tight-knit team of rising investigators, alo...             Billy Ray   \n996  Three American college students studying abroa...              Eli Roth   \n997  Romantic sparks occur between two dance studen...            Jon M. Chu   \n998  A pair of friends embark on a mission to reuni...        Scot Armstrong   \n999  A stuffy businessman finds himself trapped ins...      Barry Sonnenfeld   \n\n                                                Actors  Year  \\\n0    Chris Pratt, Vin Diesel, Bradley Cooper, Zoe S...  2014   \n1    Noomi Rapace, Logan Marshall-Green, Michael Fa...  2012   \n2    James McAvoy, Anya Taylor-Joy, Haley Lu Richar...  2016   \n3    Matthew McConaughey,Reese Witherspoon, Seth Ma...  2016   \n4    Will Smith, Jared Leto, Margot Robbie, Viola D...  2016   \n..                                                 ...   ...   \n995  Chiwetel Ejiofor, Nicole Kidman, Julia Roberts...  2015   \n996  Lauren German, Heather Matarazzo, Bijou Philli...  2007   \n997  Robert Hoffman, Briana Evigan, Cassie Ventura,...  2008   \n998  Adam Pally, T.J. Miller, Thomas Middleditch,Sh...  2014   \n999  Kevin Spacey, Jennifer Garner, Robbie Amell,Ch...  2016   \n\n     Runtime (Minutes)  Rating   Votes  Revenue (Millions)  Metascore  \n0                  121     8.1  757074              333.13       76.0  \n1                  124     7.0  485820              126.46       65.0  \n2                  117     7.3  157606              138.12       62.0  \n3                  108     7.2   60545              270.32       59.0  \n4                  123     6.2  393727              325.02       40.0  \n..                 ...     ...     ...                 ...        ...  \n995                111     6.2   27585                 NaN       45.0  \n996                 94     5.5   73152               17.54       46.0  \n997                 98     6.2   70699               58.01       50.0  \n998                 93     5.6    4881                 NaN       22.0  \n999                 87     5.3   12435               19.64       11.0  \n\n[1000 rows x 12 columns]",
      "text/html": "<div>\n<style scoped>\n    .dataframe tbody tr th:only-of-type {\n        vertical-align: middle;\n    }\n\n    .dataframe tbody tr th {\n        vertical-align: top;\n    }\n\n    .dataframe thead th {\n        text-align: right;\n    }\n</style>\n<table border=\"1\" class=\"dataframe\">\n  <thead>\n    <tr style=\"text-align: right;\">\n      <th></th>\n      <th>Rank</th>\n      <th>Title</th>\n      <th>Genre</th>\n      <th>Description</th>\n      <th>Director</th>\n      <th>Actors</th>\n      <th>Year</th>\n      <th>Runtime (Minutes)</th>\n      <th>Rating</th>\n      <th>Votes</th>\n      <th>Revenue (Millions)</th>\n      <th>Metascore</th>\n    </tr>\n  </thead>\n  <tbody>\n    <tr>\n      <th>0</th>\n      <td>1</td>\n      <td>Guardians of the Galaxy</td>\n      <td>Action,Adventure,Sci-Fi</td>\n      <td>A group of intergalactic criminals are forced ...</td>\n      <td>James Gunn</td>\n      <td>Chris Pratt, Vin Diesel, Bradley Cooper, Zoe S...</td>\n      <td>2014</td>\n      <td>121</td>\n      <td>8.1</td>\n      <td>757074</td>\n      <td>333.13</td>\n      <td>76.0</td>\n    </tr>\n    <tr>\n      <th>1</th>\n      <td>2</td>\n      <td>Prometheus</td>\n      <td>Adventure,Mystery,Sci-Fi</td>\n      <td>Following clues to the origin of mankind, a te...</td>\n      <td>Ridley Scott</td>\n      <td>Noomi Rapace, Logan Marshall-Green, Michael Fa...</td>\n      <td>2012</td>\n      <td>124</td>\n      <td>7.0</td>\n      <td>485820</td>\n      <td>126.46</td>\n      <td>65.0</td>\n    </tr>\n    <tr>\n      <th>2</th>\n      <td>3</td>\n      <td>Split</td>\n      <td>Horror,Thriller</td>\n      <td>Three girls are kidnapped by a man with a diag...</td>\n      <td>M. Night Shyamalan</td>\n      <td>James McAvoy, Anya Taylor-Joy, Haley Lu Richar...</td>\n      <td>2016</td>\n      <td>117</td>\n      <td>7.3</td>\n      <td>157606</td>\n      <td>138.12</td>\n      <td>62.0</td>\n    </tr>\n    <tr>\n      <th>3</th>\n      <td>4</td>\n      <td>Sing</td>\n      <td>Animation,Comedy,Family</td>\n      <td>In a city of humanoid animals, a hustling thea...</td>\n      <td>Christophe Lourdelet</td>\n      <td>Matthew McConaughey,Reese Witherspoon, Seth Ma...</td>\n      <td>2016</td>\n      <td>108</td>\n      <td>7.2</td>\n      <td>60545</td>\n      <td>270.32</td>\n      <td>59.0</td>\n    </tr>\n    <tr>\n      <th>4</th>\n      <td>5</td>\n      <td>Suicide Squad</td>\n      <td>Action,Adventure,Fantasy</td>\n      <td>A secret government agency recruits some of th...</td>\n      <td>David Ayer</td>\n      <td>Will Smith, Jared Leto, Margot Robbie, Viola D...</td>\n      <td>2016</td>\n      <td>123</td>\n      <td>6.2</td>\n      <td>393727</td>\n      <td>325.02</td>\n      <td>40.0</td>\n    </tr>\n    <tr>\n      <th>...</th>\n      <td>...</td>\n      <td>...</td>\n      <td>...</td>\n      <td>...</td>\n      <td>...</td>\n      <td>...</td>\n      <td>...</td>\n      <td>...</td>\n      <td>...</td>\n      <td>...</td>\n      <td>...</td>\n      <td>...</td>\n    </tr>\n    <tr>\n      <th>995</th>\n      <td>996</td>\n      <td>Secret in Their Eyes</td>\n      <td>Crime,Drama,Mystery</td>\n      <td>A tight-knit team of rising investigators, alo...</td>\n      <td>Billy Ray</td>\n      <td>Chiwetel Ejiofor, Nicole Kidman, Julia Roberts...</td>\n      <td>2015</td>\n      <td>111</td>\n      <td>6.2</td>\n      <td>27585</td>\n      <td>NaN</td>\n      <td>45.0</td>\n    </tr>\n    <tr>\n      <th>996</th>\n      <td>997</td>\n      <td>Hostel: Part II</td>\n      <td>Horror</td>\n      <td>Three American college students studying abroa...</td>\n      <td>Eli Roth</td>\n      <td>Lauren German, Heather Matarazzo, Bijou Philli...</td>\n      <td>2007</td>\n      <td>94</td>\n      <td>5.5</td>\n      <td>73152</td>\n      <td>17.54</td>\n      <td>46.0</td>\n    </tr>\n    <tr>\n      <th>997</th>\n      <td>998</td>\n      <td>Step Up 2: The Streets</td>\n      <td>Drama,Music,Romance</td>\n      <td>Romantic sparks occur between two dance studen...</td>\n      <td>Jon M. Chu</td>\n      <td>Robert Hoffman, Briana Evigan, Cassie Ventura,...</td>\n      <td>2008</td>\n      <td>98</td>\n      <td>6.2</td>\n      <td>70699</td>\n      <td>58.01</td>\n      <td>50.0</td>\n    </tr>\n    <tr>\n      <th>998</th>\n      <td>999</td>\n      <td>Search Party</td>\n      <td>Adventure,Comedy</td>\n      <td>A pair of friends embark on a mission to reuni...</td>\n      <td>Scot Armstrong</td>\n      <td>Adam Pally, T.J. Miller, Thomas Middleditch,Sh...</td>\n      <td>2014</td>\n      <td>93</td>\n      <td>5.6</td>\n      <td>4881</td>\n      <td>NaN</td>\n      <td>22.0</td>\n    </tr>\n    <tr>\n      <th>999</th>\n      <td>1000</td>\n      <td>Nine Lives</td>\n      <td>Comedy,Family,Fantasy</td>\n      <td>A stuffy businessman finds himself trapped ins...</td>\n      <td>Barry Sonnenfeld</td>\n      <td>Kevin Spacey, Jennifer Garner, Robbie Amell,Ch...</td>\n      <td>2016</td>\n      <td>87</td>\n      <td>5.3</td>\n      <td>12435</td>\n      <td>19.64</td>\n      <td>11.0</td>\n    </tr>\n  </tbody>\n</table>\n<p>1000 rows × 12 columns</p>\n</div>"
     },
     "execution_count": 134,
     "metadata": {},
     "output_type": "execute_result"
    }
   ],
   "source": [
    "df"
   ],
   "metadata": {
    "collapsed": false,
    "ExecuteTime": {
     "start_time": "2025-04-14T18:23:49.395677Z",
     "end_time": "2025-04-14T18:23:49.458125Z"
    }
   }
  },
  {
   "cell_type": "code",
   "execution_count": 133,
   "outputs": [
    {
     "data": {
      "text/plain": "0      6.724000\n1      6.850000\n2      5.643750\n3      7.100000\n4      6.329630\n         ...   \n995    6.808696\n996    5.445455\n997    6.200000\n998    5.850000\n999    5.300000\nName: Rating, Length: 1000, dtype: float64"
     },
     "execution_count": 133,
     "metadata": {},
     "output_type": "execute_result"
    }
   ],
   "source": [
    "# 5.筛选出评分在其类型平均分上下 0.5 分范围内的电影，展示这些电影的名称和类型。\n",
    "# 求类型平均分\n",
    "# d_avg = df.groupby('Genre')['Rating'].mean()\n",
    "d_avg = df.groupby('Genre')['Rating'].transform('mean')\n",
    "# df5 = df[abs(df['Rating'] - d_avg) <= 0.5][['Title','Genre']]\n",
    "# df5\n",
    "# d_avg\n",
    "d_avg"
   ],
   "metadata": {
    "collapsed": false,
    "ExecuteTime": {
     "start_time": "2025-04-14T18:17:31.095701Z",
     "end_time": "2025-04-14T18:17:31.117289Z"
    }
   }
  },
  {
   "cell_type": "code",
   "execution_count": 1,
   "outputs": [],
   "source": [
    "# groupby 方法的 sort 参数 ，指定是否对分组的字段进行排序，默认是True进行排序\n",
    "d_avg = df.groupby('Genre')['Rating'].mean()\n",
    "d_avg"
   ],
   "metadata": {
    "collapsed": false,
    "ExecuteTime": {
     "start_time": "2025-04-14T22:45:25.098050Z",
     "end_time": "2025-04-14T22:45:25.141725Z"
    }
   }
  },
  {
   "cell_type": "code",
   "execution_count": 12,
   "outputs": [],
   "source": [
    "# 6.把电影名称中包含特定关键词（如 “爱情”）的电影数据提取出来，按票房升序排序，保存为新的 CSV 文件。\n",
    "# contains python的字符串方法，用于判断是否包含参数子字符串\n",
    "df[df['Title'].str.contains('love')].sort_values(by='Revenue (Millions)')\n"
   ],
   "metadata": {
    "collapsed": false,
    "ExecuteTime": {
     "start_time": "2025-04-14T22:49:05.488900Z",
     "end_time": "2025-04-14T22:49:05.536763Z"
    }
   }
  },
  {
   "cell_type": "code",
   "execution_count": 13,
   "outputs": [
    {
     "data": {
      "text/plain": "0   NaN\n1   NaN\n2   NaN\n3   NaN\n4   NaN\nName: 班级平均成绩, dtype: float64"
     },
     "execution_count": 13,
     "metadata": {},
     "output_type": "execute_result"
    }
   ],
   "source": [
    "# 7.计算每部电影的评分与同类型电影评分中位数的差值，筛选出差值绝对值大于 1 的电影。\n",
    "\n"
   ],
   "metadata": {
    "collapsed": false,
    "ExecuteTime": {
     "start_time": "2025-04-14T22:49:07.109883Z",
     "end_time": "2025-04-14T22:49:07.146989Z"
    }
   }
  },
  {
   "cell_type": "code",
   "execution_count": 15,
   "outputs": [
    {
     "data": {
      "text/plain": "0    85.000000\n1    85.000000\n2    83.333333\n3    83.333333\n4    83.333333\nName: 班级平均成绩, dtype: float64"
     },
     "execution_count": 15,
     "metadata": {},
     "output_type": "execute_result"
    }
   ],
   "source": [
    "# 8.按导演和电影类型分组，找出每个组内评分最高的电影名称、评分以及票房。\n",
    "g_df['max_value'] = df.groupby(['Director','Genre'])['Rating'].transform('max')\n",
    "r_max = df[df['Rating'] == g_df['max_value']]\n",
    "r_max[['Title','Rating','Revenue (Millions)']]"
   ],
   "metadata": {
    "collapsed": false,
    "ExecuteTime": {
     "start_time": "2025-04-14T22:49:28.874854Z",
     "end_time": "2025-04-14T22:49:28.892956Z"
    }
   }
  },
  {
   "cell_type": "code",
   "execution_count": 36,
   "outputs": [
    {
     "data": {
      "text/plain": "                                            平均评分    最高票房  电影数量\nDirector      Genre                                           \nBryan Singer  Action,Adventure,Sci-Fi   7.066667  233.91     3\nDavid Yates   Adventure,Family,Fantasy  7.550000  301.96     4\nJames Wan     Horror,Mystery,Thriller   7.233333  137.39     3\nPeter Jackson Adventure,Fantasy         7.733333  303.00     3",
      "text/html": "<div>\n<style scoped>\n    .dataframe tbody tr th:only-of-type {\n        vertical-align: middle;\n    }\n\n    .dataframe tbody tr th {\n        vertical-align: top;\n    }\n\n    .dataframe thead th {\n        text-align: right;\n    }\n</style>\n<table border=\"1\" class=\"dataframe\">\n  <thead>\n    <tr style=\"text-align: right;\">\n      <th></th>\n      <th></th>\n      <th>平均评分</th>\n      <th>最高票房</th>\n      <th>电影数量</th>\n    </tr>\n    <tr>\n      <th>Director</th>\n      <th>Genre</th>\n      <th></th>\n      <th></th>\n      <th></th>\n    </tr>\n  </thead>\n  <tbody>\n    <tr>\n      <th>Bryan Singer</th>\n      <th>Action,Adventure,Sci-Fi</th>\n      <td>7.066667</td>\n      <td>233.91</td>\n      <td>3</td>\n    </tr>\n    <tr>\n      <th>David Yates</th>\n      <th>Adventure,Family,Fantasy</th>\n      <td>7.550000</td>\n      <td>301.96</td>\n      <td>4</td>\n    </tr>\n    <tr>\n      <th>James Wan</th>\n      <th>Horror,Mystery,Thriller</th>\n      <td>7.233333</td>\n      <td>137.39</td>\n      <td>3</td>\n    </tr>\n    <tr>\n      <th>Peter Jackson</th>\n      <th>Adventure,Fantasy</th>\n      <td>7.733333</td>\n      <td>303.00</td>\n      <td>3</td>\n    </tr>\n  </tbody>\n</table>\n</div>"
     },
     "execution_count": 36,
     "metadata": {},
     "output_type": "execute_result"
    }
   ],
   "source": [
    "# 9.按电影类型和导演分组，计算每组电影的平均评分、最高票房和电影数量，筛选出电影数量超过 5 部且平均评分高于 7 分的组合。\n",
    "m_m_c_df = g_df['max_value'] = df.groupby(['Director','Genre']).agg(\n",
    "    平均评分=('Rating','mean'),\n",
    "    最高票房=('Revenue (Millions)','max'),\n",
    "    电影数量=('Title','count')\n",
    ")\n",
    "df9 = m_m_c_df[(m_m_c_df['电影数量'] > 2) & (m_m_c_df['平均评分'] > 7)]\n",
    "df9"
   ],
   "metadata": {
    "collapsed": false,
    "ExecuteTime": {
     "start_time": "2025-04-14T15:55:28.285773Z",
     "end_time": "2025-04-14T15:55:28.304076Z"
    }
   }
  },
  {
   "cell_type": "code",
   "execution_count": 39,
   "outputs": [],
   "source": [
    "# 10.按电影类型分组，将每年的电影按评分降序排列，取每年评分最高的前 3 部电影，汇总后计算这些电影的总票房。\n",
    "# 按电影类型分组\n",
    "dfg = df.groupby(['Genre','Year'])\n"
   ],
   "metadata": {
    "collapsed": false,
    "ExecuteTime": {
     "start_time": "2025-04-14T16:00:06.947082Z",
     "end_time": "2025-04-14T16:00:06.970632Z"
    }
   }
  },
  {
   "cell_type": "code",
   "execution_count": 41,
   "outputs": [
    {
     "name": "stderr",
     "output_type": "stream",
     "text": [
      "C:\\Users\\LG\\AppData\\Local\\Temp\\ipykernel_39000\\2771577221.py:6: DeprecationWarning: DataFrameGroupBy.apply operated on the grouping columns. This behavior is deprecated, and in a future version of pandas the grouping columns will be excluded from the operation. Either pass `include_groups=False` to exclude the groupings or explicitly select the grouping columns after groupby to silence this warning.\n",
      "  dfg.apply(get_top_3)\n"
     ]
    },
    {
     "data": {
      "text/plain": "                           Rank                   Title             Genre  \\\nGenre            Year                                                       \nAction           2016 123   124    Boyka: Undisputed IV            Action   \n                      580   581    Kickboxer: Vengeance            Action   \nAction,Adventure 2007 344   345            Spider-Man 3  Action,Adventure   \n                 2012 368   369  The Amazing Spider-Man  Action,Adventure   \n                 2014 284   285                Hercules  Action,Adventure   \n...                         ...                     ...               ...   \nThriller         2014 729   730               The Guest          Thriller   \n                 2016 848   849             Mean Dreams          Thriller   \n                      933   934                  Detour          Thriller   \n                      289   290                    Iris          Thriller   \nThriller,War     2016 160   161                    Mine      Thriller,War   \n\n                                                                 Description  \\\nGenre            Year                                                          \nAction           2016 123  In the fourth installment of the fighting fran...   \n                      580         A kick boxer is out to avenge his brother.   \nAction,Adventure 2007 344  A strange black entity from another world bond...   \n                 2012 368  After Peter Parker is bitten by a genetically ...   \n                 2014 284  Having endured his legendary twelve labors, He...   \n...                                                                      ...   \nThriller         2014 729  A soldier introduces himself to the Peterson f...   \n                 2016 848  Follows Casey and Jonas, two teenagers despera...   \n                      933  A young law student blindly enters into a pact...   \n                      289  Iris, young wife of a businessman, disappears ...   \nThriller,War     2016 160  After a failed assassination attempt, a soldie...   \n\n                                    Director  \\\nGenre            Year                          \nAction           2016 123    Todor Chapkanov   \n                      580     John Stockwell   \nAction,Adventure 2007 344          Sam Raimi   \n                 2012 368          Marc Webb   \n                 2014 284       Brett Ratner   \n...                                      ...   \nThriller         2014 729       Adam Wingard   \n                 2016 848    Nathan Morlando   \n                      933  Christopher Smith   \n                      289      Jalil Lespert   \nThriller,War     2016 160    Fabio Guaglione   \n\n                                                                      Actors  \\\nGenre            Year                                                          \nAction           2016 123  Scott Adkins, Teodora Duhovnikova, Alon Aboutb...   \n                      580  Dave Bautista, Alain Moussi, Gina Carano, Jean...   \nAction,Adventure 2007 344  Tobey Maguire, Kirsten Dunst, Topher Grace, Th...   \n                 2012 368  Andrew Garfield, Emma Stone, Rhys Ifans, Irrfa...   \n                 2014 284  Dwayne Johnson, John Hurt, Ian McShane, Joseph...   \n...                                                                      ...   \nThriller         2014 729  Dan Stevens, Sheila Kelley, Maika Monroe, Joel...   \n                 2016 848  Sophie Nélisse, Josh Wiggins, Joe Cobden, Bill...   \n                      933  Tye Sheridan, Emory Cohen, Bel Powley,Stephen ...   \n                      289  Romain Duris, Charlotte Le Bon, Jalil Lespert,...   \nThriller,War     2016 160  Armie Hammer, Annabelle Wallis,Tom Cullen, Cli...   \n\n                           Year  Runtime (Minutes)  Rating   Votes  \\\nGenre            Year                                                \nAction           2016 123  2016                 86     7.4   10428   \n                      580  2016                 90     4.9    6809   \nAction,Adventure 2007 344  2007                139     6.2  406219   \n                 2012 368  2012                136     7.0  474320   \n                 2014 284  2014                 98     6.0  122838   \n...                         ...                ...     ...     ...   \nThriller         2014 729  2014                100     6.7   71069   \n                 2016 848  2016                108     6.3    1066   \n                      933  2016                 97     6.3    2205   \n                      289  2016                 99     6.1     726   \nThriller,War     2016 160  2016                106     6.0    5926   \n\n                           Revenue (Millions)  Metascore  \nGenre            Year                                     \nAction           2016 123                 NaN        NaN  \n                      580              131.56       37.0  \nAction,Adventure 2007 344              336.53       59.0  \n                 2012 368              262.03       66.0  \n                 2014 284               72.66       47.0  \n...                                       ...        ...  \nThriller         2014 729                0.32       76.0  \n                 2016 848                 NaN       64.0  \n                      933                 NaN       46.0  \n                      289                 NaN        NaN  \nThriller,War     2016 160                 NaN       40.0  \n\n[851 rows x 12 columns]",
      "text/html": "<div>\n<style scoped>\n    .dataframe tbody tr th:only-of-type {\n        vertical-align: middle;\n    }\n\n    .dataframe tbody tr th {\n        vertical-align: top;\n    }\n\n    .dataframe thead th {\n        text-align: right;\n    }\n</style>\n<table border=\"1\" class=\"dataframe\">\n  <thead>\n    <tr style=\"text-align: right;\">\n      <th></th>\n      <th></th>\n      <th></th>\n      <th>Rank</th>\n      <th>Title</th>\n      <th>Genre</th>\n      <th>Description</th>\n      <th>Director</th>\n      <th>Actors</th>\n      <th>Year</th>\n      <th>Runtime (Minutes)</th>\n      <th>Rating</th>\n      <th>Votes</th>\n      <th>Revenue (Millions)</th>\n      <th>Metascore</th>\n    </tr>\n    <tr>\n      <th>Genre</th>\n      <th>Year</th>\n      <th></th>\n      <th></th>\n      <th></th>\n      <th></th>\n      <th></th>\n      <th></th>\n      <th></th>\n      <th></th>\n      <th></th>\n      <th></th>\n      <th></th>\n      <th></th>\n      <th></th>\n    </tr>\n  </thead>\n  <tbody>\n    <tr>\n      <th rowspan=\"2\" valign=\"top\">Action</th>\n      <th rowspan=\"2\" valign=\"top\">2016</th>\n      <th>123</th>\n      <td>124</td>\n      <td>Boyka: Undisputed IV</td>\n      <td>Action</td>\n      <td>In the fourth installment of the fighting fran...</td>\n      <td>Todor Chapkanov</td>\n      <td>Scott Adkins, Teodora Duhovnikova, Alon Aboutb...</td>\n      <td>2016</td>\n      <td>86</td>\n      <td>7.4</td>\n      <td>10428</td>\n      <td>NaN</td>\n      <td>NaN</td>\n    </tr>\n    <tr>\n      <th>580</th>\n      <td>581</td>\n      <td>Kickboxer: Vengeance</td>\n      <td>Action</td>\n      <td>A kick boxer is out to avenge his brother.</td>\n      <td>John Stockwell</td>\n      <td>Dave Bautista, Alain Moussi, Gina Carano, Jean...</td>\n      <td>2016</td>\n      <td>90</td>\n      <td>4.9</td>\n      <td>6809</td>\n      <td>131.56</td>\n      <td>37.0</td>\n    </tr>\n    <tr>\n      <th rowspan=\"3\" valign=\"top\">Action,Adventure</th>\n      <th>2007</th>\n      <th>344</th>\n      <td>345</td>\n      <td>Spider-Man 3</td>\n      <td>Action,Adventure</td>\n      <td>A strange black entity from another world bond...</td>\n      <td>Sam Raimi</td>\n      <td>Tobey Maguire, Kirsten Dunst, Topher Grace, Th...</td>\n      <td>2007</td>\n      <td>139</td>\n      <td>6.2</td>\n      <td>406219</td>\n      <td>336.53</td>\n      <td>59.0</td>\n    </tr>\n    <tr>\n      <th>2012</th>\n      <th>368</th>\n      <td>369</td>\n      <td>The Amazing Spider-Man</td>\n      <td>Action,Adventure</td>\n      <td>After Peter Parker is bitten by a genetically ...</td>\n      <td>Marc Webb</td>\n      <td>Andrew Garfield, Emma Stone, Rhys Ifans, Irrfa...</td>\n      <td>2012</td>\n      <td>136</td>\n      <td>7.0</td>\n      <td>474320</td>\n      <td>262.03</td>\n      <td>66.0</td>\n    </tr>\n    <tr>\n      <th>2014</th>\n      <th>284</th>\n      <td>285</td>\n      <td>Hercules</td>\n      <td>Action,Adventure</td>\n      <td>Having endured his legendary twelve labors, He...</td>\n      <td>Brett Ratner</td>\n      <td>Dwayne Johnson, John Hurt, Ian McShane, Joseph...</td>\n      <td>2014</td>\n      <td>98</td>\n      <td>6.0</td>\n      <td>122838</td>\n      <td>72.66</td>\n      <td>47.0</td>\n    </tr>\n    <tr>\n      <th>...</th>\n      <th>...</th>\n      <th>...</th>\n      <td>...</td>\n      <td>...</td>\n      <td>...</td>\n      <td>...</td>\n      <td>...</td>\n      <td>...</td>\n      <td>...</td>\n      <td>...</td>\n      <td>...</td>\n      <td>...</td>\n      <td>...</td>\n      <td>...</td>\n    </tr>\n    <tr>\n      <th rowspan=\"4\" valign=\"top\">Thriller</th>\n      <th>2014</th>\n      <th>729</th>\n      <td>730</td>\n      <td>The Guest</td>\n      <td>Thriller</td>\n      <td>A soldier introduces himself to the Peterson f...</td>\n      <td>Adam Wingard</td>\n      <td>Dan Stevens, Sheila Kelley, Maika Monroe, Joel...</td>\n      <td>2014</td>\n      <td>100</td>\n      <td>6.7</td>\n      <td>71069</td>\n      <td>0.32</td>\n      <td>76.0</td>\n    </tr>\n    <tr>\n      <th rowspan=\"3\" valign=\"top\">2016</th>\n      <th>848</th>\n      <td>849</td>\n      <td>Mean Dreams</td>\n      <td>Thriller</td>\n      <td>Follows Casey and Jonas, two teenagers despera...</td>\n      <td>Nathan Morlando</td>\n      <td>Sophie Nélisse, Josh Wiggins, Joe Cobden, Bill...</td>\n      <td>2016</td>\n      <td>108</td>\n      <td>6.3</td>\n      <td>1066</td>\n      <td>NaN</td>\n      <td>64.0</td>\n    </tr>\n    <tr>\n      <th>933</th>\n      <td>934</td>\n      <td>Detour</td>\n      <td>Thriller</td>\n      <td>A young law student blindly enters into a pact...</td>\n      <td>Christopher Smith</td>\n      <td>Tye Sheridan, Emory Cohen, Bel Powley,Stephen ...</td>\n      <td>2016</td>\n      <td>97</td>\n      <td>6.3</td>\n      <td>2205</td>\n      <td>NaN</td>\n      <td>46.0</td>\n    </tr>\n    <tr>\n      <th>289</th>\n      <td>290</td>\n      <td>Iris</td>\n      <td>Thriller</td>\n      <td>Iris, young wife of a businessman, disappears ...</td>\n      <td>Jalil Lespert</td>\n      <td>Romain Duris, Charlotte Le Bon, Jalil Lespert,...</td>\n      <td>2016</td>\n      <td>99</td>\n      <td>6.1</td>\n      <td>726</td>\n      <td>NaN</td>\n      <td>NaN</td>\n    </tr>\n    <tr>\n      <th>Thriller,War</th>\n      <th>2016</th>\n      <th>160</th>\n      <td>161</td>\n      <td>Mine</td>\n      <td>Thriller,War</td>\n      <td>After a failed assassination attempt, a soldie...</td>\n      <td>Fabio Guaglione</td>\n      <td>Armie Hammer, Annabelle Wallis,Tom Cullen, Cli...</td>\n      <td>2016</td>\n      <td>106</td>\n      <td>6.0</td>\n      <td>5926</td>\n      <td>NaN</td>\n      <td>40.0</td>\n    </tr>\n  </tbody>\n</table>\n<p>851 rows × 12 columns</p>\n</div>"
     },
     "execution_count": 41,
     "metadata": {},
     "output_type": "execute_result"
    }
   ],
   "source": [
    "# 自定义函数\n",
    "def get_top_3(group):\n",
    "    sgr = group.sort_values(by='Rating',ascending=False)\n",
    "    return sgr.head(3)\n",
    "\n",
    "dfg_top3 = dfg.apply(get_top_3)\n",
    "df10 = dfg_top3['Revenue (Millions)'].sum()\n",
    "df10"
   ],
   "metadata": {
    "collapsed": false,
    "ExecuteTime": {
     "start_time": "2025-04-14T16:00:44.526106Z",
     "end_time": "2025-04-14T16:00:44.772851Z"
    }
   }
  },
  {
   "cell_type": "code",
   "execution_count": null,
   "outputs": [],
   "source": [],
   "metadata": {
    "collapsed": false
   }
  },
  {
   "cell_type": "code",
   "execution_count": 46,
   "outputs": [
    {
     "data": {
      "text/plain": "Director\nAamir Khan                     8.500000\nAbdellatif Kechiche            7.800000\nAisling Walsh                  7.800000\nAlejandro González Iñárritu    7.766667\nAlessandro Carloni             7.200000\n                                 ...   \nWilliam Oldroyd                7.300000\nWoody Allen                    7.020000\nXavier Dolan                   7.550000\nYorgos Lanthimos               7.200000\nZack Snyder                    7.040000\nName: Rating, Length: 231, dtype: float64"
     },
     "execution_count": 46,
     "metadata": {},
     "output_type": "execute_result"
    }
   ],
   "source": [
    "# 11.按 Director 分组，筛选出平均评分高于 7 分的导演，并列出他们的名字以及平均评分。\n",
    "m_df = df.groupby('Director')['Rating'].mean()\n",
    "m_df[m_df>7]"
   ],
   "metadata": {
    "collapsed": false,
    "ExecuteTime": {
     "start_time": "2025-04-14T16:14:20.424596Z",
     "end_time": "2025-04-14T16:14:20.455085Z"
    }
   }
  },
  {
   "cell_type": "code",
   "execution_count": null,
   "outputs": [],
   "source": [
    "# 12.按 Director 分组，找出执导电影数量最多的前 5 位导演，并统计他们的电影总票房。\n",
    "c_s_df = df.groupby('Director').agg(\n",
    "    电影数量 = ('Title','count'),\n",
    "    总票房 = ('Revenue (Millions)','sum')\n",
    ")\n",
    "df12 = c_s_df.sort_values(by='电影数量',ascending=False).head(5)\n",
    "df12"
   ],
   "metadata": {
    "collapsed": false
   }
  },
  {
   "cell_type": "code",
   "execution_count": 48,
   "outputs": [
    {
     "data": {
      "text/plain": "Director             Genre                  \nAamir Khan           Drama,Family,Music         1\nAbdellatif Kechiche  Drama,Romance              1\nAdam Leon            Comedy,Romance             1\nAdam McKay           Action,Comedy,Crime        1\n                     Action,Comedy,Sport        1\n                                               ..\nZack Snyder          Action,Adventure,Sci-Fi    1\n                     Action,Drama,Mystery       1\n                     Action,Fantasy             1\n                     Action,Fantasy,War         1\nZackary Adler        Crime,Drama                1\nLength: 950, dtype: int64"
     },
     "execution_count": 48,
     "metadata": {},
     "output_type": "execute_result"
    }
   ],
   "source": [
    "# 13.按 Director 分组，统计每位导演拍摄不同类型电影的种类数量\n",
    "# df.groupby(['Director','Genre']).size()\n",
    "# df.groupby(['Director','Genre']).count()\n",
    "df.groupby(['Director','Genre']).agg({\n",
    "    'Genre':'count'\n",
    "})"
   ],
   "metadata": {
    "collapsed": false,
    "ExecuteTime": {
     "start_time": "2025-04-14T16:20:37.528934Z",
     "end_time": "2025-04-14T16:20:37.549397Z"
    }
   }
  },
  {
   "cell_type": "markdown",
   "source": [
    "# 《1960 - 2019 全球 GDP 数据.csv》"
   ],
   "metadata": {
    "collapsed": false
   }
  },
  {
   "cell_type": "code",
   "execution_count": 51,
   "outputs": [
    {
     "data": {
      "text/plain": "      year   country           GDP\n0     1960        美国  543300000000\n1     1960        英国   73233967692\n2     1960        法国   62225478000\n3     1960        中国   59716467625\n4     1960        日本   44307342950\n...    ...       ...           ...\n9925  2019  圣多美和普林西比     418637388\n9926  2019        帕劳     268354919\n9927  2019      基里巴斯     194647201\n9928  2019        瑙鲁     118223430\n9929  2019       图瓦卢      47271463\n\n[9930 rows x 3 columns]",
      "text/html": "<div>\n<style scoped>\n    .dataframe tbody tr th:only-of-type {\n        vertical-align: middle;\n    }\n\n    .dataframe tbody tr th {\n        vertical-align: top;\n    }\n\n    .dataframe thead th {\n        text-align: right;\n    }\n</style>\n<table border=\"1\" class=\"dataframe\">\n  <thead>\n    <tr style=\"text-align: right;\">\n      <th></th>\n      <th>year</th>\n      <th>country</th>\n      <th>GDP</th>\n    </tr>\n  </thead>\n  <tbody>\n    <tr>\n      <th>0</th>\n      <td>1960</td>\n      <td>美国</td>\n      <td>543300000000</td>\n    </tr>\n    <tr>\n      <th>1</th>\n      <td>1960</td>\n      <td>英国</td>\n      <td>73233967692</td>\n    </tr>\n    <tr>\n      <th>2</th>\n      <td>1960</td>\n      <td>法国</td>\n      <td>62225478000</td>\n    </tr>\n    <tr>\n      <th>3</th>\n      <td>1960</td>\n      <td>中国</td>\n      <td>59716467625</td>\n    </tr>\n    <tr>\n      <th>4</th>\n      <td>1960</td>\n      <td>日本</td>\n      <td>44307342950</td>\n    </tr>\n    <tr>\n      <th>...</th>\n      <td>...</td>\n      <td>...</td>\n      <td>...</td>\n    </tr>\n    <tr>\n      <th>9925</th>\n      <td>2019</td>\n      <td>圣多美和普林西比</td>\n      <td>418637388</td>\n    </tr>\n    <tr>\n      <th>9926</th>\n      <td>2019</td>\n      <td>帕劳</td>\n      <td>268354919</td>\n    </tr>\n    <tr>\n      <th>9927</th>\n      <td>2019</td>\n      <td>基里巴斯</td>\n      <td>194647201</td>\n    </tr>\n    <tr>\n      <th>9928</th>\n      <td>2019</td>\n      <td>瑙鲁</td>\n      <td>118223430</td>\n    </tr>\n    <tr>\n      <th>9929</th>\n      <td>2019</td>\n      <td>图瓦卢</td>\n      <td>47271463</td>\n    </tr>\n  </tbody>\n</table>\n<p>9930 rows × 3 columns</p>\n</div>"
     },
     "execution_count": 51,
     "metadata": {},
     "output_type": "execute_result"
    }
   ],
   "source": [
    "df = pd.read_csv(\"./data/1960-2019全球GDP数据.csv\",encoding='gbk')\n",
    "df"
   ],
   "metadata": {
    "collapsed": false,
    "ExecuteTime": {
     "start_time": "2025-04-14T16:39:13.798371Z",
     "end_time": "2025-04-14T16:39:13.848439Z"
    }
   }
  },
  {
   "cell_type": "code",
   "execution_count": 52,
   "outputs": [
    {
     "data": {
      "text/plain": "country\n不丹           28355412801\n东帝汶          56520740800\n中国       130918390000000\n中非           34498920113\n丹麦         5863049000000\n              ...       \n马耳他         179040357018\n马达加斯加       190354177644\n马里          202326353206\n黎巴嫩         706859894360\n黑山           70720398983\nName: GDP, Length: 210, dtype: int64"
     },
     "execution_count": 52,
     "metadata": {},
     "output_type": "execute_result"
    }
   ],
   "source": [
    "# \t1.筛选出 2000 年之后（含 2000 年）的数据，计算这些数据中各国家 GDP 的总和。\n",
    "df_2000 = df[df['year']>=2000]\n",
    "# 各国家\n",
    "df1 = df_2000.groupby('country')['GDP'].sum()\n",
    "df1"
   ],
   "metadata": {
    "collapsed": false,
    "ExecuteTime": {
     "start_time": "2025-04-14T16:39:15.754231Z",
     "end_time": "2025-04-14T16:39:15.790599Z"
    }
   }
  },
  {
   "cell_type": "code",
   "execution_count": 56,
   "outputs": [
    {
     "data": {
      "text/plain": "country\n不丹       7.733515e+08\n东帝汶      1.833098e+09\n中国       3.944559e+12\n中非       6.872801e+08\n丹麦       1.213597e+11\n             ...     \n马耳他      4.232749e+09\n马达加斯加    3.962300e+09\n马里       5.067445e+09\n黎巴嫩      1.713574e+10\n黑山       1.463152e+09\nName: GDP, Length: 210, dtype: float64"
     },
     "execution_count": 56,
     "metadata": {},
     "output_type": "execute_result"
    }
   ],
   "source": [
    "# \t2.按国家分组，过滤出 GDP 数据标准差大于 1000000 的国家，显示这些国家的名称和 GDP 标准差。\n",
    "df_st = df.groupby('country')['GDP'].std().reset_index()\n",
    "df2 = df_st[df_st['GDP'] > 1000000]\n",
    "df2\n"
   ],
   "metadata": {
    "collapsed": false,
    "ExecuteTime": {
     "start_time": "2025-04-14T16:43:25.688929Z",
     "end_time": "2025-04-14T16:43:25.722725Z"
    }
   }
  },
  {
   "cell_type": "code",
   "execution_count": 57,
   "outputs": [
    {
     "data": {
      "text/plain": "      year country             GDP\n0     1960      美国    543300000000\n103   1961      美国    563300000000\n206   1962      美国    605100000000\n311   1963      美国    638600000000\n416   1964      美国    685800000000\n521   1965      美国    743700000000\n635   1966      美国    815000000000\n750   1967      美国    861700000000\n868   1968      美国    942500000000\n988   1969      美国   1019900000000\n1108  1970      美国   1073300000000\n1237  1971      美国   1164850000000\n1367  1972      美国   1279110000000\n1497  1973      美国   1425380000000\n1627  1974      美国   1545240000000\n1758  1975      美国   1684900000000\n1891  1976      美国   1873410000000\n2025  1977      美国   2081830000000\n2163  1978      美国   2351600000000\n2300  1979      美国   2627330000000\n2438  1980      美国   2857310000000\n2586  1981      美国   3207040000000\n2737  1982      美国   3343790000000\n2889  1983      美国   3634040000000\n3042  1984      美国   4037610000000\n3196  1985      美国   4338980000000\n3352  1986      美国   4579630000000\n3510  1987      美国   4855220000000\n3672  1988      美国   5236440000000\n3837  1989      美国   5641580000000\n4002  1990      美国   5963140000000\n4185  1991      美国   6158130000000\n4366  1992      美国   6520330000000\n4548  1993      美国   6858560000000\n4733  1994      美国   7287240000000\n4920  1995      美国   7639750000000\n5112  1996      美国   8073120000000\n5305  1997      美国   8577550000000\n5497  1998      美国   9062820000000\n5690  1999      美国   9630660000000\n5884  2000      美国  10252300000000\n6081  2001      美国  10581800000000\n6279  2002      美国  10936400000000\n6480  2003      美国  11458200000000\n6681  2004      美国  12213700000000\n6883  2005      美国  13036600000000\n7086  2006      美国  13814600000000\n7289  2007      美国  14451900000000\n7493  2008      美国  14712800000000\n7697  2009      美国  14448900000000\n7901  2010      美国  14992100000000\n8105  2011      美国  15542600000000\n8311  2012      美国  16197000000000\n8516  2013      美国  16784800000000\n8722  2014      美国  17527200000000\n8928  2015      美国  18224700000000\n9133  2016      美国  18715000000000\n9338  2017      美国  19519400000000\n9542  2018      美国  20580200000000\n9745  2019      美国  21433200000000",
      "text/html": "<div>\n<style scoped>\n    .dataframe tbody tr th:only-of-type {\n        vertical-align: middle;\n    }\n\n    .dataframe tbody tr th {\n        vertical-align: top;\n    }\n\n    .dataframe thead th {\n        text-align: right;\n    }\n</style>\n<table border=\"1\" class=\"dataframe\">\n  <thead>\n    <tr style=\"text-align: right;\">\n      <th></th>\n      <th>year</th>\n      <th>country</th>\n      <th>GDP</th>\n    </tr>\n  </thead>\n  <tbody>\n    <tr>\n      <th>0</th>\n      <td>1960</td>\n      <td>美国</td>\n      <td>543300000000</td>\n    </tr>\n    <tr>\n      <th>103</th>\n      <td>1961</td>\n      <td>美国</td>\n      <td>563300000000</td>\n    </tr>\n    <tr>\n      <th>206</th>\n      <td>1962</td>\n      <td>美国</td>\n      <td>605100000000</td>\n    </tr>\n    <tr>\n      <th>311</th>\n      <td>1963</td>\n      <td>美国</td>\n      <td>638600000000</td>\n    </tr>\n    <tr>\n      <th>416</th>\n      <td>1964</td>\n      <td>美国</td>\n      <td>685800000000</td>\n    </tr>\n    <tr>\n      <th>521</th>\n      <td>1965</td>\n      <td>美国</td>\n      <td>743700000000</td>\n    </tr>\n    <tr>\n      <th>635</th>\n      <td>1966</td>\n      <td>美国</td>\n      <td>815000000000</td>\n    </tr>\n    <tr>\n      <th>750</th>\n      <td>1967</td>\n      <td>美国</td>\n      <td>861700000000</td>\n    </tr>\n    <tr>\n      <th>868</th>\n      <td>1968</td>\n      <td>美国</td>\n      <td>942500000000</td>\n    </tr>\n    <tr>\n      <th>988</th>\n      <td>1969</td>\n      <td>美国</td>\n      <td>1019900000000</td>\n    </tr>\n    <tr>\n      <th>1108</th>\n      <td>1970</td>\n      <td>美国</td>\n      <td>1073300000000</td>\n    </tr>\n    <tr>\n      <th>1237</th>\n      <td>1971</td>\n      <td>美国</td>\n      <td>1164850000000</td>\n    </tr>\n    <tr>\n      <th>1367</th>\n      <td>1972</td>\n      <td>美国</td>\n      <td>1279110000000</td>\n    </tr>\n    <tr>\n      <th>1497</th>\n      <td>1973</td>\n      <td>美国</td>\n      <td>1425380000000</td>\n    </tr>\n    <tr>\n      <th>1627</th>\n      <td>1974</td>\n      <td>美国</td>\n      <td>1545240000000</td>\n    </tr>\n    <tr>\n      <th>1758</th>\n      <td>1975</td>\n      <td>美国</td>\n      <td>1684900000000</td>\n    </tr>\n    <tr>\n      <th>1891</th>\n      <td>1976</td>\n      <td>美国</td>\n      <td>1873410000000</td>\n    </tr>\n    <tr>\n      <th>2025</th>\n      <td>1977</td>\n      <td>美国</td>\n      <td>2081830000000</td>\n    </tr>\n    <tr>\n      <th>2163</th>\n      <td>1978</td>\n      <td>美国</td>\n      <td>2351600000000</td>\n    </tr>\n    <tr>\n      <th>2300</th>\n      <td>1979</td>\n      <td>美国</td>\n      <td>2627330000000</td>\n    </tr>\n    <tr>\n      <th>2438</th>\n      <td>1980</td>\n      <td>美国</td>\n      <td>2857310000000</td>\n    </tr>\n    <tr>\n      <th>2586</th>\n      <td>1981</td>\n      <td>美国</td>\n      <td>3207040000000</td>\n    </tr>\n    <tr>\n      <th>2737</th>\n      <td>1982</td>\n      <td>美国</td>\n      <td>3343790000000</td>\n    </tr>\n    <tr>\n      <th>2889</th>\n      <td>1983</td>\n      <td>美国</td>\n      <td>3634040000000</td>\n    </tr>\n    <tr>\n      <th>3042</th>\n      <td>1984</td>\n      <td>美国</td>\n      <td>4037610000000</td>\n    </tr>\n    <tr>\n      <th>3196</th>\n      <td>1985</td>\n      <td>美国</td>\n      <td>4338980000000</td>\n    </tr>\n    <tr>\n      <th>3352</th>\n      <td>1986</td>\n      <td>美国</td>\n      <td>4579630000000</td>\n    </tr>\n    <tr>\n      <th>3510</th>\n      <td>1987</td>\n      <td>美国</td>\n      <td>4855220000000</td>\n    </tr>\n    <tr>\n      <th>3672</th>\n      <td>1988</td>\n      <td>美国</td>\n      <td>5236440000000</td>\n    </tr>\n    <tr>\n      <th>3837</th>\n      <td>1989</td>\n      <td>美国</td>\n      <td>5641580000000</td>\n    </tr>\n    <tr>\n      <th>4002</th>\n      <td>1990</td>\n      <td>美国</td>\n      <td>5963140000000</td>\n    </tr>\n    <tr>\n      <th>4185</th>\n      <td>1991</td>\n      <td>美国</td>\n      <td>6158130000000</td>\n    </tr>\n    <tr>\n      <th>4366</th>\n      <td>1992</td>\n      <td>美国</td>\n      <td>6520330000000</td>\n    </tr>\n    <tr>\n      <th>4548</th>\n      <td>1993</td>\n      <td>美国</td>\n      <td>6858560000000</td>\n    </tr>\n    <tr>\n      <th>4733</th>\n      <td>1994</td>\n      <td>美国</td>\n      <td>7287240000000</td>\n    </tr>\n    <tr>\n      <th>4920</th>\n      <td>1995</td>\n      <td>美国</td>\n      <td>7639750000000</td>\n    </tr>\n    <tr>\n      <th>5112</th>\n      <td>1996</td>\n      <td>美国</td>\n      <td>8073120000000</td>\n    </tr>\n    <tr>\n      <th>5305</th>\n      <td>1997</td>\n      <td>美国</td>\n      <td>8577550000000</td>\n    </tr>\n    <tr>\n      <th>5497</th>\n      <td>1998</td>\n      <td>美国</td>\n      <td>9062820000000</td>\n    </tr>\n    <tr>\n      <th>5690</th>\n      <td>1999</td>\n      <td>美国</td>\n      <td>9630660000000</td>\n    </tr>\n    <tr>\n      <th>5884</th>\n      <td>2000</td>\n      <td>美国</td>\n      <td>10252300000000</td>\n    </tr>\n    <tr>\n      <th>6081</th>\n      <td>2001</td>\n      <td>美国</td>\n      <td>10581800000000</td>\n    </tr>\n    <tr>\n      <th>6279</th>\n      <td>2002</td>\n      <td>美国</td>\n      <td>10936400000000</td>\n    </tr>\n    <tr>\n      <th>6480</th>\n      <td>2003</td>\n      <td>美国</td>\n      <td>11458200000000</td>\n    </tr>\n    <tr>\n      <th>6681</th>\n      <td>2004</td>\n      <td>美国</td>\n      <td>12213700000000</td>\n    </tr>\n    <tr>\n      <th>6883</th>\n      <td>2005</td>\n      <td>美国</td>\n      <td>13036600000000</td>\n    </tr>\n    <tr>\n      <th>7086</th>\n      <td>2006</td>\n      <td>美国</td>\n      <td>13814600000000</td>\n    </tr>\n    <tr>\n      <th>7289</th>\n      <td>2007</td>\n      <td>美国</td>\n      <td>14451900000000</td>\n    </tr>\n    <tr>\n      <th>7493</th>\n      <td>2008</td>\n      <td>美国</td>\n      <td>14712800000000</td>\n    </tr>\n    <tr>\n      <th>7697</th>\n      <td>2009</td>\n      <td>美国</td>\n      <td>14448900000000</td>\n    </tr>\n    <tr>\n      <th>7901</th>\n      <td>2010</td>\n      <td>美国</td>\n      <td>14992100000000</td>\n    </tr>\n    <tr>\n      <th>8105</th>\n      <td>2011</td>\n      <td>美国</td>\n      <td>15542600000000</td>\n    </tr>\n    <tr>\n      <th>8311</th>\n      <td>2012</td>\n      <td>美国</td>\n      <td>16197000000000</td>\n    </tr>\n    <tr>\n      <th>8516</th>\n      <td>2013</td>\n      <td>美国</td>\n      <td>16784800000000</td>\n    </tr>\n    <tr>\n      <th>8722</th>\n      <td>2014</td>\n      <td>美国</td>\n      <td>17527200000000</td>\n    </tr>\n    <tr>\n      <th>8928</th>\n      <td>2015</td>\n      <td>美国</td>\n      <td>18224700000000</td>\n    </tr>\n    <tr>\n      <th>9133</th>\n      <td>2016</td>\n      <td>美国</td>\n      <td>18715000000000</td>\n    </tr>\n    <tr>\n      <th>9338</th>\n      <td>2017</td>\n      <td>美国</td>\n      <td>19519400000000</td>\n    </tr>\n    <tr>\n      <th>9542</th>\n      <td>2018</td>\n      <td>美国</td>\n      <td>20580200000000</td>\n    </tr>\n    <tr>\n      <th>9745</th>\n      <td>2019</td>\n      <td>美国</td>\n      <td>21433200000000</td>\n    </tr>\n  </tbody>\n</table>\n</div>"
     },
     "execution_count": 57,
     "metadata": {},
     "output_type": "execute_result"
    }
   ],
   "source": [
    "# \t3.找出每年 GDP 最高的国家及其对应的 GDP 值，将结果保存为新的 DataFrame。\n",
    "# 法一\n",
    "df.sort_values(by=['year','GDP'],ascending=[True,False]).groupby('year').head(1)\n",
    "# 法二\n",
    "df3 = df.groupby('year').agg({\n",
    "    'GDP': 'max'\n",
    "})\n",
    "df3_1 = pd.merge(df3, df, on=['year', 'GDP'])"
   ],
   "metadata": {
    "collapsed": false,
    "ExecuteTime": {
     "start_time": "2025-04-14T16:45:13.894251Z",
     "end_time": "2025-04-14T16:45:13.934117Z"
    }
   }
  },
  {
   "cell_type": "code",
   "execution_count": 58,
   "outputs": [
    {
     "name": "stderr",
     "output_type": "stream",
     "text": [
      "C:\\Users\\LG\\AppData\\Local\\Temp\\ipykernel_39000\\2258044707.py:7: DeprecationWarning: DataFrameGroupBy.apply operated on the grouping columns. This behavior is deprecated, and in a future version of pandas the grouping columns will be excluded from the operation. Either pass `include_groups=False` to exclude the groupings or explicitly select the grouping columns after groupby to silence this warning.\n",
      "  df4 = df.groupby('year').apply(year_max_3)\n"
     ]
    },
    {
     "data": {
      "text/plain": "           year country             GDP  gdp_ratio\nyear                                              \n1960 0     1960      美国    543300000000   0.468481\n     1     1960      英国     73233967692   0.063149\n     2     1960      法国     62225478000   0.053656\n1961 103   1961      美国    563300000000   0.466662\n     104   1961      英国     77741965703   0.064405\n...         ...     ...             ...        ...\n2018 9543  2018      中国  13894800000000   0.163241\n     9544  2018      日本   4954810000000   0.058211\n2019 9745  2019      美国  21433200000000   0.249976\n     9746  2019      中国  14279900000000   0.166547\n     9747  2019      日本   5081770000000   0.059269\n\n[180 rows x 4 columns]",
      "text/html": "<div>\n<style scoped>\n    .dataframe tbody tr th:only-of-type {\n        vertical-align: middle;\n    }\n\n    .dataframe tbody tr th {\n        vertical-align: top;\n    }\n\n    .dataframe thead th {\n        text-align: right;\n    }\n</style>\n<table border=\"1\" class=\"dataframe\">\n  <thead>\n    <tr style=\"text-align: right;\">\n      <th></th>\n      <th></th>\n      <th>year</th>\n      <th>country</th>\n      <th>GDP</th>\n      <th>gdp_ratio</th>\n    </tr>\n    <tr>\n      <th>year</th>\n      <th></th>\n      <th></th>\n      <th></th>\n      <th></th>\n      <th></th>\n    </tr>\n  </thead>\n  <tbody>\n    <tr>\n      <th rowspan=\"3\" valign=\"top\">1960</th>\n      <th>0</th>\n      <td>1960</td>\n      <td>美国</td>\n      <td>543300000000</td>\n      <td>0.468481</td>\n    </tr>\n    <tr>\n      <th>1</th>\n      <td>1960</td>\n      <td>英国</td>\n      <td>73233967692</td>\n      <td>0.063149</td>\n    </tr>\n    <tr>\n      <th>2</th>\n      <td>1960</td>\n      <td>法国</td>\n      <td>62225478000</td>\n      <td>0.053656</td>\n    </tr>\n    <tr>\n      <th rowspan=\"2\" valign=\"top\">1961</th>\n      <th>103</th>\n      <td>1961</td>\n      <td>美国</td>\n      <td>563300000000</td>\n      <td>0.466662</td>\n    </tr>\n    <tr>\n      <th>104</th>\n      <td>1961</td>\n      <td>英国</td>\n      <td>77741965703</td>\n      <td>0.064405</td>\n    </tr>\n    <tr>\n      <th>...</th>\n      <th>...</th>\n      <td>...</td>\n      <td>...</td>\n      <td>...</td>\n      <td>...</td>\n    </tr>\n    <tr>\n      <th rowspan=\"2\" valign=\"top\">2018</th>\n      <th>9543</th>\n      <td>2018</td>\n      <td>中国</td>\n      <td>13894800000000</td>\n      <td>0.163241</td>\n    </tr>\n    <tr>\n      <th>9544</th>\n      <td>2018</td>\n      <td>日本</td>\n      <td>4954810000000</td>\n      <td>0.058211</td>\n    </tr>\n    <tr>\n      <th rowspan=\"3\" valign=\"top\">2019</th>\n      <th>9745</th>\n      <td>2019</td>\n      <td>美国</td>\n      <td>21433200000000</td>\n      <td>0.249976</td>\n    </tr>\n    <tr>\n      <th>9746</th>\n      <td>2019</td>\n      <td>中国</td>\n      <td>14279900000000</td>\n      <td>0.166547</td>\n    </tr>\n    <tr>\n      <th>9747</th>\n      <td>2019</td>\n      <td>日本</td>\n      <td>5081770000000</td>\n      <td>0.059269</td>\n    </tr>\n  </tbody>\n</table>\n<p>180 rows × 4 columns</p>\n</div>"
     },
     "execution_count": 58,
     "metadata": {},
     "output_type": "execute_result"
    }
   ],
   "source": [
    "# \t4.计算每个国家 GDP 占全球 GDP 总和的比例，按年份分组，找出每年占比最高的前三个国家。\n",
    "def year_max_3(datas):\n",
    "    g_gdp = datas['GDP'].sum()\n",
    "    datas['gdp_ratio'] = datas['GDP'] / g_gdp\n",
    "    return datas.sort_values(by='gdp_ratio',ascending=False).head(3)\n",
    "\n",
    "df4 = df.groupby('year').apply(year_max_3)\n",
    "df4"
   ],
   "metadata": {
    "collapsed": false,
    "ExecuteTime": {
     "start_time": "2025-04-14T16:49:06.622634Z",
     "end_time": "2025-04-14T16:49:06.691495Z"
    }
   }
  },
  {
   "cell_type": "code",
   "execution_count": 59,
   "outputs": [
    {
     "data": {
      "text/plain": "      year country             GDP\n9745  2019      美国  21433200000000\n9542  2018      美国  20580200000000\n9338  2017      美国  19519400000000\n9133  2016      美国  18715000000000\n8928  2015      美国  18224700000000\n...    ...     ...             ...\n561   1965      韩国      3120833333\n138   1961      泰国      3034043574\n243   1962      韩国      2814318516\n35    1960      泰国      2760747471\n141   1961      韩国      2417558289\n\n[410 rows x 3 columns]",
      "text/html": "<div>\n<style scoped>\n    .dataframe tbody tr th:only-of-type {\n        vertical-align: middle;\n    }\n\n    .dataframe tbody tr th {\n        vertical-align: top;\n    }\n\n    .dataframe thead th {\n        text-align: right;\n    }\n</style>\n<table border=\"1\" class=\"dataframe\">\n  <thead>\n    <tr style=\"text-align: right;\">\n      <th></th>\n      <th>year</th>\n      <th>country</th>\n      <th>GDP</th>\n    </tr>\n  </thead>\n  <tbody>\n    <tr>\n      <th>9745</th>\n      <td>2019</td>\n      <td>美国</td>\n      <td>21433200000000</td>\n    </tr>\n    <tr>\n      <th>9542</th>\n      <td>2018</td>\n      <td>美国</td>\n      <td>20580200000000</td>\n    </tr>\n    <tr>\n      <th>9338</th>\n      <td>2017</td>\n      <td>美国</td>\n      <td>19519400000000</td>\n    </tr>\n    <tr>\n      <th>9133</th>\n      <td>2016</td>\n      <td>美国</td>\n      <td>18715000000000</td>\n    </tr>\n    <tr>\n      <th>8928</th>\n      <td>2015</td>\n      <td>美国</td>\n      <td>18224700000000</td>\n    </tr>\n    <tr>\n      <th>...</th>\n      <td>...</td>\n      <td>...</td>\n      <td>...</td>\n    </tr>\n    <tr>\n      <th>561</th>\n      <td>1965</td>\n      <td>韩国</td>\n      <td>3120833333</td>\n    </tr>\n    <tr>\n      <th>138</th>\n      <td>1961</td>\n      <td>泰国</td>\n      <td>3034043574</td>\n    </tr>\n    <tr>\n      <th>243</th>\n      <td>1962</td>\n      <td>韩国</td>\n      <td>2814318516</td>\n    </tr>\n    <tr>\n      <th>35</th>\n      <td>1960</td>\n      <td>泰国</td>\n      <td>2760747471</td>\n    </tr>\n    <tr>\n      <th>141</th>\n      <td>1961</td>\n      <td>韩国</td>\n      <td>2417558289</td>\n    </tr>\n  </tbody>\n</table>\n<p>410 rows × 3 columns</p>\n</div>"
     },
     "execution_count": 59,
     "metadata": {},
     "output_type": "execute_result"
    }
   ],
   "source": [
    "# \t5.把国家名称中包含特定字符（如 “国”）的国家数据提取出来，按 GDP 降序排序，保存为新的 CSV 文件。\n",
    "df_c = df[df['country'].str.contains('国')]\n",
    "df_c.sort_values(by='GDP',ascending=False)"
   ],
   "metadata": {
    "collapsed": false,
    "ExecuteTime": {
     "start_time": "2025-04-14T16:52:03.163194Z",
     "end_time": "2025-04-14T16:52:03.183762Z"
    }
   }
  },
  {
   "cell_type": "markdown",
   "source": [
    "# 《uniqlo.csv》"
   ],
   "metadata": {
    "collapsed": false
   }
  },
  {
   "cell_type": "code",
   "execution_count": 60,
   "outputs": [
    {
     "name": "stdout",
     "output_type": "stream",
     "text": [
      "<class 'pandas.core.frame.DataFrame'>\n",
      "RangeIndex: 22293 entries, 0 to 22292\n",
      "Data columns (total 12 columns):\n",
      " #   Column        Non-Null Count  Dtype  \n",
      "---  ------        --------------  -----  \n",
      " 0   store_id      22293 non-null  int64  \n",
      " 1   city          22293 non-null  object \n",
      " 2   channel       22293 non-null  object \n",
      " 3   gender_group  22293 non-null  object \n",
      " 4   age_group     22293 non-null  object \n",
      " 5   wkd_ind       22293 non-null  object \n",
      " 6   product       22293 non-null  object \n",
      " 7   customer      22293 non-null  int64  \n",
      " 8   revenue       22293 non-null  float64\n",
      " 9   order         22293 non-null  int64  \n",
      " 10  quant         22293 non-null  int64  \n",
      " 11  unit_cost     22293 non-null  int64  \n",
      "dtypes: float64(1), int64(5), object(6)\n",
      "memory usage: 2.0+ MB\n"
     ]
    }
   ],
   "source": [
    "# 1.读取文件，筛选出价格在 50 - 100 元之间且销量大于 100 的商品，按销量降序排序后保存为新的 CSV 文件。\n",
    "df = pd.read_csv('./data/uniqlo.csv')\n",
    "df.info()\n"
   ],
   "metadata": {
    "collapsed": false,
    "ExecuteTime": {
     "start_time": "2025-04-14T16:53:25.233618Z",
     "end_time": "2025-04-14T16:53:25.323776Z"
    }
   }
  },
  {
   "cell_type": "code",
   "execution_count": 62,
   "outputs": [
    {
     "data": {
      "text/plain": "       store_id city channel gender_group age_group  wkd_ind product  \\\n9628         19   南京      线下       Female     45-49  Weekday    当季新品   \n9699        437   重庆      线下       Female     35-39  Weekday    当季新品   \n16309       146   杭州      线下       Female     25-29  Weekday    当季新品   \n\n       customer   revenue  order  quant  unit_cost  \n9628         42  12538.00     45     70         59  \n9699         58  10498.28     65     65         59  \n16309        45   8836.00     54     55         59  ",
      "text/html": "<div>\n<style scoped>\n    .dataframe tbody tr th:only-of-type {\n        vertical-align: middle;\n    }\n\n    .dataframe tbody tr th {\n        vertical-align: top;\n    }\n\n    .dataframe thead th {\n        text-align: right;\n    }\n</style>\n<table border=\"1\" class=\"dataframe\">\n  <thead>\n    <tr style=\"text-align: right;\">\n      <th></th>\n      <th>store_id</th>\n      <th>city</th>\n      <th>channel</th>\n      <th>gender_group</th>\n      <th>age_group</th>\n      <th>wkd_ind</th>\n      <th>product</th>\n      <th>customer</th>\n      <th>revenue</th>\n      <th>order</th>\n      <th>quant</th>\n      <th>unit_cost</th>\n    </tr>\n  </thead>\n  <tbody>\n    <tr>\n      <th>9628</th>\n      <td>19</td>\n      <td>南京</td>\n      <td>线下</td>\n      <td>Female</td>\n      <td>45-49</td>\n      <td>Weekday</td>\n      <td>当季新品</td>\n      <td>42</td>\n      <td>12538.00</td>\n      <td>45</td>\n      <td>70</td>\n      <td>59</td>\n    </tr>\n    <tr>\n      <th>9699</th>\n      <td>437</td>\n      <td>重庆</td>\n      <td>线下</td>\n      <td>Female</td>\n      <td>35-39</td>\n      <td>Weekday</td>\n      <td>当季新品</td>\n      <td>58</td>\n      <td>10498.28</td>\n      <td>65</td>\n      <td>65</td>\n      <td>59</td>\n    </tr>\n    <tr>\n      <th>16309</th>\n      <td>146</td>\n      <td>杭州</td>\n      <td>线下</td>\n      <td>Female</td>\n      <td>25-29</td>\n      <td>Weekday</td>\n      <td>当季新品</td>\n      <td>45</td>\n      <td>8836.00</td>\n      <td>54</td>\n      <td>55</td>\n      <td>59</td>\n    </tr>\n  </tbody>\n</table>\n</div>"
     },
     "execution_count": 62,
     "metadata": {},
     "output_type": "execute_result"
    }
   ],
   "source": [
    "# 筛选出价格在 50 - 100 元之间且销量大于 100 的商品，按销量降序排序\n",
    "df1 = df[(df['unit_cost'] >= 50) & (df['unit_cost'] <=100) & (df['quant'] > 50)].sort_values(by='quant',ascending=False)\n",
    "df1\n",
    "\n"
   ],
   "metadata": {
    "collapsed": false,
    "ExecuteTime": {
     "start_time": "2025-04-14T16:58:23.850849Z",
     "end_time": "2025-04-14T16:58:23.891219Z"
    }
   }
  },
  {
   "cell_type": "code",
   "execution_count": 109,
   "outputs": [
    {
     "data": {
      "text/plain": "  product  平均价格\n0      T恤  49.0\n1    当季新品  59.0\n2      毛衣  99.0\n3     牛仔裤  69.0\n4      短裤  19.0\n5      袜子   9.0\n6      裙子  59.0\n7      运动  49.0\n8      配件  29.0",
      "text/html": "<div>\n<style scoped>\n    .dataframe tbody tr th:only-of-type {\n        vertical-align: middle;\n    }\n\n    .dataframe tbody tr th {\n        vertical-align: top;\n    }\n\n    .dataframe thead th {\n        text-align: right;\n    }\n</style>\n<table border=\"1\" class=\"dataframe\">\n  <thead>\n    <tr style=\"text-align: right;\">\n      <th></th>\n      <th>product</th>\n      <th>平均价格</th>\n    </tr>\n  </thead>\n  <tbody>\n    <tr>\n      <th>0</th>\n      <td>T恤</td>\n      <td>49.0</td>\n    </tr>\n    <tr>\n      <th>1</th>\n      <td>当季新品</td>\n      <td>59.0</td>\n    </tr>\n    <tr>\n      <th>2</th>\n      <td>毛衣</td>\n      <td>99.0</td>\n    </tr>\n    <tr>\n      <th>3</th>\n      <td>牛仔裤</td>\n      <td>69.0</td>\n    </tr>\n    <tr>\n      <th>4</th>\n      <td>短裤</td>\n      <td>19.0</td>\n    </tr>\n    <tr>\n      <th>5</th>\n      <td>袜子</td>\n      <td>9.0</td>\n    </tr>\n    <tr>\n      <th>6</th>\n      <td>裙子</td>\n      <td>59.0</td>\n    </tr>\n    <tr>\n      <th>7</th>\n      <td>运动</td>\n      <td>49.0</td>\n    </tr>\n    <tr>\n      <th>8</th>\n      <td>配件</td>\n      <td>29.0</td>\n    </tr>\n  </tbody>\n</table>\n</div>"
     },
     "execution_count": 109,
     "metadata": {},
     "output_type": "execute_result"
    }
   ],
   "source": [
    "# 2.按商品类别分组，过滤出平均价格低于 30 元的类别，展示这些类别的名称和平均价格。\n",
    "d_m = df.groupby('product')['unit_cost'].mean().reset_index(name='平均价格')\n",
    "# df.reset_index()\n",
    "# s1 = pd.Series([1,2,3,4,5])\n",
    "# s1.reset_index()\n",
    "# df.groupby('product')['unit_cost'].mean()[8]\n",
    "# df.groupby('product')['unit_cost'].mean()\n",
    "# type(df.groupby('product')['unit_cost'].mean()[0])\n",
    "d_m\n",
    "# d_m[d_m['平均价格'] < 30]\n",
    "# df1 = df.groupby('product')['unit_cost']\n",
    "# df1.mean()\n",
    "# df.groupby('product')['unit_cost'].groups[\"毛衣\"]\n",
    "\n"
   ],
   "metadata": {
    "collapsed": false,
    "ExecuteTime": {
     "start_time": "2025-04-14T17:56:06.923457Z",
     "end_time": "2025-04-14T17:56:06.959127Z"
    }
   }
  },
  {
   "cell_type": "code",
   "execution_count": 114,
   "outputs": [
    {
     "data": {
      "text/plain": "   平均价格    品牌\n0   9.0    袜子\n1  19.0    短裤\n2  29.0    配件\n3  49.0    T恤\n4  59.0  当季新品\n5  69.0   牛仔裤\n6  99.0    毛衣",
      "text/html": "<div>\n<style scoped>\n    .dataframe tbody tr th:only-of-type {\n        vertical-align: middle;\n    }\n\n    .dataframe tbody tr th {\n        vertical-align: top;\n    }\n\n    .dataframe thead th {\n        text-align: right;\n    }\n</style>\n<table border=\"1\" class=\"dataframe\">\n  <thead>\n    <tr style=\"text-align: right;\">\n      <th></th>\n      <th>平均价格</th>\n      <th>品牌</th>\n    </tr>\n  </thead>\n  <tbody>\n    <tr>\n      <th>0</th>\n      <td>9.0</td>\n      <td>袜子</td>\n    </tr>\n    <tr>\n      <th>1</th>\n      <td>19.0</td>\n      <td>短裤</td>\n    </tr>\n    <tr>\n      <th>2</th>\n      <td>29.0</td>\n      <td>配件</td>\n    </tr>\n    <tr>\n      <th>3</th>\n      <td>49.0</td>\n      <td>T恤</td>\n    </tr>\n    <tr>\n      <th>4</th>\n      <td>59.0</td>\n      <td>当季新品</td>\n    </tr>\n    <tr>\n      <th>5</th>\n      <td>69.0</td>\n      <td>牛仔裤</td>\n    </tr>\n    <tr>\n      <th>6</th>\n      <td>99.0</td>\n      <td>毛衣</td>\n    </tr>\n  </tbody>\n</table>\n</div>"
     },
     "execution_count": 114,
     "metadata": {},
     "output_type": "execute_result"
    }
   ],
   "source": [
    "d_m.groupby(\"平均价格\")['product'].min().reset_index(name='品牌')"
   ],
   "metadata": {
    "collapsed": false,
    "ExecuteTime": {
     "start_time": "2025-04-14T18:00:04.563382Z",
     "end_time": "2025-04-14T18:00:04.587558Z"
    }
   }
  },
  {
   "cell_type": "code",
   "execution_count": 116,
   "outputs": [
    {
     "data": {
      "text/plain": "   123 product  平均价格\n0    0      T恤  49.0\n1    1    当季新品  59.0\n2    2      毛衣  99.0\n3    3     牛仔裤  69.0\n4    4      短裤  19.0\n5    5      袜子   9.0\n6    6      裙子  59.0\n7    7      运动  49.0\n8    8      配件  29.0",
      "text/html": "<div>\n<style scoped>\n    .dataframe tbody tr th:only-of-type {\n        vertical-align: middle;\n    }\n\n    .dataframe tbody tr th {\n        vertical-align: top;\n    }\n\n    .dataframe thead th {\n        text-align: right;\n    }\n</style>\n<table border=\"1\" class=\"dataframe\">\n  <thead>\n    <tr style=\"text-align: right;\">\n      <th></th>\n      <th>123</th>\n      <th>product</th>\n      <th>平均价格</th>\n    </tr>\n  </thead>\n  <tbody>\n    <tr>\n      <th>0</th>\n      <td>0</td>\n      <td>T恤</td>\n      <td>49.0</td>\n    </tr>\n    <tr>\n      <th>1</th>\n      <td>1</td>\n      <td>当季新品</td>\n      <td>59.0</td>\n    </tr>\n    <tr>\n      <th>2</th>\n      <td>2</td>\n      <td>毛衣</td>\n      <td>99.0</td>\n    </tr>\n    <tr>\n      <th>3</th>\n      <td>3</td>\n      <td>牛仔裤</td>\n      <td>69.0</td>\n    </tr>\n    <tr>\n      <th>4</th>\n      <td>4</td>\n      <td>短裤</td>\n      <td>19.0</td>\n    </tr>\n    <tr>\n      <th>5</th>\n      <td>5</td>\n      <td>袜子</td>\n      <td>9.0</td>\n    </tr>\n    <tr>\n      <th>6</th>\n      <td>6</td>\n      <td>裙子</td>\n      <td>59.0</td>\n    </tr>\n    <tr>\n      <th>7</th>\n      <td>7</td>\n      <td>运动</td>\n      <td>49.0</td>\n    </tr>\n    <tr>\n      <th>8</th>\n      <td>8</td>\n      <td>配件</td>\n      <td>29.0</td>\n    </tr>\n  </tbody>\n</table>\n</div>"
     },
     "execution_count": 116,
     "metadata": {},
     "output_type": "execute_result"
    }
   ],
   "source": [
    "d_m.reset_index(names='123')"
   ],
   "metadata": {
    "collapsed": false,
    "ExecuteTime": {
     "start_time": "2025-04-14T18:00:48.520885Z",
     "end_time": "2025-04-14T18:00:48.554705Z"
    }
   }
  },
  {
   "cell_type": "code",
   "execution_count": 4,
   "outputs": [],
   "source": [
    "# 3.找出每月销售额最高的商品及其销售额，将结果保存为新的 DataFrame。(去掉，无该字段数据)\n"
   ],
   "metadata": {
    "collapsed": false,
    "ExecuteTime": {
     "start_time": "2025-04-13T08:43:19.304169Z",
     "end_time": "2025-04-13T08:43:19.310126Z"
    }
   }
  },
  {
   "cell_type": "code",
   "execution_count": 67,
   "outputs": [
    {
     "data": {
      "text/plain": "3556432.8499999996"
     },
     "execution_count": 67,
     "metadata": {},
     "output_type": "execute_result"
    }
   ],
   "source": [
    "# 4.读取文件后，去除销量为 0 的商品记录，然后计算剩余商品的总销售额。\n",
    "df[df['quant'] != 0]['revenue'].sum()"
   ],
   "metadata": {
    "collapsed": false,
    "ExecuteTime": {
     "start_time": "2025-04-14T17:03:18.952051Z",
     "end_time": "2025-04-14T17:03:18.983776Z"
    }
   }
  },
  {
   "cell_type": "code",
   "execution_count": 4,
   "outputs": [],
   "source": [
    "# 5.计算每件商品的价格与同类别商品价格均值的差值，筛选出差值绝对值大于 50 的商品。(去掉)\n"
   ],
   "metadata": {
    "collapsed": false,
    "ExecuteTime": {
     "start_time": "2025-04-13T08:43:19.717927Z",
     "end_time": "2025-04-13T08:43:19.724472Z"
    }
   }
  },
  {
   "cell_type": "code",
   "execution_count": null,
   "outputs": [],
   "source": [],
   "metadata": {
    "collapsed": false
   }
  }
 ],
 "metadata": {
  "kernelspec": {
   "display_name": "Python 3",
   "language": "python",
   "name": "python3"
  },
  "language_info": {
   "codemirror_mode": {
    "name": "ipython",
    "version": 2
   },
   "file_extension": ".py",
   "mimetype": "text/x-python",
   "name": "python",
   "nbconvert_exporter": "python",
   "pygments_lexer": "ipython2",
   "version": "2.7.6"
  }
 },
 "nbformat": 4,
 "nbformat_minor": 0
}
