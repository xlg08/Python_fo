{
 "cells": [
  {
   "cell_type": "code",
   "execution_count": 2,
   "metadata": {
    "collapsed": true,
    "ExecuteTime": {
     "start_time": "2025-04-11T12:00:35.962728Z",
     "end_time": "2025-04-11T12:00:37.533793Z"
    }
   },
   "outputs": [],
   "source": [
    "import random\n",
    "\n",
    "import matplotlib.pyplot as plt\n",
    "# 解决折线图中中文显示问题，下面的代码只需运行一次即可\n",
    "# 如果是Mac本, 不支持SimHei的时候, 可以修改为 'Microsoft YaHei' 或者 'Arial Unicode MS'\n",
    "plt.rcParams['font.sans-serif'] = ['SimHei']\n",
    "plt.rcParams['axes.unicode_minus'] = False"
   ]
  },
  {
   "cell_type": "code",
   "execution_count": null,
   "outputs": [],
   "source": [
    "# 画折线图\n",
    "#   1：创建画布_纸\n",
    "#   2：准备数据\n",
    "#   3.绘制图案\n",
    "#   4.展示图案"
   ],
   "metadata": {
    "collapsed": false,
    "ExecuteTime": {
     "start_time": "2025-04-11T10:47:04.560814Z",
     "end_time": "2025-04-11T10:47:04.582959Z"
    }
   }
  },
  {
   "cell_type": "code",
   "execution_count": null,
   "outputs": [],
   "source": [
    "# 举例：举例：展现上海一周的天气,比如从星期一到星期日的天气温度如下\n",
    "#   1：创建画布_纸\n",
    "# dpi：像素\n",
    "plt.figure(figsize=(10,5), dpi=80)        # 绘制"
   ],
   "metadata": {
    "collapsed": false,
    "ExecuteTime": {
     "start_time": "2025-04-11T10:53:35.374378Z",
     "end_time": "2025-04-11T10:53:35.464397Z"
    }
   }
  },
  {
   "cell_type": "code",
   "execution_count": null,
   "outputs": [],
   "source": [
    "# 2：准备数据    参1:x轴   参2：y轴\n",
    "plt.plot([1,2,3,4,5,6,7],[13,20,27,23,37,40,2])\n",
    "# 绘制图案\n",
    "plt.show()"
   ],
   "metadata": {
    "collapsed": false,
    "ExecuteTime": {
     "start_time": "2025-04-11T10:53:37.038245Z",
     "end_time": "2025-04-11T10:53:37.254624Z"
    }
   }
  },
  {
   "cell_type": "code",
   "execution_count": null,
   "outputs": [],
   "source": [
    "plt.show()"
   ],
   "metadata": {
    "collapsed": false,
    "ExecuteTime": {
     "start_time": "2025-04-11T10:55:58.713051Z",
     "end_time": "2025-04-11T10:55:58.718064Z"
    }
   }
  },
  {
   "cell_type": "code",
   "execution_count": null,
   "outputs": [],
   "source": [
    "# 需求：画出某城市11点到12点1小时内每分钟的温度变化折线图，温度范围在15度~18度"
   ],
   "metadata": {
    "collapsed": false,
    "ExecuteTime": {
     "start_time": "2025-04-11T11:01:18.949562Z",
     "end_time": "2025-04-11T11:01:18.975894Z"
    }
   }
  },
  {
   "cell_type": "code",
   "execution_count": null,
   "outputs": [],
   "source": [
    "# 1.创建画布\n",
    "plt.figure(figsize=(10,5),dpi=180)\n",
    "\n",
    "# 2.准备数据\n",
    "x = range(60)\n",
    "y = [random.uniform(15,18) for i in x]      # 生成60个随机小数\n",
    "\n",
    "# 3.开始绘图\n",
    "plt.plot(x,y,color='r')     # 也可以传十六进制码值\n",
    "\n",
    "# 4.具体的绘图动作\n",
    "plt.show()"
   ],
   "metadata": {
    "collapsed": false,
    "ExecuteTime": {
     "start_time": "2025-04-11T11:18:24.866360Z",
     "end_time": "2025-04-11T11:18:25.102903Z"
    }
   }
  },
  {
   "cell_type": "code",
   "execution_count": 4,
   "outputs": [
    {
     "data": {
      "text/plain": "<Figure size 1200x300 with 1 Axes>",
      "image/png": "[encoded data removed]"
     },
     "metadata": {},
     "output_type": "display_data"
    }
   ],
   "source": [
    "# 演示增加x轴、y轴\n",
    "# 需求：画出某城市11点到12点1小时内每分钟的温度变化折线图，温度范围在15度~18度\n",
    "# 1.创建画布\n",
    "plt.figure(figsize=(20,5),dpi=60)\n",
    "\n",
    "# 2.准备数据\n",
    "x = range(60)\n",
    "y = [random.uniform(15,18) for i in x]      # 生成60个随机小数\n",
    "\n",
    "# 3.开始绘图\n",
    "plt.plot(x,y,color='r')     # 也可以传十六进制码值\n",
    "\n",
    "\n",
    "# 4.添加x轴和y轴的刻度信息\n",
    "x_lable = [f\"11点{i}分\" for i in x]\n",
    "y_lable = range(40)\n",
    "\n",
    "\n",
    "# 5.添加具体 x轴和y轴 的刻度信息动作\n",
    "# 参1：x轴的刻度值     参2：x轴刻度值对应的标签\n",
    "plt.xticks(x[::5],x_lable[::5])         # 不切太密了\n",
    "plt.yticks(y_lable[::5])\n",
    "\n",
    "# 6.添加网格样式\n",
    "# 给网格增加样式\n",
    "#   -：实线\n",
    "#   --：虚线\n",
    "#   : : 点虚线\n",
    "#   -. : 点划线\n",
    "#   '' : 留空、空格     ——  默认\n",
    "# alpha:透明度\n",
    "plt.grid(linestyle=\"--\", alpha=0.8)\n",
    "\n",
    "# 7.添加标题\n",
    "plt.title(\"北京11点~12点的气温折线图\")\n",
    "plt.xlabel(\"时间\", fontsize=10)\n",
    "plt.ylabel(\"温度\", fontsize=10)\n",
    "\n",
    "# 4.具体的绘图动作\n",
    "plt.show()"
   ],
   "metadata": {
    "collapsed": false,
    "ExecuteTime": {
     "start_time": "2025-04-11T12:03:16.139118Z",
     "end_time": "2025-04-11T12:03:16.384139Z"
    }
   }
  },
  {
   "cell_type": "code",
   "execution_count": null,
   "outputs": [],
   "source": [],
   "metadata": {
    "collapsed": false
   }
  }
 ],
 "metadata": {
  "kernelspec": {
   "display_name": "Python 3",
   "language": "python",
   "name": "python3"
  },
  "language_info": {
   "codemirror_mode": {
    "name": "ipython",
    "version": 2
   },
   "file_extension": ".py",
   "mimetype": "text/x-python",
   "name": "python",
   "nbconvert_exporter": "python",
   "pygments_lexer": "ipython2",
   "version": "2.7.6"
  }
 },
 "nbformat": 4,
 "nbformat_minor": 0
}
